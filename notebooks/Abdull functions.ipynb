{
 "cells": [
  {
   "cell_type": "code",
   "execution_count": 5,
   "metadata": {},
   "outputs": [],
   "source": [
    "import os\n",
    "import pandas as pd\n",
    "import matplotlib.pyplot as plt\n",
    "import plotly.express as px\n",
    "import hvplot.pandas\n",
    "from pathlib import Path\n",
    "import requests\n",
    "import urllib.request\n",
    "import json\n",
    "import pprint\n",
    "from dotenv import load_dotenv\n",
    "from scipy.stats import pearsonr\n",
    "import numpy as np\n",
    "\n",
    "%matplotlib inline\n"
   ]
  },
  {
   "cell_type": "code",
   "execution_count": 7,
   "metadata": {},
   "outputs": [],
   "source": [
    "def get_exchange_reserves(start, end):\n",
    "    load_dotenv()\n",
    "    access_token = os.getenv(\"CQ_API_KEY\")\n",
    "    headers = { 'Authorization': 'Bearer ' + access_token }\n",
    "    import urllib.request\n",
    "    url_a = f\"https://api.cryptoquant.com/v1/btc/exchange-flows/reserve?exchange=binance&window=day&from={start}&to={end}&limit=100000\"\n",
    "#only retrieves data as far back as 06/23/2017\n",
    "\n",
    "    response_a = requests.get(url_a, headers=headers)\n",
    "    all_exchange_reserve=response_a.json()\n",
    "    print(type(all_exchange_reserve))\n",
    "#pprint.pprint(all_exchange_reserve) to see it better\n",
    "\n",
    "    all_exchange_df = pd.DataFrame(data=all_exchange_reserve['result']['data'])\n",
    "    all_exchange_df['date'] = pd.to_datetime(all_exchange_df['date'])\n",
    "    all_exchange_df = all_exchange_df.set_index('date')\n",
    "    exchange_reserve_df=all_exchange_df.drop(columns=[\"reserve_usd\"])\n",
    "    \n",
    "    return exchange_reserve_df"
   ]
  },
  {
   "cell_type": "code",
   "execution_count": 8,
   "metadata": {},
   "outputs": [
    {
     "name": "stdout",
     "output_type": "stream",
     "text": [
      "<class 'dict'>\n"
     ]
    },
    {
     "data": {
      "text/html": [
       "<div>\n",
       "<style scoped>\n",
       "    .dataframe tbody tr th:only-of-type {\n",
       "        vertical-align: middle;\n",
       "    }\n",
       "\n",
       "    .dataframe tbody tr th {\n",
       "        vertical-align: top;\n",
       "    }\n",
       "\n",
       "    .dataframe thead th {\n",
       "        text-align: right;\n",
       "    }\n",
       "</style>\n",
       "<table border=\"1\" class=\"dataframe\">\n",
       "  <thead>\n",
       "    <tr style=\"text-align: right;\">\n",
       "      <th></th>\n",
       "      <th>reserve</th>\n",
       "    </tr>\n",
       "    <tr>\n",
       "      <th>date</th>\n",
       "      <th></th>\n",
       "    </tr>\n",
       "  </thead>\n",
       "  <tbody>\n",
       "    <tr>\n",
       "      <th>2020-01-22</th>\n",
       "      <td>248310.537097</td>\n",
       "    </tr>\n",
       "    <tr>\n",
       "      <th>2020-01-21</th>\n",
       "      <td>249435.697632</td>\n",
       "    </tr>\n",
       "    <tr>\n",
       "      <th>2020-01-20</th>\n",
       "      <td>251097.368547</td>\n",
       "    </tr>\n",
       "    <tr>\n",
       "      <th>2020-01-19</th>\n",
       "      <td>252877.237501</td>\n",
       "    </tr>\n",
       "    <tr>\n",
       "      <th>2020-01-18</th>\n",
       "      <td>250395.183134</td>\n",
       "    </tr>\n",
       "  </tbody>\n",
       "</table>\n",
       "</div>"
      ],
      "text/plain": [
       "                  reserve\n",
       "date                     \n",
       "2020-01-22  248310.537097\n",
       "2020-01-21  249435.697632\n",
       "2020-01-20  251097.368547\n",
       "2020-01-19  252877.237501\n",
       "2020-01-18  250395.183134"
      ]
     },
     "execution_count": 8,
     "metadata": {},
     "output_type": "execute_result"
    }
   ],
   "source": [
    "reserves_df=get_exchange_reserves(20170623,20200122 )\n",
    "reserves_df.head()"
   ]
  },
  {
   "cell_type": "code",
   "execution_count": 9,
   "metadata": {},
   "outputs": [],
   "source": [
    "def reserves_plot():\n",
    "    fig_r= reserves_df.hvplot(title= \"Reserve Bitcoin On Exchanges\",xlabel=\"date\", ylabel=\"Reserves In Bitcoin\")\n",
    "    \n",
    "    return pn.panel(fig_r)"
   ]
  },
  {
   "cell_type": "code",
   "execution_count": 10,
   "metadata": {},
   "outputs": [],
   "source": [
    "def get_moving_average():\n",
    "    file_path=Path(\"..//data/clean_data/21wk_MA.csv\")\n",
    "    moving_average=pd.read_csv(file_path, header=0, index_col=\"date\", parse_dates=True, infer_datetime_format=True)\n",
    "    moving_average= moving_average.dropna()\n",
    "    \n",
    "    return moving_average"
   ]
  },
  {
   "cell_type": "code",
   "execution_count": 13,
   "metadata": {},
   "outputs": [
    {
     "data": {
      "text/html": [
       "<div>\n",
       "<style scoped>\n",
       "    .dataframe tbody tr th:only-of-type {\n",
       "        vertical-align: middle;\n",
       "    }\n",
       "\n",
       "    .dataframe tbody tr th {\n",
       "        vertical-align: top;\n",
       "    }\n",
       "\n",
       "    .dataframe thead th {\n",
       "        text-align: right;\n",
       "    }\n",
       "</style>\n",
       "<table border=\"1\" class=\"dataframe\">\n",
       "  <thead>\n",
       "    <tr style=\"text-align: right;\">\n",
       "      <th></th>\n",
       "      <th>price</th>\n",
       "      <th>21_WK_MA</th>\n",
       "    </tr>\n",
       "    <tr>\n",
       "      <th>date</th>\n",
       "      <th></th>\n",
       "      <th></th>\n",
       "    </tr>\n",
       "  </thead>\n",
       "  <tbody>\n",
       "    <tr>\n",
       "      <th>2015-06-12</th>\n",
       "      <td>229.47</td>\n",
       "      <td>240.76</td>\n",
       "    </tr>\n",
       "    <tr>\n",
       "      <th>2015-06-19</th>\n",
       "      <td>246.33</td>\n",
       "      <td>242.19</td>\n",
       "    </tr>\n",
       "    <tr>\n",
       "      <th>2015-06-26</th>\n",
       "      <td>243.00</td>\n",
       "      <td>242.73</td>\n",
       "    </tr>\n",
       "    <tr>\n",
       "      <th>2015-07-03</th>\n",
       "      <td>256.95</td>\n",
       "      <td>243.39</td>\n",
       "    </tr>\n",
       "    <tr>\n",
       "      <th>2015-07-10</th>\n",
       "      <td>286.67</td>\n",
       "      <td>245.00</td>\n",
       "    </tr>\n",
       "  </tbody>\n",
       "</table>\n",
       "</div>"
      ],
      "text/plain": [
       "             price  21_WK_MA\n",
       "date                        \n",
       "2015-06-12  229.47    240.76\n",
       "2015-06-19  246.33    242.19\n",
       "2015-06-26  243.00    242.73\n",
       "2015-07-03  256.95    243.39\n",
       "2015-07-10  286.67    245.00"
      ]
     },
     "execution_count": 13,
     "metadata": {},
     "output_type": "execute_result"
    }
   ],
   "source": [
    "moving_average_df= pd.DataFrame(get_moving_average())\n",
    "moving_average_df.head()"
   ]
  },
  {
   "cell_type": "code",
   "execution_count": 15,
   "metadata": {},
   "outputs": [
    {
     "data": {
      "text/html": [
       "<div>\n",
       "<style scoped>\n",
       "    .dataframe tbody tr th:only-of-type {\n",
       "        vertical-align: middle;\n",
       "    }\n",
       "\n",
       "    .dataframe tbody tr th {\n",
       "        vertical-align: top;\n",
       "    }\n",
       "\n",
       "    .dataframe thead th {\n",
       "        text-align: right;\n",
       "    }\n",
       "</style>\n",
       "<table border=\"1\" class=\"dataframe\">\n",
       "  <thead>\n",
       "    <tr style=\"text-align: right;\">\n",
       "      <th></th>\n",
       "      <th>price</th>\n",
       "      <th>21_WK_MA</th>\n",
       "    </tr>\n",
       "  </thead>\n",
       "  <tbody>\n",
       "    <tr>\n",
       "      <th>price</th>\n",
       "      <td>1.000000</td>\n",
       "      <td>0.865091</td>\n",
       "    </tr>\n",
       "    <tr>\n",
       "      <th>21_WK_MA</th>\n",
       "      <td>0.865091</td>\n",
       "      <td>1.000000</td>\n",
       "    </tr>\n",
       "  </tbody>\n",
       "</table>\n",
       "</div>"
      ],
      "text/plain": [
       "             price  21_WK_MA\n",
       "price     1.000000  0.865091\n",
       "21_WK_MA  0.865091  1.000000"
      ]
     },
     "execution_count": 15,
     "metadata": {},
     "output_type": "execute_result"
    }
   ],
   "source": [
    "moving_average_df.corr()"
   ]
  },
  {
   "cell_type": "code",
   "execution_count": 14,
   "metadata": {},
   "outputs": [],
   "source": [
    "def get_ma_plot():\n",
    "    fig_ma= moving_average_df.hvplot(title= \"BTC Price vs 21 Week Moving Average\",xlabel=\"Date\", ylabel=\"Price In USD\", legend=True)\n",
    "    \n",
    "    return pn.panel(fig_ma)"
   ]
  },
  {
   "cell_type": "code",
   "execution_count": null,
   "metadata": {},
   "outputs": [],
   "source": []
  }
 ],
 "metadata": {
  "kernelspec": {
   "display_name": "Python [conda env:pyvizenv] *",
   "language": "python",
   "name": "conda-env-pyvizenv-py"
  },
  "language_info": {
   "codemirror_mode": {
    "name": "ipython",
    "version": 3
   },
   "file_extension": ".py",
   "mimetype": "text/x-python",
   "name": "python",
   "nbconvert_exporter": "python",
   "pygments_lexer": "ipython3",
   "version": "3.7.9"
  }
 },
 "nbformat": 4,
 "nbformat_minor": 4
}
