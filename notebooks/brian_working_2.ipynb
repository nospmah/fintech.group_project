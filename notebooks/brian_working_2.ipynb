{
 "cells": [
  {
   "cell_type": "code",
   "execution_count": 10,
   "metadata": {},
   "outputs": [],
   "source": [
    "# Initial imports\n",
    "import os\n",
    "import requests\n",
    "import pandas as pd\n",
    "import numpy as np\n",
    "from dotenv import load_dotenv\n",
    "import alpaca_trade_api as tradeapi \n",
    "import json\n",
    "from pathlib import Path\n",
    "from datetime import date\n",
    "from datetime import timedelta\n",
    "import plotly.express as px\n",
    "import plotly.graph_objects as go\n",
    "import hvplot.pandas\n",
    "\n",
    "%matplotlib inline"
   ]
  },
  {
   "cell_type": "code",
   "execution_count": 11,
   "metadata": {},
   "outputs": [
    {
     "output_type": "execute_result",
     "data": {
      "text/plain": [
       "True"
      ]
     },
     "metadata": {},
     "execution_count": 11
    }
   ],
   "source": [
    "# Load .env enviroment variables\n",
    "load_dotenv()"
   ]
  },
  {
   "cell_type": "code",
   "execution_count": 12,
   "metadata": {},
   "outputs": [],
   "source": [
    "quandl_api_key = os.getenv('QUANDL_API_KEY')\n",
    "coin_api_key = os.getenv('COIN_API_KEY') \n",
    "alpaca_api_key = os.getenv(\"ALPACA_API_KEY\")\n",
    "alpaca_secret_key = os.getenv(\"ALPACA_SECRET_KEY\")\n",
    "\n",
    "# Confirm .env loaded successfully\n",
    "# type(alpaca_api_key)"
   ]
  },
  {
   "cell_type": "code",
   "execution_count": 13,
   "metadata": {},
   "outputs": [],
   "source": [
    "# API common parameters\n",
    "coin_api_period = '1DAY'\n",
    "alpaca_api_period = '1D'\n",
    "start_date = pd.Timestamp('2015-01-01', tz='America/New_York').isoformat()\n",
    "end_date = end_date = pd.Timestamp('2021-01-01', tz='America/New_York').isoformat()"
   ]
  },
  {
   "source": [
    "## BTC Latest OHLCV"
   ],
   "cell_type": "markdown",
   "metadata": {}
  },
  {
   "cell_type": "code",
   "execution_count": 14,
   "metadata": {},
   "outputs": [],
   "source": [
    "# API params\n",
    "base_url = 'https://rest.coinapi.io/v1/ohlcv/'\n",
    "\n",
    "# https://docs.coinapi.io/#list-all-periods\n",
    "# 1HRS, 1DAY, 1MTH, 1YRS\n",
    "\n",
    "# Ticker param\n",
    "ticker = 'BTC'"
   ]
  },
  {
   "cell_type": "code",
   "execution_count": 15,
   "metadata": {},
   "outputs": [
    {
     "output_type": "execute_result",
     "data": {
      "text/plain": [
       "'https://rest.coinapi.io/v1/ohlcv/BTC/USD/latest?apikey=05EDDE46-F455-4378-BE18-AFF75C11772D&period_id=1DAY'"
      ]
     },
     "metadata": {},
     "execution_count": 15
    }
   ],
   "source": [
    "# Get latest transactions for BTC\n",
    "# This gets date for 100 days\n",
    "coin_api_latest_btc_url = f'{base_url}{ticker}/USD/latest?apikey={coin_api_key}&period_id={coin_api_period}'\n",
    "coin_api_latest_btc_url"
   ]
  },
  {
   "cell_type": "code",
   "execution_count": 16,
   "metadata": {},
   "outputs": [],
   "source": [
    "# Execute get request\n",
    "btc_results = requests.get(coin_api_latest_btc_url).json()"
   ]
  },
  {
   "cell_type": "code",
   "execution_count": 8,
   "metadata": {},
   "outputs": [],
   "source": [
    "# What is type? \n",
    "# Answer: list of dictionaries\n",
    "# type(btc_latest_results)"
   ]
  },
  {
   "cell_type": "code",
   "execution_count": 9,
   "metadata": {},
   "outputs": [],
   "source": [
    "# Examine single record\n",
    "# btc_results[0]"
   ]
  },
  {
   "cell_type": "code",
   "execution_count": 17,
   "metadata": {},
   "outputs": [
    {
     "output_type": "execute_result",
     "data": {
      "text/plain": [
       "         date      open      high       low     close        volume\n",
       "0  2021-01-21  35910.20  36440.10  33374.00  35050.01  47736.371704\n",
       "1  2021-01-20  36624.23  37934.20  35888.00  35917.28  34192.643115\n",
       "2  2021-01-19  35820.01  37469.21  34736.46  36624.23  32241.847027\n",
       "3  2021-01-18  36004.80  36873.90  33833.55  35820.00  36821.003278\n",
       "4  2021-01-17  36754.60  37949.71  35342.20  36018.64  39468.975920"
      ],
      "text/html": "<div>\n<style scoped>\n    .dataframe tbody tr th:only-of-type {\n        vertical-align: middle;\n    }\n\n    .dataframe tbody tr th {\n        vertical-align: top;\n    }\n\n    .dataframe thead th {\n        text-align: right;\n    }\n</style>\n<table border=\"1\" class=\"dataframe\">\n  <thead>\n    <tr style=\"text-align: right;\">\n      <th></th>\n      <th>date</th>\n      <th>open</th>\n      <th>high</th>\n      <th>low</th>\n      <th>close</th>\n      <th>volume</th>\n    </tr>\n  </thead>\n  <tbody>\n    <tr>\n      <th>0</th>\n      <td>2021-01-21</td>\n      <td>35910.20</td>\n      <td>36440.10</td>\n      <td>33374.00</td>\n      <td>35050.01</td>\n      <td>47736.371704</td>\n    </tr>\n    <tr>\n      <th>1</th>\n      <td>2021-01-20</td>\n      <td>36624.23</td>\n      <td>37934.20</td>\n      <td>35888.00</td>\n      <td>35917.28</td>\n      <td>34192.643115</td>\n    </tr>\n    <tr>\n      <th>2</th>\n      <td>2021-01-19</td>\n      <td>35820.01</td>\n      <td>37469.21</td>\n      <td>34736.46</td>\n      <td>36624.23</td>\n      <td>32241.847027</td>\n    </tr>\n    <tr>\n      <th>3</th>\n      <td>2021-01-18</td>\n      <td>36004.80</td>\n      <td>36873.90</td>\n      <td>33833.55</td>\n      <td>35820.00</td>\n      <td>36821.003278</td>\n    </tr>\n    <tr>\n      <th>4</th>\n      <td>2021-01-17</td>\n      <td>36754.60</td>\n      <td>37949.71</td>\n      <td>35342.20</td>\n      <td>36018.64</td>\n      <td>39468.975920</td>\n    </tr>\n  </tbody>\n</table>\n</div>"
     },
     "metadata": {},
     "execution_count": 17
    }
   ],
   "source": [
    "# Create new DataFrame from raw data (list of dicts)\n",
    "btc_df = pd.DataFrame(\n",
    "    btc_results,\n",
    "    columns=['time_period_end','price_open','price_high','price_low','price_close','volume_traded'])\n",
    "\n",
    "# Convert string to date\n",
    "btc_df['time_period_end'] = pd.to_datetime(btc_df['time_period_end']).dt.date\n",
    "\n",
    "# Set index to date\n",
    "# btc_df.set_index('date', inplace=True)\n",
    "\n",
    "# Drop time_period_end\n",
    "# btc_df.drop(['time_period_end'], axis=1, inplace=True)\n",
    "\n",
    "# Rename columns\n",
    "btc_df.rename(columns = {'time_period_end':'date','price_open':'open','price_high':'high','price_low':'low','price_close':'close','volume_traded':'volume'}, inplace = True)\n",
    "\n",
    "# Verify\n",
    "btc_df.head()"
   ]
  },
  {
   "source": [
    "## BTC Historical OHLCV"
   ],
   "cell_type": "markdown",
   "metadata": {}
  },
  {
   "cell_type": "code",
   "execution_count": 18,
   "metadata": {},
   "outputs": [
    {
     "output_type": "execute_result",
     "data": {
      "text/plain": [
       "'https://rest.coinapi.io/v1/ohlcv/BITSTAMP_SPOT_BTC_USD/history?apikey=05EDDE46-F455-4378-BE18-AFF75C11772D&period_id=1DAY&time_start=2015-01-01T00:00:00&time_end=2021-01-01T00:00:00'"
      ]
     },
     "metadata": {},
     "execution_count": 18
    }
   ],
   "source": [
    "\n",
    "# 'https://rest.coinapi.io/v1/ohlcv/'\n",
    "# &limit={limit}&include_id={include_id}\n",
    "# Get historical data for BTC\n",
    "\n",
    "symbol_id = 'BITSTAMP_SPOT_BTC_USD'\n",
    "time_start = '2015-01-01T00:00:00'\n",
    "time_end = '2021-01-01T00:00:00'\n",
    "coin_api_historical_btc_url = f'https://rest.coinapi.io/v1/ohlcv/{symbol_id}/history?apikey={coin_api_key}&period_id={coin_api_period}&time_start={time_start}&time_end={time_end}'\n",
    "coin_api_historical_btc_url"
   ]
  },
  {
   "cell_type": "code",
   "execution_count": 19,
   "metadata": {},
   "outputs": [
    {
     "output_type": "execute_result",
     "data": {
      "text/plain": [
       "{'time_period_start': '2015-01-01T00:00:00.0000000Z',\n",
       " 'time_period_end': '2015-01-02T00:00:00.0000000Z',\n",
       " 'time_open': '2015-01-01T00:00:22.3630000Z',\n",
       " 'time_close': '2015-01-01T23:59:00.9170000Z',\n",
       " 'price_open': 321.0,\n",
       " 'price_high': 321.0,\n",
       " 'price_low': 312.6,\n",
       " 'price_close': 313.81,\n",
       " 'volume_traded': 3087.43655395,\n",
       " 'trades_count': 2350}"
      ]
     },
     "metadata": {},
     "execution_count": 19
    }
   ],
   "source": [
    "btc_historical_results = requests.get(coin_api_historical_btc_url).json()\n",
    "btc_historical_results[0]"
   ]
  },
  {
   "cell_type": "code",
   "execution_count": null,
   "metadata": {},
   "outputs": [],
   "source": []
  },
  {
   "cell_type": "code",
   "execution_count": 20,
   "metadata": {},
   "outputs": [],
   "source": [
    "def get_crypto_OHLCV(api_key, ticker, date_start, date_end, period) :\n",
    "\n",
    "    # CoinAPI.io REST url for historical OHLCV\n",
    "    url = f'https://rest.coinapi.io/v1/ohlcv/{ticker}/USD/history?apikey={api_key}&period_id={period}&time_start={date_start}&time_end={date_end}&limit=100000'\n",
    "    \n",
    "    # List of dictionary objects\n",
    "    results = requests.get(url).json()\n",
    "\n",
    "    # Init dataframe from raw results\n",
    "    df = pd.DataFrame(\n",
    "        results, \n",
    "        columns=['time_period_end','price_open','price_high','price_low','price_close','volume_traded'])\n",
    "\n",
    "    # Parse date from string\n",
    "    df['time_period_end'] = pd.to_datetime(df['time_period_end']).dt.date\n",
    "\n",
    "    # Rename columns\n",
    "    df.rename(\n",
    "        columns = {'time_period_end':'date',\n",
    "            'price_open':'open',\n",
    "            'price_high':'high',\n",
    "            'price_low':'low',\n",
    "            'price_close':'close',\n",
    "            'volume_traded':'volume'}, \n",
    "        inplace = True)\n",
    "\n",
    "    return df"
   ]
  },
  {
   "cell_type": "code",
   "execution_count": 21,
   "metadata": {},
   "outputs": [
    {
     "output_type": "execute_result",
     "data": {
      "text/plain": [
       "         date     open     high      low    close        volume\n",
       "0  2020-01-02  7165.72  7238.14  7136.05  7174.33   7111.559960\n",
       "1  2020-01-03  7174.33  7186.65  6900.00  6942.30  17021.336977\n",
       "2  2020-01-04  6945.02  7402.31  6853.53  7338.91  31240.408837\n",
       "3  2020-01-05  7334.45  7398.00  7256.03  7348.63  11282.295811\n",
       "4  2020-01-06  7348.63  7495.00  7301.10  7355.40  12110.709259"
      ],
      "text/html": "<div>\n<style scoped>\n    .dataframe tbody tr th:only-of-type {\n        vertical-align: middle;\n    }\n\n    .dataframe tbody tr th {\n        vertical-align: top;\n    }\n\n    .dataframe thead th {\n        text-align: right;\n    }\n</style>\n<table border=\"1\" class=\"dataframe\">\n  <thead>\n    <tr style=\"text-align: right;\">\n      <th></th>\n      <th>date</th>\n      <th>open</th>\n      <th>high</th>\n      <th>low</th>\n      <th>close</th>\n      <th>volume</th>\n    </tr>\n  </thead>\n  <tbody>\n    <tr>\n      <th>0</th>\n      <td>2020-01-02</td>\n      <td>7165.72</td>\n      <td>7238.14</td>\n      <td>7136.05</td>\n      <td>7174.33</td>\n      <td>7111.559960</td>\n    </tr>\n    <tr>\n      <th>1</th>\n      <td>2020-01-03</td>\n      <td>7174.33</td>\n      <td>7186.65</td>\n      <td>6900.00</td>\n      <td>6942.30</td>\n      <td>17021.336977</td>\n    </tr>\n    <tr>\n      <th>2</th>\n      <td>2020-01-04</td>\n      <td>6945.02</td>\n      <td>7402.31</td>\n      <td>6853.53</td>\n      <td>7338.91</td>\n      <td>31240.408837</td>\n    </tr>\n    <tr>\n      <th>3</th>\n      <td>2020-01-05</td>\n      <td>7334.45</td>\n      <td>7398.00</td>\n      <td>7256.03</td>\n      <td>7348.63</td>\n      <td>11282.295811</td>\n    </tr>\n    <tr>\n      <th>4</th>\n      <td>2020-01-06</td>\n      <td>7348.63</td>\n      <td>7495.00</td>\n      <td>7301.10</td>\n      <td>7355.40</td>\n      <td>12110.709259</td>\n    </tr>\n  </tbody>\n</table>\n</div>"
     },
     "metadata": {},
     "execution_count": 21
    }
   ],
   "source": [
    "# Test function\n",
    "btc_test_df = get_crypto_OHLCV(coin_api_key, 'BTC', '2020-01-01T00:00:00', '2021-01-01T00:00:00', '1DAY')\n",
    "btc_test_df.head()"
   ]
  },
  {
   "cell_type": "code",
   "execution_count": 15,
   "metadata": {},
   "outputs": [
    {
     "output_type": "display_data",
     "data": {
      "application/vnd.plotly.v1+json": {
       "config": {
        "plotlyServerURL": "https://plot.ly"
       },
       "data": [
        {
         "hovertemplate": "Daily=%{x}<br>Closing Price=%{y}<extra></extra>",
         "legendgroup": "",
         "line": {
          "color": "#636efa",
          "dash": "solid"
         },
         "mode": "lines",
         "name": "",
         "orientation": "v",
         "showlegend": false,
         "type": "scatter",
         "x": [
          "2021-01-21",
          "2021-01-20",
          "2021-01-19",
          "2021-01-18",
          "2021-01-17",
          "2021-01-16",
          "2021-01-15",
          "2021-01-14",
          "2021-01-13",
          "2021-01-12",
          "2021-01-11",
          "2021-01-10",
          "2021-01-09",
          "2021-01-08",
          "2021-01-07",
          "2021-01-06",
          "2021-01-05",
          "2021-01-04",
          "2021-01-03",
          "2021-01-02",
          "2021-01-01",
          "2020-12-31",
          "2020-12-30",
          "2020-12-29",
          "2020-12-28",
          "2020-12-27",
          "2020-12-26",
          "2020-12-25",
          "2020-12-24",
          "2020-12-23",
          "2020-12-22",
          "2020-12-21",
          "2020-12-20",
          "2020-12-19",
          "2020-12-18",
          "2020-12-17",
          "2020-12-16",
          "2020-12-15",
          "2020-12-14",
          "2020-12-13",
          "2020-12-12",
          "2020-12-11",
          "2020-12-10",
          "2020-12-09",
          "2020-12-08",
          "2020-12-07",
          "2020-12-06",
          "2020-12-05",
          "2020-12-04",
          "2020-12-03",
          "2020-12-02",
          "2020-12-01",
          "2020-11-30",
          "2020-11-29",
          "2020-11-28",
          "2020-11-27",
          "2020-11-26",
          "2020-11-25",
          "2020-11-24",
          "2020-11-23",
          "2020-11-22",
          "2020-11-21",
          "2020-11-20",
          "2020-11-19",
          "2020-11-18",
          "2020-11-17",
          "2020-11-16",
          "2020-11-15",
          "2020-11-14",
          "2020-11-13",
          "2020-11-12",
          "2020-11-11",
          "2020-11-10",
          "2020-11-09",
          "2020-11-08",
          "2020-11-07",
          "2020-11-06",
          "2020-11-05",
          "2020-11-04",
          "2020-11-03",
          "2020-11-02",
          "2020-11-01",
          "2020-10-31",
          "2020-10-30",
          "2020-10-29",
          "2020-10-28",
          "2020-10-27",
          "2020-10-26",
          "2020-10-25",
          "2020-10-24",
          "2020-10-23",
          "2020-10-22",
          "2020-10-21",
          "2020-10-20",
          "2020-10-19",
          "2020-10-18",
          "2020-10-17",
          "2020-10-16",
          "2020-10-15",
          "2020-10-14"
         ],
         "xaxis": "x",
         "y": [
          35089.42,
          35917.28,
          36624.23,
          35820,
          36018.64,
          36754.67,
          39125.14,
          37390.1,
          34038.98,
          35487.44,
          38177.58,
          40257.43,
          40667.07,
          39505.56,
          36859.26,
          34039.05,
          32005.88,
          33080.66,
          32225.91,
          29412.84,
          28990.08,
          28897.42,
          27366.35,
          27044.13,
          26258.65,
          26475.35,
          24704.71,
          23717.96,
          23228.35,
          23823.27,
          22729.4,
          23476.51,
          23849.99,
          23137.76,
          22826.48,
          21359.65,
          19444.6,
          19272.37,
          19166.65,
          18821.28,
          18031.5,
          18253.44,
          18546.55,
          18316.22,
          19177.71,
          19375.6,
          19153,
          18658.1,
          19448.4,
          19225.63,
          18782.97,
          19713.94,
          18202.04,
          17739.85,
          17144.2,
          17170,
          18721.93,
          19172.84,
          18384.82,
          18435.2,
          18721.21,
          18675.25,
          17821.58,
          17800,
          17679.36,
          16721.1,
          15975.49,
          16086.34,
          16339.56,
          16300,
          15710.87,
          15315.03,
          15342.25,
          15482.9,
          14834.09,
          15599.95,
          15608.21,
          14165.54,
          14041.58,
          13563.22,
          13762,
          13804.81,
          13571.51,
          13460,
          13281.05,
          13660,
          13071.75,
          13045,
          13126.24,
          12939,
          12987.02,
          12808,
          11923.83,
          11760.45,
          11514.2,
          11367.89,
          11328.95,
          11509.34,
          11427.7,
          11428.22
         ],
         "yaxis": "y"
        }
       ],
       "layout": {
        "legend": {
         "tracegroupgap": 0
        },
        "template": {
         "data": {
          "bar": [
           {
            "error_x": {
             "color": "#2a3f5f"
            },
            "error_y": {
             "color": "#2a3f5f"
            },
            "marker": {
             "line": {
              "color": "#E5ECF6",
              "width": 0.5
             }
            },
            "type": "bar"
           }
          ],
          "barpolar": [
           {
            "marker": {
             "line": {
              "color": "#E5ECF6",
              "width": 0.5
             }
            },
            "type": "barpolar"
           }
          ],
          "carpet": [
           {
            "aaxis": {
             "endlinecolor": "#2a3f5f",
             "gridcolor": "white",
             "linecolor": "white",
             "minorgridcolor": "white",
             "startlinecolor": "#2a3f5f"
            },
            "baxis": {
             "endlinecolor": "#2a3f5f",
             "gridcolor": "white",
             "linecolor": "white",
             "minorgridcolor": "white",
             "startlinecolor": "#2a3f5f"
            },
            "type": "carpet"
           }
          ],
          "choropleth": [
           {
            "colorbar": {
             "outlinewidth": 0,
             "ticks": ""
            },
            "type": "choropleth"
           }
          ],
          "contour": [
           {
            "colorbar": {
             "outlinewidth": 0,
             "ticks": ""
            },
            "colorscale": [
             [
              0,
              "#0d0887"
             ],
             [
              0.1111111111111111,
              "#46039f"
             ],
             [
              0.2222222222222222,
              "#7201a8"
             ],
             [
              0.3333333333333333,
              "#9c179e"
             ],
             [
              0.4444444444444444,
              "#bd3786"
             ],
             [
              0.5555555555555556,
              "#d8576b"
             ],
             [
              0.6666666666666666,
              "#ed7953"
             ],
             [
              0.7777777777777778,
              "#fb9f3a"
             ],
             [
              0.8888888888888888,
              "#fdca26"
             ],
             [
              1,
              "#f0f921"
             ]
            ],
            "type": "contour"
           }
          ],
          "contourcarpet": [
           {
            "colorbar": {
             "outlinewidth": 0,
             "ticks": ""
            },
            "type": "contourcarpet"
           }
          ],
          "heatmap": [
           {
            "colorbar": {
             "outlinewidth": 0,
             "ticks": ""
            },
            "colorscale": [
             [
              0,
              "#0d0887"
             ],
             [
              0.1111111111111111,
              "#46039f"
             ],
             [
              0.2222222222222222,
              "#7201a8"
             ],
             [
              0.3333333333333333,
              "#9c179e"
             ],
             [
              0.4444444444444444,
              "#bd3786"
             ],
             [
              0.5555555555555556,
              "#d8576b"
             ],
             [
              0.6666666666666666,
              "#ed7953"
             ],
             [
              0.7777777777777778,
              "#fb9f3a"
             ],
             [
              0.8888888888888888,
              "#fdca26"
             ],
             [
              1,
              "#f0f921"
             ]
            ],
            "type": "heatmap"
           }
          ],
          "heatmapgl": [
           {
            "colorbar": {
             "outlinewidth": 0,
             "ticks": ""
            },
            "colorscale": [
             [
              0,
              "#0d0887"
             ],
             [
              0.1111111111111111,
              "#46039f"
             ],
             [
              0.2222222222222222,
              "#7201a8"
             ],
             [
              0.3333333333333333,
              "#9c179e"
             ],
             [
              0.4444444444444444,
              "#bd3786"
             ],
             [
              0.5555555555555556,
              "#d8576b"
             ],
             [
              0.6666666666666666,
              "#ed7953"
             ],
             [
              0.7777777777777778,
              "#fb9f3a"
             ],
             [
              0.8888888888888888,
              "#fdca26"
             ],
             [
              1,
              "#f0f921"
             ]
            ],
            "type": "heatmapgl"
           }
          ],
          "histogram": [
           {
            "marker": {
             "colorbar": {
              "outlinewidth": 0,
              "ticks": ""
             }
            },
            "type": "histogram"
           }
          ],
          "histogram2d": [
           {
            "colorbar": {
             "outlinewidth": 0,
             "ticks": ""
            },
            "colorscale": [
             [
              0,
              "#0d0887"
             ],
             [
              0.1111111111111111,
              "#46039f"
             ],
             [
              0.2222222222222222,
              "#7201a8"
             ],
             [
              0.3333333333333333,
              "#9c179e"
             ],
             [
              0.4444444444444444,
              "#bd3786"
             ],
             [
              0.5555555555555556,
              "#d8576b"
             ],
             [
              0.6666666666666666,
              "#ed7953"
             ],
             [
              0.7777777777777778,
              "#fb9f3a"
             ],
             [
              0.8888888888888888,
              "#fdca26"
             ],
             [
              1,
              "#f0f921"
             ]
            ],
            "type": "histogram2d"
           }
          ],
          "histogram2dcontour": [
           {
            "colorbar": {
             "outlinewidth": 0,
             "ticks": ""
            },
            "colorscale": [
             [
              0,
              "#0d0887"
             ],
             [
              0.1111111111111111,
              "#46039f"
             ],
             [
              0.2222222222222222,
              "#7201a8"
             ],
             [
              0.3333333333333333,
              "#9c179e"
             ],
             [
              0.4444444444444444,
              "#bd3786"
             ],
             [
              0.5555555555555556,
              "#d8576b"
             ],
             [
              0.6666666666666666,
              "#ed7953"
             ],
             [
              0.7777777777777778,
              "#fb9f3a"
             ],
             [
              0.8888888888888888,
              "#fdca26"
             ],
             [
              1,
              "#f0f921"
             ]
            ],
            "type": "histogram2dcontour"
           }
          ],
          "mesh3d": [
           {
            "colorbar": {
             "outlinewidth": 0,
             "ticks": ""
            },
            "type": "mesh3d"
           }
          ],
          "parcoords": [
           {
            "line": {
             "colorbar": {
              "outlinewidth": 0,
              "ticks": ""
             }
            },
            "type": "parcoords"
           }
          ],
          "pie": [
           {
            "automargin": true,
            "type": "pie"
           }
          ],
          "scatter": [
           {
            "marker": {
             "colorbar": {
              "outlinewidth": 0,
              "ticks": ""
             }
            },
            "type": "scatter"
           }
          ],
          "scatter3d": [
           {
            "line": {
             "colorbar": {
              "outlinewidth": 0,
              "ticks": ""
             }
            },
            "marker": {
             "colorbar": {
              "outlinewidth": 0,
              "ticks": ""
             }
            },
            "type": "scatter3d"
           }
          ],
          "scattercarpet": [
           {
            "marker": {
             "colorbar": {
              "outlinewidth": 0,
              "ticks": ""
             }
            },
            "type": "scattercarpet"
           }
          ],
          "scattergeo": [
           {
            "marker": {
             "colorbar": {
              "outlinewidth": 0,
              "ticks": ""
             }
            },
            "type": "scattergeo"
           }
          ],
          "scattergl": [
           {
            "marker": {
             "colorbar": {
              "outlinewidth": 0,
              "ticks": ""
             }
            },
            "type": "scattergl"
           }
          ],
          "scattermapbox": [
           {
            "marker": {
             "colorbar": {
              "outlinewidth": 0,
              "ticks": ""
             }
            },
            "type": "scattermapbox"
           }
          ],
          "scatterpolar": [
           {
            "marker": {
             "colorbar": {
              "outlinewidth": 0,
              "ticks": ""
             }
            },
            "type": "scatterpolar"
           }
          ],
          "scatterpolargl": [
           {
            "marker": {
             "colorbar": {
              "outlinewidth": 0,
              "ticks": ""
             }
            },
            "type": "scatterpolargl"
           }
          ],
          "scatterternary": [
           {
            "marker": {
             "colorbar": {
              "outlinewidth": 0,
              "ticks": ""
             }
            },
            "type": "scatterternary"
           }
          ],
          "surface": [
           {
            "colorbar": {
             "outlinewidth": 0,
             "ticks": ""
            },
            "colorscale": [
             [
              0,
              "#0d0887"
             ],
             [
              0.1111111111111111,
              "#46039f"
             ],
             [
              0.2222222222222222,
              "#7201a8"
             ],
             [
              0.3333333333333333,
              "#9c179e"
             ],
             [
              0.4444444444444444,
              "#bd3786"
             ],
             [
              0.5555555555555556,
              "#d8576b"
             ],
             [
              0.6666666666666666,
              "#ed7953"
             ],
             [
              0.7777777777777778,
              "#fb9f3a"
             ],
             [
              0.8888888888888888,
              "#fdca26"
             ],
             [
              1,
              "#f0f921"
             ]
            ],
            "type": "surface"
           }
          ],
          "table": [
           {
            "cells": {
             "fill": {
              "color": "#EBF0F8"
             },
             "line": {
              "color": "white"
             }
            },
            "header": {
             "fill": {
              "color": "#C8D4E3"
             },
             "line": {
              "color": "white"
             }
            },
            "type": "table"
           }
          ]
         },
         "layout": {
          "annotationdefaults": {
           "arrowcolor": "#2a3f5f",
           "arrowhead": 0,
           "arrowwidth": 1
          },
          "autotypenumbers": "strict",
          "coloraxis": {
           "colorbar": {
            "outlinewidth": 0,
            "ticks": ""
           }
          },
          "colorscale": {
           "diverging": [
            [
             0,
             "#8e0152"
            ],
            [
             0.1,
             "#c51b7d"
            ],
            [
             0.2,
             "#de77ae"
            ],
            [
             0.3,
             "#f1b6da"
            ],
            [
             0.4,
             "#fde0ef"
            ],
            [
             0.5,
             "#f7f7f7"
            ],
            [
             0.6,
             "#e6f5d0"
            ],
            [
             0.7,
             "#b8e186"
            ],
            [
             0.8,
             "#7fbc41"
            ],
            [
             0.9,
             "#4d9221"
            ],
            [
             1,
             "#276419"
            ]
           ],
           "sequential": [
            [
             0,
             "#0d0887"
            ],
            [
             0.1111111111111111,
             "#46039f"
            ],
            [
             0.2222222222222222,
             "#7201a8"
            ],
            [
             0.3333333333333333,
             "#9c179e"
            ],
            [
             0.4444444444444444,
             "#bd3786"
            ],
            [
             0.5555555555555556,
             "#d8576b"
            ],
            [
             0.6666666666666666,
             "#ed7953"
            ],
            [
             0.7777777777777778,
             "#fb9f3a"
            ],
            [
             0.8888888888888888,
             "#fdca26"
            ],
            [
             1,
             "#f0f921"
            ]
           ],
           "sequentialminus": [
            [
             0,
             "#0d0887"
            ],
            [
             0.1111111111111111,
             "#46039f"
            ],
            [
             0.2222222222222222,
             "#7201a8"
            ],
            [
             0.3333333333333333,
             "#9c179e"
            ],
            [
             0.4444444444444444,
             "#bd3786"
            ],
            [
             0.5555555555555556,
             "#d8576b"
            ],
            [
             0.6666666666666666,
             "#ed7953"
            ],
            [
             0.7777777777777778,
             "#fb9f3a"
            ],
            [
             0.8888888888888888,
             "#fdca26"
            ],
            [
             1,
             "#f0f921"
            ]
           ]
          },
          "colorway": [
           "#636efa",
           "#EF553B",
           "#00cc96",
           "#ab63fa",
           "#FFA15A",
           "#19d3f3",
           "#FF6692",
           "#B6E880",
           "#FF97FF",
           "#FECB52"
          ],
          "font": {
           "color": "#2a3f5f"
          },
          "geo": {
           "bgcolor": "white",
           "lakecolor": "white",
           "landcolor": "#E5ECF6",
           "showlakes": true,
           "showland": true,
           "subunitcolor": "white"
          },
          "hoverlabel": {
           "align": "left"
          },
          "hovermode": "closest",
          "mapbox": {
           "style": "light"
          },
          "paper_bgcolor": "white",
          "plot_bgcolor": "#E5ECF6",
          "polar": {
           "angularaxis": {
            "gridcolor": "white",
            "linecolor": "white",
            "ticks": ""
           },
           "bgcolor": "#E5ECF6",
           "radialaxis": {
            "gridcolor": "white",
            "linecolor": "white",
            "ticks": ""
           }
          },
          "scene": {
           "xaxis": {
            "backgroundcolor": "#E5ECF6",
            "gridcolor": "white",
            "gridwidth": 2,
            "linecolor": "white",
            "showbackground": true,
            "ticks": "",
            "zerolinecolor": "white"
           },
           "yaxis": {
            "backgroundcolor": "#E5ECF6",
            "gridcolor": "white",
            "gridwidth": 2,
            "linecolor": "white",
            "showbackground": true,
            "ticks": "",
            "zerolinecolor": "white"
           },
           "zaxis": {
            "backgroundcolor": "#E5ECF6",
            "gridcolor": "white",
            "gridwidth": 2,
            "linecolor": "white",
            "showbackground": true,
            "ticks": "",
            "zerolinecolor": "white"
           }
          },
          "shapedefaults": {
           "line": {
            "color": "#2a3f5f"
           }
          },
          "ternary": {
           "aaxis": {
            "gridcolor": "white",
            "linecolor": "white",
            "ticks": ""
           },
           "baxis": {
            "gridcolor": "white",
            "linecolor": "white",
            "ticks": ""
           },
           "bgcolor": "#E5ECF6",
           "caxis": {
            "gridcolor": "white",
            "linecolor": "white",
            "ticks": ""
           }
          },
          "title": {
           "x": 0.05
          },
          "xaxis": {
           "automargin": true,
           "gridcolor": "white",
           "linecolor": "white",
           "ticks": "",
           "title": {
            "standoff": 15
           },
           "zerolinecolor": "white",
           "zerolinewidth": 2
          },
          "yaxis": {
           "automargin": true,
           "gridcolor": "white",
           "linecolor": "white",
           "ticks": "",
           "title": {
            "standoff": 15
           },
           "zerolinecolor": "white",
           "zerolinewidth": 2
          }
         }
        },
        "title": {
         "text": "BTC Daily Closing Prices"
        },
        "xaxis": {
         "anchor": "y",
         "domain": [
          0,
          1
         ],
         "title": {
          "text": "Daily"
         }
        },
        "yaxis": {
         "anchor": "x",
         "domain": [
          0,
          1
         ],
         "title": {
          "text": "Closing Price"
         }
        }
       }
      }
     },
     "metadata": {}
    }
   ],
   "source": [
    "# Plot daily closing\n",
    "fig = px.line(\n",
    "    btc_df, \n",
    "    x=\"date\", \n",
    "    y=\"close\", \n",
    "    title='BTC Daily Closing Prices',\n",
    "    labels={'date':'Daily', 'close':'Closing Price'})\n",
    "\n",
    "fig.show()"
   ]
  },
  {
   "source": [
    "## SPY Historical OHLCV\n"
   ],
   "cell_type": "markdown",
   "metadata": {}
  },
  {
   "cell_type": "code",
   "execution_count": 22,
   "metadata": {},
   "outputs": [],
   "source": [
    "# Init Alpaca SDK\n",
    "alpaca_api = tradeapi.REST(\n",
    "    alpaca_api_key,\n",
    "    alpaca_secret_key,\n",
    "    api_version=\"v2\")"
   ]
  },
  {
   "cell_type": "code",
   "execution_count": 23,
   "metadata": {},
   "outputs": [
    {
     "output_type": "execute_result",
     "data": {
      "text/plain": [
       "                              SPY                                    \n",
       "                             open    high      low   close     volume\n",
       "time                                                                 \n",
       "2015-01-02 00:00:00-05:00  206.38  206.88  204.180  205.41   94506045\n",
       "2015-01-05 00:00:00-05:00  204.17  204.37  201.350  201.80  133100354\n",
       "2015-01-06 00:00:00-05:00  202.09  202.72  198.855  199.82  166955423\n",
       "2015-01-07 00:00:00-05:00  201.42  202.72  200.880  202.34  103285826\n",
       "2015-01-08 00:00:00-05:00  204.00  206.16  203.990  205.92  112316394"
      ],
      "text/html": "<div>\n<style scoped>\n    .dataframe tbody tr th:only-of-type {\n        vertical-align: middle;\n    }\n\n    .dataframe tbody tr th {\n        vertical-align: top;\n    }\n\n    .dataframe thead tr th {\n        text-align: left;\n    }\n\n    .dataframe thead tr:last-of-type th {\n        text-align: right;\n    }\n</style>\n<table border=\"1\" class=\"dataframe\">\n  <thead>\n    <tr>\n      <th></th>\n      <th colspan=\"5\" halign=\"left\">SPY</th>\n    </tr>\n    <tr>\n      <th></th>\n      <th>open</th>\n      <th>high</th>\n      <th>low</th>\n      <th>close</th>\n      <th>volume</th>\n    </tr>\n    <tr>\n      <th>time</th>\n      <th></th>\n      <th></th>\n      <th></th>\n      <th></th>\n      <th></th>\n    </tr>\n  </thead>\n  <tbody>\n    <tr>\n      <th>2015-01-02 00:00:00-05:00</th>\n      <td>206.38</td>\n      <td>206.88</td>\n      <td>204.180</td>\n      <td>205.41</td>\n      <td>94506045</td>\n    </tr>\n    <tr>\n      <th>2015-01-05 00:00:00-05:00</th>\n      <td>204.17</td>\n      <td>204.37</td>\n      <td>201.350</td>\n      <td>201.80</td>\n      <td>133100354</td>\n    </tr>\n    <tr>\n      <th>2015-01-06 00:00:00-05:00</th>\n      <td>202.09</td>\n      <td>202.72</td>\n      <td>198.855</td>\n      <td>199.82</td>\n      <td>166955423</td>\n    </tr>\n    <tr>\n      <th>2015-01-07 00:00:00-05:00</th>\n      <td>201.42</td>\n      <td>202.72</td>\n      <td>200.880</td>\n      <td>202.34</td>\n      <td>103285826</td>\n    </tr>\n    <tr>\n      <th>2015-01-08 00:00:00-05:00</th>\n      <td>204.00</td>\n      <td>206.16</td>\n      <td>203.990</td>\n      <td>205.92</td>\n      <td>112316394</td>\n    </tr>\n  </tbody>\n</table>\n</div>"
     },
     "metadata": {},
     "execution_count": 23
    }
   ],
   "source": [
    "# Format current date as ISO format\n",
    "# We're acutally going to pull from three days ago to ensure closing prices available\n",
    "# current_date = pd.Timestamp(date.today() - timedelta(days = 20), tz=\"America/New_York\").isoformat()\n",
    "start_date = pd.Timestamp('2015-01-01', tz=\"America/New_York\").isoformat()\n",
    "end_date = pd.Timestamp('2020-01-01', tz=\"America/New_York\").isoformat()\n",
    "\n",
    "# Set the tickers\n",
    "tickers = [\"SPY\"]\n",
    "\n",
    "# Get current closing prices for SPY and AGG\n",
    "spy_raw_df = alpaca_api.get_barset(\n",
    "    tickers,\n",
    "    alpaca_api_period,\n",
    "    start=start_date,\n",
    "    end=end_date\n",
    ").df\n",
    "\n",
    "# Preview DataFrame\n",
    "spy_raw_df.head()"
   ]
  },
  {
   "cell_type": "code",
   "execution_count": 24,
   "metadata": {},
   "outputs": [
    {
     "output_type": "execute_result",
     "data": {
      "text/plain": [
       "         date    open    high      low   close     volume\n",
       "0  2015-01-02  206.38  206.88  204.180  205.41   94506045\n",
       "1  2015-01-05  204.17  204.37  201.350  201.80  133100354\n",
       "2  2015-01-06  202.09  202.72  198.855  199.82  166955423\n",
       "3  2015-01-07  201.42  202.72  200.880  202.34  103285826\n",
       "4  2015-01-08  204.00  206.16  203.990  205.92  112316394"
      ],
      "text/html": "<div>\n<style scoped>\n    .dataframe tbody tr th:only-of-type {\n        vertical-align: middle;\n    }\n\n    .dataframe tbody tr th {\n        vertical-align: top;\n    }\n\n    .dataframe thead th {\n        text-align: right;\n    }\n</style>\n<table border=\"1\" class=\"dataframe\">\n  <thead>\n    <tr style=\"text-align: right;\">\n      <th></th>\n      <th>date</th>\n      <th>open</th>\n      <th>high</th>\n      <th>low</th>\n      <th>close</th>\n      <th>volume</th>\n    </tr>\n  </thead>\n  <tbody>\n    <tr>\n      <th>0</th>\n      <td>2015-01-02</td>\n      <td>206.38</td>\n      <td>206.88</td>\n      <td>204.180</td>\n      <td>205.41</td>\n      <td>94506045</td>\n    </tr>\n    <tr>\n      <th>1</th>\n      <td>2015-01-05</td>\n      <td>204.17</td>\n      <td>204.37</td>\n      <td>201.350</td>\n      <td>201.80</td>\n      <td>133100354</td>\n    </tr>\n    <tr>\n      <th>2</th>\n      <td>2015-01-06</td>\n      <td>202.09</td>\n      <td>202.72</td>\n      <td>198.855</td>\n      <td>199.82</td>\n      <td>166955423</td>\n    </tr>\n    <tr>\n      <th>3</th>\n      <td>2015-01-07</td>\n      <td>201.42</td>\n      <td>202.72</td>\n      <td>200.880</td>\n      <td>202.34</td>\n      <td>103285826</td>\n    </tr>\n    <tr>\n      <th>4</th>\n      <td>2015-01-08</td>\n      <td>204.00</td>\n      <td>206.16</td>\n      <td>203.990</td>\n      <td>205.92</td>\n      <td>112316394</td>\n    </tr>\n  </tbody>\n</table>\n</div>"
     },
     "metadata": {},
     "execution_count": 24
    }
   ],
   "source": [
    "spy_df = pd.DataFrame()\n",
    "spy_df['open'] = spy_raw_df['SPY']['open']\n",
    "spy_df['high'] = spy_raw_df['SPY']['high']\n",
    "spy_df['low'] = spy_raw_df['SPY']['low']\n",
    "spy_df['close'] = spy_raw_df['SPY']['close']\n",
    "spy_df['volume'] = spy_raw_df['SPY']['volume']\n",
    "spy_df['date'] = spy_raw_df.index.date\n",
    "spy_df.reset_index(inplace=True)\n",
    "spy_df = spy_df[['date','open','high','low','close','volume']]\n",
    "spy_df.head()\n",
    "\n",
    "# spy_df.index = spy_raw_df.index.date"
   ]
  },
  {
   "cell_type": "code",
   "execution_count": 19,
   "metadata": {},
   "outputs": [],
   "source": [
    "# spy_3_df = spy_df[['SPY']['open','high','low','close','volume']]\n",
    "# spy_3_df.head()\n",
    "# test = spy_raw_df[['SPY']['open']]"
   ]
  },
  {
   "cell_type": "code",
   "execution_count": 20,
   "metadata": {},
   "outputs": [
    {
     "output_type": "execute_result",
     "data": {
      "text/plain": [
       "RangeIndex(start=0, stop=1258, step=1)"
      ]
     },
     "metadata": {},
     "execution_count": 20
    }
   ],
   "source": [
    "spy_df.index"
   ]
  },
  {
   "cell_type": "code",
   "execution_count": 21,
   "metadata": {},
   "outputs": [],
   "source": [
    "# def get_stock_OHLCV(api_key, secret_key, ticker, date_start, date_end, period) :\n",
    "\n",
    "#     # Init Alpaca SDK\n",
    "#     api = tradeapi.REST(\n",
    "#         api_key,\n",
    "#         secret_key,\n",
    "#         api_version=\"v2\")\n",
    "\n",
    "#     # Init start/end dates\n",
    "#     start_date = pd.Timestamp(date_start, tz=\"America/New_York\").isoformat()\n",
    "#     end_date = pd.Timestamp(date_end, tz=\"America/New_York\").isoformat()\n",
    "\n",
    "#     raw_df = api.get_barset(\n",
    "#         [ticker],\n",
    "#         period,\n",
    "#         start=start_date,\n",
    "#         end=end_date\n",
    "#     ).df\n",
    "\n",
    "#     df = pd.DataFrame()\n",
    "#     df['open'] = raw_df['SPY']['open']\n",
    "#     df['high'] = raw_df['SPY']['high']\n",
    "#     df['low'] = raw_df['SPY']['low']\n",
    "#     df['close'] = raw_df['SPY']['close']\n",
    "#     df['volume'] = raw_df['SPY']['volume']\n",
    "#     df['date'] = raw_df.index.date\n",
    "#     df.reset_index(inplace=True)\n",
    "#     df = df[['date','open','high','low','close','volume']]\n",
    "\n",
    "#     return df"
   ]
  },
  {
   "cell_type": "code",
   "execution_count": 22,
   "metadata": {},
   "outputs": [],
   "source": [
    "# spy_ohlcv_df = get_stock_OHLCV(alpaca_api_key, alpaca_secret_key, 'SPY', '2020-01-01T00:00:00', '2021-01-01T00:00:00', '1D')\n",
    "# btc_ohlcv_df.head()"
   ]
  },
  {
   "cell_type": "code",
   "execution_count": 23,
   "metadata": {},
   "outputs": [],
   "source": [
    "# Get BTC OHLCV\n",
    "# btc_ohlcv_df = get_crypto_OHLCV(coin_api_key, 'BTC', '2020-01-01T00:00:00', '2021-01-01T00:00:00', '1DAY')"
   ]
  },
  {
   "cell_type": "code",
   "execution_count": 24,
   "metadata": {},
   "outputs": [],
   "source": [
    "# Get SPY OHLCV\n",
    "# spy_ohlcv_df = get_stock_OHLCV(alpaca_api_key, alpaca_secret_key, 'SPY', '2020-01-01T00:00:00', '2021-01-01T00:00:00', '1D')"
   ]
  },
  {
   "cell_type": "code",
   "execution_count": 25,
   "metadata": {},
   "outputs": [],
   "source": [
    "# btc_plot = btc_ohlcv_df.hvplot.line(\n",
    "#     x='date',\n",
    "#     y='close',\n",
    "#     xlabel='Date',\n",
    "#     ylabel='Closing Price',\n",
    "#     title='BTC')\n",
    "\n",
    "# btc_plot"
   ]
  },
  {
   "cell_type": "code",
   "execution_count": 26,
   "metadata": {},
   "outputs": [],
   "source": [
    "# spy_plot = spy_ohlcv_df.hvplot.line(\n",
    "#     x='date',\n",
    "#     y='close',\n",
    "#     xlabel='Date',\n",
    "#     ylabel='Closing Price',\n",
    "#     title='SPY')\n",
    "\n",
    "# spy_plot"
   ]
  },
  {
   "cell_type": "code",
   "execution_count": 27,
   "metadata": {},
   "outputs": [],
   "source": [
    "# btc_plot * spy_plot"
   ]
  },
  {
   "source": [
    "## Refactor to data_service library and test module import"
   ],
   "cell_type": "markdown",
   "metadata": {}
  },
  {
   "cell_type": "code",
   "execution_count": 4,
   "metadata": {},
   "outputs": [],
   "source": [
    "import data_service as ds"
   ]
  },
  {
   "cell_type": "code",
   "execution_count": 5,
   "metadata": {},
   "outputs": [],
   "source": [
    "# coin_api_key = os.getenv('COIN_API_KEY') \n",
    "# alpaca_api_key = os.getenv(\"ALPACA_API_KEY\")\n",
    "# alpaca_secret_key = os.getenv(\"ALPACA_SECRET_KEY\")"
   ]
  },
  {
   "cell_type": "code",
   "execution_count": 25,
   "metadata": {},
   "outputs": [
    {
     "output_type": "execute_result",
     "data": {
      "text/plain": [
       "         date    open    high     low   close    volume\n",
       "0  2020-01-02  323.54  324.85  322.53  324.84  48217559\n",
       "1  2020-01-03  321.16  323.64  321.10  322.44  58408809\n",
       "2  2020-01-06  320.49  323.73  320.36  323.67  43105385\n",
       "3  2020-01-07  323.02  323.54  322.24  322.76  33909984\n",
       "4  2020-01-08  322.94  325.78  322.67  324.42  56581814"
      ],
      "text/html": "<div>\n<style scoped>\n    .dataframe tbody tr th:only-of-type {\n        vertical-align: middle;\n    }\n\n    .dataframe tbody tr th {\n        vertical-align: top;\n    }\n\n    .dataframe thead th {\n        text-align: right;\n    }\n</style>\n<table border=\"1\" class=\"dataframe\">\n  <thead>\n    <tr style=\"text-align: right;\">\n      <th></th>\n      <th>date</th>\n      <th>open</th>\n      <th>high</th>\n      <th>low</th>\n      <th>close</th>\n      <th>volume</th>\n    </tr>\n  </thead>\n  <tbody>\n    <tr>\n      <th>0</th>\n      <td>2020-01-02</td>\n      <td>323.54</td>\n      <td>324.85</td>\n      <td>322.53</td>\n      <td>324.84</td>\n      <td>48217559</td>\n    </tr>\n    <tr>\n      <th>1</th>\n      <td>2020-01-03</td>\n      <td>321.16</td>\n      <td>323.64</td>\n      <td>321.10</td>\n      <td>322.44</td>\n      <td>58408809</td>\n    </tr>\n    <tr>\n      <th>2</th>\n      <td>2020-01-06</td>\n      <td>320.49</td>\n      <td>323.73</td>\n      <td>320.36</td>\n      <td>323.67</td>\n      <td>43105385</td>\n    </tr>\n    <tr>\n      <th>3</th>\n      <td>2020-01-07</td>\n      <td>323.02</td>\n      <td>323.54</td>\n      <td>322.24</td>\n      <td>322.76</td>\n      <td>33909984</td>\n    </tr>\n    <tr>\n      <th>4</th>\n      <td>2020-01-08</td>\n      <td>322.94</td>\n      <td>325.78</td>\n      <td>322.67</td>\n      <td>324.42</td>\n      <td>56581814</td>\n    </tr>\n  </tbody>\n</table>\n</div>"
     },
     "metadata": {},
     "execution_count": 25
    }
   ],
   "source": [
    "# Call data_service to get SPY historical OHLCV\n",
    "spy_df = ds.get_stock_OHLCV(alpaca_api_key, alpaca_secret_key, 'SPY', '2020-01-01', '2021-01-01', '1D')\n",
    "spy_df.head()"
   ]
  },
  {
   "cell_type": "code",
   "execution_count": 26,
   "metadata": {},
   "outputs": [
    {
     "output_type": "execute_result",
     "data": {
      "text/plain": [
       "         date     open     high      low    close        volume\n",
       "0  2020-01-02  7165.72  7238.14  7136.05  7174.33   7111.559960\n",
       "1  2020-01-03  7174.33  7186.65  6900.00  6942.30  17021.336977\n",
       "2  2020-01-04  6945.02  7402.31  6853.53  7338.91  31240.408837\n",
       "3  2020-01-05  7334.45  7398.00  7256.03  7348.63  11282.295811\n",
       "4  2020-01-06  7348.63  7495.00  7301.10  7355.40  12110.709259"
      ],
      "text/html": "<div>\n<style scoped>\n    .dataframe tbody tr th:only-of-type {\n        vertical-align: middle;\n    }\n\n    .dataframe tbody tr th {\n        vertical-align: top;\n    }\n\n    .dataframe thead th {\n        text-align: right;\n    }\n</style>\n<table border=\"1\" class=\"dataframe\">\n  <thead>\n    <tr style=\"text-align: right;\">\n      <th></th>\n      <th>date</th>\n      <th>open</th>\n      <th>high</th>\n      <th>low</th>\n      <th>close</th>\n      <th>volume</th>\n    </tr>\n  </thead>\n  <tbody>\n    <tr>\n      <th>0</th>\n      <td>2020-01-02</td>\n      <td>7165.72</td>\n      <td>7238.14</td>\n      <td>7136.05</td>\n      <td>7174.33</td>\n      <td>7111.559960</td>\n    </tr>\n    <tr>\n      <th>1</th>\n      <td>2020-01-03</td>\n      <td>7174.33</td>\n      <td>7186.65</td>\n      <td>6900.00</td>\n      <td>6942.30</td>\n      <td>17021.336977</td>\n    </tr>\n    <tr>\n      <th>2</th>\n      <td>2020-01-04</td>\n      <td>6945.02</td>\n      <td>7402.31</td>\n      <td>6853.53</td>\n      <td>7338.91</td>\n      <td>31240.408837</td>\n    </tr>\n    <tr>\n      <th>3</th>\n      <td>2020-01-05</td>\n      <td>7334.45</td>\n      <td>7398.00</td>\n      <td>7256.03</td>\n      <td>7348.63</td>\n      <td>11282.295811</td>\n    </tr>\n    <tr>\n      <th>4</th>\n      <td>2020-01-06</td>\n      <td>7348.63</td>\n      <td>7495.00</td>\n      <td>7301.10</td>\n      <td>7355.40</td>\n      <td>12110.709259</td>\n    </tr>\n  </tbody>\n</table>\n</div>"
     },
     "metadata": {},
     "execution_count": 26
    }
   ],
   "source": [
    "# Call data_service to get BTC historical OHLCV\n",
    "btc_df = ds.get_crypto_OHLCV(coin_api_key, 'BTC', '2020-01-01T00:00:00', '2021-01-01T00:00:00', '1DAY')\n",
    "btc_df.head()\n"
   ]
  },
  {
   "cell_type": "code",
   "execution_count": null,
   "metadata": {},
   "outputs": [],
   "source": []
  }
 ],
 "metadata": {
  "kernelspec": {
   "display_name": "Python 3",
   "language": "python",
   "name": "python3"
  },
  "language_info": {
   "codemirror_mode": {
    "name": "ipython",
    "version": 3
   },
   "file_extension": ".py",
   "mimetype": "text/x-python",
   "name": "python",
   "nbconvert_exporter": "python",
   "pygments_lexer": "ipython3",
   "version": "3.7.9-final"
  }
 },
 "nbformat": 4,
 "nbformat_minor": 4
}