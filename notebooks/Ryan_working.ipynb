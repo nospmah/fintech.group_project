{
 "cells": [
  {
   "cell_type": "code",
   "execution_count": 122,
   "metadata": {},
   "outputs": [],
   "source": [
    "import os\n",
    "import pandas as pd\n",
    "import numpy as np\n",
    "import matplotlib.pyplot as plt\n",
    "import plotly.express as px\n",
    "import hvplot.pandas\n",
    "from pathlib import Path\n",
    "from numpy import mean\n",
    "from numpy import std\n",
    "from numpy import cov\n",
    "from scipy.stats import pearsonr\n",
    "import requests\n",
    "import urllib.request\n",
    "import json\n",
    "import pprint\n",
    "from dotenv import load_dotenv\n",
    "\n",
    "%matplotlib inline"
   ]
  },
  {
   "cell_type": "code",
   "execution_count": 123,
   "metadata": {},
   "outputs": [],
   "source": [
    "load_dotenv()\n",
    "access_token = os.getenv(\"CQ_API_KEY\")\n",
    "headers = { 'Authorization': 'Bearer ' + access_token }\n",
    "\n"
   ]
  },
  {
   "cell_type": "code",
   "execution_count": 124,
   "metadata": {},
   "outputs": [],
   "source": [
    "URL = \"https://api.cryptoquant.com/v1/btc/exchange-flows/netflow?exchange=all_exchange&window=day&from=20150101&limit=100\"\n",
    "response = requests.get(URL, headers=headers)\n",
    "\n",
    "netflow_data = response.json()\n",
    "netflow_df = pd.DataFrame(data=netflow_data['result']['data'])\n",
    "netflow_df['date'] = pd.to_datetime(netflow_df['date'])\n",
    "netflow_df['netflow_total'] = netflow_df['netflow_total'].astype(str).astype('float64')\n",
    "netflow_df = netflow_df.dropna()\n",
    "\n",
    "\n",
    "\n",
    "\n",
    "\n",
    "\n"
   ]
  },
  {
   "cell_type": "code",
   "execution_count": 125,
   "metadata": {},
   "outputs": [],
   "source": [
    "URL2 = \"https://api.cryptoquant.com/v1/btc/market-data/price-usd?window=day&from=20150101&limit=100\"\n",
    "response2 = requests.get(URL2, headers=headers)\n",
    "\n",
    "price_data = response2.json()\n",
    "\n",
    "price_df = pd.DataFrame(data=price_data['result']['data'])\n",
    "price_df = price_df.drop(['price_usd_high','price_usd_low','price_usd_open'], axis = 1)\n",
    "price_df['date'] = pd.to_datetime(price_df['date'])\n",
    "price_df['price_usd_close'] = price_df['price_usd_close'].astype(str).astype('float64')\n",
    "price_df = price_df.dropna()\n",
    "\n",
    "\n"
   ]
  },
  {
   "cell_type": "code",
   "execution_count": 126,
   "metadata": {},
   "outputs": [
    {
     "name": "stdout",
     "output_type": "stream",
     "text": [
      "Pearsons correlation: 0.097\n"
     ]
    }
   ],
   "source": [
    "covariance = cov(netflow_df['netflow_total'],price_df['price_usd_close'])\n",
    "corr, _ = pearsonr(netflow_df['netflow_total'], price_df['price_usd_close'])\n",
    "print('Pearsons correlation: %.3f' % corr)\n"
   ]
  },
  {
   "cell_type": "code",
   "execution_count": null,
   "metadata": {},
   "outputs": [],
   "source": []
  },
  {
   "cell_type": "code",
   "execution_count": null,
   "metadata": {},
   "outputs": [],
   "source": []
  },
  {
   "cell_type": "code",
   "execution_count": 127,
   "metadata": {},
   "outputs": [],
   "source": [
    "def pearsons_coefficient(series1,series2):\n",
    "    \n",
    "  #Returns pearsons coefficient (int) between 2 dataframes columns.\n",
    "\n",
    "       # Parameters: \n",
    "            ## series1 (object): First series to compare\n",
    "            ## series2 (object): Second series to compare\n",
    "\n",
    "    covariance = cov(series1,series2)\n",
    "    corr, _ = pearsonr(series1,series2)\n",
    "    print('Pearsons correlation: %.3f' % corr)\n",
    "    return corr\n",
    "\n"
   ]
  },
  {
   "cell_type": "code",
   "execution_count": 128,
   "metadata": {},
   "outputs": [
    {
     "name": "stdout",
     "output_type": "stream",
     "text": [
      "Pearsons correlation: 0.097\n"
     ]
    }
   ],
   "source": [
    "test_df = pearsons_coefficient(netflow_df['netflow_total'],price_df['price_usd_close'])"
   ]
  },
  {
   "cell_type": "code",
   "execution_count": 144,
   "metadata": {},
   "outputs": [],
   "source": [
    "def get_onchain_data(ticker,fromdate,limit):\n",
    "    '''\n",
    "    Returns on-chain data (Netflow)n in new df\n",
    "        Parameters:\n",
    "            ticker (string) = Ticker for Desired Coin\n",
    "            fromdate (string) = Starting date of period desired\n",
    "            limit (int) = number of data points     \n",
    "    '''\n",
    "    #Initialize dotenv function, pull API key, build URL\n",
    "    headers = {'Authorization': 'Bearer ' + access_token}\n",
    "    URL = f'https://api.cryptoquant.com/v1/{ticker}/exchange-flows/netflow?exchange=all_exchange&window=day&from={fromdate}&limit={limit}'\n",
    "\n",
    "    # Initialize Dictionary\n",
    "    response = requests.get(URL, headers=headers)\n",
    "    \n",
    "    netflow_data = response.json()\n",
    "\n",
    "    #Transform to Dataframe and adjust data type\n",
    "    netflow_df = pd.DataFrame(data=netflow_data['result']['data'])\n",
    "    netflow_df['date'] = pd.to_datetime(netflow_df['date'])\n",
    "    netflow_df['netflow_total'] = netflow_df['netflow_total'].astype(str).astype('float64')\n",
    "    netflow_df = netflow_df.dropna()\n",
    "    return netflow_df\n"
   ]
  },
  {
   "cell_type": "code",
   "execution_count": 130,
   "metadata": {},
   "outputs": [],
   "source": [
    "#test1_df = get_onchain_data(\"btc\",\"20190101\",\"100\")\n",
    "\n",
    "#print(test1_df)"
   ]
  },
  {
   "cell_type": "code",
   "execution_count": 131,
   "metadata": {},
   "outputs": [
    {
     "data": {},
     "metadata": {},
     "output_type": "display_data"
    },
    {
     "data": {
      "application/vnd.holoviews_exec.v0+json": "",
      "text/html": [
       "<div id='6455'>\n",
       "\n",
       "\n",
       "\n",
       "\n",
       "\n",
       "  <div class=\"bk-root\" id=\"d628ba9a-67ae-4b30-a672-897747e9276a\" data-root-id=\"6455\"></div>\n",
       "</div>\n",
       "<script type=\"application/javascript\">(function(root) {\n",
       "  function embed_document(root) {\n",
       "    var docs_json = {\"2d496e55-fe32-476c-b8c7-b30e45ab6d3f\":{\"roots\":{\"references\":[{\"attributes\":{\"callback\":null,\"formatters\":{\"@{date}\":\"datetime\"},\"renderers\":[{\"id\":\"6496\"}],\"tags\":[\"hv_created\"],\"tooltips\":[[\"date\",\"@{date}{%F %T}\"],[\"mvrv_score\",\"@{mvrv_score}\"]]},\"id\":\"6459\",\"type\":\"HoverTool\"},{\"attributes\":{\"margin\":[5,5,5,5],\"name\":\"HSpacer09461\",\"sizing_mode\":\"stretch_width\"},\"id\":\"6542\",\"type\":\"Spacer\"},{\"attributes\":{},\"id\":\"6478\",\"type\":\"PanTool\"},{\"attributes\":{\"overlay\":{\"id\":\"6482\"}},\"id\":\"6480\",\"type\":\"BoxZoomTool\"},{\"attributes\":{\"base\":24,\"mantissas\":[1,2,4,6,8,12],\"max_interval\":43200000.0,\"min_interval\":3600000.0,\"num_minor_ticks\":0},\"id\":\"6509\",\"type\":\"AdaptiveTicker\"},{\"attributes\":{\"days\":[1,15]},\"id\":\"6513\",\"type\":\"DaysTicker\"},{\"attributes\":{\"bottom_units\":\"screen\",\"fill_alpha\":0.5,\"fill_color\":\"lightgrey\",\"left_units\":\"screen\",\"level\":\"overlay\",\"line_alpha\":1.0,\"line_color\":\"black\",\"line_dash\":[4,4],\"line_width\":2,\"right_units\":\"screen\",\"top_units\":\"screen\"},\"id\":\"6482\",\"type\":\"BoxAnnotation\"},{\"attributes\":{\"end\":3.7096065512909564,\"reset_end\":3.7096065512909564,\"reset_start\":0.4370929558351439,\"start\":0.4370929558351439,\"tags\":[[[\"mvrv_score\",\"mvrv_score\",null]]]},\"id\":\"6458\",\"type\":\"Range1d\"},{\"attributes\":{\"active_drag\":\"auto\",\"active_inspect\":\"auto\",\"active_multi\":null,\"active_scroll\":\"auto\",\"active_tap\":\"auto\",\"tools\":[{\"id\":\"6459\"},{\"id\":\"6477\"},{\"id\":\"6478\"},{\"id\":\"6479\"},{\"id\":\"6480\"},{\"id\":\"6481\"}]},\"id\":\"6483\",\"type\":\"Toolbar\"},{\"attributes\":{\"months\":[0,1,2,3,4,5,6,7,8,9,10,11]},\"id\":\"6514\",\"type\":\"MonthsTicker\"},{\"attributes\":{},\"id\":\"6479\",\"type\":\"WheelZoomTool\"},{\"attributes\":{\"days\":[1,2,3,4,5,6,7,8,9,10,11,12,13,14,15,16,17,18,19,20,21,22,23,24,25,26,27,28,29,30,31]},\"id\":\"6510\",\"type\":\"DaysTicker\"},{\"attributes\":{\"axis_label\":\"mvrv_score\",\"bounds\":\"auto\",\"formatter\":{\"id\":\"6500\"},\"major_label_orientation\":\"horizontal\",\"ticker\":{\"id\":\"6474\"}},\"id\":\"6473\",\"type\":\"LinearAxis\"},{\"attributes\":{\"months\":[0,6]},\"id\":\"6517\",\"type\":\"MonthsTicker\"},{\"attributes\":{\"source\":{\"id\":\"6490\"}},\"id\":\"6497\",\"type\":\"CDSView\"},{\"attributes\":{},\"id\":\"6465\",\"type\":\"LinearScale\"},{\"attributes\":{\"days\":[1,4,7,10,13,16,19,22,25,28]},\"id\":\"6511\",\"type\":\"DaysTicker\"},{\"attributes\":{},\"id\":\"6518\",\"type\":\"YearsTicker\"},{\"attributes\":{},\"id\":\"6520\",\"type\":\"UnionRenderers\"},{\"attributes\":{\"data\":{\"date\":{\"__ndarray__\":\"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\",\"dtype\":\"float64\",\"order\":\"little\",\"shape\":[480]},\"mvrv_score\":{\"__ndarray__\":\"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\",\"dtype\":\"float64\",\"order\":\"little\",\"shape\":[480]}},\"selected\":{\"id\":\"6491\"},\"selection_policy\":{\"id\":\"6520\"}},\"id\":\"6490\",\"type\":\"ColumnDataSource\"},{\"attributes\":{\"children\":[{\"id\":\"6456\"},{\"id\":\"6460\"},{\"id\":\"6542\"}],\"margin\":[0,0,0,0],\"name\":\"Row09456\",\"tags\":[\"embedded\"]},\"id\":\"6455\",\"type\":\"Row\"},{\"attributes\":{\"data_source\":{\"id\":\"6490\"},\"glyph\":{\"id\":\"6493\"},\"hover_glyph\":null,\"muted_glyph\":{\"id\":\"6495\"},\"nonselection_glyph\":{\"id\":\"6494\"},\"selection_glyph\":null,\"view\":{\"id\":\"6497\"}},\"id\":\"6496\",\"type\":\"GlyphRenderer\"},{\"attributes\":{\"months\":[0,2,4,6,8,10]},\"id\":\"6515\",\"type\":\"MonthsTicker\"},{\"attributes\":{},\"id\":\"6467\",\"type\":\"LinearScale\"},{\"attributes\":{},\"id\":\"6500\",\"type\":\"BasicTickFormatter\"},{\"attributes\":{\"mantissas\":[1,2,5],\"max_interval\":500.0,\"num_minor_ticks\":0},\"id\":\"6507\",\"type\":\"AdaptiveTicker\"},{\"attributes\":{\"num_minor_ticks\":5,\"tickers\":[{\"id\":\"6507\"},{\"id\":\"6508\"},{\"id\":\"6509\"},{\"id\":\"6510\"},{\"id\":\"6511\"},{\"id\":\"6512\"},{\"id\":\"6513\"},{\"id\":\"6514\"},{\"id\":\"6515\"},{\"id\":\"6516\"},{\"id\":\"6517\"},{\"id\":\"6518\"}]},\"id\":\"6470\",\"type\":\"DatetimeTicker\"},{\"attributes\":{},\"id\":\"6491\",\"type\":\"Selection\"},{\"attributes\":{},\"id\":\"6498\",\"type\":\"DatetimeTickFormatter\"},{\"attributes\":{\"margin\":[5,5,5,5],\"name\":\"HSpacer09460\",\"sizing_mode\":\"stretch_width\"},\"id\":\"6456\",\"type\":\"Spacer\"},{\"attributes\":{},\"id\":\"6477\",\"type\":\"SaveTool\"},{\"attributes\":{\"text\":\"\",\"text_color\":{\"value\":\"black\"},\"text_font_size\":{\"value\":\"12pt\"}},\"id\":\"6461\",\"type\":\"Title\"},{\"attributes\":{\"line_alpha\":0.1,\"line_color\":\"#1f77b3\",\"line_width\":2,\"x\":{\"field\":\"date\"},\"y\":{\"field\":\"mvrv_score\"}},\"id\":\"6494\",\"type\":\"Line\"},{\"attributes\":{\"months\":[0,4,8]},\"id\":\"6516\",\"type\":\"MonthsTicker\"},{\"attributes\":{},\"id\":\"6474\",\"type\":\"BasicTicker\"},{\"attributes\":{\"end\":1611273600000.0,\"reset_end\":1611273600000.0,\"reset_start\":1569888000000.0,\"start\":1569888000000.0,\"tags\":[[[\"date\",\"date\",null]]]},\"id\":\"6457\",\"type\":\"Range1d\"},{\"attributes\":{\"axis\":{\"id\":\"6473\"},\"dimension\":1,\"grid_line_color\":null,\"ticker\":null},\"id\":\"6476\",\"type\":\"Grid\"},{\"attributes\":{\"axis\":{\"id\":\"6469\"},\"grid_line_color\":null,\"ticker\":null},\"id\":\"6472\",\"type\":\"Grid\"},{\"attributes\":{\"line_color\":\"#1f77b3\",\"line_width\":2,\"x\":{\"field\":\"date\"},\"y\":{\"field\":\"mvrv_score\"}},\"id\":\"6493\",\"type\":\"Line\"},{\"attributes\":{\"base\":60,\"mantissas\":[1,2,5,10,15,20,30],\"max_interval\":1800000.0,\"min_interval\":1000.0,\"num_minor_ticks\":0},\"id\":\"6508\",\"type\":\"AdaptiveTicker\"},{\"attributes\":{\"days\":[1,8,15,22]},\"id\":\"6512\",\"type\":\"DaysTicker\"},{\"attributes\":{\"below\":[{\"id\":\"6469\"}],\"center\":[{\"id\":\"6472\"},{\"id\":\"6476\"}],\"left\":[{\"id\":\"6473\"}],\"margin\":[5,5,5,5],\"min_border_bottom\":10,\"min_border_left\":10,\"min_border_right\":10,\"min_border_top\":10,\"plot_height\":300,\"plot_width\":700,\"renderers\":[{\"id\":\"6496\"}],\"sizing_mode\":\"fixed\",\"title\":{\"id\":\"6461\"},\"toolbar\":{\"id\":\"6483\"},\"x_range\":{\"id\":\"6457\"},\"x_scale\":{\"id\":\"6465\"},\"y_range\":{\"id\":\"6458\"},\"y_scale\":{\"id\":\"6467\"}},\"id\":\"6460\",\"subtype\":\"Figure\",\"type\":\"Plot\"},{\"attributes\":{},\"id\":\"6481\",\"type\":\"ResetTool\"},{\"attributes\":{\"line_alpha\":0.2,\"line_color\":\"#1f77b3\",\"line_width\":2,\"x\":{\"field\":\"date\"},\"y\":{\"field\":\"mvrv_score\"}},\"id\":\"6495\",\"type\":\"Line\"},{\"attributes\":{\"axis_label\":\"date\",\"bounds\":\"auto\",\"formatter\":{\"id\":\"6498\"},\"major_label_orientation\":1.5707963267948966,\"ticker\":{\"id\":\"6470\"}},\"id\":\"6469\",\"type\":\"DatetimeAxis\"}],\"root_ids\":[\"6455\"]},\"title\":\"Bokeh Application\",\"version\":\"2.2.3\"}};\n",
       "    var render_items = [{\"docid\":\"2d496e55-fe32-476c-b8c7-b30e45ab6d3f\",\"root_ids\":[\"6455\"],\"roots\":{\"6455\":\"d628ba9a-67ae-4b30-a672-897747e9276a\"}}];\n",
       "    root.Bokeh.embed.embed_items_notebook(docs_json, render_items);\n",
       "  }\n",
       "  if (root.Bokeh !== undefined && root.Bokeh.Panel !== undefined) {\n",
       "    embed_document(root);\n",
       "  } else {\n",
       "    var attempts = 0;\n",
       "    var timer = setInterval(function(root) {\n",
       "      if (root.Bokeh !== undefined && root.Bokeh.Panel !== undefined) {\n",
       "        clearInterval(timer);\n",
       "        embed_document(root);\n",
       "      } else if (document.readyState == \"complete\") {\n",
       "        attempts++;\n",
       "        if (attempts > 100) {\n",
       "          clearInterval(timer);\n",
       "          console.log(\"Bokeh: ERROR: Unable to run BokehJS code because BokehJS library is missing\");\n",
       "        }\n",
       "      }\n",
       "    }, 10, root)\n",
       "  }\n",
       "})(window);</script>"
      ],
      "text/plain": [
       ":Curve   [date]   (mvrv_score)"
      ]
     },
     "execution_count": 131,
     "metadata": {
      "application/vnd.holoviews_exec.v0+json": {
       "id": "6455"
      }
     },
     "output_type": "execute_result"
    }
   ],
   "source": [
    "URL3 = \"https://api.cryptoquant.com/v1/btc/market-data/capitalization?window=day&from=20191001&limit=10000\"\n",
    "response3 = requests.get(URL3, headers=headers)\n",
    "\n",
    "mvrv_data = response3.json()\n",
    "\n",
    "mvrv_data = pd.DataFrame(data=mvrv_data['result']['data'])\n",
    "mvrv_data['mvrv_score'] = (mvrv_data['market_cap']/mvrv_data['realized_cap'])\n",
    "mvrv_data['date'] = pd.to_datetime(mvrv_data['date'])\n",
    "mvrv_data = mvrv_data.sort_values(by=['date'],ascending=False)\n",
    "mvrv_data = mvrv_data.drop(['average_cap', 'delta_cap', 'market_cap','realized_cap','thermo_cap'], axis = 1)\n",
    "\n",
    "\n",
    "mvrv_data_plot= mvrv_data.hvplot(x='date',figsize=(100,100), rot=90)\n",
    "mvrv_data_plot\n",
    "#mvrv_data.head(5)\n"
   ]
  },
  {
   "cell_type": "code",
   "execution_count": 136,
   "metadata": {},
   "outputs": [],
   "source": [
    "def get_mvrv_data(ticker,fromdate,limit):\n",
    "    '''\n",
    "    Returns marketcap data in new df\n",
    "        Parameters:\n",
    "            ticker (string) = Ticker for Desired Coin\n",
    "            fromdate (string) = Starting date of period desired\n",
    "            limit (int) = number of data points     \n",
    "    '''\n",
    "    #Initialize dotenv function, pull API key, build URL\n",
    "    headers = {'Authorization': 'Bearer ' + access_token}\n",
    "    URL3 = f'https://api.cryptoquant.com/v1/{ticker}/market-data/capitalization?window=day&from={fromdate}&limit={limit}'\n",
    "            \n",
    "    # Initialize Dictionary\n",
    "    response3 = requests.get(URL3, headers=headers)\n",
    "    \n",
    "    mvrv_data = response3.json()\n",
    "\n",
    "    mvrv_data = pd.DataFrame(data=mvrv_data['result']['data'])\n",
    "    mvrv_data['mvrv_score'] = (mvrv_data['market_cap']/mvrv_data['realized_cap'])\n",
    "    mvrv_data['date'] = pd.to_datetime(mvrv_data['date'])\n",
    "    mvrv_data = mvrv_data.sort_values(by=['date'],ascending=False)\n",
    "    mvrv_data = mvrv_data.drop(['average_cap', 'delta_cap', 'market_cap','realized_cap','thermo_cap'], axis = 1)\n",
    "\n",
    "    return mvrv_data\n",
    "\n"
   ]
  },
  {
   "cell_type": "code",
   "execution_count": 141,
   "metadata": {},
   "outputs": [],
   "source": [
    "#test1_df = get_mvrv_data(\"btc\",\"20190101\",\"100000\")\n",
    "    "
   ]
  },
  {
   "cell_type": "code",
   "execution_count": 142,
   "metadata": {},
   "outputs": [],
   "source": [
    "def get_plots(input_df):\n",
    "    '''\n",
    "    Returns plot of inputed data frame\n",
    "        Parameters:\n",
    "        input_df: consumes the output of df builder functions above\n",
    "    '''\n",
    "    \n",
    "    data_plot= input_df.hvplot(x='date',figsize=(100,100), rot=90)\n",
    "    return data_plot"
   ]
  },
  {
   "cell_type": "code",
   "execution_count": 143,
   "metadata": {},
   "outputs": [
    {
     "data": {},
     "metadata": {},
     "output_type": "display_data"
    },
    {
     "data": {
      "application/vnd.holoviews_exec.v0+json": "",
      "text/html": [
       "<div id='6833'>\n",
       "\n",
       "\n",
       "\n",
       "\n",
       "\n",
       "  <div class=\"bk-root\" id=\"0c55e814-500c-43e3-bfba-1de984036ccf\" data-root-id=\"6833\"></div>\n",
       "</div>\n",
       "<script type=\"application/javascript\">(function(root) {\n",
       "  function embed_document(root) {\n",
       "    var docs_json = {\"3e490ee0-eedf-466e-9d91-ba8becf26426\":{\"roots\":{\"references\":[{\"attributes\":{\"end\":3.7096065512909564,\"reset_end\":3.7096065512909564,\"reset_start\":0.4370929558351439,\"start\":0.4370929558351439,\"tags\":[[[\"mvrv_score\",\"mvrv_score\",null]]]},\"id\":\"6836\",\"type\":\"Range1d\"},{\"attributes\":{\"margin\":[5,5,5,5],\"name\":\"HSpacer10194\",\"sizing_mode\":\"stretch_width\"},\"id\":\"6920\",\"type\":\"Spacer\"},{\"attributes\":{},\"id\":\"6843\",\"type\":\"LinearScale\"},{\"attributes\":{\"mantissas\":[1,2,5],\"max_interval\":500.0,\"num_minor_ticks\":0},\"id\":\"6885\",\"type\":\"AdaptiveTicker\"},{\"attributes\":{\"axis\":{\"id\":\"6851\"},\"dimension\":1,\"grid_line_color\":null,\"ticker\":null},\"id\":\"6854\",\"type\":\"Grid\"},{\"attributes\":{},\"id\":\"6878\",\"type\":\"BasicTickFormatter\"},{\"attributes\":{},\"id\":\"6898\",\"type\":\"UnionRenderers\"},{\"attributes\":{\"margin\":[5,5,5,5],\"name\":\"HSpacer10193\",\"sizing_mode\":\"stretch_width\"},\"id\":\"6834\",\"type\":\"Spacer\"},{\"attributes\":{\"months\":[0,2,4,6,8,10]},\"id\":\"6893\",\"type\":\"MonthsTicker\"},{\"attributes\":{\"num_minor_ticks\":5,\"tickers\":[{\"id\":\"6885\"},{\"id\":\"6886\"},{\"id\":\"6887\"},{\"id\":\"6888\"},{\"id\":\"6889\"},{\"id\":\"6890\"},{\"id\":\"6891\"},{\"id\":\"6892\"},{\"id\":\"6893\"},{\"id\":\"6894\"},{\"id\":\"6895\"},{\"id\":\"6896\"}]},\"id\":\"6848\",\"type\":\"DatetimeTicker\"},{\"attributes\":{\"overlay\":{\"id\":\"6860\"}},\"id\":\"6858\",\"type\":\"BoxZoomTool\"},{\"attributes\":{\"data_source\":{\"id\":\"6868\"},\"glyph\":{\"id\":\"6871\"},\"hover_glyph\":null,\"muted_glyph\":{\"id\":\"6873\"},\"nonselection_glyph\":{\"id\":\"6872\"},\"selection_glyph\":null,\"view\":{\"id\":\"6875\"}},\"id\":\"6874\",\"type\":\"GlyphRenderer\"},{\"attributes\":{},\"id\":\"6859\",\"type\":\"ResetTool\"},{\"attributes\":{\"children\":[{\"id\":\"6834\"},{\"id\":\"6838\"},{\"id\":\"6920\"}],\"margin\":[0,0,0,0],\"name\":\"Row10189\",\"tags\":[\"embedded\"]},\"id\":\"6833\",\"type\":\"Row\"},{\"attributes\":{\"axis\":{\"id\":\"6847\"},\"grid_line_color\":null,\"ticker\":null},\"id\":\"6850\",\"type\":\"Grid\"},{\"attributes\":{\"source\":{\"id\":\"6868\"}},\"id\":\"6875\",\"type\":\"CDSView\"},{\"attributes\":{\"end\":1611273600000.0,\"reset_end\":1611273600000.0,\"reset_start\":1569888000000.0,\"start\":1569888000000.0,\"tags\":[[[\"date\",\"date\",null]]]},\"id\":\"6835\",\"type\":\"Range1d\"},{\"attributes\":{\"days\":[1,15]},\"id\":\"6891\",\"type\":\"DaysTicker\"},{\"attributes\":{},\"id\":\"6896\",\"type\":\"YearsTicker\"},{\"attributes\":{\"bottom_units\":\"screen\",\"fill_alpha\":0.5,\"fill_color\":\"lightgrey\",\"left_units\":\"screen\",\"level\":\"overlay\",\"line_alpha\":1.0,\"line_color\":\"black\",\"line_dash\":[4,4],\"line_width\":2,\"right_units\":\"screen\",\"top_units\":\"screen\"},\"id\":\"6860\",\"type\":\"BoxAnnotation\"},{\"attributes\":{\"line_alpha\":0.2,\"line_color\":\"#1f77b3\",\"line_width\":2,\"x\":{\"field\":\"date\"},\"y\":{\"field\":\"mvrv_score\"}},\"id\":\"6873\",\"type\":\"Line\"},{\"attributes\":{\"days\":[1,4,7,10,13,16,19,22,25,28]},\"id\":\"6889\",\"type\":\"DaysTicker\"},{\"attributes\":{\"months\":[0,4,8]},\"id\":\"6894\",\"type\":\"MonthsTicker\"},{\"attributes\":{\"months\":[0,6]},\"id\":\"6895\",\"type\":\"MonthsTicker\"},{\"attributes\":{\"below\":[{\"id\":\"6847\"}],\"center\":[{\"id\":\"6850\"},{\"id\":\"6854\"}],\"left\":[{\"id\":\"6851\"}],\"margin\":[5,5,5,5],\"min_border_bottom\":10,\"min_border_left\":10,\"min_border_right\":10,\"min_border_top\":10,\"plot_height\":300,\"plot_width\":700,\"renderers\":[{\"id\":\"6874\"}],\"sizing_mode\":\"fixed\",\"title\":{\"id\":\"6839\"},\"toolbar\":{\"id\":\"6861\"},\"x_range\":{\"id\":\"6835\"},\"x_scale\":{\"id\":\"6843\"},\"y_range\":{\"id\":\"6836\"},\"y_scale\":{\"id\":\"6845\"}},\"id\":\"6838\",\"subtype\":\"Figure\",\"type\":\"Plot\"},{\"attributes\":{},\"id\":\"6857\",\"type\":\"WheelZoomTool\"},{\"attributes\":{\"base\":24,\"mantissas\":[1,2,4,6,8,12],\"max_interval\":43200000.0,\"min_interval\":3600000.0,\"num_minor_ticks\":0},\"id\":\"6887\",\"type\":\"AdaptiveTicker\"},{\"attributes\":{\"line_color\":\"#1f77b3\",\"line_width\":2,\"x\":{\"field\":\"date\"},\"y\":{\"field\":\"mvrv_score\"}},\"id\":\"6871\",\"type\":\"Line\"},{\"attributes\":{\"line_alpha\":0.1,\"line_color\":\"#1f77b3\",\"line_width\":2,\"x\":{\"field\":\"date\"},\"y\":{\"field\":\"mvrv_score\"}},\"id\":\"6872\",\"type\":\"Line\"},{\"attributes\":{},\"id\":\"6856\",\"type\":\"PanTool\"},{\"attributes\":{\"base\":60,\"mantissas\":[1,2,5,10,15,20,30],\"max_interval\":1800000.0,\"min_interval\":1000.0,\"num_minor_ticks\":0},\"id\":\"6886\",\"type\":\"AdaptiveTicker\"},{\"attributes\":{\"data\":{\"date\":{\"__ndarray__\":\"AACA3UnYdkIAAEBDnNh2QgAAAKnu2HZCAADADkHZdkIAAIB0k9l2QgAAQNrl2XZCAAAAQDjadkIAAMClitp2QgAAgAvd2nZCAABAcS/bdkIAAADXgdt2QgAAwDzU23ZCAACAoibcdkIAAEAIedx2QgAAAG7L3HZCAADA0x3ddkIAAIA5cN12QgAAQJ/C3XZCAAAABRXedkIAAMBqZ952QgAAgNC53nZCAABANgzfdkIAAACcXt92QgAAwAGx33ZCAACAZwPgdkIAAEDNVeB2QgAAADOo4HZCAADAmPrgdkIAAID+TOF2QgAAQGSf4XZCAAAAyvHhdkIAAMAvROJ2QgAAgJWW4nZCAABA++jidkIAAABhO+N2QgAAwMaN43ZCAACALODjdkIAAECSMuR2QgAAAPiE5HZCAADAXdfkdkIAAIDDKeV2QgAAQCl85XZCAAAAj87ldkIAAMD0IOZ2QgAAgFpz5nZCAABAwMXmdkIAAAAmGOd2QgAAwItq53ZCAACA8bzndkIAAEBXD+h2QgAAAL1h6HZCAADAIrTodkIAAICIBul2QgAAQO5Y6XZCAAAAVKvpdkIAAMC5/el2QgAAgB9Q6nZCAABAhaLqdkIAAADr9Op2QgAAwFBH63ZCAACAtpnrdkIAAEAc7Ot2QgAAAII+7HZCAADA55DsdkIAAIBN4+x2QgAAQLM17XZCAAAAGYjtdkIAAMB+2u12QgAAgOQs7nZCAABASn/udkIAAACw0e52QgAAwBUk73ZCAACAe3bvdkIAAEDhyO92QgAAAEcb8HZCAADArG3wdkIAAIASwPB2QgAAQHgS8XZCAAAA3mTxdkIAAMBDt/F2QgAAgKkJ8nZCAABAD1zydkIAAAB1rvJ2QgAAwNoA83ZCAACAQFPzdkIAAECmpfN2QgAAAAz483ZCAADAcUr0dkIAAIDXnPR2QgAAQD3v9HZCAAAAo0H1dkIAAMAIlPV2QgAAgG7m9XZCAABA1Dj2dkIAAAA6i/Z2QgAAwJ/d9nZCAACABTD3dkIAAEBrgvd2QgAAANHU93ZCAADANif4dkIAAICcefh2QgAAQALM+HZCAAAAaB75dkIAAMDNcPl2QgAAgDPD+XZCAABAmRX6dkIAAAD/Z/p2QgAAwGS6+nZCAACAygz7dkIAAEAwX/t2QgAAAJax+3ZCAADA+wP8dkIAAIBhVvx2QgAAQMeo/HZCAAAALfv8dkIAAMCSTf12QgAAgPif/XZCAABAXvL9dkIAAADERP52QgAAwCmX/nZCAACAj+n+dkIAAED1O/92QgAAAFuO/3ZCAADAwOD/dkIAAIAmMwB3QgAAQIyFAHdCAAAA8tcAd0IAAMBXKgF3QgAAgL18AXdCAABAI88Bd0IAAACJIQJ3QgAAwO5zAndCAACAVMYCd0IAAEC6GAN3QgAAACBrA3dCAADAhb0Dd0IAAIDrDwR3QgAAQFFiBHdCAAAAt7QEd0IAAMAcBwV3QgAAgIJZBXdCAABA6KsFd0IAAABO/gV3QgAAwLNQBndCAACAGaMGd0IAAEB/9QZ3QgAAAOVHB3dCAADASpoHd0IAAICw7Ad3QgAAQBY/CHdCAAAAfJEId0IAAMDh4wh3QgAAgEc2CXdCAABArYgJd0IAAAAT2wl3QgAAwHgtCndCAACA3n8Kd0IAAEBE0gp3QgAAAKokC3dCAADAD3cLd0IAAIB1yQt3QgAAQNsbDHdCAAAAQW4Md0IAAMCmwAx3QgAAgAwTDXdCAABAcmUNd0IAAADYtw13QgAAwD0KDndCAACAo1wOd0IAAEAJrw53QgAAAG8BD3dCAADA1FMPd0IAAIA6pg93QgAAQKD4D3dCAAAABksQd0IAAMBrnRB3QgAAgNHvEHdCAABAN0IRd0IAAACdlBF3QgAAwALnEXdCAACAaDkSd0IAAEDOixJ3QgAAADTeEndCAADAmTATd0IAAID/ghN3QgAAQGXVE3dCAAAAyycUd0IAAMAwehR3QgAAgJbMFHdCAABA/B4Vd0IAAABicRV3QgAAwMfDFXdCAACALRYWd0IAAECTaBZ3QgAAAPm6FndCAADAXg0Xd0IAAIDEXxd3QgAAQCqyF3dCAAAAkAQYd0IAAMD1Vhh3QgAAgFupGHdCAABAwfsYd0IAAAAnThl3QgAAwIygGXdCAACA8vIZd0IAAEBYRRp3QgAAAL6XGndCAADAI+oad0IAAICJPBt3QgAAQO+OG3dCAAAAVeEbd0IAAMC6Mxx3QgAAgCCGHHdCAABAhtgcd0IAAADsKh13QgAAwFF9HXdCAACAt88dd0IAAEAdIh53QgAAAIN0HndCAADA6MYed0IAAIBOGR93QgAAQLRrH3dCAAAAGr4fd0IAAMB/ECB3QgAAgOViIHdCAABAS7Ugd0IAAACxByF3QgAAwBZaIXdCAACAfKwhd0IAAEDi/iF3QgAAAEhRIndCAADAraMid0IAAIAT9iJ3QgAAQHlII3dCAAAA35ojd0IAAMBE7SN3QgAAgKo/JHdCAABAEJIkd0IAAAB25CR3QgAAwNs2JXdCAACAQYkld0IAAECn2yV3QgAAAA0uJndCAADAcoAmd0IAAIDY0iZ3QgAAQD4lJ3dCAAAApHcnd0IAAMAJyid3QgAAgG8cKHdCAABA1W4od0IAAAA7wSh3QgAAwKATKXdCAACABmYpd0IAAEBsuCl3QgAAANIKKndCAADAN10qd0IAAICdryp3QgAAQAMCK3dCAAAAaVQrd0IAAMDOpit3QgAAgDT5K3dCAABAmkssd0IAAAAAnix3QgAAwGXwLHdCAACAy0Itd0IAAEAxlS13QgAAAJfnLXdCAADA/Dkud0IAAIBijC53QgAAQMjeLndCAAAALjEvd0IAAMCTgy93QgAAgPnVL3dCAABAXygwd0IAAADFejB3QgAAwCrNMHdCAACAkB8xd0IAAED2cTF3QgAAAFzEMXdCAADAwRYyd0IAAIAnaTJ3QgAAQI27MndCAAAA8w0zd0IAAMBYYDN3QgAAgL6yM3dCAABAJAU0d0IAAACKVzR3QgAAwO+pNHdCAACAVfw0d0IAAEC7TjV3QgAAACGhNXdCAADAhvM1d0IAAIDsRTZ3QgAAQFKYNndCAAAAuOo2d0IAAMAdPTd3QgAAgIOPN3dCAABA6eE3d0IAAABPNDh3QgAAwLSGOHdCAACAGtk4d0IAAECAKzl3QgAAAOZ9OXdCAADAS9A5d0IAAICxIjp3QgAAQBd1OndCAAAAfcc6d0IAAMDiGTt3QgAAgEhsO3dCAABArr47d0IAAAAUETx3QgAAwHljPHdCAACA37U8d0IAAEBFCD13QgAAAKtaPXdCAADAEK09d0IAAIB2/z13QgAAQNxRPndCAAAAQqQ+d0IAAMCn9j53QgAAgA1JP3dCAABAc5s/d0IAAADZ7T93QgAAwD5AQHdCAACApJJAd0IAAEAK5UB3QgAAAHA3QXdCAADA1YlBd0IAAIA73EF3QgAAQKEuQndCAAAAB4FCd0IAAMBs00J3QgAAgNIlQ3dCAABAOHhDd0IAAACeykN3QgAAwAMdRHdCAACAaW9Ed0IAAEDPwUR3QgAAADUURXdCAADAmmZFd0IAAIAAuUV3QgAAQGYLRndCAAAAzF1Gd0IAAMAxsEZ3QgAAgJcCR3dCAABA/VRHd0IAAABjp0d3QgAAwMj5R3dCAACALkxId0IAAECUnkh3QgAAAPrwSHdCAADAX0NJd0IAAIDFlUl3QgAAQCvoSXdCAAAAkTpKd0IAAMD2jEp3QgAAgFzfSndCAABAwjFLd0IAAAAohEt3QgAAwI3WS3dCAACA8yhMd0IAAEBZe0x3QgAAAL/NTHdCAADAJCBNd0IAAICKck13QgAAQPDETXdCAAAAVhdOd0IAAMC7aU53QgAAgCG8TndCAABAhw5Pd0IAAADtYE93QgAAwFKzT3dCAACAuAVQd0IAAEAeWFB3QgAAAISqUHdCAADA6fxQd0IAAIBPT1F3QgAAQLWhUXdCAAAAG/RRd0IAAMCARlJ3QgAAgOaYUndCAABATOtSd0IAAACyPVN3QgAAwBeQU3dCAACAfeJTd0IAAEDjNFR3QgAAAEmHVHdCAADArtlUd0IAAIAULFV3QgAAQHp+VXdCAAAA4NBVd0IAAMBFI1Z3QgAAgKt1VndCAABAEchWd0IAAAB3Gld3QgAAwNxsV3dCAACAQr9Xd0IAAECoEVh3QgAAAA5kWHdCAADAc7ZYd0IAAIDZCFl3QgAAQD9bWXdCAAAApa1Zd0IAAMAKAFp3QgAAgHBSWndCAABA1qRad0IAAAA891p3QgAAwKFJW3dCAACAB5xbd0IAAEBt7lt3QgAAANNAXHdCAADAOJNcd0IAAICe5Vx3QgAAQAQ4XXdCAAAAaopdd0IAAMDP3F13QgAAgDUvXndCAABAm4Fed0IAAAAB1F53QgAAwGYmX3dCAACAzHhfd0IAAEAyy193QgAAAJgdYHdCAADA/W9gd0IAAIBjwmB3QgAAQMkUYXdCAAAAL2dhd0IAAMCUuWF3QgAAgPoLYndCAABAYF5id0IAAADGsGJ3QgAAwCsDY3dCAACAkVVjd0IAAED3p2N3QgAAAF36Y3dCAADAwkxkd0IAAIAon2R3QgAAQI7xZHdCAAAA9ENld0IAAMBZlmV3QgAAgL/oZXdCAABAJTtmd0IAAACLjWZ3QgAAwPDfZndCAACAVjJnd0IAAEC8hGd3QgAAACLXZ3dCAADAhylod0IAAIDte2h3QgAAQFPOaHdCAAAAuSBpd0IAAMAec2l3QgAAgITFaXdCAABA6hdqd0IAAABQamp3QgAAwLW8andCAACAGw9rd0IAAECBYWt3QgAAAOeza3dCAADATAZsd0IAAICyWGx3QgAAQBirbHdCAAAAfv1sd0IAAMDjT213QgAAgEmibXdCAABAr/Rtd0IAAAAVR253QgAAwHqZbndCAACA4Otud0IAAEBGPm93QgAAAKyQb3dCAADAEeNvd0IAAIB3NXB3QgAAQN2HcHdCAAAAQ9pwd0IAAMCoLHF3QgAAgA5/cXdCAABAdNFxd0IAAADaI3J3QgAAwD92cndC\",\"dtype\":\"float64\",\"order\":\"little\",\"shape\":[480]},\"mvrv_score\":{\"__ndarray__\":\"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\",\"dtype\":\"float64\",\"order\":\"little\",\"shape\":[480]}},\"selected\":{\"id\":\"6869\"},\"selection_policy\":{\"id\":\"6898\"}},\"id\":\"6868\",\"type\":\"ColumnDataSource\"},{\"attributes\":{},\"id\":\"6869\",\"type\":\"Selection\"},{\"attributes\":{\"months\":[0,1,2,3,4,5,6,7,8,9,10,11]},\"id\":\"6892\",\"type\":\"MonthsTicker\"},{\"attributes\":{\"text\":\"\",\"text_color\":{\"value\":\"black\"},\"text_font_size\":{\"value\":\"12pt\"}},\"id\":\"6839\",\"type\":\"Title\"},{\"attributes\":{},\"id\":\"6855\",\"type\":\"SaveTool\"},{\"attributes\":{\"days\":[1,2,3,4,5,6,7,8,9,10,11,12,13,14,15,16,17,18,19,20,21,22,23,24,25,26,27,28,29,30,31]},\"id\":\"6888\",\"type\":\"DaysTicker\"},{\"attributes\":{\"active_drag\":\"auto\",\"active_inspect\":\"auto\",\"active_multi\":null,\"active_scroll\":\"auto\",\"active_tap\":\"auto\",\"tools\":[{\"id\":\"6837\"},{\"id\":\"6855\"},{\"id\":\"6856\"},{\"id\":\"6857\"},{\"id\":\"6858\"},{\"id\":\"6859\"}]},\"id\":\"6861\",\"type\":\"Toolbar\"},{\"attributes\":{},\"id\":\"6852\",\"type\":\"BasicTicker\"},{\"attributes\":{},\"id\":\"6876\",\"type\":\"DatetimeTickFormatter\"},{\"attributes\":{\"callback\":null,\"formatters\":{\"@{date}\":\"datetime\"},\"renderers\":[{\"id\":\"6874\"}],\"tags\":[\"hv_created\"],\"tooltips\":[[\"date\",\"@{date}{%F %T}\"],[\"mvrv_score\",\"@{mvrv_score}\"]]},\"id\":\"6837\",\"type\":\"HoverTool\"},{\"attributes\":{},\"id\":\"6845\",\"type\":\"LinearScale\"},{\"attributes\":{\"days\":[1,8,15,22]},\"id\":\"6890\",\"type\":\"DaysTicker\"},{\"attributes\":{\"axis_label\":\"date\",\"bounds\":\"auto\",\"formatter\":{\"id\":\"6876\"},\"major_label_orientation\":1.5707963267948966,\"ticker\":{\"id\":\"6848\"}},\"id\":\"6847\",\"type\":\"DatetimeAxis\"},{\"attributes\":{\"axis_label\":\"mvrv_score\",\"bounds\":\"auto\",\"formatter\":{\"id\":\"6878\"},\"major_label_orientation\":\"horizontal\",\"ticker\":{\"id\":\"6852\"}},\"id\":\"6851\",\"type\":\"LinearAxis\"}],\"root_ids\":[\"6833\"]},\"title\":\"Bokeh Application\",\"version\":\"2.2.3\"}};\n",
       "    var render_items = [{\"docid\":\"3e490ee0-eedf-466e-9d91-ba8becf26426\",\"root_ids\":[\"6833\"],\"roots\":{\"6833\":\"0c55e814-500c-43e3-bfba-1de984036ccf\"}}];\n",
       "    root.Bokeh.embed.embed_items_notebook(docs_json, render_items);\n",
       "  }\n",
       "  if (root.Bokeh !== undefined && root.Bokeh.Panel !== undefined) {\n",
       "    embed_document(root);\n",
       "  } else {\n",
       "    var attempts = 0;\n",
       "    var timer = setInterval(function(root) {\n",
       "      if (root.Bokeh !== undefined && root.Bokeh.Panel !== undefined) {\n",
       "        clearInterval(timer);\n",
       "        embed_document(root);\n",
       "      } else if (document.readyState == \"complete\") {\n",
       "        attempts++;\n",
       "        if (attempts > 100) {\n",
       "          clearInterval(timer);\n",
       "          console.log(\"Bokeh: ERROR: Unable to run BokehJS code because BokehJS library is missing\");\n",
       "        }\n",
       "      }\n",
       "    }, 10, root)\n",
       "  }\n",
       "})(window);</script>"
      ],
      "text/plain": [
       ":Curve   [date]   (mvrv_score)"
      ]
     },
     "execution_count": 143,
     "metadata": {
      "application/vnd.holoviews_exec.v0+json": {
       "id": "6833"
      }
     },
     "output_type": "execute_result"
    }
   ],
   "source": [
    "mvrv_plot = get_plots(mvrv_data)\n",
    "mvrv_plot"
   ]
  },
  {
   "cell_type": "code",
   "execution_count": 146,
   "metadata": {},
   "outputs": [
    {
     "data": {},
     "metadata": {},
     "output_type": "display_data"
    },
    {
     "data": {
      "application/vnd.holoviews_exec.v0+json": "",
      "text/html": [
       "<div id='7022'>\n",
       "\n",
       "\n",
       "\n",
       "\n",
       "\n",
       "  <div class=\"bk-root\" id=\"8028c14b-3a36-4c88-9ca8-1ec68daa8adf\" data-root-id=\"7022\"></div>\n",
       "</div>\n",
       "<script type=\"application/javascript\">(function(root) {\n",
       "  function embed_document(root) {\n",
       "    var docs_json = {\"1d37ab6f-6e2c-4832-ab51-4da0bbd595a7\":{\"roots\":{\"references\":[{\"attributes\":{\"days\":[1,8,15,22]},\"id\":\"7079\",\"type\":\"DaysTicker\"},{\"attributes\":{},\"id\":\"7058\",\"type\":\"Selection\"},{\"attributes\":{},\"id\":\"7045\",\"type\":\"PanTool\"},{\"attributes\":{\"days\":[1,15]},\"id\":\"7080\",\"type\":\"DaysTicker\"},{\"attributes\":{\"source\":{\"id\":\"7057\"}},\"id\":\"7064\",\"type\":\"CDSView\"},{\"attributes\":{},\"id\":\"7046\",\"type\":\"WheelZoomTool\"},{\"attributes\":{\"axis_label\":\"date\",\"bounds\":\"auto\",\"formatter\":{\"id\":\"7065\"},\"major_label_orientation\":1.5707963267948966,\"ticker\":{\"id\":\"7037\"}},\"id\":\"7036\",\"type\":\"DatetimeAxis\"},{\"attributes\":{\"months\":[0,1,2,3,4,5,6,7,8,9,10,11]},\"id\":\"7081\",\"type\":\"MonthsTicker\"},{\"attributes\":{\"overlay\":{\"id\":\"7049\"}},\"id\":\"7047\",\"type\":\"BoxZoomTool\"},{\"attributes\":{\"months\":[0,2,4,6,8,10]},\"id\":\"7082\",\"type\":\"MonthsTicker\"},{\"attributes\":{\"line_alpha\":0.2,\"line_color\":\"#1f77b3\",\"line_width\":2,\"x\":{\"field\":\"date\"},\"y\":{\"field\":\"netflow_total\"}},\"id\":\"7062\",\"type\":\"Line\"},{\"attributes\":{\"base\":24,\"mantissas\":[1,2,4,6,8,12],\"max_interval\":43200000.0,\"min_interval\":3600000.0,\"num_minor_ticks\":0},\"id\":\"7076\",\"type\":\"AdaptiveTicker\"},{\"attributes\":{},\"id\":\"7067\",\"type\":\"BasicTickFormatter\"},{\"attributes\":{\"months\":[0,4,8]},\"id\":\"7083\",\"type\":\"MonthsTicker\"},{\"attributes\":{\"callback\":null,\"formatters\":{\"@{date}\":\"datetime\"},\"renderers\":[{\"id\":\"7063\"}],\"tags\":[\"hv_created\"],\"tooltips\":[[\"date\",\"@{date}{%F %T}\"],[\"netflow_total\",\"@{netflow_total}\"]]},\"id\":\"7026\",\"type\":\"HoverTool\"},{\"attributes\":{},\"id\":\"7048\",\"type\":\"ResetTool\"},{\"attributes\":{\"months\":[0,6]},\"id\":\"7084\",\"type\":\"MonthsTicker\"},{\"attributes\":{},\"id\":\"7034\",\"type\":\"LinearScale\"},{\"attributes\":{\"days\":[1,2,3,4,5,6,7,8,9,10,11,12,13,14,15,16,17,18,19,20,21,22,23,24,25,26,27,28,29,30,31]},\"id\":\"7077\",\"type\":\"DaysTicker\"},{\"attributes\":{},\"id\":\"7085\",\"type\":\"YearsTicker\"},{\"attributes\":{\"end\":1611273600000.0,\"reset_end\":1611273600000.0,\"reset_start\":1602720000000.0,\"start\":1602720000000.0,\"tags\":[[[\"date\",\"date\",null]]]},\"id\":\"7024\",\"type\":\"Range1d\"},{\"attributes\":{\"text\":\"\",\"text_color\":{\"value\":\"black\"},\"text_font_size\":{\"value\":\"12pt\"}},\"id\":\"7028\",\"type\":\"Title\"},{\"attributes\":{\"days\":[1,4,7,10,13,16,19,22,25,28]},\"id\":\"7078\",\"type\":\"DaysTicker\"},{\"attributes\":{},\"id\":\"7087\",\"type\":\"UnionRenderers\"},{\"attributes\":{\"num_minor_ticks\":5,\"tickers\":[{\"id\":\"7074\"},{\"id\":\"7075\"},{\"id\":\"7076\"},{\"id\":\"7077\"},{\"id\":\"7078\"},{\"id\":\"7079\"},{\"id\":\"7080\"},{\"id\":\"7081\"},{\"id\":\"7082\"},{\"id\":\"7083\"},{\"id\":\"7084\"},{\"id\":\"7085\"}]},\"id\":\"7037\",\"type\":\"DatetimeTicker\"},{\"attributes\":{\"margin\":[5,5,5,5],\"name\":\"HSpacer10448\",\"sizing_mode\":\"stretch_width\"},\"id\":\"7109\",\"type\":\"Spacer\"},{\"attributes\":{},\"id\":\"7044\",\"type\":\"SaveTool\"},{\"attributes\":{\"axis\":{\"id\":\"7036\"},\"grid_line_color\":null,\"ticker\":null},\"id\":\"7039\",\"type\":\"Grid\"},{\"attributes\":{},\"id\":\"7041\",\"type\":\"BasicTicker\"},{\"attributes\":{\"data\":{\"date\":{\"__ndarray__\":\"AACA5phSd0IAAEBM61J3QgAAALI9U3dCAADAF5BTd0IAAIB94lN3QgAAQOM0VHdCAAAASYdUd0IAAMCu2VR3QgAAgBQsVXdCAABAen5Vd0IAAADg0FV3QgAAwEUjVndCAACAq3VWd0IAAEARyFZ3QgAAAHcaV3dCAADA3GxXd0IAAIBCv1d3QgAAQKgRWHdCAAAADmRYd0IAAMBztlh3QgAAgNkIWXdCAABAP1tZd0IAAAClrVl3QgAAwAoAWndCAACAcFJad0IAAEDWpFp3QgAAADz3WndCAADAoUlbd0IAAIAHnFt3QgAAQG3uW3dCAAAA00Bcd0IAAMA4k1x3QgAAgJ7lXHdCAABABDhdd0IAAABqil13QgAAwM/cXXdCAACANS9ed0IAAECbgV53QgAAAAHUXndCAADAZiZfd0IAAIDMeF93QgAAQDLLX3dCAAAAmB1gd0IAAMD9b2B3QgAAgGPCYHdCAABAyRRhd0IAAAAvZ2F3QgAAwJS5YXdCAACA+gtid0IAAEBgXmJ3QgAAAMawYndCAADAKwNjd0IAAICRVWN3QgAAQPenY3dCAAAAXfpjd0IAAMDCTGR3QgAAgCifZHdCAABAjvFkd0IAAAD0Q2V3QgAAwFmWZXdCAACAv+hld0IAAEAlO2Z3QgAAAIuNZndCAADA8N9md0IAAIBWMmd3QgAAQLyEZ3dCAAAAItdnd0IAAMCHKWh3QgAAgO17aHdCAABAU85od0IAAAC5IGl3QgAAwB5zaXdCAACAhMVpd0IAAEDqF2p3QgAAAFBqandCAADAtbxqd0IAAIAbD2t3QgAAQIFha3dCAAAA57Nrd0IAAMBMBmx3QgAAgLJYbHdCAABAGKtsd0IAAAB+/Wx3QgAAwONPbXdCAACASaJtd0IAAECv9G13QgAAABVHbndCAADAeplud0IAAIDg6253QgAAQEY+b3dCAAAArJBvd0IAAMAR4293QgAAgHc1cHdCAABA3Ydwd0IAAABD2nB3QgAAwKgscXdCAACADn9xd0IAAEB00XF3QgAAANojcndCAADAP3Zyd0I=\",\"dtype\":\"float64\",\"order\":\"little\",\"shape\":[100]},\"netflow_total\":{\"__ndarray__\":\"14KDYuYuwcB8honpWF7QwIV/S9/cH8HAod6lN8bipcAxGmRYiFS0wPKWzC3EC3nA48c1kd9mkEDf6/cGi0mUwKqkJcF5rKvAst9upNdUtMACoVCqBCicwJA+WloCUMDAIROdI8PSwMDC0FWAcJWGQMdyvwEFCaLAuP5lENfNvsCGY22+RVO2QMQYolTs0mzAhjEzveye3MCBi9uJnqvNwP0e7WZ8DMjAeEjvI3XxuEAQYKr8XUa0QLFcBAC4x6BAuSpY/JNbocBNrACdAQR2QIsyn5yFE8jAzi8QJb7ykcApRo5b3uy6wPO68hfiMoDAUcpa+fJZwEBERcXN6QazwFXOKKdS8L7AK0mFTqVqv0DUddEldjplwLr4eHSlqn5APc7Zp2AYmkCmXfF59hvBQL92WeEsv5jAQe6Fdkzuh8CrYDNEDc6zwCQ5DQ9LCL9ABYJjA48U0UD+aDD0oe6tQH81YsFEZqHATZgX/aAhs8AE0vaWMf2rQNdGRErlPsdA03MD7MxtvcCZQzluZLSJwON+VWgqU83Am1V+nT5iq0BMNRbB4T2bwAcvNLaLSHVALS+vEhPUssA4iFJSKdC3wK/8Q0RWB97AwI7FV+QysEAq/J029rnhQEJNgKNrYr1APosQ5BsBt0BRUVDlL563wP130G7WttLAegi6KPlYxUD1aMs13KlTwJc2oM4ERLdAugjfPTsitcC+uLfPeGGGwAdwoxY72tLAXcYs/9J6nMCPbPC2WYSCQGL4RnwVD8RAHbYlWTxLq0BCGj43EvzKQJ6llnNaVXfA82LVXofoysC+VvjpRdazQCqGs3TfxsLAaC4m7PH7zcD88MFFl7/hwIUU0enQ5sNAiIs3jXRLnUDjCRBHQ0mqQF61OlIPeLjAwnmjHLH4rMD83qY/K4eUwPM2/I+7WLzAacNh6cUIwUA6M00aCla9QBsYcegUJaPAWQJjXHV6kcDfqqk088KxwB/jQP4ehatAJfJ25z1LesDPj1QZlVWxwDhhJZOiZcFAMeZTbMWTrMCNXSazeEG8QHoIeAysg6PADBIuJrlmtkA=\",\"dtype\":\"float64\",\"order\":\"little\",\"shape\":[100]}},\"selected\":{\"id\":\"7058\"},\"selection_policy\":{\"id\":\"7087\"}},\"id\":\"7057\",\"type\":\"ColumnDataSource\"},{\"attributes\":{\"axis\":{\"id\":\"7040\"},\"dimension\":1,\"grid_line_color\":null,\"ticker\":null},\"id\":\"7043\",\"type\":\"Grid\"},{\"attributes\":{\"line_color\":\"#1f77b3\",\"line_width\":2,\"x\":{\"field\":\"date\"},\"y\":{\"field\":\"netflow_total\"}},\"id\":\"7060\",\"type\":\"Line\"},{\"attributes\":{\"below\":[{\"id\":\"7036\"}],\"center\":[{\"id\":\"7039\"},{\"id\":\"7043\"}],\"left\":[{\"id\":\"7040\"}],\"margin\":[5,5,5,5],\"min_border_bottom\":10,\"min_border_left\":10,\"min_border_right\":10,\"min_border_top\":10,\"plot_height\":300,\"plot_width\":700,\"renderers\":[{\"id\":\"7063\"}],\"sizing_mode\":\"fixed\",\"title\":{\"id\":\"7028\"},\"toolbar\":{\"id\":\"7050\"},\"x_range\":{\"id\":\"7024\"},\"x_scale\":{\"id\":\"7032\"},\"y_range\":{\"id\":\"7025\"},\"y_scale\":{\"id\":\"7034\"}},\"id\":\"7027\",\"subtype\":\"Figure\",\"type\":\"Plot\"},{\"attributes\":{\"axis_label\":\"netflow_total\",\"bounds\":\"auto\",\"formatter\":{\"id\":\"7067\"},\"major_label_orientation\":\"horizontal\",\"ticker\":{\"id\":\"7041\"}},\"id\":\"7040\",\"type\":\"LinearAxis\"},{\"attributes\":{},\"id\":\"7065\",\"type\":\"DatetimeTickFormatter\"},{\"attributes\":{\"base\":60,\"mantissas\":[1,2,5,10,15,20,30],\"max_interval\":1800000.0,\"min_interval\":1000.0,\"num_minor_ticks\":0},\"id\":\"7075\",\"type\":\"AdaptiveTicker\"},{\"attributes\":{\"line_alpha\":0.1,\"line_color\":\"#1f77b3\",\"line_width\":2,\"x\":{\"field\":\"date\"},\"y\":{\"field\":\"netflow_total\"}},\"id\":\"7061\",\"type\":\"Line\"},{\"attributes\":{\"mantissas\":[1,2,5],\"max_interval\":500.0,\"num_minor_ticks\":0},\"id\":\"7074\",\"type\":\"AdaptiveTicker\"},{\"attributes\":{\"children\":[{\"id\":\"7023\"},{\"id\":\"7027\"},{\"id\":\"7109\"}],\"margin\":[0,0,0,0],\"name\":\"Row10443\",\"tags\":[\"embedded\"]},\"id\":\"7022\",\"type\":\"Row\"},{\"attributes\":{\"bottom_units\":\"screen\",\"fill_alpha\":0.5,\"fill_color\":\"lightgrey\",\"left_units\":\"screen\",\"level\":\"overlay\",\"line_alpha\":1.0,\"line_color\":\"black\",\"line_dash\":[4,4],\"line_width\":2,\"right_units\":\"screen\",\"top_units\":\"screen\"},\"id\":\"7049\",\"type\":\"BoxAnnotation\"},{\"attributes\":{},\"id\":\"7032\",\"type\":\"LinearScale\"},{\"attributes\":{\"data_source\":{\"id\":\"7057\"},\"glyph\":{\"id\":\"7060\"},\"hover_glyph\":null,\"muted_glyph\":{\"id\":\"7062\"},\"nonselection_glyph\":{\"id\":\"7061\"},\"selection_glyph\":null,\"view\":{\"id\":\"7064\"}},\"id\":\"7063\",\"type\":\"GlyphRenderer\"},{\"attributes\":{\"active_drag\":\"auto\",\"active_inspect\":\"auto\",\"active_multi\":null,\"active_scroll\":\"auto\",\"active_tap\":\"auto\",\"tools\":[{\"id\":\"7026\"},{\"id\":\"7044\"},{\"id\":\"7045\"},{\"id\":\"7046\"},{\"id\":\"7047\"},{\"id\":\"7048\"}]},\"id\":\"7050\",\"type\":\"Toolbar\"},{\"attributes\":{\"margin\":[5,5,5,5],\"name\":\"HSpacer10447\",\"sizing_mode\":\"stretch_width\"},\"id\":\"7023\",\"type\":\"Spacer\"},{\"attributes\":{\"end\":43568.936310376004,\"reset_end\":43568.936310376004,\"reset_start\":-43613.969408576006,\"start\":-43613.969408576006,\"tags\":[[[\"netflow_total\",\"netflow_total\",null]]]},\"id\":\"7025\",\"type\":\"Range1d\"}],\"root_ids\":[\"7022\"]},\"title\":\"Bokeh Application\",\"version\":\"2.2.3\"}};\n",
       "    var render_items = [{\"docid\":\"1d37ab6f-6e2c-4832-ab51-4da0bbd595a7\",\"root_ids\":[\"7022\"],\"roots\":{\"7022\":\"8028c14b-3a36-4c88-9ca8-1ec68daa8adf\"}}];\n",
       "    root.Bokeh.embed.embed_items_notebook(docs_json, render_items);\n",
       "  }\n",
       "  if (root.Bokeh !== undefined && root.Bokeh.Panel !== undefined) {\n",
       "    embed_document(root);\n",
       "  } else {\n",
       "    var attempts = 0;\n",
       "    var timer = setInterval(function(root) {\n",
       "      if (root.Bokeh !== undefined && root.Bokeh.Panel !== undefined) {\n",
       "        clearInterval(timer);\n",
       "        embed_document(root);\n",
       "      } else if (document.readyState == \"complete\") {\n",
       "        attempts++;\n",
       "        if (attempts > 100) {\n",
       "          clearInterval(timer);\n",
       "          console.log(\"Bokeh: ERROR: Unable to run BokehJS code because BokehJS library is missing\");\n",
       "        }\n",
       "      }\n",
       "    }, 10, root)\n",
       "  }\n",
       "})(window);</script>"
      ],
      "text/plain": [
       ":Curve   [date]   (netflow_total)"
      ]
     },
     "execution_count": 146,
     "metadata": {
      "application/vnd.holoviews_exec.v0+json": {
       "id": "7022"
      }
     },
     "output_type": "execute_result"
    }
   ],
   "source": [
    "netflow_plot = get_plots(netflow_df)\n",
    "netflow_plot"
   ]
  },
  {
   "cell_type": "code",
   "execution_count": 147,
   "metadata": {},
   "outputs": [
    {
     "data": {},
     "metadata": {},
     "output_type": "display_data"
    },
    {
     "data": {
      "application/vnd.holoviews_exec.v0+json": "",
      "text/html": [
       "<div id='7211'>\n",
       "\n",
       "\n",
       "\n",
       "\n",
       "\n",
       "  <div class=\"bk-root\" id=\"960da41d-c14b-4d28-90c7-f27d2bbc4e76\" data-root-id=\"7211\"></div>\n",
       "</div>\n",
       "<script type=\"application/javascript\">(function(root) {\n",
       "  function embed_document(root) {\n",
       "    var docs_json = {\"ce0e9366-7924-4ace-9ed6-01f8d088b035\":{\"roots\":{\"references\":[{\"attributes\":{\"end\":43547.297333337,\"reset_end\":43547.297333337,\"reset_start\":8382.609333332999,\"start\":8382.609333332999,\"tags\":[[[\"price_usd_close\",\"price_usd_close\",null]]]},\"id\":\"7214\",\"type\":\"Range1d\"},{\"attributes\":{\"data\":{\"date\":{\"__ndarray__\":\"AACA5phSd0IAAEBM61J3QgAAALI9U3dCAADAF5BTd0IAAIB94lN3QgAAQOM0VHdCAAAASYdUd0IAAMCu2VR3QgAAgBQsVXdCAABAen5Vd0IAAADg0FV3QgAAwEUjVndCAACAq3VWd0IAAEARyFZ3QgAAAHcaV3dCAADA3GxXd0IAAIBCv1d3QgAAQKgRWHdCAAAADmRYd0IAAMBztlh3QgAAgNkIWXdCAABAP1tZd0IAAAClrVl3QgAAwAoAWndCAACAcFJad0IAAEDWpFp3QgAAADz3WndCAADAoUlbd0IAAIAHnFt3QgAAQG3uW3dCAAAA00Bcd0IAAMA4k1x3QgAAgJ7lXHdCAABABDhdd0IAAABqil13QgAAwM/cXXdCAACANS9ed0IAAECbgV53QgAAAAHUXndCAADAZiZfd0IAAIDMeF93QgAAQDLLX3dCAAAAmB1gd0IAAMD9b2B3QgAAgGPCYHdCAABAyRRhd0IAAAAvZ2F3QgAAwJS5YXdCAACA+gtid0IAAEBgXmJ3QgAAAMawYndCAADAKwNjd0IAAICRVWN3QgAAQPenY3dCAAAAXfpjd0IAAMDCTGR3QgAAgCifZHdCAABAjvFkd0IAAAD0Q2V3QgAAwFmWZXdCAACAv+hld0IAAEAlO2Z3QgAAAIuNZndCAADA8N9md0IAAIBWMmd3QgAAQLyEZ3dCAAAAItdnd0IAAMCHKWh3QgAAgO17aHdCAABAU85od0IAAAC5IGl3QgAAwB5zaXdCAACAhMVpd0IAAEDqF2p3QgAAAFBqandCAADAtbxqd0IAAIAbD2t3QgAAQIFha3dCAAAA57Nrd0IAAMBMBmx3QgAAgLJYbHdCAABAGKtsd0IAAAB+/Wx3QgAAwONPbXdCAACASaJtd0IAAECv9G13QgAAABVHbndCAADAeplud0IAAIDg6253QgAAQEY+b3dCAAAArJBvd0IAAMAR4293QgAAgHc1cHdCAABA3Ydwd0IAAABD2nB3QgAAwKgscXdCAACADn9xd0IAAEB00XF3QgAAANojcndCAADAP3Zyd0I=\",\"dtype\":\"float64\",\"order\":\"little\",\"shape\":[100]},\"price_usd_close\":{\"__ndarray__\":\"AAAAAIB1xkAAAAAAgBjGQAAAAACAMcZAAAAAAAB5xkAAAAAAAPPGQAAAAACAQ8dAAAAAAAD3yEAAAAAAgFHJQAAAAAAAQclAAAAAAACZyUAAAAAAAHLJQAAAAACAfMlAAAAAAACgykAAAAAAAOzJQAAAAAAARspAAAAAAAB7ykAAAAAAgNPKQAAAAACA3spAAAAAAIBzykAAAAAAAGPLQAAAAAAAoctAAAAAAAByzkAAAAAAgGfOQAAAAACA6cxAAAAAAAA7zkAAAAAAAO3NQAAAAAAA481AAAAAAACkzkAAAAAAgNLPQAAAAAAA389AAAAAAIBiz0AAAAAAgB3PQAAAAACAT9BAJ7i7u/s10UA/NV66OVPRQAIrhxZpZ9FA1RoxUO4w0kAFPat35kPSQARWDi06CdJA46WbxCDz0UCZ+5qbv7TSQCuHFtlOUNJAPQrXo7jb0EAFdk7Wxr7QQPLSTWLAQNFA2UdERATC0UD0hIiImD7TQI6qaCQgVtJA1xcqO6zE0kDWi+M4TvrSQODWQKe9ONJAUIgEfLO00kCMwxUnoO3SQLpOn/Tpu9JARj2nDcTh0UAUIgHfLBzSQOAGhO9D09FAjVEqI1Sd0UDZR0RE5F7SQP9bLPl1t9JAj8L1KJzS0kAyj18syfnSQIRHfrGU2dRAw/UoXHdG1kBlwpJfTJXWQNejcD2CR9dAsOu0gTbr1kDVeOkmATPWQLpJDAL7Q9dAAAAAACCw1kD8qfHSvS7XQO58PzVOIdhAhetRuF7c2UCmm8QgUKfZQMUgsHJ4bdpA2c73U8O92kC+nxovnTTcQMP1KFxfQtxA4NZAp92q3ECF61G49nDfQGZmZmZaIeBAb5k20FlE30CvGUt+TZngQBTc3d3p+eFAKVyPwtlF40AB0mkDHdXjQHEPdNqkmuNAXWEs+emj4kBR5rSBok3hQKOe0waWnuBA4aiqqupA4kAes4FO/x3jQDJhyS868+FArkfheuyS4UAfV1VV2X7hQDJhyS8m5OFAcQ902hyG4UB7FK5HPVPhQO31iyUfIN5APtxApwkZ4EA=\",\"dtype\":\"float64\",\"order\":\"little\",\"shape\":[100]}},\"selected\":{\"id\":\"7247\"},\"selection_policy\":{\"id\":\"7276\"}},\"id\":\"7246\",\"type\":\"ColumnDataSource\"},{\"attributes\":{\"mantissas\":[1,2,5],\"max_interval\":500.0,\"num_minor_ticks\":0},\"id\":\"7263\",\"type\":\"AdaptiveTicker\"},{\"attributes\":{},\"id\":\"7230\",\"type\":\"BasicTicker\"},{\"attributes\":{\"num_minor_ticks\":5,\"tickers\":[{\"id\":\"7263\"},{\"id\":\"7264\"},{\"id\":\"7265\"},{\"id\":\"7266\"},{\"id\":\"7267\"},{\"id\":\"7268\"},{\"id\":\"7269\"},{\"id\":\"7270\"},{\"id\":\"7271\"},{\"id\":\"7272\"},{\"id\":\"7273\"},{\"id\":\"7274\"}]},\"id\":\"7226\",\"type\":\"DatetimeTicker\"},{\"attributes\":{\"base\":24,\"mantissas\":[1,2,4,6,8,12],\"max_interval\":43200000.0,\"min_interval\":3600000.0,\"num_minor_ticks\":0},\"id\":\"7265\",\"type\":\"AdaptiveTicker\"},{\"attributes\":{\"axis\":{\"id\":\"7225\"},\"grid_line_color\":null,\"ticker\":null},\"id\":\"7228\",\"type\":\"Grid\"},{\"attributes\":{\"margin\":[5,5,5,5],\"name\":\"HSpacer10626\",\"sizing_mode\":\"stretch_width\"},\"id\":\"7212\",\"type\":\"Spacer\"},{\"attributes\":{\"base\":60,\"mantissas\":[1,2,5,10,15,20,30],\"max_interval\":1800000.0,\"min_interval\":1000.0,\"num_minor_ticks\":0},\"id\":\"7264\",\"type\":\"AdaptiveTicker\"},{\"attributes\":{\"line_alpha\":0.1,\"line_color\":\"#1f77b3\",\"line_width\":2,\"x\":{\"field\":\"date\"},\"y\":{\"field\":\"price_usd_close\"}},\"id\":\"7250\",\"type\":\"Line\"},{\"attributes\":{\"axis_label\":\"date\",\"bounds\":\"auto\",\"formatter\":{\"id\":\"7254\"},\"major_label_orientation\":1.5707963267948966,\"ticker\":{\"id\":\"7226\"}},\"id\":\"7225\",\"type\":\"DatetimeAxis\"},{\"attributes\":{\"axis\":{\"id\":\"7229\"},\"dimension\":1,\"grid_line_color\":null,\"ticker\":null},\"id\":\"7232\",\"type\":\"Grid\"},{\"attributes\":{\"axis_label\":\"price_usd_close\",\"bounds\":\"auto\",\"formatter\":{\"id\":\"7256\"},\"major_label_orientation\":\"horizontal\",\"ticker\":{\"id\":\"7230\"}},\"id\":\"7229\",\"type\":\"LinearAxis\"},{\"attributes\":{\"days\":[1,2,3,4,5,6,7,8,9,10,11,12,13,14,15,16,17,18,19,20,21,22,23,24,25,26,27,28,29,30,31]},\"id\":\"7266\",\"type\":\"DaysTicker\"},{\"attributes\":{\"children\":[{\"id\":\"7212\"},{\"id\":\"7216\"},{\"id\":\"7298\"}],\"margin\":[0,0,0,0],\"name\":\"Row10622\",\"tags\":[\"embedded\"]},\"id\":\"7211\",\"type\":\"Row\"},{\"attributes\":{\"line_alpha\":0.2,\"line_color\":\"#1f77b3\",\"line_width\":2,\"x\":{\"field\":\"date\"},\"y\":{\"field\":\"price_usd_close\"}},\"id\":\"7251\",\"type\":\"Line\"},{\"attributes\":{\"days\":[1,4,7,10,13,16,19,22,25,28]},\"id\":\"7267\",\"type\":\"DaysTicker\"},{\"attributes\":{\"bottom_units\":\"screen\",\"fill_alpha\":0.5,\"fill_color\":\"lightgrey\",\"left_units\":\"screen\",\"level\":\"overlay\",\"line_alpha\":1.0,\"line_color\":\"black\",\"line_dash\":[4,4],\"line_width\":2,\"right_units\":\"screen\",\"top_units\":\"screen\"},\"id\":\"7238\",\"type\":\"BoxAnnotation\"},{\"attributes\":{\"data_source\":{\"id\":\"7246\"},\"glyph\":{\"id\":\"7249\"},\"hover_glyph\":null,\"muted_glyph\":{\"id\":\"7251\"},\"nonselection_glyph\":{\"id\":\"7250\"},\"selection_glyph\":null,\"view\":{\"id\":\"7253\"}},\"id\":\"7252\",\"type\":\"GlyphRenderer\"},{\"attributes\":{\"source\":{\"id\":\"7246\"}},\"id\":\"7253\",\"type\":\"CDSView\"},{\"attributes\":{\"days\":[1,8,15,22]},\"id\":\"7268\",\"type\":\"DaysTicker\"},{\"attributes\":{},\"id\":\"7256\",\"type\":\"BasicTickFormatter\"},{\"attributes\":{\"days\":[1,15]},\"id\":\"7269\",\"type\":\"DaysTicker\"},{\"attributes\":{\"below\":[{\"id\":\"7225\"}],\"center\":[{\"id\":\"7228\"},{\"id\":\"7232\"}],\"left\":[{\"id\":\"7229\"}],\"margin\":[5,5,5,5],\"min_border_bottom\":10,\"min_border_left\":10,\"min_border_right\":10,\"min_border_top\":10,\"plot_height\":300,\"plot_width\":700,\"renderers\":[{\"id\":\"7252\"}],\"sizing_mode\":\"fixed\",\"title\":{\"id\":\"7217\"},\"toolbar\":{\"id\":\"7239\"},\"x_range\":{\"id\":\"7213\"},\"x_scale\":{\"id\":\"7221\"},\"y_range\":{\"id\":\"7214\"},\"y_scale\":{\"id\":\"7223\"}},\"id\":\"7216\",\"subtype\":\"Figure\",\"type\":\"Plot\"},{\"attributes\":{},\"id\":\"7233\",\"type\":\"SaveTool\"},{\"attributes\":{\"months\":[0,1,2,3,4,5,6,7,8,9,10,11]},\"id\":\"7270\",\"type\":\"MonthsTicker\"},{\"attributes\":{},\"id\":\"7247\",\"type\":\"Selection\"},{\"attributes\":{\"line_color\":\"#1f77b3\",\"line_width\":2,\"x\":{\"field\":\"date\"},\"y\":{\"field\":\"price_usd_close\"}},\"id\":\"7249\",\"type\":\"Line\"},{\"attributes\":{},\"id\":\"7221\",\"type\":\"LinearScale\"},{\"attributes\":{},\"id\":\"7254\",\"type\":\"DatetimeTickFormatter\"},{\"attributes\":{},\"id\":\"7234\",\"type\":\"PanTool\"},{\"attributes\":{\"months\":[0,2,4,6,8,10]},\"id\":\"7271\",\"type\":\"MonthsTicker\"},{\"attributes\":{\"margin\":[5,5,5,5],\"name\":\"HSpacer10627\",\"sizing_mode\":\"stretch_width\"},\"id\":\"7298\",\"type\":\"Spacer\"},{\"attributes\":{},\"id\":\"7235\",\"type\":\"WheelZoomTool\"},{\"attributes\":{\"months\":[0,4,8]},\"id\":\"7272\",\"type\":\"MonthsTicker\"},{\"attributes\":{},\"id\":\"7237\",\"type\":\"ResetTool\"},{\"attributes\":{\"overlay\":{\"id\":\"7238\"}},\"id\":\"7236\",\"type\":\"BoxZoomTool\"},{\"attributes\":{\"months\":[0,6]},\"id\":\"7273\",\"type\":\"MonthsTicker\"},{\"attributes\":{},\"id\":\"7223\",\"type\":\"LinearScale\"},{\"attributes\":{},\"id\":\"7274\",\"type\":\"YearsTicker\"},{\"attributes\":{\"end\":1611273600000.0,\"reset_end\":1611273600000.0,\"reset_start\":1602720000000.0,\"start\":1602720000000.0,\"tags\":[[[\"date\",\"date\",null]]]},\"id\":\"7213\",\"type\":\"Range1d\"},{\"attributes\":{\"active_drag\":\"auto\",\"active_inspect\":\"auto\",\"active_multi\":null,\"active_scroll\":\"auto\",\"active_tap\":\"auto\",\"tools\":[{\"id\":\"7215\"},{\"id\":\"7233\"},{\"id\":\"7234\"},{\"id\":\"7235\"},{\"id\":\"7236\"},{\"id\":\"7237\"}]},\"id\":\"7239\",\"type\":\"Toolbar\"},{\"attributes\":{},\"id\":\"7276\",\"type\":\"UnionRenderers\"},{\"attributes\":{\"text\":\"\",\"text_color\":{\"value\":\"black\"},\"text_font_size\":{\"value\":\"12pt\"}},\"id\":\"7217\",\"type\":\"Title\"},{\"attributes\":{\"callback\":null,\"formatters\":{\"@{date}\":\"datetime\"},\"renderers\":[{\"id\":\"7252\"}],\"tags\":[\"hv_created\"],\"tooltips\":[[\"date\",\"@{date}{%F %T}\"],[\"price_usd_close\",\"@{price_usd_close}\"]]},\"id\":\"7215\",\"type\":\"HoverTool\"}],\"root_ids\":[\"7211\"]},\"title\":\"Bokeh Application\",\"version\":\"2.2.3\"}};\n",
       "    var render_items = [{\"docid\":\"ce0e9366-7924-4ace-9ed6-01f8d088b035\",\"root_ids\":[\"7211\"],\"roots\":{\"7211\":\"960da41d-c14b-4d28-90c7-f27d2bbc4e76\"}}];\n",
       "    root.Bokeh.embed.embed_items_notebook(docs_json, render_items);\n",
       "  }\n",
       "  if (root.Bokeh !== undefined && root.Bokeh.Panel !== undefined) {\n",
       "    embed_document(root);\n",
       "  } else {\n",
       "    var attempts = 0;\n",
       "    var timer = setInterval(function(root) {\n",
       "      if (root.Bokeh !== undefined && root.Bokeh.Panel !== undefined) {\n",
       "        clearInterval(timer);\n",
       "        embed_document(root);\n",
       "      } else if (document.readyState == \"complete\") {\n",
       "        attempts++;\n",
       "        if (attempts > 100) {\n",
       "          clearInterval(timer);\n",
       "          console.log(\"Bokeh: ERROR: Unable to run BokehJS code because BokehJS library is missing\");\n",
       "        }\n",
       "      }\n",
       "    }, 10, root)\n",
       "  }\n",
       "})(window);</script>"
      ],
      "text/plain": [
       ":Curve   [date]   (price_usd_close)"
      ]
     },
     "execution_count": 147,
     "metadata": {
      "application/vnd.holoviews_exec.v0+json": {
       "id": "7211"
      }
     },
     "output_type": "execute_result"
    }
   ],
   "source": [
    "price_df_plot = get_plots(price_df)\n",
    "price_df_plot"
   ]
  },
  {
   "cell_type": "code",
   "execution_count": null,
   "metadata": {},
   "outputs": [],
   "source": []
  },
  {
   "cell_type": "code",
   "execution_count": null,
   "metadata": {},
   "outputs": [],
   "source": []
  }
 ],
 "metadata": {
  "kernelspec": {
   "display_name": "Python [conda env:pyvizenv] *",
   "language": "python",
   "name": "conda-env-pyvizenv-py"
  },
  "language_info": {
   "codemirror_mode": {
    "name": "ipython",
    "version": 3
   },
   "file_extension": ".py",
   "mimetype": "text/x-python",
   "name": "python",
   "nbconvert_exporter": "python",
   "pygments_lexer": "ipython3",
   "version": "3.7.9"
  }
 },
 "nbformat": 4,
 "nbformat_minor": 4
}
