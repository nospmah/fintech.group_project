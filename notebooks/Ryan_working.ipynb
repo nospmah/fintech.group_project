{
 "cells": [
  {
   "cell_type": "code",
   "execution_count": 78,
   "metadata": {},
   "outputs": [],
   "source": [
    "import os\n",
    "import pandas as pd\n",
    "import numpy as np\n",
    "import matplotlib.pyplot as plt\n",
    "import plotly.express as px\n",
    "import hvplot.pandas\n",
    "from pathlib import Path\n",
    "from numpy import mean\n",
    "from numpy import std\n",
    "from numpy import cov\n",
    "from scipy.stats import pearsonr\n",
    "import requests\n",
    "import urllib.request\n",
    "import json\n",
    "import pprint\n",
    "from dotenv import load_dotenv\n",
    "\n",
    "%matplotlib inline"
   ]
  },
  {
   "cell_type": "code",
   "execution_count": 79,
   "metadata": {},
   "outputs": [
    {
     "name": "stdout",
     "output_type": "stream",
     "text": [
      "<class 'dict'>\n"
     ]
    }
   ],
   "source": [
    "load_dotenv()\n",
    "access_token = os.getenv(\"CQ_API_KEY\")\n",
    "headers = { 'Authorization': 'Bearer ' + access_token }\n",
    "\n",
    "print(type(headers))"
   ]
  },
  {
   "cell_type": "code",
   "execution_count": 80,
   "metadata": {},
   "outputs": [
    {
     "data": {
      "text/plain": [
       "<bound method NDFrame.describe of          date  netflow_total\n",
       "0  2021-01-21    -153.516795\n",
       "1  2021-01-20    3643.276701\n",
       "2  2021-01-19  -14814.094964\n",
       "3  2021-01-18    6798.665563\n",
       "4  2021-01-17   -5060.862951\n",
       "5  2021-01-16    -355.418920\n",
       "6  2021-01-15   17624.149371\n",
       "7  2021-01-14   -3318.766133\n",
       "8  2021-01-13    4514.323077\n",
       "9  2021-01-12      83.452431\n",
       "10 2021-01-11    5264.572792\n",
       "11 2021-01-10    9508.089746\n",
       "12 2021-01-09   -2953.703428\n",
       "13 2021-01-08    7752.349472\n",
       "14 2021-01-07   -1344.990247\n",
       "15 2021-01-06   -2528.676266\n",
       "16 2021-01-05   -1405.490292\n",
       "17 2021-01-04    1915.942121\n",
       "18 2021-01-03   17355.683806\n",
       "19 2021-01-02  -32492.928409\n",
       "20 2021-01-01   -3298.734090\n",
       "21 2020-12-31   -8215.578255\n",
       "22 2020-12-30    2405.820970\n",
       "23 2020-12-29    -166.657571\n",
       "24 2020-12-28    1801.899760\n",
       "25 2020-12-27   11508.658954\n",
       "26 2020-12-26    3503.867941\n",
       "27 2020-12-25    9390.618269\n",
       "28 2020-12-24   10290.831612\n",
       "29 2020-12-23   -5087.449641\n",
       "..        ...            ...\n",
       "70 2020-11-12   -7708.799008\n",
       "71 2020-11-11   -1968.628078\n",
       "72 2020-11-10  -12483.301624\n",
       "73 2020-11-09    -628.457284\n",
       "74 2020-11-08   -2546.903237\n",
       "75 2020-11-07    1761.517083\n",
       "76 2020-11-06    5040.310893\n",
       "77 2020-11-05    6280.957362\n",
       "78 2020-11-04  -11582.014124\n",
       "79 2020-11-03  -15297.480220\n",
       "80 2020-11-02  -30277.316317\n",
       "81 2020-11-01    -422.875094\n",
       "82 2020-10-31    5784.170558\n",
       "83 2020-10-30   -8347.626455\n",
       "84 2020-10-29   -2484.758795\n",
       "85 2020-10-28     173.047301\n",
       "86 2020-10-27   -8469.889754\n",
       "87 2020-10-26   -7950.427307\n",
       "88 2020-10-25   -1872.440465\n",
       "89 2020-10-24   -5356.481885\n",
       "90 2020-10-23   -3276.630156\n",
       "91 2020-10-22   -2560.561340\n",
       "92 2020-10-21     537.497476\n",
       "93 2020-10-20    -213.449543\n",
       "94 2020-10-19   -4181.634094\n",
       "95 2020-10-18   -2766.808172\n",
       "96 2020-10-17   -8884.194862\n",
       "97 2020-10-16  -16944.419731\n",
       "98 2020-10-15   -8912.196157\n",
       "99 2020-10-14   -5884.121397\n",
       "\n",
       "[100 rows x 2 columns]>"
      ]
     },
     "execution_count": 80,
     "metadata": {},
     "output_type": "execute_result"
    }
   ],
   "source": [
    "URL = \"https://api.cryptoquant.com/v1/btc/exchange-flows/netflow?exchange=all_exchange&window=day&from=20150101&limit=100\"\n",
    "response = requests.get(URL, headers=headers)\n",
    "\n",
    "netflow_data = response.json()\n",
    "netflow_df = pd.DataFrame(data=netflow_data['result']['data'])\n",
    "netflow_df['date'] = pd.to_datetime(netflow_df['date'])\n",
    "netflow_df['netflow_total'] = netflow_df['netflow_total'].astype(str).astype('float64')\n",
    "netflow_df = netflow_df.dropna()\n",
    "\n",
    "netflow_df.describe\n",
    "\n",
    "\n",
    "\n",
    "\n"
   ]
  },
  {
   "cell_type": "code",
   "execution_count": 81,
   "metadata": {},
   "outputs": [
    {
     "data": {
      "text/plain": [
       "<bound method NDFrame.describe of          date  price_usd_close\n",
       "0  2021-01-21     30848.486667\n",
       "1  2021-01-20     35481.915000\n",
       "2  2021-01-19     35888.901667\n",
       "3  2021-01-18     36641.193333\n",
       "4  2021-01-17     35830.791667\n",
       "5  2021-01-16     35991.390000\n",
       "6  2021-01-15     36761.818333\n",
       "7  2021-01-14     39151.978333\n",
       "8  2021-01-13     37383.333333\n",
       "9  2021-01-12     34036.688333\n",
       "10 2021-01-11     35437.078333\n",
       "11 2021-01-10     38175.311667\n",
       "12 2021-01-09     40149.151667\n",
       "13 2021-01-08     40616.906667\n",
       "14 2021-01-07     39470.805000\n",
       "15 2021-01-06     36815.308333\n",
       "16 2021-01-05     33994.421667\n",
       "17 2021-01-04     32017.403333\n",
       "18 2021-01-03     33034.825000\n",
       "19 2021-01-02     32195.855000\n",
       "20 2021-01-01     29355.463333\n",
       "21 2020-12-31     28937.490000\n",
       "22 2020-12-30     28882.456000\n",
       "23 2020-12-29     27383.052000\n",
       "24 2020-12-28     27061.882000\n",
       "25 2020-12-27     26269.252000\n",
       "26 2020-12-26     26481.480000\n",
       "27 2020-12-25     24709.222000\n",
       "28 2020-12-24     23738.966000\n",
       "29 2020-12-23     23232.500000\n",
       "..        ...              ...\n",
       "70 2020-11-12     16293.000000\n",
       "71 2020-11-11     15688.000000\n",
       "72 2020-11-10     15302.000000\n",
       "73 2020-11-09     15322.000000\n",
       "74 2020-11-08     15478.000000\n",
       "75 2020-11-07     14803.000000\n",
       "76 2020-11-06     15567.000000\n",
       "77 2020-11-05     15588.000000\n",
       "78 2020-11-04     14146.000000\n",
       "79 2020-11-03     14022.000000\n",
       "80 2020-11-02     13543.000000\n",
       "81 2020-11-01     13757.000000\n",
       "82 2020-10-31     13735.000000\n",
       "83 2020-10-30     13558.000000\n",
       "84 2020-10-29     13452.000000\n",
       "85 2020-10-28     13272.000000\n",
       "86 2020-10-27     13632.000000\n",
       "87 2020-10-26     13049.000000\n",
       "88 2020-10-25     13028.000000\n",
       "89 2020-10-24     13106.000000\n",
       "90 2020-10-23     12930.000000\n",
       "91 2020-10-22     12963.000000\n",
       "92 2020-10-21     12782.000000\n",
       "93 2020-10-20     11911.000000\n",
       "94 2020-10-19     11750.000000\n",
       "95 2020-10-18     11506.000000\n",
       "96 2020-10-17     11363.000000\n",
       "97 2020-10-16     11313.000000\n",
       "98 2020-10-15     11499.000000\n",
       "99 2020-10-14     11419.000000\n",
       "\n",
       "[100 rows x 2 columns]>"
      ]
     },
     "execution_count": 81,
     "metadata": {},
     "output_type": "execute_result"
    }
   ],
   "source": [
    "URL2 = \"https://api.cryptoquant.com/v1/btc/market-data/price-usd?window=day&from=20150101&limit=100\"\n",
    "response2 = requests.get(URL2, headers=headers)\n",
    "\n",
    "price_data = response2.json()\n",
    "\n",
    "price_df = pd.DataFrame(data=price_data['result']['data'])\n",
    "price_df = price_df.drop(['price_usd_high','price_usd_low','price_usd_open'], axis = 1)\n",
    "price_df['date'] = pd.to_datetime(price_df['date'])\n",
    "price_df['price_usd_close'] = price_df['price_usd_close'].astype(str).astype('float64')\n",
    "price_df = price_df.dropna()\n",
    "\n",
    "price_df.describe\n"
   ]
  },
  {
   "cell_type": "code",
   "execution_count": 82,
   "metadata": {},
   "outputs": [
    {
     "name": "stdout",
     "output_type": "stream",
     "text": [
      "Pearsons correlation: 0.213\n"
     ]
    }
   ],
   "source": [
    "covariance = cov(netflow_df['netflow_total'],price_df['price_usd_close'])\n",
    "corr, _ = pearsonr(netflow_df['netflow_total'], price_df['price_usd_close'])\n",
    "print('Pearsons correlation: %.3f' % corr)\n",
    "#print(type(netflow_df['netflow_total']))\n",
    "\n",
    "#price_to_netflow_df = pd.concat([price_df,netflow_df['netflow_total']],ignore_index=False, axis=1, sort=False)\n",
    "#price_to_netflow_df = price_to_netflow_df.drop_duplicates()\n",
    "\n",
    "#price_to_netflow_df.head(10)"
   ]
  },
  {
   "cell_type": "code",
   "execution_count": 83,
   "metadata": {},
   "outputs": [],
   "source": [
    "#price_to_netflow_df.plot(x=\"date\", y=[\"price_usd_close\", \"netflow_total\"])\n",
    "#price_to_netflow_df.set_index('date').plot(figsize=(10,5), grid=True)"
   ]
  },
  {
   "cell_type": "code",
   "execution_count": 84,
   "metadata": {},
   "outputs": [],
   "source": [
    "#fig, ax1 = plt.subplots()\n",
    "\n",
    "#color = 'tab:red'\n",
    "#ax1.set_xlabel('Date')\n",
    "#ax1.set_ylabel('BTC Netflow', color=color)\n",
    "#ax1.plot(price_to_netflow_df['date'], price_to_netflow_df['netflow_total'], color=color)\n",
    "#ax1.tick_params(axis='y', labelcolor=color)\n",
    "\n",
    "#ax2 = ax1.twinx()  \n",
    "\n",
    "#color = 'tab:blue'\n",
    "#ax2.set_ylabel('Price USD', color=color)  \n",
    "#ax2.plot(price_to_netflow_df['date'], price_to_netflow_df['price_usd_close'], color=color)\n",
    "#ax2.tick_params(axis='y', labelcolor=color)\n",
    "\n",
    "#fig.tight_layout()  # otherwise the right y-label is slightly clipped\n",
    "\n",
    "#plt.show()"
   ]
  },
  {
   "cell_type": "code",
   "execution_count": 85,
   "metadata": {},
   "outputs": [],
   "source": [
    "def pearsons_coefficient(series1,series2):\n",
    "    \n",
    "  #Returns pearsons coefficient (int) between 2 dataframes columns.\n",
    "\n",
    "       # Parameters: \n",
    "            ## series1 (object): First series to compare\n",
    "            ## series2 (object): Second series to compare\n",
    "            ## df1_column (object): Series from df1 we wish to compare\n",
    "            ## df2_column (object): Series from df2 we wish to compare\n",
    "\n",
    "    \n",
    "\n",
    "    covariance = cov(series1,series2)\n",
    "    corr, _ = pearsonr(series1,series2)\n",
    "    print('Pearsons correlation: %.3f' % corr)\n",
    "    return corr\n",
    "\n"
   ]
  },
  {
   "cell_type": "code",
   "execution_count": 86,
   "metadata": {},
   "outputs": [
    {
     "name": "stdout",
     "output_type": "stream",
     "text": [
      "Pearsons correlation: 0.213\n"
     ]
    }
   ],
   "source": [
    "test_df = pearsons_coefficient(netflow_df['netflow_total'],price_df['price_usd_close'])"
   ]
  },
  {
   "cell_type": "code",
   "execution_count": 87,
   "metadata": {},
   "outputs": [],
   "source": [
    "def get_onchain_data(access_token,ticker,fromdate,limit):\n",
    "    '''\n",
    "    Returns on-chain data (Netflow)n in new df\n",
    "        Parameters:\n",
    "            access_token (string): API key\n",
    "            ticker (string) = Ticker for Desired Coin\n",
    "            fromdate (string) = Starting date of period desired\n",
    "            limit (int) = number of data points     \n",
    "    '''\n",
    "    #Initialize dotenv function, pull API key, build URL\n",
    "    headers = {'Authorization': 'Bearer ' + access_token}\n",
    "    URL = f'https://api.cryptoquant.com/v1/{ticker}/exchange-flows/netflow?exchange=all_exchange&window=day&from={fromdate}&limit={limit}'\n",
    "\n",
    "    # Initialize Dictionary\n",
    "    response = requests.get(URL, headers=headers)\n",
    "    \n",
    "    netflow_data = response.json()\n",
    "\n",
    "    #Transform to Dataframe and adjust data type\n",
    "    netflow_df = pd.DataFrame(data=netflow_data['result']['data'])\n",
    "    netflow_df['date'] = pd.to_datetime(netflow_df['date'])\n",
    "    netflow_df['netflow_total'] = netflow_df['netflow_total'].astype(str).astype('float64')\n",
    "    return netflow_df\n"
   ]
  },
  {
   "cell_type": "code",
   "execution_count": 89,
   "metadata": {},
   "outputs": [],
   "source": [
    "#test1_df = get_onchain_data(access_token,\"btc\",\"20190101\",\"100\")\n",
    "\n",
    "#print(test1_df)"
   ]
  },
  {
   "cell_type": "code",
   "execution_count": null,
   "metadata": {},
   "outputs": [],
   "source": []
  },
  {
   "cell_type": "code",
   "execution_count": null,
   "metadata": {},
   "outputs": [],
   "source": []
  },
  {
   "cell_type": "code",
   "execution_count": null,
   "metadata": {},
   "outputs": [],
   "source": []
  }
 ],
 "metadata": {
  "kernelspec": {
   "display_name": "Python [conda env:pyvizenv] *",
   "language": "python",
   "name": "conda-env-pyvizenv-py"
  },
  "language_info": {
   "codemirror_mode": {
    "name": "ipython",
    "version": 3
   },
   "file_extension": ".py",
   "mimetype": "text/x-python",
   "name": "python",
   "nbconvert_exporter": "python",
   "pygments_lexer": "ipython3",
   "version": "3.7.9"
  }
 },
 "nbformat": 4,
 "nbformat_minor": 4
}
