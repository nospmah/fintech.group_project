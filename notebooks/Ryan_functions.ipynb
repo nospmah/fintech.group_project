{
 "cells": [
  {
   "cell_type": "code",
   "execution_count": 64,
   "metadata": {},
   "outputs": [],
   "source": [
    "import os\n",
    "import pandas as pd\n",
    "import numpy as np\n",
    "import matplotlib.pyplot as plt\n",
    "import plotly.express as px\n",
    "import hvplot.pandas\n",
    "from pathlib import Path\n",
    "from numpy import mean\n",
    "from numpy import std\n",
    "from numpy import cov\n",
    "from scipy.stats import pearsonr\n",
    "import requests\n",
    "import urllib.request\n",
    "import json\n",
    "import pprint\n",
    "from dotenv import load_dotenv\n",
    "import plotly.graph_objects as go\n",
    "from plotly.subplots import make_subplots\n",
    "\n",
    "%matplotlib inline\n",
    "\n",
    "load_dotenv()\n",
    "access_token = os.getenv(\"CQ_API_KEY\")\n",
    "headers = { 'Authorization': 'Bearer ' + access_token }"
   ]
  },
  {
   "cell_type": "code",
   "execution_count": 65,
   "metadata": {},
   "outputs": [],
   "source": [
    "def get_netflow_data(ticker,fromdate,limit):\n",
    "    '''\n",
    "    Returns on-chain data (Netflow)n in new df\n",
    "        Parameters:\n",
    "            ticker (string) = Ticker for Desired Coin\n",
    "            fromdate (string) = Starting date of period desired\n",
    "            limit (int) = number of data points     \n",
    "    '''\n",
    "    #Initialize dotenv function, pull API key, build URL\n",
    "    headers = {'Authorization': 'Bearer ' + access_token}\n",
    "    URL = f'https://api.cryptoquant.com/v1/{ticker}/exchange-flows/netflow?exchange=all_exchange&window=day&from={fromdate}&limit={limit}'\n",
    "\n",
    "    # Initialize Dictionary\n",
    "    response = requests.get(URL, headers=headers)\n",
    "    \n",
    "    netflow_data = response.json()\n",
    "\n",
    "    #Transform to Dataframe and adjust data type\n",
    "    netflow_df = pd.DataFrame(data=netflow_data['result']['data'])\n",
    "    netflow_df['date'] = pd.to_datetime(netflow_df['date'])\n",
    "    netflow_df['netflow_total'] = netflow_df['netflow_total'].astype(str).astype('float64')\n",
    "   \n",
    "    return netflow_df\n"
   ]
  },
  {
   "cell_type": "code",
   "execution_count": 66,
   "metadata": {},
   "outputs": [
    {
     "data": {
      "text/html": [
       "<div>\n",
       "<style scoped>\n",
       "    .dataframe tbody tr th:only-of-type {\n",
       "        vertical-align: middle;\n",
       "    }\n",
       "\n",
       "    .dataframe tbody tr th {\n",
       "        vertical-align: top;\n",
       "    }\n",
       "\n",
       "    .dataframe thead th {\n",
       "        text-align: right;\n",
       "    }\n",
       "</style>\n",
       "<table border=\"1\" class=\"dataframe\">\n",
       "  <thead>\n",
       "    <tr style=\"text-align: right;\">\n",
       "      <th></th>\n",
       "      <th>date</th>\n",
       "      <th>netflow_total</th>\n",
       "    </tr>\n",
       "  </thead>\n",
       "  <tbody>\n",
       "    <tr>\n",
       "      <th>0</th>\n",
       "      <td>2021-01-29</td>\n",
       "      <td>17413.018375</td>\n",
       "    </tr>\n",
       "    <tr>\n",
       "      <th>1</th>\n",
       "      <td>2021-01-28</td>\n",
       "      <td>-6092.090538</td>\n",
       "    </tr>\n",
       "    <tr>\n",
       "      <th>2</th>\n",
       "      <td>2021-01-27</td>\n",
       "      <td>-10347.658278</td>\n",
       "    </tr>\n",
       "    <tr>\n",
       "      <th>3</th>\n",
       "      <td>2021-01-26</td>\n",
       "      <td>-2644.317802</td>\n",
       "    </tr>\n",
       "    <tr>\n",
       "      <th>4</th>\n",
       "      <td>2021-01-25</td>\n",
       "      <td>4471.674033</td>\n",
       "    </tr>\n",
       "  </tbody>\n",
       "</table>\n",
       "</div>"
      ],
      "text/plain": [
       "        date  netflow_total\n",
       "0 2021-01-29   17413.018375\n",
       "1 2021-01-28   -6092.090538\n",
       "2 2021-01-27  -10347.658278\n",
       "3 2021-01-26   -2644.317802\n",
       "4 2021-01-25    4471.674033"
      ]
     },
     "execution_count": 66,
     "metadata": {},
     "output_type": "execute_result"
    }
   ],
   "source": [
    "netflow_btc_df = get_netflow_data(\"btc\",\"20190101\",\"100\")\n",
    "netflow_btc_df.head(5)"
   ]
  },
  {
   "cell_type": "code",
   "execution_count": 67,
   "metadata": {},
   "outputs": [],
   "source": [
    "def get_price_data(ticker,fromdate,limit):\n",
    "    '''\n",
    "    Returns market data (ticker) in new df\n",
    "        Parameters:\n",
    "            ticker (string) = Ticker for Desired Coin\n",
    "            fromdate (string) = Starting date of period desired\n",
    "            limit (int) = number of data points     \n",
    "    '''\n",
    "    #Get Data & Initialize Dictionary\n",
    "    URL2 = f'https://api.cryptoquant.com/v1/{ticker}/market-data/price-usd?window=day&from={fromdate}&limit={limit}'\n",
    "    response2 = requests.get(URL2, headers=headers)\n",
    "    price_data = response2.json()\n",
    "    \n",
    "    #Transform to Dataframe and adjust data type\n",
    "    price_df = pd.DataFrame(data=price_data['result']['data'])\n",
    "    price_df = price_df.drop(['price_usd_high','price_usd_low','price_usd_open'], axis = 1)\n",
    "    price_df['date'] = pd.to_datetime(price_df['date'])\n",
    "    price_df['price_usd_close'] = price_df['price_usd_close'].astype(str).astype('float64')\n",
    "    price_df = price_df.dropna()\n",
    "\n",
    "    return price_df"
   ]
  },
  {
   "cell_type": "code",
   "execution_count": 68,
   "metadata": {},
   "outputs": [
    {
     "data": {
      "text/html": [
       "<div>\n",
       "<style scoped>\n",
       "    .dataframe tbody tr th:only-of-type {\n",
       "        vertical-align: middle;\n",
       "    }\n",
       "\n",
       "    .dataframe tbody tr th {\n",
       "        vertical-align: top;\n",
       "    }\n",
       "\n",
       "    .dataframe thead th {\n",
       "        text-align: right;\n",
       "    }\n",
       "</style>\n",
       "<table border=\"1\" class=\"dataframe\">\n",
       "  <thead>\n",
       "    <tr style=\"text-align: right;\">\n",
       "      <th></th>\n",
       "      <th>date</th>\n",
       "      <th>price_usd_close</th>\n",
       "    </tr>\n",
       "  </thead>\n",
       "  <tbody>\n",
       "    <tr>\n",
       "      <th>0</th>\n",
       "      <td>2021-01-29</td>\n",
       "      <td>34244.506667</td>\n",
       "    </tr>\n",
       "    <tr>\n",
       "      <th>1</th>\n",
       "      <td>2021-01-28</td>\n",
       "      <td>33383.746667</td>\n",
       "    </tr>\n",
       "    <tr>\n",
       "      <th>2</th>\n",
       "      <td>2021-01-27</td>\n",
       "      <td>30385.111667</td>\n",
       "    </tr>\n",
       "    <tr>\n",
       "      <th>3</th>\n",
       "      <td>2021-01-26</td>\n",
       "      <td>32489.385000</td>\n",
       "    </tr>\n",
       "    <tr>\n",
       "      <th>4</th>\n",
       "      <td>2021-01-25</td>\n",
       "      <td>32254.145000</td>\n",
       "    </tr>\n",
       "  </tbody>\n",
       "</table>\n",
       "</div>"
      ],
      "text/plain": [
       "        date  price_usd_close\n",
       "0 2021-01-29     34244.506667\n",
       "1 2021-01-28     33383.746667\n",
       "2 2021-01-27     30385.111667\n",
       "3 2021-01-26     32489.385000\n",
       "4 2021-01-25     32254.145000"
      ]
     },
     "execution_count": 68,
     "metadata": {},
     "output_type": "execute_result"
    }
   ],
   "source": [
    "price_btc_df = get_price_data(\"btc\",\"20190101\",\"100\")\n",
    "price_btc_df.head(5)"
   ]
  },
  {
   "cell_type": "code",
   "execution_count": 69,
   "metadata": {},
   "outputs": [],
   "source": [
    "def get_mvrv_data(ticker,fromdate,limit):\n",
    "    '''\n",
    "    Returns marketcap data in new df\n",
    "        Parameters:\n",
    "            ticker (string) = Ticker for Desired Coin\n",
    "            fromdate (string) = Starting date of period desired\n",
    "            limit (int) = number of data points     \n",
    "    '''\n",
    "    #Get Data & Initialize Dictionary\n",
    "    URL3 = f'https://api.cryptoquant.com/v1/{ticker}/market-data/capitalization?window=day&from={fromdate}&limit={limit}'\n",
    "    response3 = requests.get(URL3, headers=headers)\n",
    "    mvrv_data = response3.json()\n",
    "\n",
    "    #Transform to Dataframe and adjust data type\n",
    "    mvrv_data = pd.DataFrame(data=mvrv_data['result']['data'])\n",
    "    mvrv_data['mvrv_score'] = (mvrv_data['market_cap']/mvrv_data['realized_cap'])\n",
    "    mvrv_data['date'] = pd.to_datetime(mvrv_data['date'])\n",
    "    mvrv_data = mvrv_data.sort_values(by=['date'],ascending=False)\n",
    "    mvrv_data = mvrv_data.drop(['average_cap', 'delta_cap', 'market_cap','realized_cap','thermo_cap'], axis = 1)\n",
    "\n",
    "    return mvrv_data"
   ]
  },
  {
   "cell_type": "code",
   "execution_count": 70,
   "metadata": {},
   "outputs": [
    {
     "data": {
      "text/html": [
       "<div>\n",
       "<style scoped>\n",
       "    .dataframe tbody tr th:only-of-type {\n",
       "        vertical-align: middle;\n",
       "    }\n",
       "\n",
       "    .dataframe tbody tr th {\n",
       "        vertical-align: top;\n",
       "    }\n",
       "\n",
       "    .dataframe thead th {\n",
       "        text-align: right;\n",
       "    }\n",
       "</style>\n",
       "<table border=\"1\" class=\"dataframe\">\n",
       "  <thead>\n",
       "    <tr style=\"text-align: right;\">\n",
       "      <th></th>\n",
       "      <th>date</th>\n",
       "      <th>mvrv_score</th>\n",
       "    </tr>\n",
       "  </thead>\n",
       "  <tbody>\n",
       "    <tr>\n",
       "      <th>0</th>\n",
       "      <td>2021-01-29</td>\n",
       "      <td>2.635438</td>\n",
       "    </tr>\n",
       "    <tr>\n",
       "      <th>1</th>\n",
       "      <td>2021-01-28</td>\n",
       "      <td>2.591286</td>\n",
       "    </tr>\n",
       "    <tr>\n",
       "      <th>2</th>\n",
       "      <td>2021-01-27</td>\n",
       "      <td>2.367614</td>\n",
       "    </tr>\n",
       "    <tr>\n",
       "      <th>3</th>\n",
       "      <td>2021-01-26</td>\n",
       "      <td>2.544537</td>\n",
       "    </tr>\n",
       "    <tr>\n",
       "      <th>4</th>\n",
       "      <td>2021-01-25</td>\n",
       "      <td>2.527854</td>\n",
       "    </tr>\n",
       "  </tbody>\n",
       "</table>\n",
       "</div>"
      ],
      "text/plain": [
       "        date  mvrv_score\n",
       "0 2021-01-29    2.635438\n",
       "1 2021-01-28    2.591286\n",
       "2 2021-01-27    2.367614\n",
       "3 2021-01-26    2.544537\n",
       "4 2021-01-25    2.527854"
      ]
     },
     "execution_count": 70,
     "metadata": {},
     "output_type": "execute_result"
    }
   ],
   "source": [
    "mvrv_btc_df = get_mvrv_data(\"btc\",\"20190101\",\"100\")\n",
    "mvrv_btc_df.head(5)"
   ]
  },
  {
   "cell_type": "code",
   "execution_count": 71,
   "metadata": {},
   "outputs": [],
   "source": [
    "def get_pearsons_coefficient(series1,series2):\n",
    "    ''' \n",
    "    Returns pearsons coefficient (int) between 2 dataframes columns.\n",
    "    Parameters: \n",
    "        series1 (object): First series to compare\n",
    "        series2 (object): Second series to compare\n",
    "    '''\n",
    "    #formula to calculate covariance\n",
    "    covariance = cov(series1,series2)\n",
    "    corr, _ = pearsonr(series1,series2)\n",
    "    \n",
    "    return corr"
   ]
  },
  {
   "cell_type": "code",
   "execution_count": 72,
   "metadata": {},
   "outputs": [],
   "source": [
    "def get_plots(input_df):\n",
    "    '''\n",
    "    Returns plot of inputed data frame\n",
    "        Parameters:\n",
    "        input_df: consumes the output of df builder functions above\n",
    "    '''\n",
    "    \n",
    "    data_plot= input_df.hvplot(x='date',figsize=(100,100), rot=90)\n",
    "    return data_plot"
   ]
  },
  {
   "cell_type": "code",
   "execution_count": 73,
   "metadata": {},
   "outputs": [
    {
     "data": {},
     "metadata": {},
     "output_type": "display_data"
    },
    {
     "data": {
      "application/vnd.holoviews_exec.v0+json": "",
      "text/html": [
       "<div id='3080'>\n",
       "\n",
       "\n",
       "\n",
       "\n",
       "\n",
       "  <div class=\"bk-root\" id=\"dc43db08-59fb-4cfe-905e-c0034b61c826\" data-root-id=\"3080\"></div>\n",
       "</div>\n",
       "<script type=\"application/javascript\">(function(root) {\n",
       "  function embed_document(root) {\n",
       "    var docs_json = {\"ac3e82e4-9bc7-40ec-ac92-7a81692016f5\":{\"roots\":{\"references\":[{\"attributes\":{\"data_source\":{\"id\":\"3115\"},\"glyph\":{\"id\":\"3118\"},\"hover_glyph\":null,\"muted_glyph\":{\"id\":\"3120\"},\"nonselection_glyph\":{\"id\":\"3119\"},\"selection_glyph\":null,\"view\":{\"id\":\"3122\"}},\"id\":\"3121\",\"type\":\"GlyphRenderer\"},{\"attributes\":{\"below\":[{\"id\":\"3094\"}],\"center\":[{\"id\":\"3097\"},{\"id\":\"3101\"}],\"left\":[{\"id\":\"3098\"}],\"margin\":[5,5,5,5],\"min_border_bottom\":10,\"min_border_left\":10,\"min_border_right\":10,\"min_border_top\":10,\"plot_height\":300,\"plot_width\":700,\"renderers\":[{\"id\":\"3121\"}],\"sizing_mode\":\"fixed\",\"title\":{\"id\":\"3086\"},\"toolbar\":{\"id\":\"3108\"},\"x_range\":{\"id\":\"3082\"},\"x_scale\":{\"id\":\"3090\"},\"y_range\":{\"id\":\"3083\"},\"y_scale\":{\"id\":\"3092\"}},\"id\":\"3085\",\"subtype\":\"Figure\",\"type\":\"Plot\"},{\"attributes\":{\"data\":{\"date\":{\"__ndarray__\":\"AADArtlUd0IAAIAULFV3QgAAQHp+VXdCAAAA4NBVd0IAAMBFI1Z3QgAAgKt1VndCAABAEchWd0IAAAB3Gld3QgAAwNxsV3dCAACAQr9Xd0IAAECoEVh3QgAAAA5kWHdCAADAc7ZYd0IAAIDZCFl3QgAAQD9bWXdCAAAApa1Zd0IAAMAKAFp3QgAAgHBSWndCAABA1qRad0IAAAA891p3QgAAwKFJW3dCAACAB5xbd0IAAEBt7lt3QgAAANNAXHdCAADAOJNcd0IAAICe5Vx3QgAAQAQ4XXdCAAAAaopdd0IAAMDP3F13QgAAgDUvXndCAABAm4Fed0IAAAAB1F53QgAAwGYmX3dCAACAzHhfd0IAAEAyy193QgAAAJgdYHdCAADA/W9gd0IAAIBjwmB3QgAAQMkUYXdCAAAAL2dhd0IAAMCUuWF3QgAAgPoLYndCAABAYF5id0IAAADGsGJ3QgAAwCsDY3dCAACAkVVjd0IAAED3p2N3QgAAAF36Y3dCAADAwkxkd0IAAIAon2R3QgAAQI7xZHdCAAAA9ENld0IAAMBZlmV3QgAAgL/oZXdCAABAJTtmd0IAAACLjWZ3QgAAwPDfZndCAACAVjJnd0IAAEC8hGd3QgAAACLXZ3dCAADAhylod0IAAIDte2h3QgAAQFPOaHdCAAAAuSBpd0IAAMAec2l3QgAAgITFaXdCAABA6hdqd0IAAABQamp3QgAAwLW8andCAACAGw9rd0IAAECBYWt3QgAAAOeza3dCAADATAZsd0IAAICyWGx3QgAAQBirbHdCAAAAfv1sd0IAAMDjT213QgAAgEmibXdCAABAr/Rtd0IAAAAVR253QgAAwHqZbndCAACA4Otud0IAAEBGPm93QgAAAKyQb3dCAADAEeNvd0IAAIB3NXB3QgAAQN2HcHdCAAAAQ9pwd0IAAMCoLHF3QgAAgA5/cXdCAABAdNFxd0IAAADaI3J3QgAAwD92cndCAACApchyd0IAAEALG3N3QgAAAHFtc3dCAADA1r9zd0IAAIA8EnR3QgAAQKJkdHdCAAAACLd0d0I=\",\"dtype\":\"float64\",\"order\":\"little\",\"shape\":[100]},\"mvrv_score\":{\"__ndarray__\":\"AAFHRBqJ+z+BIWrg4lj7P2o725Pkq/s/obwa8Op6+z+Uxpfsa3/7PyCa+EdQpvw/YzmEgBHW+z+EP1eH8Cj8P2Xv5RIeWfw/1UZgEu2s/D8yAPVf+Kv8P6LrAzg2Kfw/9Aujl5LN/D9MdLQ21vv8P2Elem/Iu/8/fj8LuXGL/z90ABZ3P/X9PzxmhkGrN/8/E6AESXHU/j+Tf31Cv7n+P9vcEoT2Vv8/0iAu/Dw4AEBdFbTWfDIAQGHDVf4d2v8/ma1WBUCM/z8PFRoqwH4AQHyY7CbgTwFArplGeD9GAUDfAfIe+k0BQAgdDkZv7gFA/pSshMTtAUAwmC6FF6wBQAUejhRBiQFA0/IV/8woAkCoqQH8MbkBQPIoMVRYRgBAg3ddwRciAEBi7y080poAQO5A0ftxEAFAX0/eIa9eAkCweKKdJ24BQLBvoifXwwFApu5toT7mAUDdI2GThiMBQDngGOBbkwFA3qvP3n3DAUDm5a7XaYoBQP01LzmGtABAoUOMHOHjAECXH/7vOZIAQDvQTstFWgBAxnxBtp4DAUBA7ihDUDcBQAEgIN5TRgFAqSvuMOdcAUD0/y1F9e8CQAvqH0K28QNAzAUuph3tA0Do4p9D3HIEQGLlRD9KBwRAJE/XrY5RA0DSQ24wWw4EQPTzc0bNYgNA/ekPl22nA0COoQ7rEGkEQGzNEyERwgVA3F6s/d5bBUB4nvglMo8FQDPpVPgNhwVASOI6iVt+BkBow+2PgGAGQHS2G9J9egZA3jU7iPBGCECVWPicz4QIQHTJEACCcgdAvyVpFTqSCEARm7kqRDMKQAVm5LbwWgtAqHEe5sN+C0DtUN2Y18IKQGns25BPPwlAjwswMx5TB0CydYIcuEQGQG90wJH6VQhAVyCmvc08CUBXBZJ2IpIHQJo1ZOH9/wZA71rHF1/YBkAwq9f9wT0HQLMyQmIuqgZA/O0BJ2xeBkCCCszv9m8DQEsFEThSwgRAJ7w0SCctBEDlY7tbbUcEQG8+ccILOQRA8XIwXDZbBEBsboe83/ACQAtkwOfzugRAgePJjGAVBUA=\",\"dtype\":\"float64\",\"order\":\"little\",\"shape\":[100]}},\"selected\":{\"id\":\"3116\"},\"selection_policy\":{\"id\":\"3133\"}},\"id\":\"3115\",\"type\":\"ColumnDataSource\"},{\"attributes\":{\"months\":[0,1,2,3,4,5,6,7,8,9,10,11]},\"id\":\"3142\",\"type\":\"MonthsTicker\"},{\"attributes\":{\"end\":3.609666719362775,\"reset_end\":3.609666719362775,\"reset_start\":1.5364311070451393,\"start\":1.5364311070451393,\"tags\":[[[\"mvrv_score\",\"mvrv_score\",null]]]},\"id\":\"3083\",\"type\":\"Range1d\"},{\"attributes\":{\"line_alpha\":0.1,\"line_color\":\"#1f77b3\",\"line_width\":2,\"x\":{\"field\":\"date\"},\"y\":{\"field\":\"mvrv_score\"}},\"id\":\"3119\",\"type\":\"Line\"},{\"attributes\":{\"days\":[1,8,15,22]},\"id\":\"3140\",\"type\":\"DaysTicker\"},{\"attributes\":{\"margin\":[5,5,5,5],\"name\":\"HSpacer03508\",\"sizing_mode\":\"stretch_width\"},\"id\":\"3167\",\"type\":\"Spacer\"},{\"attributes\":{\"axis_label\":\"date\",\"bounds\":\"auto\",\"formatter\":{\"id\":\"3124\"},\"major_label_orientation\":1.5707963267948966,\"ticker\":{\"id\":\"3095\"}},\"id\":\"3094\",\"type\":\"DatetimeAxis\"},{\"attributes\":{\"num_minor_ticks\":5,\"tickers\":[{\"id\":\"3135\"},{\"id\":\"3136\"},{\"id\":\"3137\"},{\"id\":\"3138\"},{\"id\":\"3139\"},{\"id\":\"3140\"},{\"id\":\"3141\"},{\"id\":\"3142\"},{\"id\":\"3143\"},{\"id\":\"3144\"},{\"id\":\"3145\"},{\"id\":\"3146\"}]},\"id\":\"3095\",\"type\":\"DatetimeTicker\"},{\"attributes\":{\"callback\":null,\"formatters\":{\"@{date}\":\"datetime\"},\"renderers\":[{\"id\":\"3121\"}],\"tags\":[\"hv_created\"],\"tooltips\":[[\"date\",\"@{date}{%F %T}\"],[\"mvrv_score\",\"@{mvrv_score}\"]]},\"id\":\"3084\",\"type\":\"HoverTool\"},{\"attributes\":{},\"id\":\"3102\",\"type\":\"SaveTool\"},{\"attributes\":{\"line_alpha\":0.2,\"line_color\":\"#1f77b3\",\"line_width\":2,\"x\":{\"field\":\"date\"},\"y\":{\"field\":\"mvrv_score\"}},\"id\":\"3120\",\"type\":\"Line\"},{\"attributes\":{\"months\":[0,2,4,6,8,10]},\"id\":\"3143\",\"type\":\"MonthsTicker\"},{\"attributes\":{\"children\":[{\"id\":\"3081\"},{\"id\":\"3085\"},{\"id\":\"3167\"}],\"margin\":[0,0,0,0],\"name\":\"Row03503\",\"tags\":[\"embedded\"]},\"id\":\"3080\",\"type\":\"Row\"},{\"attributes\":{\"margin\":[5,5,5,5],\"name\":\"HSpacer03507\",\"sizing_mode\":\"stretch_width\"},\"id\":\"3081\",\"type\":\"Spacer\"},{\"attributes\":{\"base\":60,\"mantissas\":[1,2,5,10,15,20,30],\"max_interval\":1800000.0,\"min_interval\":1000.0,\"num_minor_ticks\":0},\"id\":\"3136\",\"type\":\"AdaptiveTicker\"},{\"attributes\":{\"line_color\":\"#1f77b3\",\"line_width\":2,\"x\":{\"field\":\"date\"},\"y\":{\"field\":\"mvrv_score\"}},\"id\":\"3118\",\"type\":\"Line\"},{\"attributes\":{},\"id\":\"3099\",\"type\":\"BasicTicker\"},{\"attributes\":{\"mantissas\":[1,2,5],\"max_interval\":500.0,\"num_minor_ticks\":0},\"id\":\"3135\",\"type\":\"AdaptiveTicker\"},{\"attributes\":{},\"id\":\"3126\",\"type\":\"BasicTickFormatter\"},{\"attributes\":{\"days\":[1,15]},\"id\":\"3141\",\"type\":\"DaysTicker\"},{\"attributes\":{\"axis_label\":\"mvrv_score\",\"bounds\":\"auto\",\"formatter\":{\"id\":\"3126\"},\"major_label_orientation\":\"horizontal\",\"ticker\":{\"id\":\"3099\"}},\"id\":\"3098\",\"type\":\"LinearAxis\"},{\"attributes\":{\"days\":[1,2,3,4,5,6,7,8,9,10,11,12,13,14,15,16,17,18,19,20,21,22,23,24,25,26,27,28,29,30,31]},\"id\":\"3138\",\"type\":\"DaysTicker\"},{\"attributes\":{},\"id\":\"3092\",\"type\":\"LinearScale\"},{\"attributes\":{\"source\":{\"id\":\"3115\"}},\"id\":\"3122\",\"type\":\"CDSView\"},{\"attributes\":{},\"id\":\"3133\",\"type\":\"UnionRenderers\"},{\"attributes\":{\"base\":24,\"mantissas\":[1,2,4,6,8,12],\"max_interval\":43200000.0,\"min_interval\":3600000.0,\"num_minor_ticks\":0},\"id\":\"3137\",\"type\":\"AdaptiveTicker\"},{\"attributes\":{\"days\":[1,4,7,10,13,16,19,22,25,28]},\"id\":\"3139\",\"type\":\"DaysTicker\"},{\"attributes\":{},\"id\":\"3090\",\"type\":\"LinearScale\"},{\"attributes\":{},\"id\":\"3103\",\"type\":\"PanTool\"},{\"attributes\":{\"overlay\":{\"id\":\"3107\"}},\"id\":\"3105\",\"type\":\"BoxZoomTool\"},{\"attributes\":{},\"id\":\"3124\",\"type\":\"DatetimeTickFormatter\"},{\"attributes\":{},\"id\":\"3104\",\"type\":\"WheelZoomTool\"},{\"attributes\":{\"bottom_units\":\"screen\",\"fill_alpha\":0.5,\"fill_color\":\"lightgrey\",\"left_units\":\"screen\",\"level\":\"overlay\",\"line_alpha\":1.0,\"line_color\":\"black\",\"line_dash\":[4,4],\"line_width\":2,\"right_units\":\"screen\",\"top_units\":\"screen\"},\"id\":\"3107\",\"type\":\"BoxAnnotation\"},{\"attributes\":{\"months\":[0,6]},\"id\":\"3145\",\"type\":\"MonthsTicker\"},{\"attributes\":{\"text\":\"\",\"text_color\":{\"value\":\"black\"},\"text_font_size\":{\"value\":\"12pt\"}},\"id\":\"3086\",\"type\":\"Title\"},{\"attributes\":{\"active_drag\":\"auto\",\"active_inspect\":\"auto\",\"active_multi\":null,\"active_scroll\":\"auto\",\"active_tap\":\"auto\",\"tools\":[{\"id\":\"3084\"},{\"id\":\"3102\"},{\"id\":\"3103\"},{\"id\":\"3104\"},{\"id\":\"3105\"},{\"id\":\"3106\"}]},\"id\":\"3108\",\"type\":\"Toolbar\"},{\"attributes\":{},\"id\":\"3106\",\"type\":\"ResetTool\"},{\"attributes\":{\"months\":[0,4,8]},\"id\":\"3144\",\"type\":\"MonthsTicker\"},{\"attributes\":{},\"id\":\"3116\",\"type\":\"Selection\"},{\"attributes\":{\"end\":1611878400000.0,\"reset_end\":1611878400000.0,\"reset_start\":1603324800000.0,\"start\":1603324800000.0,\"tags\":[[[\"date\",\"date\",null]]]},\"id\":\"3082\",\"type\":\"Range1d\"},{\"attributes\":{},\"id\":\"3146\",\"type\":\"YearsTicker\"},{\"attributes\":{\"axis\":{\"id\":\"3094\"},\"grid_line_color\":null,\"ticker\":null},\"id\":\"3097\",\"type\":\"Grid\"},{\"attributes\":{\"axis\":{\"id\":\"3098\"},\"dimension\":1,\"grid_line_color\":null,\"ticker\":null},\"id\":\"3101\",\"type\":\"Grid\"}],\"root_ids\":[\"3080\"]},\"title\":\"Bokeh Application\",\"version\":\"2.2.3\"}};\n",
       "    var render_items = [{\"docid\":\"ac3e82e4-9bc7-40ec-ac92-7a81692016f5\",\"root_ids\":[\"3080\"],\"roots\":{\"3080\":\"dc43db08-59fb-4cfe-905e-c0034b61c826\"}}];\n",
       "    root.Bokeh.embed.embed_items_notebook(docs_json, render_items);\n",
       "  }\n",
       "  if (root.Bokeh !== undefined && root.Bokeh.Panel !== undefined) {\n",
       "    embed_document(root);\n",
       "  } else {\n",
       "    var attempts = 0;\n",
       "    var timer = setInterval(function(root) {\n",
       "      if (root.Bokeh !== undefined && root.Bokeh.Panel !== undefined) {\n",
       "        clearInterval(timer);\n",
       "        embed_document(root);\n",
       "      } else if (document.readyState == \"complete\") {\n",
       "        attempts++;\n",
       "        if (attempts > 100) {\n",
       "          clearInterval(timer);\n",
       "          console.log(\"Bokeh: ERROR: Unable to run BokehJS code because BokehJS library is missing\");\n",
       "        }\n",
       "      }\n",
       "    }, 10, root)\n",
       "  }\n",
       "})(window);</script>"
      ],
      "text/plain": [
       ":Curve   [date]   (mvrv_score)"
      ]
     },
     "execution_count": 73,
     "metadata": {
      "application/vnd.holoviews_exec.v0+json": {
       "id": "3080"
      }
     },
     "output_type": "execute_result"
    }
   ],
   "source": [
    "mvrv_plot = get_plots(mvrv_btc_df)\n",
    "mvrv_plot"
   ]
  },
  {
   "cell_type": "code",
   "execution_count": 74,
   "metadata": {},
   "outputs": [
    {
     "data": {},
     "metadata": {},
     "output_type": "display_data"
    },
    {
     "data": {
      "application/vnd.holoviews_exec.v0+json": "",
      "text/html": [
       "<div id='3269'>\n",
       "\n",
       "\n",
       "\n",
       "\n",
       "\n",
       "  <div class=\"bk-root\" id=\"7edba949-14e6-49a0-99cc-8fd50deb4acf\" data-root-id=\"3269\"></div>\n",
       "</div>\n",
       "<script type=\"application/javascript\">(function(root) {\n",
       "  function embed_document(root) {\n",
       "    var docs_json = {\"19c467f9-c646-4869-875f-a54736ce8082\":{\"roots\":{\"references\":[{\"attributes\":{\"line_alpha\":0.1,\"line_color\":\"#1f77b3\",\"line_width\":2,\"x\":{\"field\":\"date\"},\"y\":{\"field\":\"netflow_total\"}},\"id\":\"3308\",\"type\":\"Line\"},{\"attributes\":{\"bottom_units\":\"screen\",\"fill_alpha\":0.5,\"fill_color\":\"lightgrey\",\"left_units\":\"screen\",\"level\":\"overlay\",\"line_alpha\":1.0,\"line_color\":\"black\",\"line_dash\":[4,4],\"line_width\":2,\"right_units\":\"screen\",\"top_units\":\"screen\"},\"id\":\"3296\",\"type\":\"BoxAnnotation\"},{\"attributes\":{\"months\":[0,2,4,6,8,10]},\"id\":\"3332\",\"type\":\"MonthsTicker\"},{\"attributes\":{\"callback\":null,\"formatters\":{\"@{date}\":\"datetime\"},\"renderers\":[{\"id\":\"3310\"}],\"tags\":[\"hv_created\"],\"tooltips\":[[\"date\",\"@{date}{%F %T}\"],[\"netflow_total\",\"@{netflow_total}\"]]},\"id\":\"3273\",\"type\":\"HoverTool\"},{\"attributes\":{\"active_drag\":\"auto\",\"active_inspect\":\"auto\",\"active_multi\":null,\"active_scroll\":\"auto\",\"active_tap\":\"auto\",\"tools\":[{\"id\":\"3273\"},{\"id\":\"3291\"},{\"id\":\"3292\"},{\"id\":\"3293\"},{\"id\":\"3294\"},{\"id\":\"3295\"}]},\"id\":\"3297\",\"type\":\"Toolbar\"},{\"attributes\":{},\"id\":\"3305\",\"type\":\"Selection\"},{\"attributes\":{\"data_source\":{\"id\":\"3304\"},\"glyph\":{\"id\":\"3307\"},\"hover_glyph\":null,\"muted_glyph\":{\"id\":\"3309\"},\"nonselection_glyph\":{\"id\":\"3308\"},\"selection_glyph\":null,\"view\":{\"id\":\"3311\"}},\"id\":\"3310\",\"type\":\"GlyphRenderer\"},{\"attributes\":{\"end\":43568.936310376004,\"reset_end\":43568.936310376004,\"reset_start\":-43613.969408576006,\"start\":-43613.969408576006,\"tags\":[[[\"netflow_total\",\"netflow_total\",null]]]},\"id\":\"3272\",\"type\":\"Range1d\"},{\"attributes\":{\"source\":{\"id\":\"3304\"}},\"id\":\"3311\",\"type\":\"CDSView\"},{\"attributes\":{},\"id\":\"3315\",\"type\":\"BasicTickFormatter\"},{\"attributes\":{\"months\":[0,6]},\"id\":\"3334\",\"type\":\"MonthsTicker\"},{\"attributes\":{},\"id\":\"3291\",\"type\":\"SaveTool\"},{\"attributes\":{},\"id\":\"3288\",\"type\":\"BasicTicker\"},{\"attributes\":{},\"id\":\"3335\",\"type\":\"YearsTicker\"},{\"attributes\":{},\"id\":\"3292\",\"type\":\"PanTool\"},{\"attributes\":{},\"id\":\"3313\",\"type\":\"DatetimeTickFormatter\"},{\"attributes\":{\"num_minor_ticks\":5,\"tickers\":[{\"id\":\"3324\"},{\"id\":\"3325\"},{\"id\":\"3326\"},{\"id\":\"3327\"},{\"id\":\"3328\"},{\"id\":\"3329\"},{\"id\":\"3330\"},{\"id\":\"3331\"},{\"id\":\"3332\"},{\"id\":\"3333\"},{\"id\":\"3334\"},{\"id\":\"3335\"}]},\"id\":\"3284\",\"type\":\"DatetimeTicker\"},{\"attributes\":{\"base\":24,\"mantissas\":[1,2,4,6,8,12],\"max_interval\":43200000.0,\"min_interval\":3600000.0,\"num_minor_ticks\":0},\"id\":\"3326\",\"type\":\"AdaptiveTicker\"},{\"attributes\":{},\"id\":\"3293\",\"type\":\"WheelZoomTool\"},{\"attributes\":{\"line_color\":\"#1f77b3\",\"line_width\":2,\"x\":{\"field\":\"date\"},\"y\":{\"field\":\"netflow_total\"}},\"id\":\"3307\",\"type\":\"Line\"},{\"attributes\":{},\"id\":\"3322\",\"type\":\"UnionRenderers\"},{\"attributes\":{\"base\":60,\"mantissas\":[1,2,5,10,15,20,30],\"max_interval\":1800000.0,\"min_interval\":1000.0,\"num_minor_ticks\":0},\"id\":\"3325\",\"type\":\"AdaptiveTicker\"},{\"attributes\":{\"overlay\":{\"id\":\"3296\"}},\"id\":\"3294\",\"type\":\"BoxZoomTool\"},{\"attributes\":{\"days\":[1,8,15,22]},\"id\":\"3329\",\"type\":\"DaysTicker\"},{\"attributes\":{\"below\":[{\"id\":\"3283\"}],\"center\":[{\"id\":\"3286\"},{\"id\":\"3290\"}],\"left\":[{\"id\":\"3287\"}],\"margin\":[5,5,5,5],\"min_border_bottom\":10,\"min_border_left\":10,\"min_border_right\":10,\"min_border_top\":10,\"plot_height\":300,\"plot_width\":700,\"renderers\":[{\"id\":\"3310\"}],\"sizing_mode\":\"fixed\",\"title\":{\"id\":\"3275\"},\"toolbar\":{\"id\":\"3297\"},\"x_range\":{\"id\":\"3271\"},\"x_scale\":{\"id\":\"3279\"},\"y_range\":{\"id\":\"3272\"},\"y_scale\":{\"id\":\"3281\"}},\"id\":\"3274\",\"subtype\":\"Figure\",\"type\":\"Plot\"},{\"attributes\":{\"mantissas\":[1,2,5],\"max_interval\":500.0,\"num_minor_ticks\":0},\"id\":\"3324\",\"type\":\"AdaptiveTicker\"},{\"attributes\":{\"days\":[1,2,3,4,5,6,7,8,9,10,11,12,13,14,15,16,17,18,19,20,21,22,23,24,25,26,27,28,29,30,31]},\"id\":\"3327\",\"type\":\"DaysTicker\"},{\"attributes\":{},\"id\":\"3295\",\"type\":\"ResetTool\"},{\"attributes\":{\"data\":{\"date\":{\"__ndarray__\":\"AADArtlUd0IAAIAULFV3QgAAQHp+VXdCAAAA4NBVd0IAAMBFI1Z3QgAAgKt1VndCAABAEchWd0IAAAB3Gld3QgAAwNxsV3dCAACAQr9Xd0IAAECoEVh3QgAAAA5kWHdCAADAc7ZYd0IAAIDZCFl3QgAAQD9bWXdCAAAApa1Zd0IAAMAKAFp3QgAAgHBSWndCAABA1qRad0IAAAA891p3QgAAwKFJW3dCAACAB5xbd0IAAEBt7lt3QgAAANNAXHdCAADAOJNcd0IAAICe5Vx3QgAAQAQ4XXdCAAAAaopdd0IAAMDP3F13QgAAgDUvXndCAABAm4Fed0IAAAAB1F53QgAAwGYmX3dCAACAzHhfd0IAAEAyy193QgAAAJgdYHdCAADA/W9gd0IAAIBjwmB3QgAAQMkUYXdCAAAAL2dhd0IAAMCUuWF3QgAAgPoLYndCAABAYF5id0IAAADGsGJ3QgAAwCsDY3dCAACAkVVjd0IAAED3p2N3QgAAAF36Y3dCAADAwkxkd0IAAIAon2R3QgAAQI7xZHdCAAAA9ENld0IAAMBZlmV3QgAAgL/oZXdCAABAJTtmd0IAAACLjWZ3QgAAwPDfZndCAACAVjJnd0IAAEC8hGd3QgAAACLXZ3dCAADAhylod0IAAIDte2h3QgAAQFPOaHdCAAAAuSBpd0IAAMAec2l3QgAAgITFaXdCAABA6hdqd0IAAABQamp3QgAAwLW8andCAACAGw9rd0IAAECBYWt3QgAAAOeza3dCAADATAZsd0IAAICyWGx3QgAAQBirbHdCAAAAfv1sd0IAAMDjT213QgAAgEmibXdCAABAr/Rtd0IAAAAVR253QgAAwHqZbndCAACA4Otud0IAAEBGPm93QgAAAKyQb3dCAADAEeNvd0IAAIB3NXB3QgAAQN2HcHdCAAAAQ9pwd0IAAMCoLHF3QgAAgA5/cXdCAABAdNFxd0IAAADaI3J3QgAAwD92cndCAACApchyd0IAAEALG3N3QgAAAHFtc3dCAADA1r9zd0IAAIA8EnR3QgAAQKJkdHdCAAAACLd0d0I=\",\"dtype\":\"float64\",\"order\":\"little\",\"shape\":[100]},\"netflow_total\":{\"__ndarray__\":\"3+v3BotJlMCqpCXBeayrwLLfbqTXVLTAAqFQqgQonMCQPlpaAlDAwCETnSPD0sDAwtBVgHCVhkDHcr8BBQmiwLj+ZRDXzb7AhmNtvkVTtkDEGKJU7NJswIYxM73sntzAgYvbiZ6rzcD9Hu1mfAzIwHhI7yN18bhAEGCq/F1GtECxXAQAuMegQLkqWPyTW6HATawAnQEEdkCLMp+chRPIwM4vECW+8pHAKUaOW97susDzuvIX4jKAwFHKWvnyWcBAREXFzekGs8BVziinUvC+wCtJhU6lar9A1HXRJXY6ZcC6+Hh0pap+QD3O2adgGJpApl3xefYbwUC/dlnhLL+YwEHuhXZM7ofAq2AzRA3Os8AkOQ0PSwi/QAWCYwOPFNFA/mgw9KHurUB/NWLBRGahwE2YF/2gIbPABNL2ljH9q0DXRkRK5T7HQNNzA+zMbb3AmUM5bmS0icDjflVoKlPNwJtVfp0+YqtATDUWweE9m8AHLzS2i0h1QC0vrxIT1LLAOIhSUinQt8Cv/ENEVgfewMCOxVfkMrBAKvydNva54UBCTYCja2K9QD6LEOQbAbdAUVFQ5S+et8D9d9Bu1rbSwHoIuij5WMVA9WjLNdypU8CXNqDOBES3QLoI3z07IrXAvri3z3hhhsAHcKMWO9rSwF3GLP/SepzAj2zwtlmEgkBi+EZ8FQ/EQB22JVk8S6tAQho+NxL8ykCepZZzWlV3wPNi1V6H6MrAvlb46UXWs0AqhrN038bCwGguJuzx+83A/PDBRZe/4cCFFNHp0ObDQIiLN410S51A4wkQR0NJqkBetTpSD3i4wMJ5oxyx+KzA/N6mPyuHlMDzNvyPu1i8wGnDYenFCMFAOjNNGgpWvUAbGHHoFCWjwFkCY1x1epHA36qpNPPCscAf40D+HoWrQCXyduc9S3rAz49UGZVVscA4YSWTomXBQDHmU2zFk6zAjV0ms3hBvEB6CHgMrIOjwAwSLia5ZrZAIISZGdoefUCU67fAq6uYQAndZ42sd7FASlT7tqKopMCC3XZC1DXEwCSagi0XzLfAyJ0MLUEB0UA=\",\"dtype\":\"float64\",\"order\":\"little\",\"shape\":[100]}},\"selected\":{\"id\":\"3305\"},\"selection_policy\":{\"id\":\"3322\"}},\"id\":\"3304\",\"type\":\"ColumnDataSource\"},{\"attributes\":{},\"id\":\"3279\",\"type\":\"LinearScale\"},{\"attributes\":{\"axis_label\":\"date\",\"bounds\":\"auto\",\"formatter\":{\"id\":\"3313\"},\"major_label_orientation\":1.5707963267948966,\"ticker\":{\"id\":\"3284\"}},\"id\":\"3283\",\"type\":\"DatetimeAxis\"},{\"attributes\":{\"days\":[1,4,7,10,13,16,19,22,25,28]},\"id\":\"3328\",\"type\":\"DaysTicker\"},{\"attributes\":{\"children\":[{\"id\":\"3270\"},{\"id\":\"3274\"},{\"id\":\"3356\"}],\"margin\":[0,0,0,0],\"name\":\"Row03682\",\"tags\":[\"embedded\"]},\"id\":\"3269\",\"type\":\"Row\"},{\"attributes\":{\"line_alpha\":0.2,\"line_color\":\"#1f77b3\",\"line_width\":2,\"x\":{\"field\":\"date\"},\"y\":{\"field\":\"netflow_total\"}},\"id\":\"3309\",\"type\":\"Line\"},{\"attributes\":{\"axis_label\":\"netflow_total\",\"bounds\":\"auto\",\"formatter\":{\"id\":\"3315\"},\"major_label_orientation\":\"horizontal\",\"ticker\":{\"id\":\"3288\"}},\"id\":\"3287\",\"type\":\"LinearAxis\"},{\"attributes\":{},\"id\":\"3281\",\"type\":\"LinearScale\"},{\"attributes\":{\"axis\":{\"id\":\"3283\"},\"grid_line_color\":null,\"ticker\":null},\"id\":\"3286\",\"type\":\"Grid\"},{\"attributes\":{\"margin\":[5,5,5,5],\"name\":\"HSpacer03686\",\"sizing_mode\":\"stretch_width\"},\"id\":\"3270\",\"type\":\"Spacer\"},{\"attributes\":{\"months\":[0,1,2,3,4,5,6,7,8,9,10,11]},\"id\":\"3331\",\"type\":\"MonthsTicker\"},{\"attributes\":{\"text\":\"\",\"text_color\":{\"value\":\"black\"},\"text_font_size\":{\"value\":\"12pt\"}},\"id\":\"3275\",\"type\":\"Title\"},{\"attributes\":{\"days\":[1,15]},\"id\":\"3330\",\"type\":\"DaysTicker\"},{\"attributes\":{\"axis\":{\"id\":\"3287\"},\"dimension\":1,\"grid_line_color\":null,\"ticker\":null},\"id\":\"3290\",\"type\":\"Grid\"},{\"attributes\":{\"months\":[0,4,8]},\"id\":\"3333\",\"type\":\"MonthsTicker\"},{\"attributes\":{\"margin\":[5,5,5,5],\"name\":\"HSpacer03687\",\"sizing_mode\":\"stretch_width\"},\"id\":\"3356\",\"type\":\"Spacer\"},{\"attributes\":{\"end\":1611878400000.0,\"reset_end\":1611878400000.0,\"reset_start\":1603324800000.0,\"start\":1603324800000.0,\"tags\":[[[\"date\",\"date\",null]]]},\"id\":\"3271\",\"type\":\"Range1d\"}],\"root_ids\":[\"3269\"]},\"title\":\"Bokeh Application\",\"version\":\"2.2.3\"}};\n",
       "    var render_items = [{\"docid\":\"19c467f9-c646-4869-875f-a54736ce8082\",\"root_ids\":[\"3269\"],\"roots\":{\"3269\":\"7edba949-14e6-49a0-99cc-8fd50deb4acf\"}}];\n",
       "    root.Bokeh.embed.embed_items_notebook(docs_json, render_items);\n",
       "  }\n",
       "  if (root.Bokeh !== undefined && root.Bokeh.Panel !== undefined) {\n",
       "    embed_document(root);\n",
       "  } else {\n",
       "    var attempts = 0;\n",
       "    var timer = setInterval(function(root) {\n",
       "      if (root.Bokeh !== undefined && root.Bokeh.Panel !== undefined) {\n",
       "        clearInterval(timer);\n",
       "        embed_document(root);\n",
       "      } else if (document.readyState == \"complete\") {\n",
       "        attempts++;\n",
       "        if (attempts > 100) {\n",
       "          clearInterval(timer);\n",
       "          console.log(\"Bokeh: ERROR: Unable to run BokehJS code because BokehJS library is missing\");\n",
       "        }\n",
       "      }\n",
       "    }, 10, root)\n",
       "  }\n",
       "})(window);</script>"
      ],
      "text/plain": [
       ":Curve   [date]   (netflow_total)"
      ]
     },
     "execution_count": 74,
     "metadata": {
      "application/vnd.holoviews_exec.v0+json": {
       "id": "3269"
      }
     },
     "output_type": "execute_result"
    }
   ],
   "source": [
    "netflow_plot = get_plots(netflow_btc_df)\n",
    "netflow_plot"
   ]
  },
  {
   "cell_type": "code",
   "execution_count": 75,
   "metadata": {},
   "outputs": [
    {
     "data": {},
     "metadata": {},
     "output_type": "display_data"
    },
    {
     "data": {
      "application/vnd.holoviews_exec.v0+json": "",
      "text/html": [
       "<div id='3458'>\n",
       "\n",
       "\n",
       "\n",
       "\n",
       "\n",
       "  <div class=\"bk-root\" id=\"945087f4-a3b6-4795-a8ad-c472b3acb8b4\" data-root-id=\"3458\"></div>\n",
       "</div>\n",
       "<script type=\"application/javascript\">(function(root) {\n",
       "  function embed_document(root) {\n",
       "    var docs_json = {\"bc608176-d635-43d1-bfab-5bd85ad1a414\":{\"roots\":{\"references\":[{\"attributes\":{},\"id\":\"3477\",\"type\":\"BasicTicker\"},{\"attributes\":{\"end\":1611878400000.0,\"reset_end\":1611878400000.0,\"reset_start\":1603324800000.0,\"start\":1603324800000.0,\"tags\":[[[\"date\",\"date\",null]]]},\"id\":\"3460\",\"type\":\"Range1d\"},{\"attributes\":{\"line_color\":\"#1f77b3\",\"line_width\":2,\"x\":{\"field\":\"date\"},\"y\":{\"field\":\"price_usd_close\"}},\"id\":\"3496\",\"type\":\"Line\"},{\"attributes\":{\"months\":[0,1,2,3,4,5,6,7,8,9,10,11]},\"id\":\"3520\",\"type\":\"MonthsTicker\"},{\"attributes\":{\"axis\":{\"id\":\"3476\"},\"dimension\":1,\"grid_line_color\":null,\"ticker\":null},\"id\":\"3479\",\"type\":\"Grid\"},{\"attributes\":{\"axis_label\":\"price_usd_close\",\"bounds\":\"auto\",\"formatter\":{\"id\":\"3504\"},\"major_label_orientation\":\"horizontal\",\"ticker\":{\"id\":\"3477\"}},\"id\":\"3476\",\"type\":\"LinearAxis\"},{\"attributes\":{\"months\":[0,2,4,6,8,10]},\"id\":\"3521\",\"type\":\"MonthsTicker\"},{\"attributes\":{\"active_drag\":\"auto\",\"active_inspect\":\"auto\",\"active_multi\":null,\"active_scroll\":\"auto\",\"active_tap\":\"auto\",\"tools\":[{\"id\":\"3462\"},{\"id\":\"3480\"},{\"id\":\"3481\"},{\"id\":\"3482\"},{\"id\":\"3483\"},{\"id\":\"3484\"}]},\"id\":\"3486\",\"type\":\"Toolbar\"},{\"attributes\":{\"margin\":[5,5,5,5],\"name\":\"HSpacer03865\",\"sizing_mode\":\"stretch_width\"},\"id\":\"3459\",\"type\":\"Spacer\"},{\"attributes\":{\"months\":[0,4,8]},\"id\":\"3522\",\"type\":\"MonthsTicker\"},{\"attributes\":{\"bottom_units\":\"screen\",\"fill_alpha\":0.5,\"fill_color\":\"lightgrey\",\"left_units\":\"screen\",\"level\":\"overlay\",\"line_alpha\":1.0,\"line_color\":\"black\",\"line_dash\":[4,4],\"line_width\":2,\"right_units\":\"screen\",\"top_units\":\"screen\"},\"id\":\"3485\",\"type\":\"BoxAnnotation\"},{\"attributes\":{\"data_source\":{\"id\":\"3493\"},\"glyph\":{\"id\":\"3496\"},\"hover_glyph\":null,\"muted_glyph\":{\"id\":\"3498\"},\"nonselection_glyph\":{\"id\":\"3497\"},\"selection_glyph\":null,\"view\":{\"id\":\"3500\"}},\"id\":\"3499\",\"type\":\"GlyphRenderer\"},{\"attributes\":{\"num_minor_ticks\":5,\"tickers\":[{\"id\":\"3513\"},{\"id\":\"3514\"},{\"id\":\"3515\"},{\"id\":\"3516\"},{\"id\":\"3517\"},{\"id\":\"3518\"},{\"id\":\"3519\"},{\"id\":\"3520\"},{\"id\":\"3521\"},{\"id\":\"3522\"},{\"id\":\"3523\"},{\"id\":\"3524\"}]},\"id\":\"3473\",\"type\":\"DatetimeTicker\"},{\"attributes\":{},\"id\":\"3494\",\"type\":\"Selection\"},{\"attributes\":{\"months\":[0,6]},\"id\":\"3523\",\"type\":\"MonthsTicker\"},{\"attributes\":{\"children\":[{\"id\":\"3459\"},{\"id\":\"3463\"},{\"id\":\"3545\"}],\"margin\":[0,0,0,0],\"name\":\"Row03861\",\"tags\":[\"embedded\"]},\"id\":\"3458\",\"type\":\"Row\"},{\"attributes\":{\"end\":43385.597333337006,\"reset_end\":43385.597333337006,\"reset_start\":10161.309333333,\"start\":10161.309333333,\"tags\":[[[\"price_usd_close\",\"price_usd_close\",null]]]},\"id\":\"3461\",\"type\":\"Range1d\"},{\"attributes\":{},\"id\":\"3504\",\"type\":\"BasicTickFormatter\"},{\"attributes\":{},\"id\":\"3502\",\"type\":\"DatetimeTickFormatter\"},{\"attributes\":{},\"id\":\"3524\",\"type\":\"YearsTicker\"},{\"attributes\":{\"base\":24,\"mantissas\":[1,2,4,6,8,12],\"max_interval\":43200000.0,\"min_interval\":3600000.0,\"num_minor_ticks\":0},\"id\":\"3515\",\"type\":\"AdaptiveTicker\"},{\"attributes\":{},\"id\":\"3480\",\"type\":\"SaveTool\"},{\"attributes\":{},\"id\":\"3511\",\"type\":\"UnionRenderers\"},{\"attributes\":{\"line_alpha\":0.1,\"line_color\":\"#1f77b3\",\"line_width\":2,\"x\":{\"field\":\"date\"},\"y\":{\"field\":\"price_usd_close\"}},\"id\":\"3497\",\"type\":\"Line\"},{\"attributes\":{\"base\":60,\"mantissas\":[1,2,5,10,15,20,30],\"max_interval\":1800000.0,\"min_interval\":1000.0,\"num_minor_ticks\":0},\"id\":\"3514\",\"type\":\"AdaptiveTicker\"},{\"attributes\":{\"callback\":null,\"formatters\":{\"@{date}\":\"datetime\"},\"renderers\":[{\"id\":\"3499\"}],\"tags\":[\"hv_created\"],\"tooltips\":[[\"date\",\"@{date}{%F %T}\"],[\"price_usd_close\",\"@{price_usd_close}\"]]},\"id\":\"3462\",\"type\":\"HoverTool\"},{\"attributes\":{},\"id\":\"3481\",\"type\":\"PanTool\"},{\"attributes\":{\"days\":[1,8,15,22]},\"id\":\"3518\",\"type\":\"DaysTicker\"},{\"attributes\":{\"below\":[{\"id\":\"3472\"}],\"center\":[{\"id\":\"3475\"},{\"id\":\"3479\"}],\"left\":[{\"id\":\"3476\"}],\"margin\":[5,5,5,5],\"min_border_bottom\":10,\"min_border_left\":10,\"min_border_right\":10,\"min_border_top\":10,\"plot_height\":300,\"plot_width\":700,\"renderers\":[{\"id\":\"3499\"}],\"sizing_mode\":\"fixed\",\"title\":{\"id\":\"3464\"},\"toolbar\":{\"id\":\"3486\"},\"x_range\":{\"id\":\"3460\"},\"x_scale\":{\"id\":\"3468\"},\"y_range\":{\"id\":\"3461\"},\"y_scale\":{\"id\":\"3470\"}},\"id\":\"3463\",\"subtype\":\"Figure\",\"type\":\"Plot\"},{\"attributes\":{},\"id\":\"3482\",\"type\":\"WheelZoomTool\"},{\"attributes\":{\"mantissas\":[1,2,5],\"max_interval\":500.0,\"num_minor_ticks\":0},\"id\":\"3513\",\"type\":\"AdaptiveTicker\"},{\"attributes\":{},\"id\":\"3468\",\"type\":\"LinearScale\"},{\"attributes\":{\"overlay\":{\"id\":\"3485\"}},\"id\":\"3483\",\"type\":\"BoxZoomTool\"},{\"attributes\":{\"days\":[1,2,3,4,5,6,7,8,9,10,11,12,13,14,15,16,17,18,19,20,21,22,23,24,25,26,27,28,29,30,31]},\"id\":\"3516\",\"type\":\"DaysTicker\"},{\"attributes\":{\"axis_label\":\"date\",\"bounds\":\"auto\",\"formatter\":{\"id\":\"3502\"},\"major_label_orientation\":1.5707963267948966,\"ticker\":{\"id\":\"3473\"}},\"id\":\"3472\",\"type\":\"DatetimeAxis\"},{\"attributes\":{\"source\":{\"id\":\"3493\"}},\"id\":\"3500\",\"type\":\"CDSView\"},{\"attributes\":{\"line_alpha\":0.2,\"line_color\":\"#1f77b3\",\"line_width\":2,\"x\":{\"field\":\"date\"},\"y\":{\"field\":\"price_usd_close\"}},\"id\":\"3498\",\"type\":\"Line\"},{\"attributes\":{},\"id\":\"3484\",\"type\":\"ResetTool\"},{\"attributes\":{\"days\":[1,4,7,10,13,16,19,22,25,28]},\"id\":\"3517\",\"type\":\"DaysTicker\"},{\"attributes\":{\"margin\":[5,5,5,5],\"name\":\"HSpacer03866\",\"sizing_mode\":\"stretch_width\"},\"id\":\"3545\",\"type\":\"Spacer\"},{\"attributes\":{},\"id\":\"3470\",\"type\":\"LinearScale\"},{\"attributes\":{\"axis\":{\"id\":\"3472\"},\"grid_line_color\":null,\"ticker\":null},\"id\":\"3475\",\"type\":\"Grid\"},{\"attributes\":{\"data\":{\"date\":{\"__ndarray__\":\"AADArtlUd0IAAIAULFV3QgAAQHp+VXdCAAAA4NBVd0IAAMBFI1Z3QgAAgKt1VndCAABAEchWd0IAAAB3Gld3QgAAwNxsV3dCAACAQr9Xd0IAAECoEVh3QgAAAA5kWHdCAADAc7ZYd0IAAIDZCFl3QgAAQD9bWXdCAAAApa1Zd0IAAMAKAFp3QgAAgHBSWndCAABA1qRad0IAAAA891p3QgAAwKFJW3dCAACAB5xbd0IAAEBt7lt3QgAAANNAXHdCAADAOJNcd0IAAICe5Vx3QgAAQAQ4XXdCAAAAaopdd0IAAMDP3F13QgAAgDUvXndCAABAm4Fed0IAAAAB1F53QgAAwGYmX3dCAACAzHhfd0IAAEAyy193QgAAAJgdYHdCAADA/W9gd0IAAIBjwmB3QgAAQMkUYXdCAAAAL2dhd0IAAMCUuWF3QgAAgPoLYndCAABAYF5id0IAAADGsGJ3QgAAwCsDY3dCAACAkVVjd0IAAED3p2N3QgAAAF36Y3dCAADAwkxkd0IAAIAon2R3QgAAQI7xZHdCAAAA9ENld0IAAMBZlmV3QgAAgL/oZXdCAABAJTtmd0IAAACLjWZ3QgAAwPDfZndCAACAVjJnd0IAAEC8hGd3QgAAACLXZ3dCAADAhylod0IAAIDte2h3QgAAQFPOaHdCAAAAuSBpd0IAAMAec2l3QgAAgITFaXdCAABA6hdqd0IAAABQamp3QgAAwLW8andCAACAGw9rd0IAAECBYWt3QgAAAOeza3dCAADATAZsd0IAAICyWGx3QgAAQBirbHdCAAAAfv1sd0IAAMDjT213QgAAgEmibXdCAABAr/Rtd0IAAAAVR253QgAAwHqZbndCAACA4Otud0IAAEBGPm93QgAAAKyQb3dCAADAEeNvd0IAAIB3NXB3QgAAQN2HcHdCAAAAQ9pwd0IAAMCoLHF3QgAAgA5/cXdCAABAdNFxd0IAAADaI3J3QgAAwD92cndCAACApchyd0IAAEALG3N3QgAAAHFtc3dCAADA1r9zd0IAAIA8EnR3QgAAQKJkdHdCAAAACLd0d0I=\",\"dtype\":\"float64\",\"order\":\"little\",\"shape\":[100]},\"price_usd_close\":{\"__ndarray__\":\"AAAAAIBRyUAAAAAAAEHJQAAAAAAAmclAAAAAAAByyUAAAAAAgHzJQAAAAAAAoMpAAAAAAADsyUAAAAAAAEbKQAAAAAAAe8pAAAAAAIDTykAAAAAAgN7KQAAAAACAc8pAAAAAAABjy0AAAAAAAKHLQAAAAAAAcs5AAAAAAIBnzkAAAAAAgOnMQAAAAAAAO85AAAAAAADtzUAAAAAAAOPNQAAAAAAApM5AAAAAAIDSz0AAAAAAAN/PQAAAAACAYs9AAAAAAIAdz0AAAAAAgE/QQCe4u7v7NdFAPzVeujlT0UACK4cWaWfRQNUaMVDuMNJABT2rd+ZD0kAEVg4tOgnSQOOlm8Qg89FAmfuam7+00kArhxbZTlDSQD0K16O429BABXZO1sa+0EDy0k1iwEDRQNlHREQEwtFA9ISIiJg+00COqmgkIFbSQNcXKjusxNJA1ovjOE760kDg1kCnvTjSQFCIBHyztNJAjMMVJ6Dt0kC6Tp/06bvSQEY9pw3E4dFAFCIB3ywc0kDgBoTvQ9PRQI1RKiNUndFA2UdERORe0kD/Wyz5dbfSQI/C9Sic0tJAMo9fLMn50kCER36xlNnUQMP1KFx3RtZAZcKSX0yV1kDXo3A9gkfXQLDrtIE269ZA1XjpJgEz1kC6SQwC+0PXQAAAAAAgsNZA/Knx0r0u10DufD81TiHYQIXrUbhe3NlAppvEIFCn2UDFILByeG3aQNnO91PDvdpAvp8aL5003EDD9ShcX0LcQODWQKfdqtxAhetRuPZw30BmZmZmWiHgQG+ZNtBZRN9ArxlLfk2Z4EAU3N3d6fnhQClcj8LZReNAAdJpAx3V40BxD3TapJrjQF1hLPnpo+JAUea0gaJN4UCjntMGlp7gQOGoqqrqQOJAHrOBTv8d40AyYckvOvPhQK5H4XrskuFAH1dVVdl+4UAyYckvJuThQHEPdNochuFAexSuRz1T4UDt9YslHyDeQD7cQKcJGeBAfLiBTlNV30B8uIFOo4TfQHsUrkeJf99APQrXo1i630Dt9YslR6zdQBWAseT3TOBANAWdNpC44EA=\",\"dtype\":\"float64\",\"order\":\"little\",\"shape\":[100]}},\"selected\":{\"id\":\"3494\"},\"selection_policy\":{\"id\":\"3511\"}},\"id\":\"3493\",\"type\":\"ColumnDataSource\"},{\"attributes\":{\"days\":[1,15]},\"id\":\"3519\",\"type\":\"DaysTicker\"},{\"attributes\":{\"text\":\"\",\"text_color\":{\"value\":\"black\"},\"text_font_size\":{\"value\":\"12pt\"}},\"id\":\"3464\",\"type\":\"Title\"}],\"root_ids\":[\"3458\"]},\"title\":\"Bokeh Application\",\"version\":\"2.2.3\"}};\n",
       "    var render_items = [{\"docid\":\"bc608176-d635-43d1-bfab-5bd85ad1a414\",\"root_ids\":[\"3458\"],\"roots\":{\"3458\":\"945087f4-a3b6-4795-a8ad-c472b3acb8b4\"}}];\n",
       "    root.Bokeh.embed.embed_items_notebook(docs_json, render_items);\n",
       "  }\n",
       "  if (root.Bokeh !== undefined && root.Bokeh.Panel !== undefined) {\n",
       "    embed_document(root);\n",
       "  } else {\n",
       "    var attempts = 0;\n",
       "    var timer = setInterval(function(root) {\n",
       "      if (root.Bokeh !== undefined && root.Bokeh.Panel !== undefined) {\n",
       "        clearInterval(timer);\n",
       "        embed_document(root);\n",
       "      } else if (document.readyState == \"complete\") {\n",
       "        attempts++;\n",
       "        if (attempts > 100) {\n",
       "          clearInterval(timer);\n",
       "          console.log(\"Bokeh: ERROR: Unable to run BokehJS code because BokehJS library is missing\");\n",
       "        }\n",
       "      }\n",
       "    }, 10, root)\n",
       "  }\n",
       "})(window);</script>"
      ],
      "text/plain": [
       ":Curve   [date]   (price_usd_close)"
      ]
     },
     "execution_count": 75,
     "metadata": {
      "application/vnd.holoviews_exec.v0+json": {
       "id": "3458"
      }
     },
     "output_type": "execute_result"
    }
   ],
   "source": [
    "price_df_plot = get_plots(price_btc_df)\n",
    "price_df_plot"
   ]
  },
  {
   "cell_type": "code",
   "execution_count": 76,
   "metadata": {},
   "outputs": [
    {
     "data": {
      "application/vnd.plotly.v1+json": {
       "config": {
        "plotlyServerURL": "https://plot.ly"
       },
       "data": [
        {
         "mode": "lines",
         "name": "All Exchange Netflow",
         "type": "scatter",
         "x": [
          "2021-01-29T00:00:00",
          "2021-01-28T00:00:00",
          "2021-01-27T00:00:00",
          "2021-01-26T00:00:00",
          "2021-01-25T00:00:00",
          "2021-01-24T00:00:00",
          "2021-01-23T00:00:00",
          "2021-01-22T00:00:00",
          "2021-01-21T00:00:00",
          "2021-01-20T00:00:00",
          "2021-01-19T00:00:00",
          "2021-01-18T00:00:00",
          "2021-01-17T00:00:00",
          "2021-01-16T00:00:00",
          "2021-01-15T00:00:00",
          "2021-01-14T00:00:00",
          "2021-01-13T00:00:00",
          "2021-01-12T00:00:00",
          "2021-01-11T00:00:00",
          "2021-01-10T00:00:00",
          "2021-01-09T00:00:00",
          "2021-01-08T00:00:00",
          "2021-01-07T00:00:00",
          "2021-01-06T00:00:00",
          "2021-01-05T00:00:00",
          "2021-01-04T00:00:00",
          "2021-01-03T00:00:00",
          "2021-01-02T00:00:00",
          "2021-01-01T00:00:00",
          "2020-12-31T00:00:00",
          "2020-12-30T00:00:00",
          "2020-12-29T00:00:00",
          "2020-12-28T00:00:00",
          "2020-12-27T00:00:00",
          "2020-12-26T00:00:00",
          "2020-12-25T00:00:00",
          "2020-12-24T00:00:00",
          "2020-12-23T00:00:00",
          "2020-12-22T00:00:00",
          "2020-12-21T00:00:00",
          "2020-12-20T00:00:00",
          "2020-12-19T00:00:00",
          "2020-12-18T00:00:00",
          "2020-12-17T00:00:00",
          "2020-12-16T00:00:00",
          "2020-12-15T00:00:00",
          "2020-12-14T00:00:00",
          "2020-12-13T00:00:00",
          "2020-12-12T00:00:00",
          "2020-12-11T00:00:00",
          "2020-12-10T00:00:00",
          "2020-12-09T00:00:00",
          "2020-12-08T00:00:00",
          "2020-12-07T00:00:00",
          "2020-12-06T00:00:00",
          "2020-12-05T00:00:00",
          "2020-12-04T00:00:00",
          "2020-12-03T00:00:00",
          "2020-12-02T00:00:00",
          "2020-12-01T00:00:00",
          "2020-11-30T00:00:00",
          "2020-11-29T00:00:00",
          "2020-11-28T00:00:00",
          "2020-11-27T00:00:00",
          "2020-11-26T00:00:00",
          "2020-11-25T00:00:00",
          "2020-11-24T00:00:00",
          "2020-11-23T00:00:00",
          "2020-11-22T00:00:00",
          "2020-11-21T00:00:00",
          "2020-11-20T00:00:00",
          "2020-11-19T00:00:00",
          "2020-11-18T00:00:00",
          "2020-11-17T00:00:00",
          "2020-11-16T00:00:00",
          "2020-11-15T00:00:00",
          "2020-11-14T00:00:00",
          "2020-11-13T00:00:00",
          "2020-11-12T00:00:00",
          "2020-11-11T00:00:00",
          "2020-11-10T00:00:00",
          "2020-11-09T00:00:00",
          "2020-11-08T00:00:00",
          "2020-11-07T00:00:00",
          "2020-11-06T00:00:00",
          "2020-11-05T00:00:00",
          "2020-11-04T00:00:00",
          "2020-11-03T00:00:00",
          "2020-11-02T00:00:00",
          "2020-11-01T00:00:00",
          "2020-10-31T00:00:00",
          "2020-10-30T00:00:00",
          "2020-10-29T00:00:00",
          "2020-10-28T00:00:00",
          "2020-10-27T00:00:00",
          "2020-10-26T00:00:00",
          "2020-10-25T00:00:00",
          "2020-10-24T00:00:00",
          "2020-10-23T00:00:00",
          "2020-10-22T00:00:00"
         ],
         "xaxis": "x",
         "y": [
          17413.01837459,
          -6092.09053818,
          -10347.65827833,
          -2644.31780229,
          4471.67403268,
          1578.91772735,
          465.92824707,
          5734.72323883,
          -2497.83603263,
          7233.47148361,
          -3657.8855921,
          8907.27011554,
          -4437.58241776,
          -420.70261332,
          3522.56053355,
          -4546.95002232,
          -1118.61461024,
          -2450.54083589,
          7510.03946383,
          8721.54618475,
          -7256.73266579,
          -1313.792235,
          -3708.34592162,
          -6264.05984847,
          3364.63140154,
          1874.86381995,
          10189.63213552,
          -36348.72726533,
          -15351.8900192,
          -9613.74574894,
          5078.27310135,
          -13777.05758159,
          -373.33458289,
          13816.14231087,
          3493.61786764,
          10270.16785514,
          592.54380596,
          -1822.70605154,
          -19304.92325674,
          -716.18398994,
          -5410.23141283,
          5956.01877786,
          -78.65406556,
          10929.94655538,
          -19163.35051357,
          -6046.1870928,
          5889.10894874,
          7522.42046358,
          36303.69416713,
          4146.89196429,
          -30749.3479166,
          -6096.16141239,
          -4820.07450385,
          340.53410931,
          -1743.47046313,
          3505.12229533,
          -15014.33130902,
          -822.54903836,
          -7533.80047628,
          11901.79132894,
          3582.59685489,
          -4897.62886188,
          -2227.1342879,
          3831.31631614,
          17490.23458183,
          7944.29319842,
          -5070.05182191,
          -765.78733544,
          -1583.79382839,
          8759.9255964,
          1670.0943903,
          490.66539428,
          -169.82692233,
          8042.64572938,
          -7920.32286315,
          -4870.91329606,
          8371.8982347,
          -518.36039724,
          -6892.86858453,
          -1148.68568826,
          -12327.04384222,
          352.25039387,
          -2221.78903461,
          2147.85937513,
          5190.36713662,
          6385.45757957,
          -12312.97189106,
          -15191.23858208,
          -29307.69904785,
          -230.59134895,
          5715.27243694,
          -7885.84009397,
          -2308.50977896,
          722.67993228,
          -8613.52452434,
          -8352.01838234,
          -1802.00455595,
          -5204.8423528,
          -3542.23780172,
          -1298.38576877
         ],
         "yaxis": "y"
        },
        {
         "mode": "lines",
         "name": "BTC Price",
         "type": "scatter",
         "x": [
          "2021-01-29T00:00:00",
          "2021-01-28T00:00:00",
          "2021-01-27T00:00:00",
          "2021-01-26T00:00:00",
          "2021-01-25T00:00:00",
          "2021-01-24T00:00:00",
          "2021-01-23T00:00:00",
          "2021-01-22T00:00:00",
          "2021-01-21T00:00:00",
          "2021-01-20T00:00:00",
          "2021-01-19T00:00:00",
          "2021-01-18T00:00:00",
          "2021-01-17T00:00:00",
          "2021-01-16T00:00:00",
          "2021-01-15T00:00:00",
          "2021-01-14T00:00:00",
          "2021-01-13T00:00:00",
          "2021-01-12T00:00:00",
          "2021-01-11T00:00:00",
          "2021-01-10T00:00:00",
          "2021-01-09T00:00:00",
          "2021-01-08T00:00:00",
          "2021-01-07T00:00:00",
          "2021-01-06T00:00:00",
          "2021-01-05T00:00:00",
          "2021-01-04T00:00:00",
          "2021-01-03T00:00:00",
          "2021-01-02T00:00:00",
          "2021-01-01T00:00:00",
          "2020-12-31T00:00:00",
          "2020-12-30T00:00:00",
          "2020-12-29T00:00:00",
          "2020-12-28T00:00:00",
          "2020-12-27T00:00:00",
          "2020-12-26T00:00:00",
          "2020-12-25T00:00:00",
          "2020-12-24T00:00:00",
          "2020-12-23T00:00:00",
          "2020-12-22T00:00:00",
          "2020-12-21T00:00:00",
          "2020-12-20T00:00:00",
          "2020-12-19T00:00:00",
          "2020-12-18T00:00:00",
          "2020-12-17T00:00:00",
          "2020-12-16T00:00:00",
          "2020-12-15T00:00:00",
          "2020-12-14T00:00:00",
          "2020-12-13T00:00:00",
          "2020-12-12T00:00:00",
          "2020-12-11T00:00:00",
          "2020-12-10T00:00:00",
          "2020-12-09T00:00:00",
          "2020-12-08T00:00:00",
          "2020-12-07T00:00:00",
          "2020-12-06T00:00:00",
          "2020-12-05T00:00:00",
          "2020-12-04T00:00:00",
          "2020-12-03T00:00:00",
          "2020-12-02T00:00:00",
          "2020-12-01T00:00:00",
          "2020-11-30T00:00:00",
          "2020-11-29T00:00:00",
          "2020-11-28T00:00:00",
          "2020-11-27T00:00:00",
          "2020-11-26T00:00:00",
          "2020-11-25T00:00:00",
          "2020-11-24T00:00:00",
          "2020-11-23T00:00:00",
          "2020-11-22T00:00:00",
          "2020-11-21T00:00:00",
          "2020-11-20T00:00:00",
          "2020-11-19T00:00:00",
          "2020-11-18T00:00:00",
          "2020-11-17T00:00:00",
          "2020-11-16T00:00:00",
          "2020-11-15T00:00:00",
          "2020-11-14T00:00:00",
          "2020-11-13T00:00:00",
          "2020-11-12T00:00:00",
          "2020-11-11T00:00:00",
          "2020-11-10T00:00:00",
          "2020-11-09T00:00:00",
          "2020-11-08T00:00:00",
          "2020-11-07T00:00:00",
          "2020-11-06T00:00:00",
          "2020-11-05T00:00:00",
          "2020-11-04T00:00:00",
          "2020-11-03T00:00:00",
          "2020-11-02T00:00:00",
          "2020-11-01T00:00:00",
          "2020-10-31T00:00:00",
          "2020-10-30T00:00:00",
          "2020-10-29T00:00:00",
          "2020-10-28T00:00:00",
          "2020-10-27T00:00:00",
          "2020-10-26T00:00:00",
          "2020-10-25T00:00:00",
          "2020-10-24T00:00:00",
          "2020-10-23T00:00:00",
          "2020-10-22T00:00:00"
         ],
         "xaxis": "x",
         "y": [
          34244.50666667,
          33383.74666667,
          30385.11166667,
          32489.385,
          32254.145,
          32274.55166667,
          32085.30166667,
          32968.30166667,
          30848.48666667,
          35481.915,
          35888.90166667,
          36641.19333333,
          35830.79166667,
          35991.39,
          36761.81833333,
          39151.97833333,
          37383.33333333,
          34036.68833333,
          35437.07833333,
          38175.31166667,
          40149.15166667,
          40616.90666667,
          39470.805,
          36815.30833333,
          33994.42166667,
          32017.40333333,
          33034.825,
          32195.855,
          29355.46333333,
          28937.49,
          28882.456,
          27383.052,
          27061.882,
          26269.252,
          26481.48,
          24709.222,
          23738.966,
          23232.5,
          23823.922,
          22732.018,
          23468.85166667,
          23838.035,
          23125.19333333,
          22809.865,
          21350.32333333,
          19431.14333333,
          19274.44,
          19165.84333333,
          18811.56666667,
          18037.31464632,
          18253.06149388,
          18544.70111111,
          18311.06333333,
          19183.65555556,
          19382.50238556,
          19154.80444444,
          18658.96333333,
          19433.22222222,
          19218.69111111,
          18776.50222222,
          19706.38333333,
          18184.06666667,
          17667.006,
          17147.10683023,
          17262.885,
          18753.232,
          19154.9938724,
          18380.512,
          18468.909,
          18703.60105401,
          18627.72364452,
          17821.642,
          17740.902,
          17623.93333333,
          16702,
          15931,
          16069,
          16318,
          16293,
          15688,
          15302,
          15322,
          15478,
          14803,
          15567,
          15588,
          14146,
          14022,
          13543,
          13757,
          13735,
          13558,
          13452,
          13272,
          13632,
          13049,
          13028,
          13106,
          12930,
          12963
         ],
         "yaxis": "y2"
        }
       ],
       "layout": {
        "height": 600,
        "template": {
         "data": {
          "bar": [
           {
            "error_x": {
             "color": "#2a3f5f"
            },
            "error_y": {
             "color": "#2a3f5f"
            },
            "marker": {
             "line": {
              "color": "#E5ECF6",
              "width": 0.5
             }
            },
            "type": "bar"
           }
          ],
          "barpolar": [
           {
            "marker": {
             "line": {
              "color": "#E5ECF6",
              "width": 0.5
             }
            },
            "type": "barpolar"
           }
          ],
          "carpet": [
           {
            "aaxis": {
             "endlinecolor": "#2a3f5f",
             "gridcolor": "white",
             "linecolor": "white",
             "minorgridcolor": "white",
             "startlinecolor": "#2a3f5f"
            },
            "baxis": {
             "endlinecolor": "#2a3f5f",
             "gridcolor": "white",
             "linecolor": "white",
             "minorgridcolor": "white",
             "startlinecolor": "#2a3f5f"
            },
            "type": "carpet"
           }
          ],
          "choropleth": [
           {
            "colorbar": {
             "outlinewidth": 0,
             "ticks": ""
            },
            "type": "choropleth"
           }
          ],
          "contour": [
           {
            "colorbar": {
             "outlinewidth": 0,
             "ticks": ""
            },
            "colorscale": [
             [
              0,
              "#0d0887"
             ],
             [
              0.1111111111111111,
              "#46039f"
             ],
             [
              0.2222222222222222,
              "#7201a8"
             ],
             [
              0.3333333333333333,
              "#9c179e"
             ],
             [
              0.4444444444444444,
              "#bd3786"
             ],
             [
              0.5555555555555556,
              "#d8576b"
             ],
             [
              0.6666666666666666,
              "#ed7953"
             ],
             [
              0.7777777777777778,
              "#fb9f3a"
             ],
             [
              0.8888888888888888,
              "#fdca26"
             ],
             [
              1,
              "#f0f921"
             ]
            ],
            "type": "contour"
           }
          ],
          "contourcarpet": [
           {
            "colorbar": {
             "outlinewidth": 0,
             "ticks": ""
            },
            "type": "contourcarpet"
           }
          ],
          "heatmap": [
           {
            "colorbar": {
             "outlinewidth": 0,
             "ticks": ""
            },
            "colorscale": [
             [
              0,
              "#0d0887"
             ],
             [
              0.1111111111111111,
              "#46039f"
             ],
             [
              0.2222222222222222,
              "#7201a8"
             ],
             [
              0.3333333333333333,
              "#9c179e"
             ],
             [
              0.4444444444444444,
              "#bd3786"
             ],
             [
              0.5555555555555556,
              "#d8576b"
             ],
             [
              0.6666666666666666,
              "#ed7953"
             ],
             [
              0.7777777777777778,
              "#fb9f3a"
             ],
             [
              0.8888888888888888,
              "#fdca26"
             ],
             [
              1,
              "#f0f921"
             ]
            ],
            "type": "heatmap"
           }
          ],
          "heatmapgl": [
           {
            "colorbar": {
             "outlinewidth": 0,
             "ticks": ""
            },
            "colorscale": [
             [
              0,
              "#0d0887"
             ],
             [
              0.1111111111111111,
              "#46039f"
             ],
             [
              0.2222222222222222,
              "#7201a8"
             ],
             [
              0.3333333333333333,
              "#9c179e"
             ],
             [
              0.4444444444444444,
              "#bd3786"
             ],
             [
              0.5555555555555556,
              "#d8576b"
             ],
             [
              0.6666666666666666,
              "#ed7953"
             ],
             [
              0.7777777777777778,
              "#fb9f3a"
             ],
             [
              0.8888888888888888,
              "#fdca26"
             ],
             [
              1,
              "#f0f921"
             ]
            ],
            "type": "heatmapgl"
           }
          ],
          "histogram": [
           {
            "marker": {
             "colorbar": {
              "outlinewidth": 0,
              "ticks": ""
             }
            },
            "type": "histogram"
           }
          ],
          "histogram2d": [
           {
            "colorbar": {
             "outlinewidth": 0,
             "ticks": ""
            },
            "colorscale": [
             [
              0,
              "#0d0887"
             ],
             [
              0.1111111111111111,
              "#46039f"
             ],
             [
              0.2222222222222222,
              "#7201a8"
             ],
             [
              0.3333333333333333,
              "#9c179e"
             ],
             [
              0.4444444444444444,
              "#bd3786"
             ],
             [
              0.5555555555555556,
              "#d8576b"
             ],
             [
              0.6666666666666666,
              "#ed7953"
             ],
             [
              0.7777777777777778,
              "#fb9f3a"
             ],
             [
              0.8888888888888888,
              "#fdca26"
             ],
             [
              1,
              "#f0f921"
             ]
            ],
            "type": "histogram2d"
           }
          ],
          "histogram2dcontour": [
           {
            "colorbar": {
             "outlinewidth": 0,
             "ticks": ""
            },
            "colorscale": [
             [
              0,
              "#0d0887"
             ],
             [
              0.1111111111111111,
              "#46039f"
             ],
             [
              0.2222222222222222,
              "#7201a8"
             ],
             [
              0.3333333333333333,
              "#9c179e"
             ],
             [
              0.4444444444444444,
              "#bd3786"
             ],
             [
              0.5555555555555556,
              "#d8576b"
             ],
             [
              0.6666666666666666,
              "#ed7953"
             ],
             [
              0.7777777777777778,
              "#fb9f3a"
             ],
             [
              0.8888888888888888,
              "#fdca26"
             ],
             [
              1,
              "#f0f921"
             ]
            ],
            "type": "histogram2dcontour"
           }
          ],
          "mesh3d": [
           {
            "colorbar": {
             "outlinewidth": 0,
             "ticks": ""
            },
            "type": "mesh3d"
           }
          ],
          "parcoords": [
           {
            "line": {
             "colorbar": {
              "outlinewidth": 0,
              "ticks": ""
             }
            },
            "type": "parcoords"
           }
          ],
          "pie": [
           {
            "automargin": true,
            "type": "pie"
           }
          ],
          "scatter": [
           {
            "marker": {
             "colorbar": {
              "outlinewidth": 0,
              "ticks": ""
             }
            },
            "type": "scatter"
           }
          ],
          "scatter3d": [
           {
            "line": {
             "colorbar": {
              "outlinewidth": 0,
              "ticks": ""
             }
            },
            "marker": {
             "colorbar": {
              "outlinewidth": 0,
              "ticks": ""
             }
            },
            "type": "scatter3d"
           }
          ],
          "scattercarpet": [
           {
            "marker": {
             "colorbar": {
              "outlinewidth": 0,
              "ticks": ""
             }
            },
            "type": "scattercarpet"
           }
          ],
          "scattergeo": [
           {
            "marker": {
             "colorbar": {
              "outlinewidth": 0,
              "ticks": ""
             }
            },
            "type": "scattergeo"
           }
          ],
          "scattergl": [
           {
            "marker": {
             "colorbar": {
              "outlinewidth": 0,
              "ticks": ""
             }
            },
            "type": "scattergl"
           }
          ],
          "scattermapbox": [
           {
            "marker": {
             "colorbar": {
              "outlinewidth": 0,
              "ticks": ""
             }
            },
            "type": "scattermapbox"
           }
          ],
          "scatterpolar": [
           {
            "marker": {
             "colorbar": {
              "outlinewidth": 0,
              "ticks": ""
             }
            },
            "type": "scatterpolar"
           }
          ],
          "scatterpolargl": [
           {
            "marker": {
             "colorbar": {
              "outlinewidth": 0,
              "ticks": ""
             }
            },
            "type": "scatterpolargl"
           }
          ],
          "scatterternary": [
           {
            "marker": {
             "colorbar": {
              "outlinewidth": 0,
              "ticks": ""
             }
            },
            "type": "scatterternary"
           }
          ],
          "surface": [
           {
            "colorbar": {
             "outlinewidth": 0,
             "ticks": ""
            },
            "colorscale": [
             [
              0,
              "#0d0887"
             ],
             [
              0.1111111111111111,
              "#46039f"
             ],
             [
              0.2222222222222222,
              "#7201a8"
             ],
             [
              0.3333333333333333,
              "#9c179e"
             ],
             [
              0.4444444444444444,
              "#bd3786"
             ],
             [
              0.5555555555555556,
              "#d8576b"
             ],
             [
              0.6666666666666666,
              "#ed7953"
             ],
             [
              0.7777777777777778,
              "#fb9f3a"
             ],
             [
              0.8888888888888888,
              "#fdca26"
             ],
             [
              1,
              "#f0f921"
             ]
            ],
            "type": "surface"
           }
          ],
          "table": [
           {
            "cells": {
             "fill": {
              "color": "#EBF0F8"
             },
             "line": {
              "color": "white"
             }
            },
            "header": {
             "fill": {
              "color": "#C8D4E3"
             },
             "line": {
              "color": "white"
             }
            },
            "type": "table"
           }
          ]
         },
         "layout": {
          "annotationdefaults": {
           "arrowcolor": "#2a3f5f",
           "arrowhead": 0,
           "arrowwidth": 1
          },
          "autotypenumbers": "strict",
          "coloraxis": {
           "colorbar": {
            "outlinewidth": 0,
            "ticks": ""
           }
          },
          "colorscale": {
           "diverging": [
            [
             0,
             "#8e0152"
            ],
            [
             0.1,
             "#c51b7d"
            ],
            [
             0.2,
             "#de77ae"
            ],
            [
             0.3,
             "#f1b6da"
            ],
            [
             0.4,
             "#fde0ef"
            ],
            [
             0.5,
             "#f7f7f7"
            ],
            [
             0.6,
             "#e6f5d0"
            ],
            [
             0.7,
             "#b8e186"
            ],
            [
             0.8,
             "#7fbc41"
            ],
            [
             0.9,
             "#4d9221"
            ],
            [
             1,
             "#276419"
            ]
           ],
           "sequential": [
            [
             0,
             "#0d0887"
            ],
            [
             0.1111111111111111,
             "#46039f"
            ],
            [
             0.2222222222222222,
             "#7201a8"
            ],
            [
             0.3333333333333333,
             "#9c179e"
            ],
            [
             0.4444444444444444,
             "#bd3786"
            ],
            [
             0.5555555555555556,
             "#d8576b"
            ],
            [
             0.6666666666666666,
             "#ed7953"
            ],
            [
             0.7777777777777778,
             "#fb9f3a"
            ],
            [
             0.8888888888888888,
             "#fdca26"
            ],
            [
             1,
             "#f0f921"
            ]
           ],
           "sequentialminus": [
            [
             0,
             "#0d0887"
            ],
            [
             0.1111111111111111,
             "#46039f"
            ],
            [
             0.2222222222222222,
             "#7201a8"
            ],
            [
             0.3333333333333333,
             "#9c179e"
            ],
            [
             0.4444444444444444,
             "#bd3786"
            ],
            [
             0.5555555555555556,
             "#d8576b"
            ],
            [
             0.6666666666666666,
             "#ed7953"
            ],
            [
             0.7777777777777778,
             "#fb9f3a"
            ],
            [
             0.8888888888888888,
             "#fdca26"
            ],
            [
             1,
             "#f0f921"
            ]
           ]
          },
          "colorway": [
           "#636efa",
           "#EF553B",
           "#00cc96",
           "#ab63fa",
           "#FFA15A",
           "#19d3f3",
           "#FF6692",
           "#B6E880",
           "#FF97FF",
           "#FECB52"
          ],
          "font": {
           "color": "#2a3f5f"
          },
          "geo": {
           "bgcolor": "white",
           "lakecolor": "white",
           "landcolor": "#E5ECF6",
           "showlakes": true,
           "showland": true,
           "subunitcolor": "white"
          },
          "hoverlabel": {
           "align": "left"
          },
          "hovermode": "closest",
          "mapbox": {
           "style": "light"
          },
          "paper_bgcolor": "white",
          "plot_bgcolor": "#E5ECF6",
          "polar": {
           "angularaxis": {
            "gridcolor": "white",
            "linecolor": "white",
            "ticks": ""
           },
           "bgcolor": "#E5ECF6",
           "radialaxis": {
            "gridcolor": "white",
            "linecolor": "white",
            "ticks": ""
           }
          },
          "scene": {
           "xaxis": {
            "backgroundcolor": "#E5ECF6",
            "gridcolor": "white",
            "gridwidth": 2,
            "linecolor": "white",
            "showbackground": true,
            "ticks": "",
            "zerolinecolor": "white"
           },
           "yaxis": {
            "backgroundcolor": "#E5ECF6",
            "gridcolor": "white",
            "gridwidth": 2,
            "linecolor": "white",
            "showbackground": true,
            "ticks": "",
            "zerolinecolor": "white"
           },
           "zaxis": {
            "backgroundcolor": "#E5ECF6",
            "gridcolor": "white",
            "gridwidth": 2,
            "linecolor": "white",
            "showbackground": true,
            "ticks": "",
            "zerolinecolor": "white"
           }
          },
          "shapedefaults": {
           "line": {
            "color": "#2a3f5f"
           }
          },
          "ternary": {
           "aaxis": {
            "gridcolor": "white",
            "linecolor": "white",
            "ticks": ""
           },
           "baxis": {
            "gridcolor": "white",
            "linecolor": "white",
            "ticks": ""
           },
           "bgcolor": "#E5ECF6",
           "caxis": {
            "gridcolor": "white",
            "linecolor": "white",
            "ticks": ""
           }
          },
          "title": {
           "x": 0.05
          },
          "xaxis": {
           "automargin": true,
           "gridcolor": "white",
           "linecolor": "white",
           "ticks": "",
           "title": {
            "standoff": 15
           },
           "zerolinecolor": "white",
           "zerolinewidth": 2
          },
          "yaxis": {
           "automargin": true,
           "gridcolor": "white",
           "linecolor": "white",
           "ticks": "",
           "title": {
            "standoff": 15
           },
           "zerolinecolor": "white",
           "zerolinewidth": 2
          }
         }
        },
        "title": {
         "text": "BTC Price & Netflow Data"
        },
        "width": 1500,
        "xaxis": {
         "anchor": "y",
         "autorange": true,
         "domain": [
          0,
          0.94
         ],
         "range": [
          "2020-10-22",
          "2021-01-29"
         ],
         "title": {
          "text": "Date"
         },
         "type": "date"
        },
        "yaxis": {
         "anchor": "x",
         "autorange": true,
         "domain": [
          0,
          1
         ],
         "range": [
          -40384.972900466666,
          40339.939802266665
         ],
         "title": {
          "text": "Exchange Netflow"
         },
         "type": "linear"
        },
        "yaxis2": {
         "anchor": "x",
         "autorange": true,
         "overlaying": "y",
         "range": [
          11391.838518518332,
          42155.068148151666
         ],
         "side": "right",
         "title": {
          "text": "BTC Market Price"
         },
         "type": "linear"
        }
       }
      },
      "image/png": "[encoded data removed]",
      "text/html": [
       "<div>                            <div id=\"7b833cc7-2d96-4568-812f-78e6e1a9254c\" class=\"plotly-graph-div\" style=\"height:600px; width:1500px;\"></div>            <script type=\"text/javascript\">                require([\"plotly\"], function(Plotly) {                    window.PLOTLYENV=window.PLOTLYENV || {};                                    if (document.getElementById(\"7b833cc7-2d96-4568-812f-78e6e1a9254c\")) {                    Plotly.newPlot(                        \"7b833cc7-2d96-4568-812f-78e6e1a9254c\",                        [{\"mode\": \"lines\", \"name\": \"All Exchange Netflow\", \"type\": \"scatter\", \"x\": [\"2021-01-29T00:00:00\", \"2021-01-28T00:00:00\", \"2021-01-27T00:00:00\", \"2021-01-26T00:00:00\", \"2021-01-25T00:00:00\", \"2021-01-24T00:00:00\", \"2021-01-23T00:00:00\", \"2021-01-22T00:00:00\", \"2021-01-21T00:00:00\", \"2021-01-20T00:00:00\", \"2021-01-19T00:00:00\", \"2021-01-18T00:00:00\", \"2021-01-17T00:00:00\", \"2021-01-16T00:00:00\", \"2021-01-15T00:00:00\", \"2021-01-14T00:00:00\", \"2021-01-13T00:00:00\", \"2021-01-12T00:00:00\", \"2021-01-11T00:00:00\", \"2021-01-10T00:00:00\", \"2021-01-09T00:00:00\", \"2021-01-08T00:00:00\", \"2021-01-07T00:00:00\", \"2021-01-06T00:00:00\", \"2021-01-05T00:00:00\", \"2021-01-04T00:00:00\", \"2021-01-03T00:00:00\", \"2021-01-02T00:00:00\", \"2021-01-01T00:00:00\", \"2020-12-31T00:00:00\", \"2020-12-30T00:00:00\", \"2020-12-29T00:00:00\", \"2020-12-28T00:00:00\", \"2020-12-27T00:00:00\", \"2020-12-26T00:00:00\", \"2020-12-25T00:00:00\", \"2020-12-24T00:00:00\", \"2020-12-23T00:00:00\", \"2020-12-22T00:00:00\", \"2020-12-21T00:00:00\", \"2020-12-20T00:00:00\", \"2020-12-19T00:00:00\", \"2020-12-18T00:00:00\", \"2020-12-17T00:00:00\", \"2020-12-16T00:00:00\", \"2020-12-15T00:00:00\", \"2020-12-14T00:00:00\", \"2020-12-13T00:00:00\", \"2020-12-12T00:00:00\", \"2020-12-11T00:00:00\", \"2020-12-10T00:00:00\", \"2020-12-09T00:00:00\", \"2020-12-08T00:00:00\", \"2020-12-07T00:00:00\", \"2020-12-06T00:00:00\", \"2020-12-05T00:00:00\", \"2020-12-04T00:00:00\", \"2020-12-03T00:00:00\", \"2020-12-02T00:00:00\", \"2020-12-01T00:00:00\", \"2020-11-30T00:00:00\", \"2020-11-29T00:00:00\", \"2020-11-28T00:00:00\", \"2020-11-27T00:00:00\", \"2020-11-26T00:00:00\", \"2020-11-25T00:00:00\", \"2020-11-24T00:00:00\", \"2020-11-23T00:00:00\", \"2020-11-22T00:00:00\", \"2020-11-21T00:00:00\", \"2020-11-20T00:00:00\", \"2020-11-19T00:00:00\", \"2020-11-18T00:00:00\", \"2020-11-17T00:00:00\", \"2020-11-16T00:00:00\", \"2020-11-15T00:00:00\", \"2020-11-14T00:00:00\", \"2020-11-13T00:00:00\", \"2020-11-12T00:00:00\", \"2020-11-11T00:00:00\", \"2020-11-10T00:00:00\", \"2020-11-09T00:00:00\", \"2020-11-08T00:00:00\", \"2020-11-07T00:00:00\", \"2020-11-06T00:00:00\", \"2020-11-05T00:00:00\", \"2020-11-04T00:00:00\", \"2020-11-03T00:00:00\", \"2020-11-02T00:00:00\", \"2020-11-01T00:00:00\", \"2020-10-31T00:00:00\", \"2020-10-30T00:00:00\", \"2020-10-29T00:00:00\", \"2020-10-28T00:00:00\", \"2020-10-27T00:00:00\", \"2020-10-26T00:00:00\", \"2020-10-25T00:00:00\", \"2020-10-24T00:00:00\", \"2020-10-23T00:00:00\", \"2020-10-22T00:00:00\"], \"xaxis\": \"x\", \"y\": [17413.01837459, -6092.09053818, -10347.65827833, -2644.31780229, 4471.67403268, 1578.91772735, 465.92824707, 5734.72323883, -2497.83603263, 7233.47148361, -3657.8855921, 8907.27011554, -4437.58241776, -420.70261332, 3522.56053355, -4546.95002232, -1118.61461024, -2450.54083589, 7510.03946383, 8721.54618475, -7256.73266579, -1313.792235, -3708.34592162, -6264.05984847, 3364.63140154, 1874.86381995, 10189.63213552, -36348.72726533, -15351.8900192, -9613.74574894, 5078.27310135, -13777.05758159, -373.33458289, 13816.14231087, 3493.61786764, 10270.16785514, 592.54380596, -1822.70605154, -19304.92325674, -716.18398994, -5410.23141283, 5956.01877786, -78.65406556, 10929.94655538, -19163.35051357, -6046.1870928, 5889.10894874, 7522.42046358, 36303.69416713, 4146.89196429, -30749.3479166, -6096.16141239, -4820.07450385, 340.53410931, -1743.47046313, 3505.12229533, -15014.33130902, -822.54903836, -7533.80047628, 11901.79132894, 3582.59685489, -4897.62886188, -2227.1342879, 3831.31631614, 17490.23458183, 7944.29319842, -5070.05182191, -765.78733544, -1583.79382839, 8759.9255964, 1670.0943903, 490.66539428, -169.82692233, 8042.64572938, -7920.32286315, -4870.91329606, 8371.8982347, -518.36039724, -6892.86858453, -1148.68568826, -12327.04384222, 352.25039387, -2221.78903461, 2147.85937513, 5190.36713662, 6385.45757957, -12312.97189106, -15191.23858208, -29307.69904785, -230.59134895, 5715.27243694, -7885.84009397, -2308.50977896, 722.67993228, -8613.52452434, -8352.01838234, -1802.00455595, -5204.8423528, -3542.23780172, -1298.38576877], \"yaxis\": \"y\"}, {\"mode\": \"lines\", \"name\": \"BTC Price\", \"type\": \"scatter\", \"x\": [\"2021-01-29T00:00:00\", \"2021-01-28T00:00:00\", \"2021-01-27T00:00:00\", \"2021-01-26T00:00:00\", \"2021-01-25T00:00:00\", \"2021-01-24T00:00:00\", \"2021-01-23T00:00:00\", \"2021-01-22T00:00:00\", \"2021-01-21T00:00:00\", \"2021-01-20T00:00:00\", \"2021-01-19T00:00:00\", \"2021-01-18T00:00:00\", \"2021-01-17T00:00:00\", \"2021-01-16T00:00:00\", \"2021-01-15T00:00:00\", \"2021-01-14T00:00:00\", \"2021-01-13T00:00:00\", \"2021-01-12T00:00:00\", \"2021-01-11T00:00:00\", \"2021-01-10T00:00:00\", \"2021-01-09T00:00:00\", \"2021-01-08T00:00:00\", \"2021-01-07T00:00:00\", \"2021-01-06T00:00:00\", \"2021-01-05T00:00:00\", \"2021-01-04T00:00:00\", \"2021-01-03T00:00:00\", \"2021-01-02T00:00:00\", \"2021-01-01T00:00:00\", \"2020-12-31T00:00:00\", \"2020-12-30T00:00:00\", \"2020-12-29T00:00:00\", \"2020-12-28T00:00:00\", \"2020-12-27T00:00:00\", \"2020-12-26T00:00:00\", \"2020-12-25T00:00:00\", \"2020-12-24T00:00:00\", \"2020-12-23T00:00:00\", \"2020-12-22T00:00:00\", \"2020-12-21T00:00:00\", \"2020-12-20T00:00:00\", \"2020-12-19T00:00:00\", \"2020-12-18T00:00:00\", \"2020-12-17T00:00:00\", \"2020-12-16T00:00:00\", \"2020-12-15T00:00:00\", \"2020-12-14T00:00:00\", \"2020-12-13T00:00:00\", \"2020-12-12T00:00:00\", \"2020-12-11T00:00:00\", \"2020-12-10T00:00:00\", \"2020-12-09T00:00:00\", \"2020-12-08T00:00:00\", \"2020-12-07T00:00:00\", \"2020-12-06T00:00:00\", \"2020-12-05T00:00:00\", \"2020-12-04T00:00:00\", \"2020-12-03T00:00:00\", \"2020-12-02T00:00:00\", \"2020-12-01T00:00:00\", \"2020-11-30T00:00:00\", \"2020-11-29T00:00:00\", \"2020-11-28T00:00:00\", \"2020-11-27T00:00:00\", \"2020-11-26T00:00:00\", \"2020-11-25T00:00:00\", \"2020-11-24T00:00:00\", \"2020-11-23T00:00:00\", \"2020-11-22T00:00:00\", \"2020-11-21T00:00:00\", \"2020-11-20T00:00:00\", \"2020-11-19T00:00:00\", \"2020-11-18T00:00:00\", \"2020-11-17T00:00:00\", \"2020-11-16T00:00:00\", \"2020-11-15T00:00:00\", \"2020-11-14T00:00:00\", \"2020-11-13T00:00:00\", \"2020-11-12T00:00:00\", \"2020-11-11T00:00:00\", \"2020-11-10T00:00:00\", \"2020-11-09T00:00:00\", \"2020-11-08T00:00:00\", \"2020-11-07T00:00:00\", \"2020-11-06T00:00:00\", \"2020-11-05T00:00:00\", \"2020-11-04T00:00:00\", \"2020-11-03T00:00:00\", \"2020-11-02T00:00:00\", \"2020-11-01T00:00:00\", \"2020-10-31T00:00:00\", \"2020-10-30T00:00:00\", \"2020-10-29T00:00:00\", \"2020-10-28T00:00:00\", \"2020-10-27T00:00:00\", \"2020-10-26T00:00:00\", \"2020-10-25T00:00:00\", \"2020-10-24T00:00:00\", \"2020-10-23T00:00:00\", \"2020-10-22T00:00:00\"], \"xaxis\": \"x\", \"y\": [34244.50666667, 33383.74666667, 30385.11166667, 32489.385, 32254.145, 32274.55166667, 32085.30166667, 32968.30166667, 30848.48666667, 35481.915, 35888.90166667, 36641.19333333, 35830.79166667, 35991.39, 36761.81833333, 39151.97833333, 37383.33333333, 34036.68833333, 35437.07833333, 38175.31166667, 40149.15166667, 40616.90666667, 39470.805, 36815.30833333, 33994.42166667, 32017.40333333, 33034.825, 32195.855, 29355.46333333, 28937.49, 28882.456, 27383.052, 27061.882, 26269.252, 26481.48, 24709.222, 23738.966, 23232.5, 23823.922, 22732.018, 23468.85166667, 23838.035, 23125.19333333, 22809.865, 21350.32333333, 19431.14333333, 19274.44, 19165.84333333, 18811.56666667, 18037.31464632, 18253.06149388, 18544.70111111, 18311.06333333, 19183.65555556, 19382.50238556, 19154.80444444, 18658.96333333, 19433.22222222, 19218.69111111, 18776.50222222, 19706.38333333, 18184.06666667, 17667.006, 17147.10683023, 17262.885, 18753.232, 19154.9938724, 18380.512, 18468.909, 18703.60105401, 18627.72364452, 17821.642, 17740.902, 17623.93333333, 16702.0, 15931.0, 16069.0, 16318.0, 16293.0, 15688.0, 15302.0, 15322.0, 15478.0, 14803.0, 15567.0, 15588.0, 14146.0, 14022.0, 13543.0, 13757.0, 13735.0, 13558.0, 13452.0, 13272.0, 13632.0, 13049.0, 13028.0, 13106.0, 12930.0, 12963.0], \"yaxis\": \"y2\"}],                        {\"height\": 600, \"template\": {\"data\": {\"bar\": [{\"error_x\": {\"color\": \"#2a3f5f\"}, \"error_y\": {\"color\": \"#2a3f5f\"}, \"marker\": {\"line\": {\"color\": \"#E5ECF6\", \"width\": 0.5}}, \"type\": \"bar\"}], \"barpolar\": [{\"marker\": {\"line\": {\"color\": \"#E5ECF6\", \"width\": 0.5}}, \"type\": \"barpolar\"}], \"carpet\": [{\"aaxis\": {\"endlinecolor\": \"#2a3f5f\", \"gridcolor\": \"white\", \"linecolor\": \"white\", \"minorgridcolor\": \"white\", \"startlinecolor\": \"#2a3f5f\"}, \"baxis\": {\"endlinecolor\": \"#2a3f5f\", \"gridcolor\": \"white\", \"linecolor\": \"white\", \"minorgridcolor\": \"white\", \"startlinecolor\": \"#2a3f5f\"}, \"type\": \"carpet\"}], \"choropleth\": [{\"colorbar\": {\"outlinewidth\": 0, \"ticks\": \"\"}, \"type\": \"choropleth\"}], \"contour\": [{\"colorbar\": {\"outlinewidth\": 0, \"ticks\": \"\"}, \"colorscale\": [[0.0, \"#0d0887\"], [0.1111111111111111, \"#46039f\"], [0.2222222222222222, \"#7201a8\"], [0.3333333333333333, \"#9c179e\"], [0.4444444444444444, \"#bd3786\"], [0.5555555555555556, \"#d8576b\"], [0.6666666666666666, \"#ed7953\"], [0.7777777777777778, \"#fb9f3a\"], [0.8888888888888888, \"#fdca26\"], [1.0, \"#f0f921\"]], \"type\": \"contour\"}], \"contourcarpet\": [{\"colorbar\": {\"outlinewidth\": 0, \"ticks\": \"\"}, \"type\": \"contourcarpet\"}], \"heatmap\": [{\"colorbar\": {\"outlinewidth\": 0, \"ticks\": \"\"}, \"colorscale\": [[0.0, \"#0d0887\"], [0.1111111111111111, \"#46039f\"], [0.2222222222222222, \"#7201a8\"], [0.3333333333333333, \"#9c179e\"], [0.4444444444444444, \"#bd3786\"], [0.5555555555555556, \"#d8576b\"], [0.6666666666666666, \"#ed7953\"], [0.7777777777777778, \"#fb9f3a\"], [0.8888888888888888, \"#fdca26\"], [1.0, \"#f0f921\"]], \"type\": \"heatmap\"}], \"heatmapgl\": [{\"colorbar\": {\"outlinewidth\": 0, \"ticks\": \"\"}, \"colorscale\": [[0.0, \"#0d0887\"], [0.1111111111111111, \"#46039f\"], [0.2222222222222222, \"#7201a8\"], [0.3333333333333333, \"#9c179e\"], [0.4444444444444444, \"#bd3786\"], [0.5555555555555556, \"#d8576b\"], [0.6666666666666666, \"#ed7953\"], [0.7777777777777778, \"#fb9f3a\"], [0.8888888888888888, \"#fdca26\"], [1.0, \"#f0f921\"]], \"type\": \"heatmapgl\"}], \"histogram\": [{\"marker\": {\"colorbar\": {\"outlinewidth\": 0, \"ticks\": \"\"}}, \"type\": \"histogram\"}], \"histogram2d\": [{\"colorbar\": {\"outlinewidth\": 0, \"ticks\": \"\"}, \"colorscale\": [[0.0, \"#0d0887\"], [0.1111111111111111, \"#46039f\"], [0.2222222222222222, \"#7201a8\"], [0.3333333333333333, \"#9c179e\"], [0.4444444444444444, \"#bd3786\"], [0.5555555555555556, \"#d8576b\"], [0.6666666666666666, \"#ed7953\"], [0.7777777777777778, \"#fb9f3a\"], [0.8888888888888888, \"#fdca26\"], [1.0, \"#f0f921\"]], \"type\": \"histogram2d\"}], \"histogram2dcontour\": [{\"colorbar\": {\"outlinewidth\": 0, \"ticks\": \"\"}, \"colorscale\": [[0.0, \"#0d0887\"], [0.1111111111111111, \"#46039f\"], [0.2222222222222222, \"#7201a8\"], [0.3333333333333333, \"#9c179e\"], [0.4444444444444444, \"#bd3786\"], [0.5555555555555556, \"#d8576b\"], [0.6666666666666666, \"#ed7953\"], [0.7777777777777778, \"#fb9f3a\"], [0.8888888888888888, \"#fdca26\"], [1.0, \"#f0f921\"]], \"type\": \"histogram2dcontour\"}], \"mesh3d\": [{\"colorbar\": {\"outlinewidth\": 0, \"ticks\": \"\"}, \"type\": \"mesh3d\"}], \"parcoords\": [{\"line\": {\"colorbar\": {\"outlinewidth\": 0, \"ticks\": \"\"}}, \"type\": \"parcoords\"}], \"pie\": [{\"automargin\": true, \"type\": \"pie\"}], \"scatter\": [{\"marker\": {\"colorbar\": {\"outlinewidth\": 0, \"ticks\": \"\"}}, \"type\": \"scatter\"}], \"scatter3d\": [{\"line\": {\"colorbar\": {\"outlinewidth\": 0, \"ticks\": \"\"}}, \"marker\": {\"colorbar\": {\"outlinewidth\": 0, \"ticks\": \"\"}}, \"type\": \"scatter3d\"}], \"scattercarpet\": [{\"marker\": {\"colorbar\": {\"outlinewidth\": 0, \"ticks\": \"\"}}, \"type\": \"scattercarpet\"}], \"scattergeo\": [{\"marker\": {\"colorbar\": {\"outlinewidth\": 0, \"ticks\": \"\"}}, \"type\": \"scattergeo\"}], \"scattergl\": [{\"marker\": {\"colorbar\": {\"outlinewidth\": 0, \"ticks\": \"\"}}, \"type\": \"scattergl\"}], \"scattermapbox\": [{\"marker\": {\"colorbar\": {\"outlinewidth\": 0, \"ticks\": \"\"}}, \"type\": \"scattermapbox\"}], \"scatterpolar\": [{\"marker\": {\"colorbar\": {\"outlinewidth\": 0, \"ticks\": \"\"}}, \"type\": \"scatterpolar\"}], \"scatterpolargl\": [{\"marker\": {\"colorbar\": {\"outlinewidth\": 0, \"ticks\": \"\"}}, \"type\": \"scatterpolargl\"}], \"scatterternary\": [{\"marker\": {\"colorbar\": {\"outlinewidth\": 0, \"ticks\": \"\"}}, \"type\": \"scatterternary\"}], \"surface\": [{\"colorbar\": {\"outlinewidth\": 0, \"ticks\": \"\"}, \"colorscale\": [[0.0, \"#0d0887\"], [0.1111111111111111, \"#46039f\"], [0.2222222222222222, \"#7201a8\"], [0.3333333333333333, \"#9c179e\"], [0.4444444444444444, \"#bd3786\"], [0.5555555555555556, \"#d8576b\"], [0.6666666666666666, \"#ed7953\"], [0.7777777777777778, \"#fb9f3a\"], [0.8888888888888888, \"#fdca26\"], [1.0, \"#f0f921\"]], \"type\": \"surface\"}], \"table\": [{\"cells\": {\"fill\": {\"color\": \"#EBF0F8\"}, \"line\": {\"color\": \"white\"}}, \"header\": {\"fill\": {\"color\": \"#C8D4E3\"}, \"line\": {\"color\": \"white\"}}, \"type\": \"table\"}]}, \"layout\": {\"annotationdefaults\": {\"arrowcolor\": \"#2a3f5f\", \"arrowhead\": 0, \"arrowwidth\": 1}, \"autotypenumbers\": \"strict\", \"coloraxis\": {\"colorbar\": {\"outlinewidth\": 0, \"ticks\": \"\"}}, \"colorscale\": {\"diverging\": [[0, \"#8e0152\"], [0.1, \"#c51b7d\"], [0.2, \"#de77ae\"], [0.3, \"#f1b6da\"], [0.4, \"#fde0ef\"], [0.5, \"#f7f7f7\"], [0.6, \"#e6f5d0\"], [0.7, \"#b8e186\"], [0.8, \"#7fbc41\"], [0.9, \"#4d9221\"], [1, \"#276419\"]], \"sequential\": [[0.0, \"#0d0887\"], [0.1111111111111111, \"#46039f\"], [0.2222222222222222, \"#7201a8\"], [0.3333333333333333, \"#9c179e\"], [0.4444444444444444, \"#bd3786\"], [0.5555555555555556, \"#d8576b\"], [0.6666666666666666, \"#ed7953\"], [0.7777777777777778, \"#fb9f3a\"], [0.8888888888888888, \"#fdca26\"], [1.0, \"#f0f921\"]], \"sequentialminus\": [[0.0, \"#0d0887\"], [0.1111111111111111, \"#46039f\"], [0.2222222222222222, \"#7201a8\"], [0.3333333333333333, \"#9c179e\"], [0.4444444444444444, \"#bd3786\"], [0.5555555555555556, \"#d8576b\"], [0.6666666666666666, \"#ed7953\"], [0.7777777777777778, \"#fb9f3a\"], [0.8888888888888888, \"#fdca26\"], [1.0, \"#f0f921\"]]}, \"colorway\": [\"#636efa\", \"#EF553B\", \"#00cc96\", \"#ab63fa\", \"#FFA15A\", \"#19d3f3\", \"#FF6692\", \"#B6E880\", \"#FF97FF\", \"#FECB52\"], \"font\": {\"color\": \"#2a3f5f\"}, \"geo\": {\"bgcolor\": \"white\", \"lakecolor\": \"white\", \"landcolor\": \"#E5ECF6\", \"showlakes\": true, \"showland\": true, \"subunitcolor\": \"white\"}, \"hoverlabel\": {\"align\": \"left\"}, \"hovermode\": \"closest\", \"mapbox\": {\"style\": \"light\"}, \"paper_bgcolor\": \"white\", \"plot_bgcolor\": \"#E5ECF6\", \"polar\": {\"angularaxis\": {\"gridcolor\": \"white\", \"linecolor\": \"white\", \"ticks\": \"\"}, \"bgcolor\": \"#E5ECF6\", \"radialaxis\": {\"gridcolor\": \"white\", \"linecolor\": \"white\", \"ticks\": \"\"}}, \"scene\": {\"xaxis\": {\"backgroundcolor\": \"#E5ECF6\", \"gridcolor\": \"white\", \"gridwidth\": 2, \"linecolor\": \"white\", \"showbackground\": true, \"ticks\": \"\", \"zerolinecolor\": \"white\"}, \"yaxis\": {\"backgroundcolor\": \"#E5ECF6\", \"gridcolor\": \"white\", \"gridwidth\": 2, \"linecolor\": \"white\", \"showbackground\": true, \"ticks\": \"\", \"zerolinecolor\": \"white\"}, \"zaxis\": {\"backgroundcolor\": \"#E5ECF6\", \"gridcolor\": \"white\", \"gridwidth\": 2, \"linecolor\": \"white\", \"showbackground\": true, \"ticks\": \"\", \"zerolinecolor\": \"white\"}}, \"shapedefaults\": {\"line\": {\"color\": \"#2a3f5f\"}}, \"ternary\": {\"aaxis\": {\"gridcolor\": \"white\", \"linecolor\": \"white\", \"ticks\": \"\"}, \"baxis\": {\"gridcolor\": \"white\", \"linecolor\": \"white\", \"ticks\": \"\"}, \"bgcolor\": \"#E5ECF6\", \"caxis\": {\"gridcolor\": \"white\", \"linecolor\": \"white\", \"ticks\": \"\"}}, \"title\": {\"x\": 0.05}, \"xaxis\": {\"automargin\": true, \"gridcolor\": \"white\", \"linecolor\": \"white\", \"ticks\": \"\", \"title\": {\"standoff\": 15}, \"zerolinecolor\": \"white\", \"zerolinewidth\": 2}, \"yaxis\": {\"automargin\": true, \"gridcolor\": \"white\", \"linecolor\": \"white\", \"ticks\": \"\", \"title\": {\"standoff\": 15}, \"zerolinecolor\": \"white\", \"zerolinewidth\": 2}}}, \"title\": {\"text\": \"BTC Price & Netflow Data\"}, \"width\": 1500, \"xaxis\": {\"anchor\": \"y\", \"domain\": [0.0, 0.94], \"title\": {\"text\": \"Date\"}}, \"yaxis\": {\"anchor\": \"x\", \"domain\": [0.0, 1.0], \"title\": {\"text\": \"Exchange Netflow\"}}, \"yaxis2\": {\"anchor\": \"x\", \"overlaying\": \"y\", \"side\": \"right\", \"title\": {\"text\": \"BTC Market Price\"}}},                        {\"responsive\": true}                    ).then(function(){\n",
       "                            \n",
       "var gd = document.getElementById('7b833cc7-2d96-4568-812f-78e6e1a9254c');\n",
       "var x = new MutationObserver(function (mutations, observer) {{\n",
       "        var display = window.getComputedStyle(gd).display;\n",
       "        if (!display || display === 'none') {{\n",
       "            console.log([gd, 'removed!']);\n",
       "            Plotly.purge(gd);\n",
       "            observer.disconnect();\n",
       "        }}\n",
       "}});\n",
       "\n",
       "// Listen for the removal of the full notebook cells\n",
       "var notebookContainer = gd.closest('#notebook-container');\n",
       "if (notebookContainer) {{\n",
       "    x.observe(notebookContainer, {childList: true});\n",
       "}}\n",
       "\n",
       "// Listen for the clearing of the current output cell\n",
       "var outputEl = gd.closest('.output');\n",
       "if (outputEl) {{\n",
       "    x.observe(outputEl, {childList: true});\n",
       "}}\n",
       "\n",
       "                        })                };                });            </script>        </div>"
      ]
     },
     "metadata": {},
     "output_type": "display_data"
    },
    {
     "name": "stdout",
     "output_type": "stream",
     "text": [
      "Pearsons Correlation of Netflow to Price: 0.07633298907264963\n"
     ]
    }
   ],
   "source": [
    "\n",
    "fig3 = make_subplots(specs=[[{'secondary_y':True}]])\n",
    "\n",
    "#fig3=go.Figure()\n",
    "\n",
    "fig3.add_trace(\n",
    "    go.Scatter(mode = 'lines',x=netflow_df['date'],y=netflow_df['netflow_total'], name = 'All Exchange Netflow'),\n",
    "    secondary_y=False \n",
    ")\n",
    "\n",
    "fig3.add_trace(\n",
    "    go.Scatter(mode = 'lines',x=price_df['date'], y =price_df['price_usd_close'], name = 'BTC Price'),\n",
    "    secondary_y=True \n",
    ")\n",
    "\n",
    "fig3.update_layout(\n",
    "    height = 600,width = 1500,\n",
    "    title_text = 'BTC Price & Netflow Data'\n",
    ")\n",
    "\n",
    "fig3.update_xaxes(title_text = 'Date')\n",
    "\n",
    "fig3.update_yaxes(title_text='Exchange Netflow', secondary_y= False)\n",
    "fig3.update_yaxes(title_text='BTC Market Price', secondary_y= True)\n",
    "\n",
    "\n",
    "\n",
    "fig3.show()\n",
    "netflow_price_corr = get_pearsons_coefficient(netflow_btc_df['netflow_total'], price_btc_df['price_usd_close'])\n",
    "print(f'Pearsons Correlation of Netflow to Price: {netflow_price_corr}')"
   ]
  },
  {
   "cell_type": "code",
   "execution_count": 77,
   "metadata": {},
   "outputs": [
    {
     "data": {
      "application/vnd.plotly.v1+json": {
       "config": {
        "plotlyServerURL": "https://plot.ly"
       },
       "data": [
        {
         "mode": "lines",
         "name": "MVRV Ratio",
         "type": "scatter",
         "x": [
          "2021-01-29T00:00:00",
          "2021-01-28T00:00:00",
          "2021-01-27T00:00:00",
          "2021-01-26T00:00:00",
          "2021-01-25T00:00:00",
          "2021-01-24T00:00:00",
          "2021-01-23T00:00:00",
          "2021-01-22T00:00:00",
          "2021-01-21T00:00:00",
          "2021-01-20T00:00:00",
          "2021-01-19T00:00:00",
          "2021-01-18T00:00:00",
          "2021-01-17T00:00:00",
          "2021-01-16T00:00:00",
          "2021-01-15T00:00:00",
          "2021-01-14T00:00:00",
          "2021-01-13T00:00:00",
          "2021-01-12T00:00:00",
          "2021-01-11T00:00:00",
          "2021-01-10T00:00:00",
          "2021-01-09T00:00:00",
          "2021-01-08T00:00:00",
          "2021-01-07T00:00:00",
          "2021-01-06T00:00:00",
          "2021-01-05T00:00:00",
          "2021-01-04T00:00:00",
          "2021-01-03T00:00:00",
          "2021-01-02T00:00:00",
          "2021-01-01T00:00:00",
          "2020-12-31T00:00:00",
          "2020-12-30T00:00:00",
          "2020-12-29T00:00:00",
          "2020-12-28T00:00:00",
          "2020-12-27T00:00:00",
          "2020-12-26T00:00:00",
          "2020-12-25T00:00:00",
          "2020-12-24T00:00:00",
          "2020-12-23T00:00:00",
          "2020-12-22T00:00:00",
          "2020-12-21T00:00:00",
          "2020-12-20T00:00:00",
          "2020-12-19T00:00:00",
          "2020-12-18T00:00:00",
          "2020-12-17T00:00:00",
          "2020-12-16T00:00:00",
          "2020-12-15T00:00:00",
          "2020-12-14T00:00:00",
          "2020-12-13T00:00:00",
          "2020-12-12T00:00:00",
          "2020-12-11T00:00:00",
          "2020-12-10T00:00:00",
          "2020-12-09T00:00:00",
          "2020-12-08T00:00:00",
          "2020-12-07T00:00:00",
          "2020-12-06T00:00:00",
          "2020-12-05T00:00:00",
          "2020-12-04T00:00:00",
          "2020-12-03T00:00:00",
          "2020-12-02T00:00:00",
          "2020-12-01T00:00:00",
          "2020-11-30T00:00:00",
          "2020-11-29T00:00:00",
          "2020-11-28T00:00:00",
          "2020-11-27T00:00:00",
          "2020-11-26T00:00:00",
          "2020-11-25T00:00:00",
          "2020-11-24T00:00:00",
          "2020-11-23T00:00:00",
          "2020-11-22T00:00:00",
          "2020-11-21T00:00:00",
          "2020-11-20T00:00:00",
          "2020-11-19T00:00:00",
          "2020-11-18T00:00:00",
          "2020-11-17T00:00:00",
          "2020-11-16T00:00:00",
          "2020-11-15T00:00:00",
          "2020-11-14T00:00:00",
          "2020-11-13T00:00:00",
          "2020-11-12T00:00:00",
          "2020-11-11T00:00:00",
          "2020-11-10T00:00:00",
          "2020-11-09T00:00:00",
          "2020-11-08T00:00:00",
          "2020-11-07T00:00:00",
          "2020-11-06T00:00:00",
          "2020-11-05T00:00:00",
          "2020-11-04T00:00:00",
          "2020-11-03T00:00:00",
          "2020-11-02T00:00:00",
          "2020-11-01T00:00:00",
          "2020-10-31T00:00:00",
          "2020-10-30T00:00:00",
          "2020-10-29T00:00:00",
          "2020-10-28T00:00:00",
          "2020-10-27T00:00:00",
          "2020-10-26T00:00:00",
          "2020-10-25T00:00:00",
          "2020-10-24T00:00:00",
          "2020-10-23T00:00:00",
          "2020-10-22T00:00:00"
         ],
         "xaxis": "x",
         "y": [
          2.6354380606757677,
          2.5912855249012003,
          2.36761424339584,
          2.544537277439638,
          2.5278544607934275,
          2.534876553207584,
          2.5220475808232723,
          2.594883382815771,
          2.4296702131408106,
          2.7961047217811466,
          2.8330962826206245,
          2.905155165809809,
          2.855650125285471,
          2.8749959572512127,
          2.9463547957717924,
          3.154689294464372,
          3.041981829343562,
          2.7835542895615726,
          2.9155849455868927,
          3.1559134785762137,
          3.345137781385452,
          3.436897085002972,
          3.4194044388248153,
          3.275032361783254,
          3.071399848243089,
          2.9309120183108295,
          3.064849115685386,
          3.034638466174086,
          2.809810296507573,
          2.7971202129778483,
          2.811698028668875,
          2.690944614497448,
          2.6949198690888885,
          2.6698589151600185,
          2.719759233872244,
          2.5513018001403855,
          2.4567519952518055,
          2.423243093885043,
          2.507009867062586,
          2.4148229199726234,
          2.503559583940544,
          2.556084183041424,
          2.490779207496166,
          2.4930234113683176,
          2.367167034593871,
          2.1703628370937236,
          2.159339652400377,
          2.152008557020764,
          2.126767562745587,
          2.044078434317297,
          2.0713995694567973,
          2.1112692098908643,
          2.0881466357739087,
          2.1925846910714766,
          2.220454922402026,
          2.1969525821296227,
          2.1423465265292934,
          2.237424145858159,
          2.220625219006216,
          2.1787864985663745,
          2.2962324758499757,
          2.13302990658132,
          2.0755963040846135,
          2.016646872200853,
          2.0343481614592003,
          2.2154273689277098,
          2.2699222496579323,
          2.1920186620589015,
          2.209029236301852,
          2.2410974850814673,
          2.241423175149638,
          2.1630747239689607,
          2.1593007465882783,
          2.164001754851652,
          2.0618899621209787,
          1.971740742544034,
          1.9907512602769304,
          2.0246521733958347,
          2.0274600698067866,
          1.958731189644644,
          1.9203484151148345,
          1.9268658497112525,
          1.9510910567827429,
          1.872374978236647,
          1.9715440014151393,
          1.9833454470229628,
          1.8114835869703425,
          1.800188629466672,
          1.7600614727113926,
          1.7919849155732774,
          1.7922182767692239,
          1.7717571962557142,
          1.7599950110197549,
          1.739762784974652,
          1.7906039058085597,
          1.718608783903993,
          1.7175092104987828,
          1.7294660354270612,
          1.7092007414049422,
          1.7209723155102097
         ],
         "yaxis": "y"
        },
        {
         "mode": "lines",
         "name": "BTC Price",
         "type": "scatter",
         "x": [
          "2021-01-29T00:00:00",
          "2021-01-28T00:00:00",
          "2021-01-27T00:00:00",
          "2021-01-26T00:00:00",
          "2021-01-25T00:00:00",
          "2021-01-24T00:00:00",
          "2021-01-23T00:00:00",
          "2021-01-22T00:00:00",
          "2021-01-21T00:00:00",
          "2021-01-20T00:00:00",
          "2021-01-19T00:00:00",
          "2021-01-18T00:00:00",
          "2021-01-17T00:00:00",
          "2021-01-16T00:00:00",
          "2021-01-15T00:00:00",
          "2021-01-14T00:00:00",
          "2021-01-13T00:00:00",
          "2021-01-12T00:00:00",
          "2021-01-11T00:00:00",
          "2021-01-10T00:00:00",
          "2021-01-09T00:00:00",
          "2021-01-08T00:00:00",
          "2021-01-07T00:00:00",
          "2021-01-06T00:00:00",
          "2021-01-05T00:00:00",
          "2021-01-04T00:00:00",
          "2021-01-03T00:00:00",
          "2021-01-02T00:00:00",
          "2021-01-01T00:00:00",
          "2020-12-31T00:00:00",
          "2020-12-30T00:00:00",
          "2020-12-29T00:00:00",
          "2020-12-28T00:00:00",
          "2020-12-27T00:00:00",
          "2020-12-26T00:00:00",
          "2020-12-25T00:00:00",
          "2020-12-24T00:00:00",
          "2020-12-23T00:00:00",
          "2020-12-22T00:00:00",
          "2020-12-21T00:00:00",
          "2020-12-20T00:00:00",
          "2020-12-19T00:00:00",
          "2020-12-18T00:00:00",
          "2020-12-17T00:00:00",
          "2020-12-16T00:00:00",
          "2020-12-15T00:00:00",
          "2020-12-14T00:00:00",
          "2020-12-13T00:00:00",
          "2020-12-12T00:00:00",
          "2020-12-11T00:00:00",
          "2020-12-10T00:00:00",
          "2020-12-09T00:00:00",
          "2020-12-08T00:00:00",
          "2020-12-07T00:00:00",
          "2020-12-06T00:00:00",
          "2020-12-05T00:00:00",
          "2020-12-04T00:00:00",
          "2020-12-03T00:00:00",
          "2020-12-02T00:00:00",
          "2020-12-01T00:00:00",
          "2020-11-30T00:00:00",
          "2020-11-29T00:00:00",
          "2020-11-28T00:00:00",
          "2020-11-27T00:00:00",
          "2020-11-26T00:00:00",
          "2020-11-25T00:00:00",
          "2020-11-24T00:00:00",
          "2020-11-23T00:00:00",
          "2020-11-22T00:00:00",
          "2020-11-21T00:00:00",
          "2020-11-20T00:00:00",
          "2020-11-19T00:00:00",
          "2020-11-18T00:00:00",
          "2020-11-17T00:00:00",
          "2020-11-16T00:00:00",
          "2020-11-15T00:00:00",
          "2020-11-14T00:00:00",
          "2020-11-13T00:00:00",
          "2020-11-12T00:00:00",
          "2020-11-11T00:00:00",
          "2020-11-10T00:00:00",
          "2020-11-09T00:00:00",
          "2020-11-08T00:00:00",
          "2020-11-07T00:00:00",
          "2020-11-06T00:00:00",
          "2020-11-05T00:00:00",
          "2020-11-04T00:00:00",
          "2020-11-03T00:00:00",
          "2020-11-02T00:00:00",
          "2020-11-01T00:00:00",
          "2020-10-31T00:00:00",
          "2020-10-30T00:00:00",
          "2020-10-29T00:00:00",
          "2020-10-28T00:00:00",
          "2020-10-27T00:00:00",
          "2020-10-26T00:00:00",
          "2020-10-25T00:00:00",
          "2020-10-24T00:00:00",
          "2020-10-23T00:00:00",
          "2020-10-22T00:00:00"
         ],
         "xaxis": "x",
         "y": [
          34244.50666667,
          33383.74666667,
          30385.11166667,
          32489.385,
          32254.145,
          32274.55166667,
          32085.30166667,
          32968.30166667,
          30848.48666667,
          35481.915,
          35888.90166667,
          36641.19333333,
          35830.79166667,
          35991.39,
          36761.81833333,
          39151.97833333,
          37383.33333333,
          34036.68833333,
          35437.07833333,
          38175.31166667,
          40149.15166667,
          40616.90666667,
          39470.805,
          36815.30833333,
          33994.42166667,
          32017.40333333,
          33034.825,
          32195.855,
          29355.46333333,
          28937.49,
          28882.456,
          27383.052,
          27061.882,
          26269.252,
          26481.48,
          24709.222,
          23738.966,
          23232.5,
          23823.922,
          22732.018,
          23468.85166667,
          23838.035,
          23125.19333333,
          22809.865,
          21350.32333333,
          19431.14333333,
          19274.44,
          19165.84333333,
          18811.56666667,
          18037.31464632,
          18253.06149388,
          18544.70111111,
          18311.06333333,
          19183.65555556,
          19382.50238556,
          19154.80444444,
          18658.96333333,
          19433.22222222,
          19218.69111111,
          18776.50222222,
          19706.38333333,
          18184.06666667,
          17667.006,
          17147.10683023,
          17262.885,
          18753.232,
          19154.9938724,
          18380.512,
          18468.909,
          18703.60105401,
          18627.72364452,
          17821.642,
          17740.902,
          17623.93333333,
          16702,
          15931,
          16069,
          16318,
          16293,
          15688,
          15302,
          15322,
          15478,
          14803,
          15567,
          15588,
          14146,
          14022,
          13543,
          13757,
          13735,
          13558,
          13452,
          13272,
          13632,
          13049,
          13028,
          13106,
          12930,
          12963
         ],
         "yaxis": "y2"
        }
       ],
       "layout": {
        "height": 600,
        "template": {
         "data": {
          "bar": [
           {
            "error_x": {
             "color": "#2a3f5f"
            },
            "error_y": {
             "color": "#2a3f5f"
            },
            "marker": {
             "line": {
              "color": "#E5ECF6",
              "width": 0.5
             }
            },
            "type": "bar"
           }
          ],
          "barpolar": [
           {
            "marker": {
             "line": {
              "color": "#E5ECF6",
              "width": 0.5
             }
            },
            "type": "barpolar"
           }
          ],
          "carpet": [
           {
            "aaxis": {
             "endlinecolor": "#2a3f5f",
             "gridcolor": "white",
             "linecolor": "white",
             "minorgridcolor": "white",
             "startlinecolor": "#2a3f5f"
            },
            "baxis": {
             "endlinecolor": "#2a3f5f",
             "gridcolor": "white",
             "linecolor": "white",
             "minorgridcolor": "white",
             "startlinecolor": "#2a3f5f"
            },
            "type": "carpet"
           }
          ],
          "choropleth": [
           {
            "colorbar": {
             "outlinewidth": 0,
             "ticks": ""
            },
            "type": "choropleth"
           }
          ],
          "contour": [
           {
            "colorbar": {
             "outlinewidth": 0,
             "ticks": ""
            },
            "colorscale": [
             [
              0,
              "#0d0887"
             ],
             [
              0.1111111111111111,
              "#46039f"
             ],
             [
              0.2222222222222222,
              "#7201a8"
             ],
             [
              0.3333333333333333,
              "#9c179e"
             ],
             [
              0.4444444444444444,
              "#bd3786"
             ],
             [
              0.5555555555555556,
              "#d8576b"
             ],
             [
              0.6666666666666666,
              "#ed7953"
             ],
             [
              0.7777777777777778,
              "#fb9f3a"
             ],
             [
              0.8888888888888888,
              "#fdca26"
             ],
             [
              1,
              "#f0f921"
             ]
            ],
            "type": "contour"
           }
          ],
          "contourcarpet": [
           {
            "colorbar": {
             "outlinewidth": 0,
             "ticks": ""
            },
            "type": "contourcarpet"
           }
          ],
          "heatmap": [
           {
            "colorbar": {
             "outlinewidth": 0,
             "ticks": ""
            },
            "colorscale": [
             [
              0,
              "#0d0887"
             ],
             [
              0.1111111111111111,
              "#46039f"
             ],
             [
              0.2222222222222222,
              "#7201a8"
             ],
             [
              0.3333333333333333,
              "#9c179e"
             ],
             [
              0.4444444444444444,
              "#bd3786"
             ],
             [
              0.5555555555555556,
              "#d8576b"
             ],
             [
              0.6666666666666666,
              "#ed7953"
             ],
             [
              0.7777777777777778,
              "#fb9f3a"
             ],
             [
              0.8888888888888888,
              "#fdca26"
             ],
             [
              1,
              "#f0f921"
             ]
            ],
            "type": "heatmap"
           }
          ],
          "heatmapgl": [
           {
            "colorbar": {
             "outlinewidth": 0,
             "ticks": ""
            },
            "colorscale": [
             [
              0,
              "#0d0887"
             ],
             [
              0.1111111111111111,
              "#46039f"
             ],
             [
              0.2222222222222222,
              "#7201a8"
             ],
             [
              0.3333333333333333,
              "#9c179e"
             ],
             [
              0.4444444444444444,
              "#bd3786"
             ],
             [
              0.5555555555555556,
              "#d8576b"
             ],
             [
              0.6666666666666666,
              "#ed7953"
             ],
             [
              0.7777777777777778,
              "#fb9f3a"
             ],
             [
              0.8888888888888888,
              "#fdca26"
             ],
             [
              1,
              "#f0f921"
             ]
            ],
            "type": "heatmapgl"
           }
          ],
          "histogram": [
           {
            "marker": {
             "colorbar": {
              "outlinewidth": 0,
              "ticks": ""
             }
            },
            "type": "histogram"
           }
          ],
          "histogram2d": [
           {
            "colorbar": {
             "outlinewidth": 0,
             "ticks": ""
            },
            "colorscale": [
             [
              0,
              "#0d0887"
             ],
             [
              0.1111111111111111,
              "#46039f"
             ],
             [
              0.2222222222222222,
              "#7201a8"
             ],
             [
              0.3333333333333333,
              "#9c179e"
             ],
             [
              0.4444444444444444,
              "#bd3786"
             ],
             [
              0.5555555555555556,
              "#d8576b"
             ],
             [
              0.6666666666666666,
              "#ed7953"
             ],
             [
              0.7777777777777778,
              "#fb9f3a"
             ],
             [
              0.8888888888888888,
              "#fdca26"
             ],
             [
              1,
              "#f0f921"
             ]
            ],
            "type": "histogram2d"
           }
          ],
          "histogram2dcontour": [
           {
            "colorbar": {
             "outlinewidth": 0,
             "ticks": ""
            },
            "colorscale": [
             [
              0,
              "#0d0887"
             ],
             [
              0.1111111111111111,
              "#46039f"
             ],
             [
              0.2222222222222222,
              "#7201a8"
             ],
             [
              0.3333333333333333,
              "#9c179e"
             ],
             [
              0.4444444444444444,
              "#bd3786"
             ],
             [
              0.5555555555555556,
              "#d8576b"
             ],
             [
              0.6666666666666666,
              "#ed7953"
             ],
             [
              0.7777777777777778,
              "#fb9f3a"
             ],
             [
              0.8888888888888888,
              "#fdca26"
             ],
             [
              1,
              "#f0f921"
             ]
            ],
            "type": "histogram2dcontour"
           }
          ],
          "mesh3d": [
           {
            "colorbar": {
             "outlinewidth": 0,
             "ticks": ""
            },
            "type": "mesh3d"
           }
          ],
          "parcoords": [
           {
            "line": {
             "colorbar": {
              "outlinewidth": 0,
              "ticks": ""
             }
            },
            "type": "parcoords"
           }
          ],
          "pie": [
           {
            "automargin": true,
            "type": "pie"
           }
          ],
          "scatter": [
           {
            "marker": {
             "colorbar": {
              "outlinewidth": 0,
              "ticks": ""
             }
            },
            "type": "scatter"
           }
          ],
          "scatter3d": [
           {
            "line": {
             "colorbar": {
              "outlinewidth": 0,
              "ticks": ""
             }
            },
            "marker": {
             "colorbar": {
              "outlinewidth": 0,
              "ticks": ""
             }
            },
            "type": "scatter3d"
           }
          ],
          "scattercarpet": [
           {
            "marker": {
             "colorbar": {
              "outlinewidth": 0,
              "ticks": ""
             }
            },
            "type": "scattercarpet"
           }
          ],
          "scattergeo": [
           {
            "marker": {
             "colorbar": {
              "outlinewidth": 0,
              "ticks": ""
             }
            },
            "type": "scattergeo"
           }
          ],
          "scattergl": [
           {
            "marker": {
             "colorbar": {
              "outlinewidth": 0,
              "ticks": ""
             }
            },
            "type": "scattergl"
           }
          ],
          "scattermapbox": [
           {
            "marker": {
             "colorbar": {
              "outlinewidth": 0,
              "ticks": ""
             }
            },
            "type": "scattermapbox"
           }
          ],
          "scatterpolar": [
           {
            "marker": {
             "colorbar": {
              "outlinewidth": 0,
              "ticks": ""
             }
            },
            "type": "scatterpolar"
           }
          ],
          "scatterpolargl": [
           {
            "marker": {
             "colorbar": {
              "outlinewidth": 0,
              "ticks": ""
             }
            },
            "type": "scatterpolargl"
           }
          ],
          "scatterternary": [
           {
            "marker": {
             "colorbar": {
              "outlinewidth": 0,
              "ticks": ""
             }
            },
            "type": "scatterternary"
           }
          ],
          "surface": [
           {
            "colorbar": {
             "outlinewidth": 0,
             "ticks": ""
            },
            "colorscale": [
             [
              0,
              "#0d0887"
             ],
             [
              0.1111111111111111,
              "#46039f"
             ],
             [
              0.2222222222222222,
              "#7201a8"
             ],
             [
              0.3333333333333333,
              "#9c179e"
             ],
             [
              0.4444444444444444,
              "#bd3786"
             ],
             [
              0.5555555555555556,
              "#d8576b"
             ],
             [
              0.6666666666666666,
              "#ed7953"
             ],
             [
              0.7777777777777778,
              "#fb9f3a"
             ],
             [
              0.8888888888888888,
              "#fdca26"
             ],
             [
              1,
              "#f0f921"
             ]
            ],
            "type": "surface"
           }
          ],
          "table": [
           {
            "cells": {
             "fill": {
              "color": "#EBF0F8"
             },
             "line": {
              "color": "white"
             }
            },
            "header": {
             "fill": {
              "color": "#C8D4E3"
             },
             "line": {
              "color": "white"
             }
            },
            "type": "table"
           }
          ]
         },
         "layout": {
          "annotationdefaults": {
           "arrowcolor": "#2a3f5f",
           "arrowhead": 0,
           "arrowwidth": 1
          },
          "autotypenumbers": "strict",
          "coloraxis": {
           "colorbar": {
            "outlinewidth": 0,
            "ticks": ""
           }
          },
          "colorscale": {
           "diverging": [
            [
             0,
             "#8e0152"
            ],
            [
             0.1,
             "#c51b7d"
            ],
            [
             0.2,
             "#de77ae"
            ],
            [
             0.3,
             "#f1b6da"
            ],
            [
             0.4,
             "#fde0ef"
            ],
            [
             0.5,
             "#f7f7f7"
            ],
            [
             0.6,
             "#e6f5d0"
            ],
            [
             0.7,
             "#b8e186"
            ],
            [
             0.8,
             "#7fbc41"
            ],
            [
             0.9,
             "#4d9221"
            ],
            [
             1,
             "#276419"
            ]
           ],
           "sequential": [
            [
             0,
             "#0d0887"
            ],
            [
             0.1111111111111111,
             "#46039f"
            ],
            [
             0.2222222222222222,
             "#7201a8"
            ],
            [
             0.3333333333333333,
             "#9c179e"
            ],
            [
             0.4444444444444444,
             "#bd3786"
            ],
            [
             0.5555555555555556,
             "#d8576b"
            ],
            [
             0.6666666666666666,
             "#ed7953"
            ],
            [
             0.7777777777777778,
             "#fb9f3a"
            ],
            [
             0.8888888888888888,
             "#fdca26"
            ],
            [
             1,
             "#f0f921"
            ]
           ],
           "sequentialminus": [
            [
             0,
             "#0d0887"
            ],
            [
             0.1111111111111111,
             "#46039f"
            ],
            [
             0.2222222222222222,
             "#7201a8"
            ],
            [
             0.3333333333333333,
             "#9c179e"
            ],
            [
             0.4444444444444444,
             "#bd3786"
            ],
            [
             0.5555555555555556,
             "#d8576b"
            ],
            [
             0.6666666666666666,
             "#ed7953"
            ],
            [
             0.7777777777777778,
             "#fb9f3a"
            ],
            [
             0.8888888888888888,
             "#fdca26"
            ],
            [
             1,
             "#f0f921"
            ]
           ]
          },
          "colorway": [
           "#636efa",
           "#EF553B",
           "#00cc96",
           "#ab63fa",
           "#FFA15A",
           "#19d3f3",
           "#FF6692",
           "#B6E880",
           "#FF97FF",
           "#FECB52"
          ],
          "font": {
           "color": "#2a3f5f"
          },
          "geo": {
           "bgcolor": "white",
           "lakecolor": "white",
           "landcolor": "#E5ECF6",
           "showlakes": true,
           "showland": true,
           "subunitcolor": "white"
          },
          "hoverlabel": {
           "align": "left"
          },
          "hovermode": "closest",
          "mapbox": {
           "style": "light"
          },
          "paper_bgcolor": "white",
          "plot_bgcolor": "#E5ECF6",
          "polar": {
           "angularaxis": {
            "gridcolor": "white",
            "linecolor": "white",
            "ticks": ""
           },
           "bgcolor": "#E5ECF6",
           "radialaxis": {
            "gridcolor": "white",
            "linecolor": "white",
            "ticks": ""
           }
          },
          "scene": {
           "xaxis": {
            "backgroundcolor": "#E5ECF6",
            "gridcolor": "white",
            "gridwidth": 2,
            "linecolor": "white",
            "showbackground": true,
            "ticks": "",
            "zerolinecolor": "white"
           },
           "yaxis": {
            "backgroundcolor": "#E5ECF6",
            "gridcolor": "white",
            "gridwidth": 2,
            "linecolor": "white",
            "showbackground": true,
            "ticks": "",
            "zerolinecolor": "white"
           },
           "zaxis": {
            "backgroundcolor": "#E5ECF6",
            "gridcolor": "white",
            "gridwidth": 2,
            "linecolor": "white",
            "showbackground": true,
            "ticks": "",
            "zerolinecolor": "white"
           }
          },
          "shapedefaults": {
           "line": {
            "color": "#2a3f5f"
           }
          },
          "ternary": {
           "aaxis": {
            "gridcolor": "white",
            "linecolor": "white",
            "ticks": ""
           },
           "baxis": {
            "gridcolor": "white",
            "linecolor": "white",
            "ticks": ""
           },
           "bgcolor": "#E5ECF6",
           "caxis": {
            "gridcolor": "white",
            "linecolor": "white",
            "ticks": ""
           }
          },
          "title": {
           "x": 0.05
          },
          "xaxis": {
           "automargin": true,
           "gridcolor": "white",
           "linecolor": "white",
           "ticks": "",
           "title": {
            "standoff": 15
           },
           "zerolinecolor": "white",
           "zerolinewidth": 2
          },
          "yaxis": {
           "automargin": true,
           "gridcolor": "white",
           "linecolor": "white",
           "ticks": "",
           "title": {
            "standoff": 15
           },
           "zerolinecolor": "white",
           "zerolinewidth": 2
          }
         }
        },
        "title": {
         "text": "BTC Price & MVRV Ratio"
        },
        "width": 1500,
        "xaxis": {
         "anchor": "y",
         "autorange": true,
         "domain": [
          0,
          0.94
         ],
         "range": [
          "2020-10-22",
          "2021-01-29"
         ],
         "title": {
          "text": "Date"
         },
         "type": "date"
        },
        "yaxis": {
         "anchor": "x",
         "autorange": true,
         "domain": [
          0,
          1
         ],
         "range": [
          1.6132176112050516,
          3.532880215202862
         ],
         "title": {
          "text": "MVRV Ratio"
         },
         "type": "linear"
        },
        "yaxis2": {
         "anchor": "x",
         "autorange": true,
         "overlaying": "y",
         "range": [
          11391.838518518332,
          42155.068148151666
         ],
         "side": "right",
         "title": {
          "text": "BTC Market Price"
         },
         "type": "linear"
        }
       }
      },
      "image/png": "[encoded data removed]",
      "text/html": [
       "<div>                            <div id=\"38aa057a-cae5-4317-8d82-c5f5902d3839\" class=\"plotly-graph-div\" style=\"height:600px; width:1500px;\"></div>            <script type=\"text/javascript\">                require([\"plotly\"], function(Plotly) {                    window.PLOTLYENV=window.PLOTLYENV || {};                                    if (document.getElementById(\"38aa057a-cae5-4317-8d82-c5f5902d3839\")) {                    Plotly.newPlot(                        \"38aa057a-cae5-4317-8d82-c5f5902d3839\",                        [{\"mode\": \"lines\", \"name\": \"MVRV Ratio\", \"type\": \"scatter\", \"x\": [\"2021-01-29T00:00:00\", \"2021-01-28T00:00:00\", \"2021-01-27T00:00:00\", \"2021-01-26T00:00:00\", \"2021-01-25T00:00:00\", \"2021-01-24T00:00:00\", \"2021-01-23T00:00:00\", \"2021-01-22T00:00:00\", \"2021-01-21T00:00:00\", \"2021-01-20T00:00:00\", \"2021-01-19T00:00:00\", \"2021-01-18T00:00:00\", \"2021-01-17T00:00:00\", \"2021-01-16T00:00:00\", \"2021-01-15T00:00:00\", \"2021-01-14T00:00:00\", \"2021-01-13T00:00:00\", \"2021-01-12T00:00:00\", \"2021-01-11T00:00:00\", \"2021-01-10T00:00:00\", \"2021-01-09T00:00:00\", \"2021-01-08T00:00:00\", \"2021-01-07T00:00:00\", \"2021-01-06T00:00:00\", \"2021-01-05T00:00:00\", \"2021-01-04T00:00:00\", \"2021-01-03T00:00:00\", \"2021-01-02T00:00:00\", \"2021-01-01T00:00:00\", \"2020-12-31T00:00:00\", \"2020-12-30T00:00:00\", \"2020-12-29T00:00:00\", \"2020-12-28T00:00:00\", \"2020-12-27T00:00:00\", \"2020-12-26T00:00:00\", \"2020-12-25T00:00:00\", \"2020-12-24T00:00:00\", \"2020-12-23T00:00:00\", \"2020-12-22T00:00:00\", \"2020-12-21T00:00:00\", \"2020-12-20T00:00:00\", \"2020-12-19T00:00:00\", \"2020-12-18T00:00:00\", \"2020-12-17T00:00:00\", \"2020-12-16T00:00:00\", \"2020-12-15T00:00:00\", \"2020-12-14T00:00:00\", \"2020-12-13T00:00:00\", \"2020-12-12T00:00:00\", \"2020-12-11T00:00:00\", \"2020-12-10T00:00:00\", \"2020-12-09T00:00:00\", \"2020-12-08T00:00:00\", \"2020-12-07T00:00:00\", \"2020-12-06T00:00:00\", \"2020-12-05T00:00:00\", \"2020-12-04T00:00:00\", \"2020-12-03T00:00:00\", \"2020-12-02T00:00:00\", \"2020-12-01T00:00:00\", \"2020-11-30T00:00:00\", \"2020-11-29T00:00:00\", \"2020-11-28T00:00:00\", \"2020-11-27T00:00:00\", \"2020-11-26T00:00:00\", \"2020-11-25T00:00:00\", \"2020-11-24T00:00:00\", \"2020-11-23T00:00:00\", \"2020-11-22T00:00:00\", \"2020-11-21T00:00:00\", \"2020-11-20T00:00:00\", \"2020-11-19T00:00:00\", \"2020-11-18T00:00:00\", \"2020-11-17T00:00:00\", \"2020-11-16T00:00:00\", \"2020-11-15T00:00:00\", \"2020-11-14T00:00:00\", \"2020-11-13T00:00:00\", \"2020-11-12T00:00:00\", \"2020-11-11T00:00:00\", \"2020-11-10T00:00:00\", \"2020-11-09T00:00:00\", \"2020-11-08T00:00:00\", \"2020-11-07T00:00:00\", \"2020-11-06T00:00:00\", \"2020-11-05T00:00:00\", \"2020-11-04T00:00:00\", \"2020-11-03T00:00:00\", \"2020-11-02T00:00:00\", \"2020-11-01T00:00:00\", \"2020-10-31T00:00:00\", \"2020-10-30T00:00:00\", \"2020-10-29T00:00:00\", \"2020-10-28T00:00:00\", \"2020-10-27T00:00:00\", \"2020-10-26T00:00:00\", \"2020-10-25T00:00:00\", \"2020-10-24T00:00:00\", \"2020-10-23T00:00:00\", \"2020-10-22T00:00:00\"], \"xaxis\": \"x\", \"y\": [2.6354380606757677, 2.5912855249012003, 2.36761424339584, 2.544537277439638, 2.5278544607934275, 2.534876553207584, 2.5220475808232723, 2.594883382815771, 2.4296702131408106, 2.7961047217811466, 2.8330962826206245, 2.905155165809809, 2.855650125285471, 2.8749959572512127, 2.9463547957717924, 3.154689294464372, 3.041981829343562, 2.7835542895615726, 2.9155849455868927, 3.1559134785762137, 3.345137781385452, 3.436897085002972, 3.4194044388248153, 3.275032361783254, 3.071399848243089, 2.9309120183108295, 3.064849115685386, 3.034638466174086, 2.809810296507573, 2.7971202129778483, 2.811698028668875, 2.690944614497448, 2.6949198690888885, 2.6698589151600185, 2.719759233872244, 2.5513018001403855, 2.4567519952518055, 2.423243093885043, 2.507009867062586, 2.4148229199726234, 2.503559583940544, 2.556084183041424, 2.490779207496166, 2.4930234113683176, 2.367167034593871, 2.1703628370937236, 2.159339652400377, 2.152008557020764, 2.126767562745587, 2.044078434317297, 2.0713995694567973, 2.1112692098908643, 2.0881466357739087, 2.1925846910714766, 2.220454922402026, 2.1969525821296227, 2.1423465265292934, 2.237424145858159, 2.220625219006216, 2.1787864985663745, 2.2962324758499757, 2.13302990658132, 2.0755963040846135, 2.016646872200853, 2.0343481614592003, 2.2154273689277098, 2.2699222496579323, 2.1920186620589015, 2.209029236301852, 2.2410974850814673, 2.241423175149638, 2.1630747239689607, 2.1593007465882783, 2.164001754851652, 2.0618899621209787, 1.971740742544034, 1.9907512602769304, 2.0246521733958347, 2.0274600698067866, 1.958731189644644, 1.9203484151148345, 1.9268658497112525, 1.9510910567827429, 1.872374978236647, 1.9715440014151393, 1.9833454470229628, 1.8114835869703425, 1.800188629466672, 1.7600614727113926, 1.7919849155732774, 1.7922182767692239, 1.7717571962557142, 1.7599950110197549, 1.739762784974652, 1.7906039058085597, 1.718608783903993, 1.7175092104987828, 1.7294660354270612, 1.7092007414049422, 1.7209723155102097], \"yaxis\": \"y\"}, {\"mode\": \"lines\", \"name\": \"BTC Price\", \"type\": \"scatter\", \"x\": [\"2021-01-29T00:00:00\", \"2021-01-28T00:00:00\", \"2021-01-27T00:00:00\", \"2021-01-26T00:00:00\", \"2021-01-25T00:00:00\", \"2021-01-24T00:00:00\", \"2021-01-23T00:00:00\", \"2021-01-22T00:00:00\", \"2021-01-21T00:00:00\", \"2021-01-20T00:00:00\", \"2021-01-19T00:00:00\", \"2021-01-18T00:00:00\", \"2021-01-17T00:00:00\", \"2021-01-16T00:00:00\", \"2021-01-15T00:00:00\", \"2021-01-14T00:00:00\", \"2021-01-13T00:00:00\", \"2021-01-12T00:00:00\", \"2021-01-11T00:00:00\", \"2021-01-10T00:00:00\", \"2021-01-09T00:00:00\", \"2021-01-08T00:00:00\", \"2021-01-07T00:00:00\", \"2021-01-06T00:00:00\", \"2021-01-05T00:00:00\", \"2021-01-04T00:00:00\", \"2021-01-03T00:00:00\", \"2021-01-02T00:00:00\", \"2021-01-01T00:00:00\", \"2020-12-31T00:00:00\", \"2020-12-30T00:00:00\", \"2020-12-29T00:00:00\", \"2020-12-28T00:00:00\", \"2020-12-27T00:00:00\", \"2020-12-26T00:00:00\", \"2020-12-25T00:00:00\", \"2020-12-24T00:00:00\", \"2020-12-23T00:00:00\", \"2020-12-22T00:00:00\", \"2020-12-21T00:00:00\", \"2020-12-20T00:00:00\", \"2020-12-19T00:00:00\", \"2020-12-18T00:00:00\", \"2020-12-17T00:00:00\", \"2020-12-16T00:00:00\", \"2020-12-15T00:00:00\", \"2020-12-14T00:00:00\", \"2020-12-13T00:00:00\", \"2020-12-12T00:00:00\", \"2020-12-11T00:00:00\", \"2020-12-10T00:00:00\", \"2020-12-09T00:00:00\", \"2020-12-08T00:00:00\", \"2020-12-07T00:00:00\", \"2020-12-06T00:00:00\", \"2020-12-05T00:00:00\", \"2020-12-04T00:00:00\", \"2020-12-03T00:00:00\", \"2020-12-02T00:00:00\", \"2020-12-01T00:00:00\", \"2020-11-30T00:00:00\", \"2020-11-29T00:00:00\", \"2020-11-28T00:00:00\", \"2020-11-27T00:00:00\", \"2020-11-26T00:00:00\", \"2020-11-25T00:00:00\", \"2020-11-24T00:00:00\", \"2020-11-23T00:00:00\", \"2020-11-22T00:00:00\", \"2020-11-21T00:00:00\", \"2020-11-20T00:00:00\", \"2020-11-19T00:00:00\", \"2020-11-18T00:00:00\", \"2020-11-17T00:00:00\", \"2020-11-16T00:00:00\", \"2020-11-15T00:00:00\", \"2020-11-14T00:00:00\", \"2020-11-13T00:00:00\", \"2020-11-12T00:00:00\", \"2020-11-11T00:00:00\", \"2020-11-10T00:00:00\", \"2020-11-09T00:00:00\", \"2020-11-08T00:00:00\", \"2020-11-07T00:00:00\", \"2020-11-06T00:00:00\", \"2020-11-05T00:00:00\", \"2020-11-04T00:00:00\", \"2020-11-03T00:00:00\", \"2020-11-02T00:00:00\", \"2020-11-01T00:00:00\", \"2020-10-31T00:00:00\", \"2020-10-30T00:00:00\", \"2020-10-29T00:00:00\", \"2020-10-28T00:00:00\", \"2020-10-27T00:00:00\", \"2020-10-26T00:00:00\", \"2020-10-25T00:00:00\", \"2020-10-24T00:00:00\", \"2020-10-23T00:00:00\", \"2020-10-22T00:00:00\"], \"xaxis\": \"x\", \"y\": [34244.50666667, 33383.74666667, 30385.11166667, 32489.385, 32254.145, 32274.55166667, 32085.30166667, 32968.30166667, 30848.48666667, 35481.915, 35888.90166667, 36641.19333333, 35830.79166667, 35991.39, 36761.81833333, 39151.97833333, 37383.33333333, 34036.68833333, 35437.07833333, 38175.31166667, 40149.15166667, 40616.90666667, 39470.805, 36815.30833333, 33994.42166667, 32017.40333333, 33034.825, 32195.855, 29355.46333333, 28937.49, 28882.456, 27383.052, 27061.882, 26269.252, 26481.48, 24709.222, 23738.966, 23232.5, 23823.922, 22732.018, 23468.85166667, 23838.035, 23125.19333333, 22809.865, 21350.32333333, 19431.14333333, 19274.44, 19165.84333333, 18811.56666667, 18037.31464632, 18253.06149388, 18544.70111111, 18311.06333333, 19183.65555556, 19382.50238556, 19154.80444444, 18658.96333333, 19433.22222222, 19218.69111111, 18776.50222222, 19706.38333333, 18184.06666667, 17667.006, 17147.10683023, 17262.885, 18753.232, 19154.9938724, 18380.512, 18468.909, 18703.60105401, 18627.72364452, 17821.642, 17740.902, 17623.93333333, 16702.0, 15931.0, 16069.0, 16318.0, 16293.0, 15688.0, 15302.0, 15322.0, 15478.0, 14803.0, 15567.0, 15588.0, 14146.0, 14022.0, 13543.0, 13757.0, 13735.0, 13558.0, 13452.0, 13272.0, 13632.0, 13049.0, 13028.0, 13106.0, 12930.0, 12963.0], \"yaxis\": \"y2\"}],                        {\"height\": 600, \"template\": {\"data\": {\"bar\": [{\"error_x\": {\"color\": \"#2a3f5f\"}, \"error_y\": {\"color\": \"#2a3f5f\"}, \"marker\": {\"line\": {\"color\": \"#E5ECF6\", \"width\": 0.5}}, \"type\": \"bar\"}], \"barpolar\": [{\"marker\": {\"line\": {\"color\": \"#E5ECF6\", \"width\": 0.5}}, \"type\": \"barpolar\"}], \"carpet\": [{\"aaxis\": {\"endlinecolor\": \"#2a3f5f\", \"gridcolor\": \"white\", \"linecolor\": \"white\", \"minorgridcolor\": \"white\", \"startlinecolor\": \"#2a3f5f\"}, \"baxis\": {\"endlinecolor\": \"#2a3f5f\", \"gridcolor\": \"white\", \"linecolor\": \"white\", \"minorgridcolor\": \"white\", \"startlinecolor\": \"#2a3f5f\"}, \"type\": \"carpet\"}], \"choropleth\": [{\"colorbar\": {\"outlinewidth\": 0, \"ticks\": \"\"}, \"type\": \"choropleth\"}], \"contour\": [{\"colorbar\": {\"outlinewidth\": 0, \"ticks\": \"\"}, \"colorscale\": [[0.0, \"#0d0887\"], [0.1111111111111111, \"#46039f\"], [0.2222222222222222, \"#7201a8\"], [0.3333333333333333, \"#9c179e\"], [0.4444444444444444, \"#bd3786\"], [0.5555555555555556, \"#d8576b\"], [0.6666666666666666, \"#ed7953\"], [0.7777777777777778, \"#fb9f3a\"], [0.8888888888888888, \"#fdca26\"], [1.0, \"#f0f921\"]], \"type\": \"contour\"}], \"contourcarpet\": [{\"colorbar\": {\"outlinewidth\": 0, \"ticks\": \"\"}, \"type\": \"contourcarpet\"}], \"heatmap\": [{\"colorbar\": {\"outlinewidth\": 0, \"ticks\": \"\"}, \"colorscale\": [[0.0, \"#0d0887\"], [0.1111111111111111, \"#46039f\"], [0.2222222222222222, \"#7201a8\"], [0.3333333333333333, \"#9c179e\"], [0.4444444444444444, \"#bd3786\"], [0.5555555555555556, \"#d8576b\"], [0.6666666666666666, \"#ed7953\"], [0.7777777777777778, \"#fb9f3a\"], [0.8888888888888888, \"#fdca26\"], [1.0, \"#f0f921\"]], \"type\": \"heatmap\"}], \"heatmapgl\": [{\"colorbar\": {\"outlinewidth\": 0, \"ticks\": \"\"}, \"colorscale\": [[0.0, \"#0d0887\"], [0.1111111111111111, \"#46039f\"], [0.2222222222222222, \"#7201a8\"], [0.3333333333333333, \"#9c179e\"], [0.4444444444444444, \"#bd3786\"], [0.5555555555555556, \"#d8576b\"], [0.6666666666666666, \"#ed7953\"], [0.7777777777777778, \"#fb9f3a\"], [0.8888888888888888, \"#fdca26\"], [1.0, \"#f0f921\"]], \"type\": \"heatmapgl\"}], \"histogram\": [{\"marker\": {\"colorbar\": {\"outlinewidth\": 0, \"ticks\": \"\"}}, \"type\": \"histogram\"}], \"histogram2d\": [{\"colorbar\": {\"outlinewidth\": 0, \"ticks\": \"\"}, \"colorscale\": [[0.0, \"#0d0887\"], [0.1111111111111111, \"#46039f\"], [0.2222222222222222, \"#7201a8\"], [0.3333333333333333, \"#9c179e\"], [0.4444444444444444, \"#bd3786\"], [0.5555555555555556, \"#d8576b\"], [0.6666666666666666, \"#ed7953\"], [0.7777777777777778, \"#fb9f3a\"], [0.8888888888888888, \"#fdca26\"], [1.0, \"#f0f921\"]], \"type\": \"histogram2d\"}], \"histogram2dcontour\": [{\"colorbar\": {\"outlinewidth\": 0, \"ticks\": \"\"}, \"colorscale\": [[0.0, \"#0d0887\"], [0.1111111111111111, \"#46039f\"], [0.2222222222222222, \"#7201a8\"], [0.3333333333333333, \"#9c179e\"], [0.4444444444444444, \"#bd3786\"], [0.5555555555555556, \"#d8576b\"], [0.6666666666666666, \"#ed7953\"], [0.7777777777777778, \"#fb9f3a\"], [0.8888888888888888, \"#fdca26\"], [1.0, \"#f0f921\"]], \"type\": \"histogram2dcontour\"}], \"mesh3d\": [{\"colorbar\": {\"outlinewidth\": 0, \"ticks\": \"\"}, \"type\": \"mesh3d\"}], \"parcoords\": [{\"line\": {\"colorbar\": {\"outlinewidth\": 0, \"ticks\": \"\"}}, \"type\": \"parcoords\"}], \"pie\": [{\"automargin\": true, \"type\": \"pie\"}], \"scatter\": [{\"marker\": {\"colorbar\": {\"outlinewidth\": 0, \"ticks\": \"\"}}, \"type\": \"scatter\"}], \"scatter3d\": [{\"line\": {\"colorbar\": {\"outlinewidth\": 0, \"ticks\": \"\"}}, \"marker\": {\"colorbar\": {\"outlinewidth\": 0, \"ticks\": \"\"}}, \"type\": \"scatter3d\"}], \"scattercarpet\": [{\"marker\": {\"colorbar\": {\"outlinewidth\": 0, \"ticks\": \"\"}}, \"type\": \"scattercarpet\"}], \"scattergeo\": [{\"marker\": {\"colorbar\": {\"outlinewidth\": 0, \"ticks\": \"\"}}, \"type\": \"scattergeo\"}], \"scattergl\": [{\"marker\": {\"colorbar\": {\"outlinewidth\": 0, \"ticks\": \"\"}}, \"type\": \"scattergl\"}], \"scattermapbox\": [{\"marker\": {\"colorbar\": {\"outlinewidth\": 0, \"ticks\": \"\"}}, \"type\": \"scattermapbox\"}], \"scatterpolar\": [{\"marker\": {\"colorbar\": {\"outlinewidth\": 0, \"ticks\": \"\"}}, \"type\": \"scatterpolar\"}], \"scatterpolargl\": [{\"marker\": {\"colorbar\": {\"outlinewidth\": 0, \"ticks\": \"\"}}, \"type\": \"scatterpolargl\"}], \"scatterternary\": [{\"marker\": {\"colorbar\": {\"outlinewidth\": 0, \"ticks\": \"\"}}, \"type\": \"scatterternary\"}], \"surface\": [{\"colorbar\": {\"outlinewidth\": 0, \"ticks\": \"\"}, \"colorscale\": [[0.0, \"#0d0887\"], [0.1111111111111111, \"#46039f\"], [0.2222222222222222, \"#7201a8\"], [0.3333333333333333, \"#9c179e\"], [0.4444444444444444, \"#bd3786\"], [0.5555555555555556, \"#d8576b\"], [0.6666666666666666, \"#ed7953\"], [0.7777777777777778, \"#fb9f3a\"], [0.8888888888888888, \"#fdca26\"], [1.0, \"#f0f921\"]], \"type\": \"surface\"}], \"table\": [{\"cells\": {\"fill\": {\"color\": \"#EBF0F8\"}, \"line\": {\"color\": \"white\"}}, \"header\": {\"fill\": {\"color\": \"#C8D4E3\"}, \"line\": {\"color\": \"white\"}}, \"type\": \"table\"}]}, \"layout\": {\"annotationdefaults\": {\"arrowcolor\": \"#2a3f5f\", \"arrowhead\": 0, \"arrowwidth\": 1}, \"autotypenumbers\": \"strict\", \"coloraxis\": {\"colorbar\": {\"outlinewidth\": 0, \"ticks\": \"\"}}, \"colorscale\": {\"diverging\": [[0, \"#8e0152\"], [0.1, \"#c51b7d\"], [0.2, \"#de77ae\"], [0.3, \"#f1b6da\"], [0.4, \"#fde0ef\"], [0.5, \"#f7f7f7\"], [0.6, \"#e6f5d0\"], [0.7, \"#b8e186\"], [0.8, \"#7fbc41\"], [0.9, \"#4d9221\"], [1, \"#276419\"]], \"sequential\": [[0.0, \"#0d0887\"], [0.1111111111111111, \"#46039f\"], [0.2222222222222222, \"#7201a8\"], [0.3333333333333333, \"#9c179e\"], [0.4444444444444444, \"#bd3786\"], [0.5555555555555556, \"#d8576b\"], [0.6666666666666666, \"#ed7953\"], [0.7777777777777778, \"#fb9f3a\"], [0.8888888888888888, \"#fdca26\"], [1.0, \"#f0f921\"]], \"sequentialminus\": [[0.0, \"#0d0887\"], [0.1111111111111111, \"#46039f\"], [0.2222222222222222, \"#7201a8\"], [0.3333333333333333, \"#9c179e\"], [0.4444444444444444, \"#bd3786\"], [0.5555555555555556, \"#d8576b\"], [0.6666666666666666, \"#ed7953\"], [0.7777777777777778, \"#fb9f3a\"], [0.8888888888888888, \"#fdca26\"], [1.0, \"#f0f921\"]]}, \"colorway\": [\"#636efa\", \"#EF553B\", \"#00cc96\", \"#ab63fa\", \"#FFA15A\", \"#19d3f3\", \"#FF6692\", \"#B6E880\", \"#FF97FF\", \"#FECB52\"], \"font\": {\"color\": \"#2a3f5f\"}, \"geo\": {\"bgcolor\": \"white\", \"lakecolor\": \"white\", \"landcolor\": \"#E5ECF6\", \"showlakes\": true, \"showland\": true, \"subunitcolor\": \"white\"}, \"hoverlabel\": {\"align\": \"left\"}, \"hovermode\": \"closest\", \"mapbox\": {\"style\": \"light\"}, \"paper_bgcolor\": \"white\", \"plot_bgcolor\": \"#E5ECF6\", \"polar\": {\"angularaxis\": {\"gridcolor\": \"white\", \"linecolor\": \"white\", \"ticks\": \"\"}, \"bgcolor\": \"#E5ECF6\", \"radialaxis\": {\"gridcolor\": \"white\", \"linecolor\": \"white\", \"ticks\": \"\"}}, \"scene\": {\"xaxis\": {\"backgroundcolor\": \"#E5ECF6\", \"gridcolor\": \"white\", \"gridwidth\": 2, \"linecolor\": \"white\", \"showbackground\": true, \"ticks\": \"\", \"zerolinecolor\": \"white\"}, \"yaxis\": {\"backgroundcolor\": \"#E5ECF6\", \"gridcolor\": \"white\", \"gridwidth\": 2, \"linecolor\": \"white\", \"showbackground\": true, \"ticks\": \"\", \"zerolinecolor\": \"white\"}, \"zaxis\": {\"backgroundcolor\": \"#E5ECF6\", \"gridcolor\": \"white\", \"gridwidth\": 2, \"linecolor\": \"white\", \"showbackground\": true, \"ticks\": \"\", \"zerolinecolor\": \"white\"}}, \"shapedefaults\": {\"line\": {\"color\": \"#2a3f5f\"}}, \"ternary\": {\"aaxis\": {\"gridcolor\": \"white\", \"linecolor\": \"white\", \"ticks\": \"\"}, \"baxis\": {\"gridcolor\": \"white\", \"linecolor\": \"white\", \"ticks\": \"\"}, \"bgcolor\": \"#E5ECF6\", \"caxis\": {\"gridcolor\": \"white\", \"linecolor\": \"white\", \"ticks\": \"\"}}, \"title\": {\"x\": 0.05}, \"xaxis\": {\"automargin\": true, \"gridcolor\": \"white\", \"linecolor\": \"white\", \"ticks\": \"\", \"title\": {\"standoff\": 15}, \"zerolinecolor\": \"white\", \"zerolinewidth\": 2}, \"yaxis\": {\"automargin\": true, \"gridcolor\": \"white\", \"linecolor\": \"white\", \"ticks\": \"\", \"title\": {\"standoff\": 15}, \"zerolinecolor\": \"white\", \"zerolinewidth\": 2}}}, \"title\": {\"text\": \"BTC Price & MVRV Ratio\"}, \"width\": 1500, \"xaxis\": {\"anchor\": \"y\", \"domain\": [0.0, 0.94], \"title\": {\"text\": \"Date\"}}, \"yaxis\": {\"anchor\": \"x\", \"domain\": [0.0, 1.0], \"title\": {\"text\": \"MVRV Ratio\"}}, \"yaxis2\": {\"anchor\": \"x\", \"overlaying\": \"y\", \"side\": \"right\", \"title\": {\"text\": \"BTC Market Price\"}}},                        {\"responsive\": true}                    ).then(function(){\n",
       "                            \n",
       "var gd = document.getElementById('38aa057a-cae5-4317-8d82-c5f5902d3839');\n",
       "var x = new MutationObserver(function (mutations, observer) {{\n",
       "        var display = window.getComputedStyle(gd).display;\n",
       "        if (!display || display === 'none') {{\n",
       "            console.log([gd, 'removed!']);\n",
       "            Plotly.purge(gd);\n",
       "            observer.disconnect();\n",
       "        }}\n",
       "}});\n",
       "\n",
       "// Listen for the removal of the full notebook cells\n",
       "var notebookContainer = gd.closest('#notebook-container');\n",
       "if (notebookContainer) {{\n",
       "    x.observe(notebookContainer, {childList: true});\n",
       "}}\n",
       "\n",
       "// Listen for the clearing of the current output cell\n",
       "var outputEl = gd.closest('.output');\n",
       "if (outputEl) {{\n",
       "    x.observe(outputEl, {childList: true});\n",
       "}}\n",
       "\n",
       "                        })                };                });            </script>        </div>"
      ]
     },
     "metadata": {},
     "output_type": "display_data"
    },
    {
     "name": "stdout",
     "output_type": "stream",
     "text": [
      "Pearsons Correlation of MVRV Score to Price: 0.9519341455994563\n"
     ]
    }
   ],
   "source": [
    "\n",
    "fig3 = make_subplots(specs=[[{'secondary_y':True}]])\n",
    "\n",
    "#fig3=go.Figure()\n",
    "\n",
    "fig3.add_trace(\n",
    "    go.Scatter(mode = 'lines',x=mvrv_btc_df['date'],y=mvrv_btc_df['mvrv_score'], name = 'MVRV Ratio'),\n",
    "    secondary_y=False \n",
    ")\n",
    "\n",
    "fig3.add_trace(\n",
    "    go.Scatter(mode = 'lines',x=price_df['date'], y =price_df['price_usd_close'], name = 'BTC Price'),\n",
    "    secondary_y=True \n",
    ")\n",
    "\n",
    "fig3.update_layout(\n",
    "    height = 600,width = 1500,\n",
    "    title_text = 'BTC Price & MVRV Ratio'\n",
    ")\n",
    "\n",
    "fig3.update_xaxes(title_text = 'Date')\n",
    "\n",
    "fig3.update_yaxes(title_text='MVRV Ratio', secondary_y= False)\n",
    "fig3.update_yaxes(title_text='BTC Market Price', secondary_y= True)\n",
    "\n",
    "\n",
    "\n",
    "fig3.show()\n",
    "\n",
    "mvrc_price_corr = get_pearsons_coefficient(mvrv_btc_df['mvrv_score'], price_btc_df['price_usd_close'])\n",
    "print(f'Pearsons Correlation of MVRV Score to Price: {mvrc_price_corr}')"
   ]
  },
  {
   "cell_type": "code",
   "execution_count": null,
   "metadata": {},
   "outputs": [],
   "source": []
  }
 ],
 "metadata": {
  "kernelspec": {
   "display_name": "Python [conda env:pyvizenv] *",
   "language": "python",
   "name": "conda-env-pyvizenv-py"
  },
  "language_info": {
   "codemirror_mode": {
    "name": "ipython",
    "version": 3
   },
   "file_extension": ".py",
   "mimetype": "text/x-python",
   "name": "python",
   "nbconvert_exporter": "python",
   "pygments_lexer": "ipython3",
   "version": "3.7.9"
  }
 },
 "nbformat": 4,
 "nbformat_minor": 4
}
