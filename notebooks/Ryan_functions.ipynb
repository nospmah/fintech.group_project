{
 "cells": [
  {
   "cell_type": "code",
   "execution_count": 23,
   "metadata": {},
   "outputs": [],
   "source": [
    "import os\n",
    "import pandas as pd\n",
    "import numpy as np\n",
    "import matplotlib.pyplot as plt\n",
    "import panel as pn\n",
    "pn.extension('plotly')\n",
    "from panel.interact import interact, interactive, fixed, interact_manual\n",
    "from panel import widgets\n",
    "import plotly.express as px\n",
    "import plotly.graph_objects as go\n",
    "from plotly.subplots import make_subplots\n",
    "import hvplot.pandas\n",
    "from pathlib import Path\n",
    "from numpy import mean\n",
    "from numpy import std\n",
    "from numpy import cov\n",
    "from scipy.stats import pearsonr\n",
    "import requests\n",
    "import urllib.request\n",
    "import json\n",
    "import pprint\n",
    "from dotenv import load_dotenv\n",
    "\n",
    "\n",
    "%matplotlib inline\n",
    "\n",
    "load_dotenv()\n",
    "access_token = os.getenv(\"CQ_API_KEY\")\n",
    "headers = { 'Authorization': 'Bearer ' + access_token }"
   ]
  },
  {
   "cell_type": "code",
   "execution_count": 24,
   "metadata": {},
   "outputs": [],
   "source": [
    "def get_netflow_data(ticker,fromdate,limit):\n",
    "    '''\n",
    "    Returns on-chain data (Netflow)n in new df\n",
    "        Parameters:\n",
    "            ticker (string) = Ticker for Desired Coin\n",
    "            fromdate (string) = Starting date of period desired\n",
    "            limit (int) = number of data points     \n",
    "    '''\n",
    "    #Initialize dotenv function, pull API key, build URL\n",
    "    headers = {'Authorization': 'Bearer ' + access_token}\n",
    "    URL = f'https://api.cryptoquant.com/v1/{ticker}/exchange-flows/netflow?exchange=all_exchange&window=day&from={fromdate}&limit={limit}'\n",
    "\n",
    "    # Initialize Dictionary\n",
    "    response = requests.get(URL, headers=headers)\n",
    "    \n",
    "    netflow_data = response.json()\n",
    "\n",
    "    #Transform to Dataframe and adjust data type\n",
    "    netflow_df = pd.DataFrame(data=netflow_data['result']['data'])\n",
    "    netflow_df['date'] = pd.to_datetime(netflow_df['date'])\n",
    "    netflow_df['netflow_total'] = netflow_df['netflow_total'].astype(str).astype('float64')\n",
    "   \n",
    "    return netflow_df\n"
   ]
  },
  {
   "cell_type": "code",
   "execution_count": 25,
   "metadata": {},
   "outputs": [
    {
     "data": {
      "text/html": [
       "<div>\n",
       "<style scoped>\n",
       "    .dataframe tbody tr th:only-of-type {\n",
       "        vertical-align: middle;\n",
       "    }\n",
       "\n",
       "    .dataframe tbody tr th {\n",
       "        vertical-align: top;\n",
       "    }\n",
       "\n",
       "    .dataframe thead th {\n",
       "        text-align: right;\n",
       "    }\n",
       "</style>\n",
       "<table border=\"1\" class=\"dataframe\">\n",
       "  <thead>\n",
       "    <tr style=\"text-align: right;\">\n",
       "      <th></th>\n",
       "      <th>date</th>\n",
       "      <th>netflow_total</th>\n",
       "    </tr>\n",
       "  </thead>\n",
       "  <tbody>\n",
       "    <tr>\n",
       "      <th>0</th>\n",
       "      <td>2021-01-29</td>\n",
       "      <td>17413.018375</td>\n",
       "    </tr>\n",
       "    <tr>\n",
       "      <th>1</th>\n",
       "      <td>2021-01-28</td>\n",
       "      <td>-6092.090538</td>\n",
       "    </tr>\n",
       "    <tr>\n",
       "      <th>2</th>\n",
       "      <td>2021-01-27</td>\n",
       "      <td>-10347.658278</td>\n",
       "    </tr>\n",
       "    <tr>\n",
       "      <th>3</th>\n",
       "      <td>2021-01-26</td>\n",
       "      <td>-2644.317802</td>\n",
       "    </tr>\n",
       "    <tr>\n",
       "      <th>4</th>\n",
       "      <td>2021-01-25</td>\n",
       "      <td>4471.674033</td>\n",
       "    </tr>\n",
       "  </tbody>\n",
       "</table>\n",
       "</div>"
      ],
      "text/plain": [
       "        date  netflow_total\n",
       "0 2021-01-29   17413.018375\n",
       "1 2021-01-28   -6092.090538\n",
       "2 2021-01-27  -10347.658278\n",
       "3 2021-01-26   -2644.317802\n",
       "4 2021-01-25    4471.674033"
      ]
     },
     "execution_count": 25,
     "metadata": {},
     "output_type": "execute_result"
    }
   ],
   "source": [
    "netflow_btc_df = get_netflow_data(\"btc\",\"20190101\",\"100\")\n",
    "netflow_btc_df.head(5)"
   ]
  },
  {
   "cell_type": "code",
   "execution_count": 26,
   "metadata": {},
   "outputs": [],
   "source": [
    "def get_price_data(ticker,fromdate,limit):\n",
    "    '''\n",
    "    Returns market data (ticker) in new df\n",
    "        Parameters:\n",
    "            ticker (string) = Ticker for Desired Coin\n",
    "            fromdate (string) = Starting date of period desired\n",
    "            limit (int) = number of data points     \n",
    "    '''\n",
    "    #Get Data & Initialize Dictionary\n",
    "    URL2 = f'https://api.cryptoquant.com/v1/{ticker}/market-data/price-usd?window=day&from={fromdate}&limit={limit}'\n",
    "    response2 = requests.get(URL2, headers=headers)\n",
    "    price_data = response2.json()\n",
    "    \n",
    "    #Transform to Dataframe and adjust data type\n",
    "    price_df = pd.DataFrame(data=price_data['result']['data'])\n",
    "    price_df = price_df.drop(['price_usd_high','price_usd_low','price_usd_open'], axis = 1)\n",
    "    price_df['date'] = pd.to_datetime(price_df['date'])\n",
    "    price_df['price_usd_close'] = price_df['price_usd_close'].astype(str).astype('float64')\n",
    "    price_df = price_df.dropna()\n",
    "\n",
    "    return price_df"
   ]
  },
  {
   "cell_type": "code",
   "execution_count": 27,
   "metadata": {},
   "outputs": [
    {
     "data": {
      "text/html": [
       "<div>\n",
       "<style scoped>\n",
       "    .dataframe tbody tr th:only-of-type {\n",
       "        vertical-align: middle;\n",
       "    }\n",
       "\n",
       "    .dataframe tbody tr th {\n",
       "        vertical-align: top;\n",
       "    }\n",
       "\n",
       "    .dataframe thead th {\n",
       "        text-align: right;\n",
       "    }\n",
       "</style>\n",
       "<table border=\"1\" class=\"dataframe\">\n",
       "  <thead>\n",
       "    <tr style=\"text-align: right;\">\n",
       "      <th></th>\n",
       "      <th>date</th>\n",
       "      <th>price_usd_close</th>\n",
       "    </tr>\n",
       "  </thead>\n",
       "  <tbody>\n",
       "    <tr>\n",
       "      <th>0</th>\n",
       "      <td>2021-01-29</td>\n",
       "      <td>34244.506667</td>\n",
       "    </tr>\n",
       "    <tr>\n",
       "      <th>1</th>\n",
       "      <td>2021-01-28</td>\n",
       "      <td>33383.746667</td>\n",
       "    </tr>\n",
       "    <tr>\n",
       "      <th>2</th>\n",
       "      <td>2021-01-27</td>\n",
       "      <td>30385.111667</td>\n",
       "    </tr>\n",
       "    <tr>\n",
       "      <th>3</th>\n",
       "      <td>2021-01-26</td>\n",
       "      <td>32489.385000</td>\n",
       "    </tr>\n",
       "    <tr>\n",
       "      <th>4</th>\n",
       "      <td>2021-01-25</td>\n",
       "      <td>32254.145000</td>\n",
       "    </tr>\n",
       "  </tbody>\n",
       "</table>\n",
       "</div>"
      ],
      "text/plain": [
       "        date  price_usd_close\n",
       "0 2021-01-29     34244.506667\n",
       "1 2021-01-28     33383.746667\n",
       "2 2021-01-27     30385.111667\n",
       "3 2021-01-26     32489.385000\n",
       "4 2021-01-25     32254.145000"
      ]
     },
     "execution_count": 27,
     "metadata": {},
     "output_type": "execute_result"
    }
   ],
   "source": [
    "price_btc_df = get_price_data(\"btc\",\"20190101\",\"100\")\n",
    "price_btc_df.head(5)"
   ]
  },
  {
   "cell_type": "code",
   "execution_count": 28,
   "metadata": {},
   "outputs": [],
   "source": [
    "def get_mvrv_data(ticker,fromdate,limit):\n",
    "    '''\n",
    "    Returns marketcap data in new df\n",
    "        Parameters:\n",
    "            ticker (string) = Ticker for Desired Coin\n",
    "            fromdate (string) = Starting date of period desired\n",
    "            limit (int) = number of data points     \n",
    "    '''\n",
    "    #Get Data & Initialize Dictionary\n",
    "    URL3 = f'https://api.cryptoquant.com/v1/{ticker}/market-data/capitalization?window=day&from={fromdate}&limit={limit}'\n",
    "    response3 = requests.get(URL3, headers=headers)\n",
    "    mvrv_data = response3.json()\n",
    "\n",
    "    #Transform to Dataframe and adjust data type\n",
    "    mvrv_data = pd.DataFrame(data=mvrv_data['result']['data'])\n",
    "    mvrv_data['mvrv_score'] = (mvrv_data['market_cap']/mvrv_data['realized_cap'])\n",
    "    mvrv_data['date'] = pd.to_datetime(mvrv_data['date'])\n",
    "    mvrv_data = mvrv_data.sort_values(by=['date'],ascending=False)\n",
    "    mvrv_data = mvrv_data.drop(['average_cap', 'delta_cap', 'market_cap','realized_cap','thermo_cap'], axis = 1)\n",
    "\n",
    "    return mvrv_data"
   ]
  },
  {
   "cell_type": "code",
   "execution_count": 29,
   "metadata": {},
   "outputs": [
    {
     "data": {
      "text/html": [
       "<div>\n",
       "<style scoped>\n",
       "    .dataframe tbody tr th:only-of-type {\n",
       "        vertical-align: middle;\n",
       "    }\n",
       "\n",
       "    .dataframe tbody tr th {\n",
       "        vertical-align: top;\n",
       "    }\n",
       "\n",
       "    .dataframe thead th {\n",
       "        text-align: right;\n",
       "    }\n",
       "</style>\n",
       "<table border=\"1\" class=\"dataframe\">\n",
       "  <thead>\n",
       "    <tr style=\"text-align: right;\">\n",
       "      <th></th>\n",
       "      <th>date</th>\n",
       "      <th>mvrv_score</th>\n",
       "    </tr>\n",
       "  </thead>\n",
       "  <tbody>\n",
       "    <tr>\n",
       "      <th>0</th>\n",
       "      <td>2021-01-29</td>\n",
       "      <td>2.635438</td>\n",
       "    </tr>\n",
       "    <tr>\n",
       "      <th>1</th>\n",
       "      <td>2021-01-28</td>\n",
       "      <td>2.591286</td>\n",
       "    </tr>\n",
       "    <tr>\n",
       "      <th>2</th>\n",
       "      <td>2021-01-27</td>\n",
       "      <td>2.367614</td>\n",
       "    </tr>\n",
       "    <tr>\n",
       "      <th>3</th>\n",
       "      <td>2021-01-26</td>\n",
       "      <td>2.544537</td>\n",
       "    </tr>\n",
       "    <tr>\n",
       "      <th>4</th>\n",
       "      <td>2021-01-25</td>\n",
       "      <td>2.527854</td>\n",
       "    </tr>\n",
       "  </tbody>\n",
       "</table>\n",
       "</div>"
      ],
      "text/plain": [
       "        date  mvrv_score\n",
       "0 2021-01-29    2.635438\n",
       "1 2021-01-28    2.591286\n",
       "2 2021-01-27    2.367614\n",
       "3 2021-01-26    2.544537\n",
       "4 2021-01-25    2.527854"
      ]
     },
     "execution_count": 29,
     "metadata": {},
     "output_type": "execute_result"
    }
   ],
   "source": [
    "mvrv_btc_df = get_mvrv_data(\"btc\",\"20190101\",\"100\")\n",
    "mvrv_btc_df.head(5)"
   ]
  },
  {
   "cell_type": "code",
   "execution_count": 30,
   "metadata": {},
   "outputs": [],
   "source": [
    "def get_pearsons_coefficient(series1,series2):\n",
    "    ''' \n",
    "    Returns pearsons coefficient (int) between 2 dataframes columns.\n",
    "    Parameters: \n",
    "        series1 (object): First series to compare\n",
    "        series2 (object): Second series to compare\n",
    "    '''\n",
    "    #formula to calculate covariance\n",
    "    covariance = cov(series1,series2)\n",
    "    corr, _ = pearsonr(series1,series2)\n",
    "    \n",
    "    return corr"
   ]
  },
  {
   "cell_type": "code",
   "execution_count": 31,
   "metadata": {},
   "outputs": [],
   "source": [
    "def get_plots(input_df):\n",
    "    '''\n",
    "    Returns plot of inputed data frame\n",
    "        Parameters:\n",
    "        input_df: consumes the output of df builder functions above\n",
    "    '''\n",
    "    \n",
    "    data_plot= input_df.hvplot(x='date',figsize=(100,100), rot=90)\n",
    "    return data_plot"
   ]
  },
  {
   "cell_type": "code",
   "execution_count": 35,
   "metadata": {},
   "outputs": [
    {
     "name": "stdout",
     "output_type": "stream",
     "text": [
      "Pearsons Correlation of Netflow to Price: 0.07633298907264963\n"
     ]
    }
   ],
   "source": [
    "def netflow_price_plot():\n",
    "    fig3 = make_subplots(specs=[[{'secondary_y':True}]])\n",
    "\n",
    "    fig3.add_trace(\n",
    "        go.Scatter(mode = 'lines',x=netflow_btc_df['date'],y=netflow_btc_df['netflow_total'], name = 'All Exchange Netflow'),\n",
    "        secondary_y=False \n",
    "    )\n",
    "\n",
    "    fig3.add_trace(\n",
    "        go.Scatter(mode = 'lines',x=price_btc_df['date'], y =price_btc_df['price_usd_close'], name = 'BTC Price'),\n",
    "        secondary_y=True \n",
    "    )\n",
    "\n",
    "    fig3.update_layout(\n",
    "        height = 600,width = 1500,\n",
    "        title_text = 'BTC Price & Netflow Data'\n",
    "    )\n",
    "\n",
    "    fig3.update_xaxes(title_text = 'Date')\n",
    "\n",
    "    fig3.update_yaxes(title_text='Exchange Netflow', secondary_y= False)\n",
    "    fig3.update_yaxes(title_text='BTC Market Price', secondary_y= True)\n",
    "\n",
    "\n",
    "\n",
    "    #return fig3.show()\n",
    "    return pn.panel(fig3)\n",
    "\n",
    "\n",
    "netflow_price_corr = get_pearsons_coefficient(netflow_btc_df['netflow_total'], price_btc_df['price_usd_close'])\n",
    "print(f'Pearsons Correlation of Netflow to Price: {netflow_price_corr}')"
   ]
  },
  {
   "cell_type": "code",
   "execution_count": 36,
   "metadata": {},
   "outputs": [
    {
     "name": "stdout",
     "output_type": "stream",
     "text": [
      "Pearsons Correlation of MVRV Score to Price: 0.9519341455994563\n"
     ]
    }
   ],
   "source": [
    "def mvrv_price_plot():\n",
    "    fig3 = make_subplots(specs=[[{'secondary_y':True}]])\n",
    "\n",
    "#fig3=go.Figure()\n",
    "\n",
    "    fig3.add_trace(\n",
    "        go.Scatter(mode = 'lines',x=mvrv_btc_df['date'],y=mvrv_btc_df['mvrv_score'], name = 'MVRV Ratio'),\n",
    "        secondary_y=False \n",
    "    )\n",
    "\n",
    "    fig3.add_trace(\n",
    "        go.Scatter(mode = 'lines',x=price_btc_df['date'], y =price_btc_df['price_usd_close'], name = 'BTC Price'),\n",
    "        secondary_y=True \n",
    "    )\n",
    "\n",
    "    fig3.update_layout(\n",
    "        height = 600,width = 1500,\n",
    "        title_text = 'BTC Price & MVRV Ratio'\n",
    "    )\n",
    "\n",
    "    fig3.update_xaxes(title_text = 'Date')\n",
    "\n",
    "    fig3.update_yaxes(title_text='MVRV Ratio', secondary_y= False)\n",
    "    fig3.update_yaxes(title_text='BTC Market Price', secondary_y= True)\n",
    "\n",
    "\n",
    "\n",
    "    #return fig3\n",
    "    return pn.panel(fig3)\n",
    "\n",
    "mvrc_price_corr = get_pearsons_coefficient(mvrv_btc_df['mvrv_score'], price_btc_df['price_usd_close'])\n",
    "print(f'Pearsons Correlation of MVRV Score to Price: {mvrc_price_corr}')"
   ]
  },
  {
   "cell_type": "code",
   "execution_count": 37,
   "metadata": {},
   "outputs": [
    {
     "data": {
      "text/plain": [
       "panel.pane.plotly.Plotly"
      ]
     },
     "execution_count": 37,
     "metadata": {},
     "output_type": "execute_result"
    }
   ],
   "source": [
    "p = mvrv_price_plot()\n",
    "type(p)\n"
   ]
  },
  {
   "cell_type": "code",
   "execution_count": 38,
   "metadata": {},
   "outputs": [
    {
     "data": {},
     "metadata": {},
     "output_type": "display_data"
    },
    {
     "data": {
      "application/vnd.holoviews_exec.v0+json": "",
      "text/html": [
       "<div id='2135'>\n",
       "\n",
       "\n",
       "\n",
       "\n",
       "\n",
       "  <div class=\"bk-root\" id=\"e8561617-7c35-4485-bbff-b05d3099674a\" data-root-id=\"2135\"></div>\n",
       "</div>\n",
       "<script type=\"application/javascript\">(function(root) {\n",
       "  function embed_document(root) {\n",
       "    var docs_json = {\"358825f8-1d11-4bbc-bbcd-d0fdb1c60572\":{\"roots\":{\"references\":[{\"attributes\":{},\"id\":\"2152\",\"type\":\"Selection\"},{\"attributes\":{\"_render_count\":0,\"config\":null,\"data\":[{\"mode\":\"lines\",\"name\":\"MVRV Ratio\",\"type\":\"scatter\",\"xaxis\":\"x\",\"yaxis\":\"y\"},{\"mode\":\"lines\",\"name\":\"BTC Price\",\"type\":\"scatter\",\"xaxis\":\"x\",\"yaxis\":\"y2\"}],\"data_sources\":[{\"id\":\"2137\"},{\"id\":\"2138\"}],\"layout\":{\"height\":600,\"template\":{\"data\":{\"bar\":[{\"error_x\":{\"color\":\"#2a3f5f\"},\"error_y\":{\"color\":\"#2a3f5f\"},\"marker\":{\"line\":{\"color\":\"#E5ECF6\",\"width\":0.5}},\"type\":\"bar\"}],\"barpolar\":[{\"marker\":{\"line\":{\"color\":\"#E5ECF6\",\"width\":0.5}},\"type\":\"barpolar\"}],\"carpet\":[{\"aaxis\":{\"endlinecolor\":\"#2a3f5f\",\"gridcolor\":\"white\",\"linecolor\":\"white\",\"minorgridcolor\":\"white\",\"startlinecolor\":\"#2a3f5f\"},\"baxis\":{\"endlinecolor\":\"#2a3f5f\",\"gridcolor\":\"white\",\"linecolor\":\"white\",\"minorgridcolor\":\"white\",\"startlinecolor\":\"#2a3f5f\"},\"type\":\"carpet\"}],\"choropleth\":[{\"colorbar\":{\"outlinewidth\":0,\"ticks\":\"\"},\"type\":\"choropleth\"}],\"contour\":[{\"colorbar\":{\"outlinewidth\":0,\"ticks\":\"\"},\"colorscale\":[[0.0,\"#0d0887\"],[0.1111111111111111,\"#46039f\"],[0.2222222222222222,\"#7201a8\"],[0.3333333333333333,\"#9c179e\"],[0.4444444444444444,\"#bd3786\"],[0.5555555555555556,\"#d8576b\"],[0.6666666666666666,\"#ed7953\"],[0.7777777777777778,\"#fb9f3a\"],[0.8888888888888888,\"#fdca26\"],[1.0,\"#f0f921\"]],\"type\":\"contour\"}],\"contourcarpet\":[{\"colorbar\":{\"outlinewidth\":0,\"ticks\":\"\"},\"type\":\"contourcarpet\"}],\"heatmap\":[{\"colorbar\":{\"outlinewidth\":0,\"ticks\":\"\"},\"colorscale\":[[0.0,\"#0d0887\"],[0.1111111111111111,\"#46039f\"],[0.2222222222222222,\"#7201a8\"],[0.3333333333333333,\"#9c179e\"],[0.4444444444444444,\"#bd3786\"],[0.5555555555555556,\"#d8576b\"],[0.6666666666666666,\"#ed7953\"],[0.7777777777777778,\"#fb9f3a\"],[0.8888888888888888,\"#fdca26\"],[1.0,\"#f0f921\"]],\"type\":\"heatmap\"}],\"heatmapgl\":[{\"colorbar\":{\"outlinewidth\":0,\"ticks\":\"\"},\"colorscale\":[[0.0,\"#0d0887\"],[0.1111111111111111,\"#46039f\"],[0.2222222222222222,\"#7201a8\"],[0.3333333333333333,\"#9c179e\"],[0.4444444444444444,\"#bd3786\"],[0.5555555555555556,\"#d8576b\"],[0.6666666666666666,\"#ed7953\"],[0.7777777777777778,\"#fb9f3a\"],[0.8888888888888888,\"#fdca26\"],[1.0,\"#f0f921\"]],\"type\":\"heatmapgl\"}],\"histogram\":[{\"marker\":{\"colorbar\":{\"outlinewidth\":0,\"ticks\":\"\"}},\"type\":\"histogram\"}],\"histogram2d\":[{\"colorbar\":{\"outlinewidth\":0,\"ticks\":\"\"},\"colorscale\":[[0.0,\"#0d0887\"],[0.1111111111111111,\"#46039f\"],[0.2222222222222222,\"#7201a8\"],[0.3333333333333333,\"#9c179e\"],[0.4444444444444444,\"#bd3786\"],[0.5555555555555556,\"#d8576b\"],[0.6666666666666666,\"#ed7953\"],[0.7777777777777778,\"#fb9f3a\"],[0.8888888888888888,\"#fdca26\"],[1.0,\"#f0f921\"]],\"type\":\"histogram2d\"}],\"histogram2dcontour\":[{\"colorbar\":{\"outlinewidth\":0,\"ticks\":\"\"},\"colorscale\":[[0.0,\"#0d0887\"],[0.1111111111111111,\"#46039f\"],[0.2222222222222222,\"#7201a8\"],[0.3333333333333333,\"#9c179e\"],[0.4444444444444444,\"#bd3786\"],[0.5555555555555556,\"#d8576b\"],[0.6666666666666666,\"#ed7953\"],[0.7777777777777778,\"#fb9f3a\"],[0.8888888888888888,\"#fdca26\"],[1.0,\"#f0f921\"]],\"type\":\"histogram2dcontour\"}],\"mesh3d\":[{\"colorbar\":{\"outlinewidth\":0,\"ticks\":\"\"},\"type\":\"mesh3d\"}],\"parcoords\":[{\"line\":{\"colorbar\":{\"outlinewidth\":0,\"ticks\":\"\"}},\"type\":\"parcoords\"}],\"pie\":[{\"automargin\":true,\"type\":\"pie\"}],\"scatter\":[{\"marker\":{\"colorbar\":{\"outlinewidth\":0,\"ticks\":\"\"}},\"type\":\"scatter\"}],\"scatter3d\":[{\"line\":{\"colorbar\":{\"outlinewidth\":0,\"ticks\":\"\"}},\"marker\":{\"colorbar\":{\"outlinewidth\":0,\"ticks\":\"\"}},\"type\":\"scatter3d\"}],\"scattercarpet\":[{\"marker\":{\"colorbar\":{\"outlinewidth\":0,\"ticks\":\"\"}},\"type\":\"scattercarpet\"}],\"scattergeo\":[{\"marker\":{\"colorbar\":{\"outlinewidth\":0,\"ticks\":\"\"}},\"type\":\"scattergeo\"}],\"scattergl\":[{\"marker\":{\"colorbar\":{\"outlinewidth\":0,\"ticks\":\"\"}},\"type\":\"scattergl\"}],\"scattermapbox\":[{\"marker\":{\"colorbar\":{\"outlinewidth\":0,\"ticks\":\"\"}},\"type\":\"scattermapbox\"}],\"scatterpolar\":[{\"marker\":{\"colorbar\":{\"outlinewidth\":0,\"ticks\":\"\"}},\"type\":\"scatterpolar\"}],\"scatterpolargl\":[{\"marker\":{\"colorbar\":{\"outlinewidth\":0,\"ticks\":\"\"}},\"type\":\"scatterpolargl\"}],\"scatterternary\":[{\"marker\":{\"colorbar\":{\"outlinewidth\":0,\"ticks\":\"\"}},\"type\":\"scatterternary\"}],\"surface\":[{\"colorbar\":{\"outlinewidth\":0,\"ticks\":\"\"},\"colorscale\":[[0.0,\"#0d0887\"],[0.1111111111111111,\"#46039f\"],[0.2222222222222222,\"#7201a8\"],[0.3333333333333333,\"#9c179e\"],[0.4444444444444444,\"#bd3786\"],[0.5555555555555556,\"#d8576b\"],[0.6666666666666666,\"#ed7953\"],[0.7777777777777778,\"#fb9f3a\"],[0.8888888888888888,\"#fdca26\"],[1.0,\"#f0f921\"]],\"type\":\"surface\"}],\"table\":[{\"cells\":{\"fill\":{\"color\":\"#EBF0F8\"},\"line\":{\"color\":\"white\"}},\"header\":{\"fill\":{\"color\":\"#C8D4E3\"},\"line\":{\"color\":\"white\"}},\"type\":\"table\"}]},\"layout\":{\"annotationdefaults\":{\"arrowcolor\":\"#2a3f5f\",\"arrowhead\":0,\"arrowwidth\":1},\"autotypenumbers\":\"strict\",\"coloraxis\":{\"colorbar\":{\"outlinewidth\":0,\"ticks\":\"\"}},\"colorscale\":{\"diverging\":[[0,\"#8e0152\"],[0.1,\"#c51b7d\"],[0.2,\"#de77ae\"],[0.3,\"#f1b6da\"],[0.4,\"#fde0ef\"],[0.5,\"#f7f7f7\"],[0.6,\"#e6f5d0\"],[0.7,\"#b8e186\"],[0.8,\"#7fbc41\"],[0.9,\"#4d9221\"],[1,\"#276419\"]],\"sequential\":[[0.0,\"#0d0887\"],[0.1111111111111111,\"#46039f\"],[0.2222222222222222,\"#7201a8\"],[0.3333333333333333,\"#9c179e\"],[0.4444444444444444,\"#bd3786\"],[0.5555555555555556,\"#d8576b\"],[0.6666666666666666,\"#ed7953\"],[0.7777777777777778,\"#fb9f3a\"],[0.8888888888888888,\"#fdca26\"],[1.0,\"#f0f921\"]],\"sequentialminus\":[[0.0,\"#0d0887\"],[0.1111111111111111,\"#46039f\"],[0.2222222222222222,\"#7201a8\"],[0.3333333333333333,\"#9c179e\"],[0.4444444444444444,\"#bd3786\"],[0.5555555555555556,\"#d8576b\"],[0.6666666666666666,\"#ed7953\"],[0.7777777777777778,\"#fb9f3a\"],[0.8888888888888888,\"#fdca26\"],[1.0,\"#f0f921\"]]},\"colorway\":[\"#636efa\",\"#EF553B\",\"#00cc96\",\"#ab63fa\",\"#FFA15A\",\"#19d3f3\",\"#FF6692\",\"#B6E880\",\"#FF97FF\",\"#FECB52\"],\"font\":{\"color\":\"#2a3f5f\"},\"geo\":{\"bgcolor\":\"white\",\"lakecolor\":\"white\",\"landcolor\":\"#E5ECF6\",\"showlakes\":true,\"showland\":true,\"subunitcolor\":\"white\"},\"hoverlabel\":{\"align\":\"left\"},\"hovermode\":\"closest\",\"mapbox\":{\"style\":\"light\"},\"paper_bgcolor\":\"white\",\"plot_bgcolor\":\"#E5ECF6\",\"polar\":{\"angularaxis\":{\"gridcolor\":\"white\",\"linecolor\":\"white\",\"ticks\":\"\"},\"bgcolor\":\"#E5ECF6\",\"radialaxis\":{\"gridcolor\":\"white\",\"linecolor\":\"white\",\"ticks\":\"\"}},\"scene\":{\"xaxis\":{\"backgroundcolor\":\"#E5ECF6\",\"gridcolor\":\"white\",\"gridwidth\":2,\"linecolor\":\"white\",\"showbackground\":true,\"ticks\":\"\",\"zerolinecolor\":\"white\"},\"yaxis\":{\"backgroundcolor\":\"#E5ECF6\",\"gridcolor\":\"white\",\"gridwidth\":2,\"linecolor\":\"white\",\"showbackground\":true,\"ticks\":\"\",\"zerolinecolor\":\"white\"},\"zaxis\":{\"backgroundcolor\":\"#E5ECF6\",\"gridcolor\":\"white\",\"gridwidth\":2,\"linecolor\":\"white\",\"showbackground\":true,\"ticks\":\"\",\"zerolinecolor\":\"white\"}},\"shapedefaults\":{\"line\":{\"color\":\"#2a3f5f\"}},\"ternary\":{\"aaxis\":{\"gridcolor\":\"white\",\"linecolor\":\"white\",\"ticks\":\"\"},\"baxis\":{\"gridcolor\":\"white\",\"linecolor\":\"white\",\"ticks\":\"\"},\"bgcolor\":\"#E5ECF6\",\"caxis\":{\"gridcolor\":\"white\",\"linecolor\":\"white\",\"ticks\":\"\"}},\"title\":{\"x\":0.05},\"xaxis\":{\"automargin\":true,\"gridcolor\":\"white\",\"linecolor\":\"white\",\"ticks\":\"\",\"title\":{\"standoff\":15},\"zerolinecolor\":\"white\",\"zerolinewidth\":2},\"yaxis\":{\"automargin\":true,\"gridcolor\":\"white\",\"linecolor\":\"white\",\"ticks\":\"\",\"title\":{\"standoff\":15},\"zerolinecolor\":\"white\",\"zerolinewidth\":2}}},\"title\":{\"text\":\"BTC Price & MVRV Ratio\"},\"width\":1500,\"xaxis\":{\"anchor\":\"y\",\"domain\":[0.0,0.94],\"title\":{\"text\":\"Date\"}},\"yaxis\":{\"anchor\":\"x\",\"domain\":[0.0,1.0],\"title\":{\"text\":\"MVRV Ratio\"}},\"yaxis2\":{\"anchor\":\"x\",\"overlaying\":\"y\",\"side\":\"right\",\"title\":{\"text\":\"BTC Market Price\"}}},\"margin\":[5,5,5,5],\"name\":\"Plotly02537\",\"viewport_update_throttle\":200},\"id\":\"2139\",\"type\":\"panel.models.plotly.PlotlyPlot\"},{\"attributes\":{},\"id\":\"2150\",\"type\":\"Selection\"},{\"attributes\":{\"margin\":[0,0,0,0],\"tabs\":[{\"id\":\"2140\"},{\"id\":\"2145\"}]},\"id\":\"2135\",\"type\":\"Tabs\"},{\"attributes\":{},\"id\":\"2146\",\"type\":\"Selection\"},{\"attributes\":{\"data\":{\"x\":[[\"2021-01-29 00:00:00\",\"2021-01-28 00:00:00\",\"2021-01-27 00:00:00\",\"2021-01-26 00:00:00\",\"2021-01-25 00:00:00\",\"2021-01-24 00:00:00\",\"2021-01-23 00:00:00\",\"2021-01-22 00:00:00\",\"2021-01-21 00:00:00\",\"2021-01-20 00:00:00\",\"2021-01-19 00:00:00\",\"2021-01-18 00:00:00\",\"2021-01-17 00:00:00\",\"2021-01-16 00:00:00\",\"2021-01-15 00:00:00\",\"2021-01-14 00:00:00\",\"2021-01-13 00:00:00\",\"2021-01-12 00:00:00\",\"2021-01-11 00:00:00\",\"2021-01-10 00:00:00\",\"2021-01-09 00:00:00\",\"2021-01-08 00:00:00\",\"2021-01-07 00:00:00\",\"2021-01-06 00:00:00\",\"2021-01-05 00:00:00\",\"2021-01-04 00:00:00\",\"2021-01-03 00:00:00\",\"2021-01-02 00:00:00\",\"2021-01-01 00:00:00\",\"2020-12-31 00:00:00\",\"2020-12-30 00:00:00\",\"2020-12-29 00:00:00\",\"2020-12-28 00:00:00\",\"2020-12-27 00:00:00\",\"2020-12-26 00:00:00\",\"2020-12-25 00:00:00\",\"2020-12-24 00:00:00\",\"2020-12-23 00:00:00\",\"2020-12-22 00:00:00\",\"2020-12-21 00:00:00\",\"2020-12-20 00:00:00\",\"2020-12-19 00:00:00\",\"2020-12-18 00:00:00\",\"2020-12-17 00:00:00\",\"2020-12-16 00:00:00\",\"2020-12-15 00:00:00\",\"2020-12-14 00:00:00\",\"2020-12-13 00:00:00\",\"2020-12-12 00:00:00\",\"2020-12-11 00:00:00\",\"2020-12-10 00:00:00\",\"2020-12-09 00:00:00\",\"2020-12-08 00:00:00\",\"2020-12-07 00:00:00\",\"2020-12-06 00:00:00\",\"2020-12-05 00:00:00\",\"2020-12-04 00:00:00\",\"2020-12-03 00:00:00\",\"2020-12-02 00:00:00\",\"2020-12-01 00:00:00\",\"2020-11-30 00:00:00\",\"2020-11-29 00:00:00\",\"2020-11-28 00:00:00\",\"2020-11-27 00:00:00\",\"2020-11-26 00:00:00\",\"2020-11-25 00:00:00\",\"2020-11-24 00:00:00\",\"2020-11-23 00:00:00\",\"2020-11-22 00:00:00\",\"2020-11-21 00:00:00\",\"2020-11-20 00:00:00\",\"2020-11-19 00:00:00\",\"2020-11-18 00:00:00\",\"2020-11-17 00:00:00\",\"2020-11-16 00:00:00\",\"2020-11-15 00:00:00\",\"2020-11-14 00:00:00\",\"2020-11-13 00:00:00\",\"2020-11-12 00:00:00\",\"2020-11-11 00:00:00\",\"2020-11-10 00:00:00\",\"2020-11-09 00:00:00\",\"2020-11-08 00:00:00\",\"2020-11-07 00:00:00\",\"2020-11-06 00:00:00\",\"2020-11-05 00:00:00\",\"2020-11-04 00:00:00\",\"2020-11-03 00:00:00\",\"2020-11-02 00:00:00\",\"2020-11-01 00:00:00\",\"2020-10-31 00:00:00\",\"2020-10-30 00:00:00\",\"2020-10-29 00:00:00\",\"2020-10-28 00:00:00\",\"2020-10-27 00:00:00\",\"2020-10-26 00:00:00\",\"2020-10-25 00:00:00\",\"2020-10-24 00:00:00\",\"2020-10-23 00:00:00\",\"2020-10-22 00:00:00\"]],\"y\":[{\"__ndarray__\":\"yJ0MLUEB0UAkmoItF8y3wILddkLUNcTASlT7tqKopMAJ3WeNrHexQJTrt8Crq5hAIISZGdoefUAMEi4muWa2QHoIeAysg6PAjV0ms3hBvEAx5lNsxZOswDhhJZOiZcFAz49UGZVVscAl8nbnPUt6wB/jQP4ehatA36qpNPPCscBZAmNcdXqRwBsYcegUJaPAOjNNGgpWvUBpw2HpxQjBQPM2/I+7WLzA/N6mPyuHlMDCeaMcsfiswF61OlIPeLjA4wkQR0NJqkCIizeNdEudQIUU0enQ5sNA/PDBRZe/4cBoLibs8fvNwCqGs3TfxsLAvlb46UXWs0DzYtVeh+jKwJ6llnNaVXfAQho+NxL8ykAdtiVZPEurQGL4RnwVD8RAj2zwtlmEgkBdxiz/0nqcwAdwoxY72tLAvri3z3hhhsC6CN89OyK1wJc2oM4ERLdA9WjLNdypU8B6CLoo+VjFQP130G7WttLAUVFQ5S+et8A+ixDkGwG3QEJNgKNrYr1AKvydNva54UDAjsVX5DKwQK/8Q0RWB97AOIhSUinQt8AtL68SE9SywAcvNLaLSHVATDUWweE9m8CbVX6dPmKrQON+VWgqU83AmUM5bmS0icDTcwPszG29wNdGRErlPsdABNL2ljH9q0BNmBf9oCGzwH81YsFEZqHA/mgw9KHurUAFgmMDjxTRQCQ5DQ9LCL9Aq2AzRA3Os8BB7oV2TO6HwL92WeEsv5jApl3xefYbwUA9ztmnYBiaQLr4eHSlqn5A1HXRJXY6ZcArSYVOpWq/QFXOKKdS8L7AREXFzekGs8BRylr58lnAQPO68hfiMoDAKUaOW97susDOLxAlvvKRwIsyn5yFE8jATawAnQEEdkC5Klj8k1uhwLFcBAC4x6BAEGCq/F1GtEB4SO8jdfG4QP0e7WZ8DMjAgYvbiZ6rzcCGMTO97J7cwMQYolTs0mzAhmNtvkVTtkC4/mUQ182+wMdyvwEFCaLAwtBVgHCVhkAhE50jw9LAwJA+WloCUMDAAqFQqgQonMCy326k11S0wKqkJcF5rKvA3+v3BotJlMA=\",\"dtype\":\"float64\",\"order\":\"little\",\"shape\":[100]}]},\"selected\":{\"id\":\"2150\"},\"selection_policy\":{\"id\":\"2151\"}},\"id\":\"2142\",\"type\":\"ColumnDataSource\"},{\"attributes\":{},\"id\":\"2149\",\"type\":\"UnionRenderers\"},{\"attributes\":{\"child\":{\"id\":\"2141\"},\"name\":\"Column02542\",\"title\":\"Netflow Ratio\"},\"id\":\"2145\",\"type\":\"Panel\"},{\"attributes\":{},\"id\":\"2151\",\"type\":\"UnionRenderers\"},{\"attributes\":{\"data\":{\"x\":[[\"2021-01-29 00:00:00\",\"2021-01-28 00:00:00\",\"2021-01-27 00:00:00\",\"2021-01-26 00:00:00\",\"2021-01-25 00:00:00\",\"2021-01-24 00:00:00\",\"2021-01-23 00:00:00\",\"2021-01-22 00:00:00\",\"2021-01-21 00:00:00\",\"2021-01-20 00:00:00\",\"2021-01-19 00:00:00\",\"2021-01-18 00:00:00\",\"2021-01-17 00:00:00\",\"2021-01-16 00:00:00\",\"2021-01-15 00:00:00\",\"2021-01-14 00:00:00\",\"2021-01-13 00:00:00\",\"2021-01-12 00:00:00\",\"2021-01-11 00:00:00\",\"2021-01-10 00:00:00\",\"2021-01-09 00:00:00\",\"2021-01-08 00:00:00\",\"2021-01-07 00:00:00\",\"2021-01-06 00:00:00\",\"2021-01-05 00:00:00\",\"2021-01-04 00:00:00\",\"2021-01-03 00:00:00\",\"2021-01-02 00:00:00\",\"2021-01-01 00:00:00\",\"2020-12-31 00:00:00\",\"2020-12-30 00:00:00\",\"2020-12-29 00:00:00\",\"2020-12-28 00:00:00\",\"2020-12-27 00:00:00\",\"2020-12-26 00:00:00\",\"2020-12-25 00:00:00\",\"2020-12-24 00:00:00\",\"2020-12-23 00:00:00\",\"2020-12-22 00:00:00\",\"2020-12-21 00:00:00\",\"2020-12-20 00:00:00\",\"2020-12-19 00:00:00\",\"2020-12-18 00:00:00\",\"2020-12-17 00:00:00\",\"2020-12-16 00:00:00\",\"2020-12-15 00:00:00\",\"2020-12-14 00:00:00\",\"2020-12-13 00:00:00\",\"2020-12-12 00:00:00\",\"2020-12-11 00:00:00\",\"2020-12-10 00:00:00\",\"2020-12-09 00:00:00\",\"2020-12-08 00:00:00\",\"2020-12-07 00:00:00\",\"2020-12-06 00:00:00\",\"2020-12-05 00:00:00\",\"2020-12-04 00:00:00\",\"2020-12-03 00:00:00\",\"2020-12-02 00:00:00\",\"2020-12-01 00:00:00\",\"2020-11-30 00:00:00\",\"2020-11-29 00:00:00\",\"2020-11-28 00:00:00\",\"2020-11-27 00:00:00\",\"2020-11-26 00:00:00\",\"2020-11-25 00:00:00\",\"2020-11-24 00:00:00\",\"2020-11-23 00:00:00\",\"2020-11-22 00:00:00\",\"2020-11-21 00:00:00\",\"2020-11-20 00:00:00\",\"2020-11-19 00:00:00\",\"2020-11-18 00:00:00\",\"2020-11-17 00:00:00\",\"2020-11-16 00:00:00\",\"2020-11-15 00:00:00\",\"2020-11-14 00:00:00\",\"2020-11-13 00:00:00\",\"2020-11-12 00:00:00\",\"2020-11-11 00:00:00\",\"2020-11-10 00:00:00\",\"2020-11-09 00:00:00\",\"2020-11-08 00:00:00\",\"2020-11-07 00:00:00\",\"2020-11-06 00:00:00\",\"2020-11-05 00:00:00\",\"2020-11-04 00:00:00\",\"2020-11-03 00:00:00\",\"2020-11-02 00:00:00\",\"2020-11-01 00:00:00\",\"2020-10-31 00:00:00\",\"2020-10-30 00:00:00\",\"2020-10-29 00:00:00\",\"2020-10-28 00:00:00\",\"2020-10-27 00:00:00\",\"2020-10-26 00:00:00\",\"2020-10-25 00:00:00\",\"2020-10-24 00:00:00\",\"2020-10-23 00:00:00\",\"2020-10-22 00:00:00\"]],\"y\":[{\"__ndarray__\":\"gePJjGAVBUALZMDn87oEQGxuh7zf8AJA8XIwXDZbBEBvPnHCCzkEQOVju1ttRwRAJ7w0SCctBEBLBRE4UsIEQIIKzO/2bwNA/O0BJ2xeBkCzMkJiLqoGQDCr1/3BPQdA71rHF1/YBkCaNWTh/f8GQFcFknYikgdAVyCmvc08CUBvdMCR+lUIQLJ1ghy4RAZAjwswMx5TB0Bp7NuQTz8JQO1Q3ZjXwgpAqHEe5sN+C0AFZuS28FoLQBGbuSpEMwpAvyVpFTqSCEB0yRAAgnIHQJVY+JzPhAhA3jU7iPBGCEB0thvSfXoGQGjD7Y+AYAZASOI6iVt+BkAz6VT4DYcFQHie+CUyjwVA3F6s/d5bBUBszRMhEcIFQI6hDusQaQRA/ekPl22nA0D083NGzWIDQNJDbjBbDgRAJE/XrY5RA0Bi5UQ/SgcEQOjin0PccgRAzAUuph3tA0AL6h9CtvEDQPT/LUX17wJAqSvuMOdcAUABICDeU0YBQEDuKENQNwFAxnxBtp4DAUA70E7LRVoAQJcf/u85kgBAoUOMHOHjAED9NS85hrQAQOblrtdpigFA3qvP3n3DAUA54BjgW5MBQN0jYZOGIwFApu5toT7mAUCwb6In18MBQLB4op0nbgFAX0/eIa9eAkDuQNH7cRABQGLvLTzSmgBAg3ddwRciAEDyKDFUWEYAQKipAfwxuQFA0/IV/8woAkAFHo4UQYkBQDCYLoUXrAFA/pSshMTtAUAIHQ5Gb+4BQN8B8h76TQFArplGeD9GAUB8mOwm4E8BQA8VGirAfgBAma1WBUCM/z9hw1X+Hdr/P10VtNZ8MgBA0iAu/Dw4AEDb3BKE9lb/P5N/fUK/uf4/E6AESXHU/j88ZoZBqzf/P3QAFnc/9f0/fj8LuXGL/z9hJXpvyLv/P0x0tDbW+/w/9Aujl5LN/D+i6wM4Nin8PzIA9V/4q/w/1UZgEu2s/D9l7+USHln8P4Q/V4fwKPw/YzmEgBHW+z8gmvhHUKb8P5TGl+xrf/s/obwa8Op6+z9qO9uT5Kv7P4EhauDiWPs/AAFHRBqJ+z8=\",\"dtype\":\"float64\",\"order\":\"little\",\"shape\":[100]}]},\"selected\":{\"id\":\"2146\"},\"selection_policy\":{\"id\":\"2147\"}},\"id\":\"2137\",\"type\":\"ColumnDataSource\"},{\"attributes\":{\"child\":{\"id\":\"2136\"},\"name\":\"Column02539\",\"title\":\"MVRV Ratio\"},\"id\":\"2140\",\"type\":\"Panel\"},{\"attributes\":{\"client_comm_id\":\"a79184fc6c6947faaed4c812ae404f27\",\"comm_id\":\"82040a8bd39a423685622f6889221cc7\",\"plot_id\":\"2135\"},\"id\":\"2170\",\"type\":\"panel.models.comm_manager.CommManager\"},{\"attributes\":{\"data\":{\"x\":[[\"2021-01-29 00:00:00\",\"2021-01-28 00:00:00\",\"2021-01-27 00:00:00\",\"2021-01-26 00:00:00\",\"2021-01-25 00:00:00\",\"2021-01-24 00:00:00\",\"2021-01-23 00:00:00\",\"2021-01-22 00:00:00\",\"2021-01-21 00:00:00\",\"2021-01-20 00:00:00\",\"2021-01-19 00:00:00\",\"2021-01-18 00:00:00\",\"2021-01-17 00:00:00\",\"2021-01-16 00:00:00\",\"2021-01-15 00:00:00\",\"2021-01-14 00:00:00\",\"2021-01-13 00:00:00\",\"2021-01-12 00:00:00\",\"2021-01-11 00:00:00\",\"2021-01-10 00:00:00\",\"2021-01-09 00:00:00\",\"2021-01-08 00:00:00\",\"2021-01-07 00:00:00\",\"2021-01-06 00:00:00\",\"2021-01-05 00:00:00\",\"2021-01-04 00:00:00\",\"2021-01-03 00:00:00\",\"2021-01-02 00:00:00\",\"2021-01-01 00:00:00\",\"2020-12-31 00:00:00\",\"2020-12-30 00:00:00\",\"2020-12-29 00:00:00\",\"2020-12-28 00:00:00\",\"2020-12-27 00:00:00\",\"2020-12-26 00:00:00\",\"2020-12-25 00:00:00\",\"2020-12-24 00:00:00\",\"2020-12-23 00:00:00\",\"2020-12-22 00:00:00\",\"2020-12-21 00:00:00\",\"2020-12-20 00:00:00\",\"2020-12-19 00:00:00\",\"2020-12-18 00:00:00\",\"2020-12-17 00:00:00\",\"2020-12-16 00:00:00\",\"2020-12-15 00:00:00\",\"2020-12-14 00:00:00\",\"2020-12-13 00:00:00\",\"2020-12-12 00:00:00\",\"2020-12-11 00:00:00\",\"2020-12-10 00:00:00\",\"2020-12-09 00:00:00\",\"2020-12-08 00:00:00\",\"2020-12-07 00:00:00\",\"2020-12-06 00:00:00\",\"2020-12-05 00:00:00\",\"2020-12-04 00:00:00\",\"2020-12-03 00:00:00\",\"2020-12-02 00:00:00\",\"2020-12-01 00:00:00\",\"2020-11-30 00:00:00\",\"2020-11-29 00:00:00\",\"2020-11-28 00:00:00\",\"2020-11-27 00:00:00\",\"2020-11-26 00:00:00\",\"2020-11-25 00:00:00\",\"2020-11-24 00:00:00\",\"2020-11-23 00:00:00\",\"2020-11-22 00:00:00\",\"2020-11-21 00:00:00\",\"2020-11-20 00:00:00\",\"2020-11-19 00:00:00\",\"2020-11-18 00:00:00\",\"2020-11-17 00:00:00\",\"2020-11-16 00:00:00\",\"2020-11-15 00:00:00\",\"2020-11-14 00:00:00\",\"2020-11-13 00:00:00\",\"2020-11-12 00:00:00\",\"2020-11-11 00:00:00\",\"2020-11-10 00:00:00\",\"2020-11-09 00:00:00\",\"2020-11-08 00:00:00\",\"2020-11-07 00:00:00\",\"2020-11-06 00:00:00\",\"2020-11-05 00:00:00\",\"2020-11-04 00:00:00\",\"2020-11-03 00:00:00\",\"2020-11-02 00:00:00\",\"2020-11-01 00:00:00\",\"2020-10-31 00:00:00\",\"2020-10-30 00:00:00\",\"2020-10-29 00:00:00\",\"2020-10-28 00:00:00\",\"2020-10-27 00:00:00\",\"2020-10-26 00:00:00\",\"2020-10-25 00:00:00\",\"2020-10-24 00:00:00\",\"2020-10-23 00:00:00\",\"2020-10-22 00:00:00\"]],\"y\":[{\"__ndarray__\":\"NAWdNpC44EAVgLHk90zgQO31iyVHrN1APQrXo1i630B7FK5HiX/fQHy4gU6jhN9AfLiBTlNV30A+3ECnCRngQO31iyUfIN5AexSuRz1T4UBxD3TaHIbhQDJhyS8m5OFAH1dVVdl+4UCuR+F67JLhQDJhyS868+FAHrOBTv8d40DhqKqq6kDiQKOe0waWnuBAUea0gaJN4UBdYSz56aPiQHEPdNqkmuNAAdJpAx3V40ApXI/C2UXjQBTc3d3p+eFArxlLfk2Z4EBvmTbQWUTfQGZmZmZaIeBAhetRuPZw30Dg1kCn3arcQMP1KFxfQtxAvp8aL5003EDZzvdTw73aQMUgsHJ4bdpAppvEIFCn2UCF61G4XtzZQO58PzVOIdhA/Knx0r0u10AAAAAAILDWQLpJDAL7Q9dA1XjpJgEz1kCw67SBNuvWQNejcD2CR9dAZcKSX0yV1kDD9Shcd0bWQIRHfrGU2dRAMo9fLMn50kCPwvUonNLSQP9bLPl1t9JA2UdERORe0kCNUSojVJ3RQOAGhO9D09FAFCIB3ywc0kBGPacNxOHRQLpOn/Tpu9JAjMMVJ6Dt0kBQiAR8s7TSQODWQKe9ONJA1ovjOE760kDXFyo7rMTSQI6qaCQgVtJA9ISIiJg+00DZR0REBMLRQPLSTWLAQNFABXZO1sa+0EA9CtejuNvQQCuHFtlOUNJAmfuam7+00kDjpZvEIPPRQARWDi06CdJABT2rd+ZD0kDVGjFQ7jDSQAIrhxZpZ9FAPzVeujlT0UAnuLu7+zXRQAAAAACAT9BAAAAAAIAdz0AAAAAAgGLPQAAAAAAA389AAAAAAIDSz0AAAAAAAKTOQAAAAAAA481AAAAAAADtzUAAAAAAADvOQAAAAACA6cxAAAAAAIBnzkAAAAAAAHLOQAAAAAAAoctAAAAAAABjy0AAAAAAgHPKQAAAAACA3spAAAAAAIDTykAAAAAAAHvKQAAAAAAARspAAAAAAADsyUAAAAAAAKDKQAAAAACAfMlAAAAAAAByyUAAAAAAAJnJQAAAAAAAQclAAAAAAIBRyUA=\",\"dtype\":\"float64\",\"order\":\"little\",\"shape\":[100]}]},\"selected\":{\"id\":\"2152\"},\"selection_policy\":{\"id\":\"2153\"}},\"id\":\"2143\",\"type\":\"ColumnDataSource\"},{\"attributes\":{\"children\":[{\"id\":\"2144\"}],\"margin\":[0,0,0,0],\"name\":\"Column02542\"},\"id\":\"2141\",\"type\":\"Column\"},{\"attributes\":{},\"id\":\"2153\",\"type\":\"UnionRenderers\"},{\"attributes\":{},\"id\":\"2147\",\"type\":\"UnionRenderers\"},{\"attributes\":{\"children\":[{\"id\":\"2139\"}],\"margin\":[0,0,0,0],\"name\":\"Column02539\"},\"id\":\"2136\",\"type\":\"Column\"},{\"attributes\":{\"_render_count\":0,\"config\":null,\"data\":[{\"mode\":\"lines\",\"name\":\"All Exchange Netflow\",\"type\":\"scatter\",\"xaxis\":\"x\",\"yaxis\":\"y\"},{\"mode\":\"lines\",\"name\":\"BTC Price\",\"type\":\"scatter\",\"xaxis\":\"x\",\"yaxis\":\"y2\"}],\"data_sources\":[{\"id\":\"2142\"},{\"id\":\"2143\"}],\"layout\":{\"height\":600,\"template\":{\"data\":{\"bar\":[{\"error_x\":{\"color\":\"#2a3f5f\"},\"error_y\":{\"color\":\"#2a3f5f\"},\"marker\":{\"line\":{\"color\":\"#E5ECF6\",\"width\":0.5}},\"type\":\"bar\"}],\"barpolar\":[{\"marker\":{\"line\":{\"color\":\"#E5ECF6\",\"width\":0.5}},\"type\":\"barpolar\"}],\"carpet\":[{\"aaxis\":{\"endlinecolor\":\"#2a3f5f\",\"gridcolor\":\"white\",\"linecolor\":\"white\",\"minorgridcolor\":\"white\",\"startlinecolor\":\"#2a3f5f\"},\"baxis\":{\"endlinecolor\":\"#2a3f5f\",\"gridcolor\":\"white\",\"linecolor\":\"white\",\"minorgridcolor\":\"white\",\"startlinecolor\":\"#2a3f5f\"},\"type\":\"carpet\"}],\"choropleth\":[{\"colorbar\":{\"outlinewidth\":0,\"ticks\":\"\"},\"type\":\"choropleth\"}],\"contour\":[{\"colorbar\":{\"outlinewidth\":0,\"ticks\":\"\"},\"colorscale\":[[0.0,\"#0d0887\"],[0.1111111111111111,\"#46039f\"],[0.2222222222222222,\"#7201a8\"],[0.3333333333333333,\"#9c179e\"],[0.4444444444444444,\"#bd3786\"],[0.5555555555555556,\"#d8576b\"],[0.6666666666666666,\"#ed7953\"],[0.7777777777777778,\"#fb9f3a\"],[0.8888888888888888,\"#fdca26\"],[1.0,\"#f0f921\"]],\"type\":\"contour\"}],\"contourcarpet\":[{\"colorbar\":{\"outlinewidth\":0,\"ticks\":\"\"},\"type\":\"contourcarpet\"}],\"heatmap\":[{\"colorbar\":{\"outlinewidth\":0,\"ticks\":\"\"},\"colorscale\":[[0.0,\"#0d0887\"],[0.1111111111111111,\"#46039f\"],[0.2222222222222222,\"#7201a8\"],[0.3333333333333333,\"#9c179e\"],[0.4444444444444444,\"#bd3786\"],[0.5555555555555556,\"#d8576b\"],[0.6666666666666666,\"#ed7953\"],[0.7777777777777778,\"#fb9f3a\"],[0.8888888888888888,\"#fdca26\"],[1.0,\"#f0f921\"]],\"type\":\"heatmap\"}],\"heatmapgl\":[{\"colorbar\":{\"outlinewidth\":0,\"ticks\":\"\"},\"colorscale\":[[0.0,\"#0d0887\"],[0.1111111111111111,\"#46039f\"],[0.2222222222222222,\"#7201a8\"],[0.3333333333333333,\"#9c179e\"],[0.4444444444444444,\"#bd3786\"],[0.5555555555555556,\"#d8576b\"],[0.6666666666666666,\"#ed7953\"],[0.7777777777777778,\"#fb9f3a\"],[0.8888888888888888,\"#fdca26\"],[1.0,\"#f0f921\"]],\"type\":\"heatmapgl\"}],\"histogram\":[{\"marker\":{\"colorbar\":{\"outlinewidth\":0,\"ticks\":\"\"}},\"type\":\"histogram\"}],\"histogram2d\":[{\"colorbar\":{\"outlinewidth\":0,\"ticks\":\"\"},\"colorscale\":[[0.0,\"#0d0887\"],[0.1111111111111111,\"#46039f\"],[0.2222222222222222,\"#7201a8\"],[0.3333333333333333,\"#9c179e\"],[0.4444444444444444,\"#bd3786\"],[0.5555555555555556,\"#d8576b\"],[0.6666666666666666,\"#ed7953\"],[0.7777777777777778,\"#fb9f3a\"],[0.8888888888888888,\"#fdca26\"],[1.0,\"#f0f921\"]],\"type\":\"histogram2d\"}],\"histogram2dcontour\":[{\"colorbar\":{\"outlinewidth\":0,\"ticks\":\"\"},\"colorscale\":[[0.0,\"#0d0887\"],[0.1111111111111111,\"#46039f\"],[0.2222222222222222,\"#7201a8\"],[0.3333333333333333,\"#9c179e\"],[0.4444444444444444,\"#bd3786\"],[0.5555555555555556,\"#d8576b\"],[0.6666666666666666,\"#ed7953\"],[0.7777777777777778,\"#fb9f3a\"],[0.8888888888888888,\"#fdca26\"],[1.0,\"#f0f921\"]],\"type\":\"histogram2dcontour\"}],\"mesh3d\":[{\"colorbar\":{\"outlinewidth\":0,\"ticks\":\"\"},\"type\":\"mesh3d\"}],\"parcoords\":[{\"line\":{\"colorbar\":{\"outlinewidth\":0,\"ticks\":\"\"}},\"type\":\"parcoords\"}],\"pie\":[{\"automargin\":true,\"type\":\"pie\"}],\"scatter\":[{\"marker\":{\"colorbar\":{\"outlinewidth\":0,\"ticks\":\"\"}},\"type\":\"scatter\"}],\"scatter3d\":[{\"line\":{\"colorbar\":{\"outlinewidth\":0,\"ticks\":\"\"}},\"marker\":{\"colorbar\":{\"outlinewidth\":0,\"ticks\":\"\"}},\"type\":\"scatter3d\"}],\"scattercarpet\":[{\"marker\":{\"colorbar\":{\"outlinewidth\":0,\"ticks\":\"\"}},\"type\":\"scattercarpet\"}],\"scattergeo\":[{\"marker\":{\"colorbar\":{\"outlinewidth\":0,\"ticks\":\"\"}},\"type\":\"scattergeo\"}],\"scattergl\":[{\"marker\":{\"colorbar\":{\"outlinewidth\":0,\"ticks\":\"\"}},\"type\":\"scattergl\"}],\"scattermapbox\":[{\"marker\":{\"colorbar\":{\"outlinewidth\":0,\"ticks\":\"\"}},\"type\":\"scattermapbox\"}],\"scatterpolar\":[{\"marker\":{\"colorbar\":{\"outlinewidth\":0,\"ticks\":\"\"}},\"type\":\"scatterpolar\"}],\"scatterpolargl\":[{\"marker\":{\"colorbar\":{\"outlinewidth\":0,\"ticks\":\"\"}},\"type\":\"scatterpolargl\"}],\"scatterternary\":[{\"marker\":{\"colorbar\":{\"outlinewidth\":0,\"ticks\":\"\"}},\"type\":\"scatterternary\"}],\"surface\":[{\"colorbar\":{\"outlinewidth\":0,\"ticks\":\"\"},\"colorscale\":[[0.0,\"#0d0887\"],[0.1111111111111111,\"#46039f\"],[0.2222222222222222,\"#7201a8\"],[0.3333333333333333,\"#9c179e\"],[0.4444444444444444,\"#bd3786\"],[0.5555555555555556,\"#d8576b\"],[0.6666666666666666,\"#ed7953\"],[0.7777777777777778,\"#fb9f3a\"],[0.8888888888888888,\"#fdca26\"],[1.0,\"#f0f921\"]],\"type\":\"surface\"}],\"table\":[{\"cells\":{\"fill\":{\"color\":\"#EBF0F8\"},\"line\":{\"color\":\"white\"}},\"header\":{\"fill\":{\"color\":\"#C8D4E3\"},\"line\":{\"color\":\"white\"}},\"type\":\"table\"}]},\"layout\":{\"annotationdefaults\":{\"arrowcolor\":\"#2a3f5f\",\"arrowhead\":0,\"arrowwidth\":1},\"autotypenumbers\":\"strict\",\"coloraxis\":{\"colorbar\":{\"outlinewidth\":0,\"ticks\":\"\"}},\"colorscale\":{\"diverging\":[[0,\"#8e0152\"],[0.1,\"#c51b7d\"],[0.2,\"#de77ae\"],[0.3,\"#f1b6da\"],[0.4,\"#fde0ef\"],[0.5,\"#f7f7f7\"],[0.6,\"#e6f5d0\"],[0.7,\"#b8e186\"],[0.8,\"#7fbc41\"],[0.9,\"#4d9221\"],[1,\"#276419\"]],\"sequential\":[[0.0,\"#0d0887\"],[0.1111111111111111,\"#46039f\"],[0.2222222222222222,\"#7201a8\"],[0.3333333333333333,\"#9c179e\"],[0.4444444444444444,\"#bd3786\"],[0.5555555555555556,\"#d8576b\"],[0.6666666666666666,\"#ed7953\"],[0.7777777777777778,\"#fb9f3a\"],[0.8888888888888888,\"#fdca26\"],[1.0,\"#f0f921\"]],\"sequentialminus\":[[0.0,\"#0d0887\"],[0.1111111111111111,\"#46039f\"],[0.2222222222222222,\"#7201a8\"],[0.3333333333333333,\"#9c179e\"],[0.4444444444444444,\"#bd3786\"],[0.5555555555555556,\"#d8576b\"],[0.6666666666666666,\"#ed7953\"],[0.7777777777777778,\"#fb9f3a\"],[0.8888888888888888,\"#fdca26\"],[1.0,\"#f0f921\"]]},\"colorway\":[\"#636efa\",\"#EF553B\",\"#00cc96\",\"#ab63fa\",\"#FFA15A\",\"#19d3f3\",\"#FF6692\",\"#B6E880\",\"#FF97FF\",\"#FECB52\"],\"font\":{\"color\":\"#2a3f5f\"},\"geo\":{\"bgcolor\":\"white\",\"lakecolor\":\"white\",\"landcolor\":\"#E5ECF6\",\"showlakes\":true,\"showland\":true,\"subunitcolor\":\"white\"},\"hoverlabel\":{\"align\":\"left\"},\"hovermode\":\"closest\",\"mapbox\":{\"style\":\"light\"},\"paper_bgcolor\":\"white\",\"plot_bgcolor\":\"#E5ECF6\",\"polar\":{\"angularaxis\":{\"gridcolor\":\"white\",\"linecolor\":\"white\",\"ticks\":\"\"},\"bgcolor\":\"#E5ECF6\",\"radialaxis\":{\"gridcolor\":\"white\",\"linecolor\":\"white\",\"ticks\":\"\"}},\"scene\":{\"xaxis\":{\"backgroundcolor\":\"#E5ECF6\",\"gridcolor\":\"white\",\"gridwidth\":2,\"linecolor\":\"white\",\"showbackground\":true,\"ticks\":\"\",\"zerolinecolor\":\"white\"},\"yaxis\":{\"backgroundcolor\":\"#E5ECF6\",\"gridcolor\":\"white\",\"gridwidth\":2,\"linecolor\":\"white\",\"showbackground\":true,\"ticks\":\"\",\"zerolinecolor\":\"white\"},\"zaxis\":{\"backgroundcolor\":\"#E5ECF6\",\"gridcolor\":\"white\",\"gridwidth\":2,\"linecolor\":\"white\",\"showbackground\":true,\"ticks\":\"\",\"zerolinecolor\":\"white\"}},\"shapedefaults\":{\"line\":{\"color\":\"#2a3f5f\"}},\"ternary\":{\"aaxis\":{\"gridcolor\":\"white\",\"linecolor\":\"white\",\"ticks\":\"\"},\"baxis\":{\"gridcolor\":\"white\",\"linecolor\":\"white\",\"ticks\":\"\"},\"bgcolor\":\"#E5ECF6\",\"caxis\":{\"gridcolor\":\"white\",\"linecolor\":\"white\",\"ticks\":\"\"}},\"title\":{\"x\":0.05},\"xaxis\":{\"automargin\":true,\"gridcolor\":\"white\",\"linecolor\":\"white\",\"ticks\":\"\",\"title\":{\"standoff\":15},\"zerolinecolor\":\"white\",\"zerolinewidth\":2},\"yaxis\":{\"automargin\":true,\"gridcolor\":\"white\",\"linecolor\":\"white\",\"ticks\":\"\",\"title\":{\"standoff\":15},\"zerolinecolor\":\"white\",\"zerolinewidth\":2}}},\"title\":{\"text\":\"BTC Price & Netflow Data\"},\"width\":1500,\"xaxis\":{\"anchor\":\"y\",\"domain\":[0.0,0.94],\"title\":{\"text\":\"Date\"}},\"yaxis\":{\"anchor\":\"x\",\"domain\":[0.0,1.0],\"title\":{\"text\":\"Exchange Netflow\"}},\"yaxis2\":{\"anchor\":\"x\",\"overlaying\":\"y\",\"side\":\"right\",\"title\":{\"text\":\"BTC Market Price\"}}},\"margin\":[5,5,5,5],\"name\":\"Plotly02540\",\"viewport_update_throttle\":200},\"id\":\"2144\",\"type\":\"panel.models.plotly.PlotlyPlot\"},{\"attributes\":{},\"id\":\"2148\",\"type\":\"Selection\"},{\"attributes\":{\"data\":{\"x\":[[\"2021-01-29 00:00:00\",\"2021-01-28 00:00:00\",\"2021-01-27 00:00:00\",\"2021-01-26 00:00:00\",\"2021-01-25 00:00:00\",\"2021-01-24 00:00:00\",\"2021-01-23 00:00:00\",\"2021-01-22 00:00:00\",\"2021-01-21 00:00:00\",\"2021-01-20 00:00:00\",\"2021-01-19 00:00:00\",\"2021-01-18 00:00:00\",\"2021-01-17 00:00:00\",\"2021-01-16 00:00:00\",\"2021-01-15 00:00:00\",\"2021-01-14 00:00:00\",\"2021-01-13 00:00:00\",\"2021-01-12 00:00:00\",\"2021-01-11 00:00:00\",\"2021-01-10 00:00:00\",\"2021-01-09 00:00:00\",\"2021-01-08 00:00:00\",\"2021-01-07 00:00:00\",\"2021-01-06 00:00:00\",\"2021-01-05 00:00:00\",\"2021-01-04 00:00:00\",\"2021-01-03 00:00:00\",\"2021-01-02 00:00:00\",\"2021-01-01 00:00:00\",\"2020-12-31 00:00:00\",\"2020-12-30 00:00:00\",\"2020-12-29 00:00:00\",\"2020-12-28 00:00:00\",\"2020-12-27 00:00:00\",\"2020-12-26 00:00:00\",\"2020-12-25 00:00:00\",\"2020-12-24 00:00:00\",\"2020-12-23 00:00:00\",\"2020-12-22 00:00:00\",\"2020-12-21 00:00:00\",\"2020-12-20 00:00:00\",\"2020-12-19 00:00:00\",\"2020-12-18 00:00:00\",\"2020-12-17 00:00:00\",\"2020-12-16 00:00:00\",\"2020-12-15 00:00:00\",\"2020-12-14 00:00:00\",\"2020-12-13 00:00:00\",\"2020-12-12 00:00:00\",\"2020-12-11 00:00:00\",\"2020-12-10 00:00:00\",\"2020-12-09 00:00:00\",\"2020-12-08 00:00:00\",\"2020-12-07 00:00:00\",\"2020-12-06 00:00:00\",\"2020-12-05 00:00:00\",\"2020-12-04 00:00:00\",\"2020-12-03 00:00:00\",\"2020-12-02 00:00:00\",\"2020-12-01 00:00:00\",\"2020-11-30 00:00:00\",\"2020-11-29 00:00:00\",\"2020-11-28 00:00:00\",\"2020-11-27 00:00:00\",\"2020-11-26 00:00:00\",\"2020-11-25 00:00:00\",\"2020-11-24 00:00:00\",\"2020-11-23 00:00:00\",\"2020-11-22 00:00:00\",\"2020-11-21 00:00:00\",\"2020-11-20 00:00:00\",\"2020-11-19 00:00:00\",\"2020-11-18 00:00:00\",\"2020-11-17 00:00:00\",\"2020-11-16 00:00:00\",\"2020-11-15 00:00:00\",\"2020-11-14 00:00:00\",\"2020-11-13 00:00:00\",\"2020-11-12 00:00:00\",\"2020-11-11 00:00:00\",\"2020-11-10 00:00:00\",\"2020-11-09 00:00:00\",\"2020-11-08 00:00:00\",\"2020-11-07 00:00:00\",\"2020-11-06 00:00:00\",\"2020-11-05 00:00:00\",\"2020-11-04 00:00:00\",\"2020-11-03 00:00:00\",\"2020-11-02 00:00:00\",\"2020-11-01 00:00:00\",\"2020-10-31 00:00:00\",\"2020-10-30 00:00:00\",\"2020-10-29 00:00:00\",\"2020-10-28 00:00:00\",\"2020-10-27 00:00:00\",\"2020-10-26 00:00:00\",\"2020-10-25 00:00:00\",\"2020-10-24 00:00:00\",\"2020-10-23 00:00:00\",\"2020-10-22 00:00:00\"]],\"y\":[{\"__ndarray__\":\"NAWdNpC44EAVgLHk90zgQO31iyVHrN1APQrXo1i630B7FK5HiX/fQHy4gU6jhN9AfLiBTlNV30A+3ECnCRngQO31iyUfIN5AexSuRz1T4UBxD3TaHIbhQDJhyS8m5OFAH1dVVdl+4UCuR+F67JLhQDJhyS868+FAHrOBTv8d40DhqKqq6kDiQKOe0waWnuBAUea0gaJN4UBdYSz56aPiQHEPdNqkmuNAAdJpAx3V40ApXI/C2UXjQBTc3d3p+eFArxlLfk2Z4EBvmTbQWUTfQGZmZmZaIeBAhetRuPZw30Dg1kCn3arcQMP1KFxfQtxAvp8aL5003EDZzvdTw73aQMUgsHJ4bdpAppvEIFCn2UCF61G4XtzZQO58PzVOIdhA/Knx0r0u10AAAAAAILDWQLpJDAL7Q9dA1XjpJgEz1kCw67SBNuvWQNejcD2CR9dAZcKSX0yV1kDD9Shcd0bWQIRHfrGU2dRAMo9fLMn50kCPwvUonNLSQP9bLPl1t9JA2UdERORe0kCNUSojVJ3RQOAGhO9D09FAFCIB3ywc0kBGPacNxOHRQLpOn/Tpu9JAjMMVJ6Dt0kBQiAR8s7TSQODWQKe9ONJA1ovjOE760kDXFyo7rMTSQI6qaCQgVtJA9ISIiJg+00DZR0REBMLRQPLSTWLAQNFABXZO1sa+0EA9CtejuNvQQCuHFtlOUNJAmfuam7+00kDjpZvEIPPRQARWDi06CdJABT2rd+ZD0kDVGjFQ7jDSQAIrhxZpZ9FAPzVeujlT0UAnuLu7+zXRQAAAAACAT9BAAAAAAIAdz0AAAAAAgGLPQAAAAAAA389AAAAAAIDSz0AAAAAAAKTOQAAAAAAA481AAAAAAADtzUAAAAAAADvOQAAAAACA6cxAAAAAAIBnzkAAAAAAAHLOQAAAAAAAoctAAAAAAABjy0AAAAAAgHPKQAAAAACA3spAAAAAAIDTykAAAAAAAHvKQAAAAAAARspAAAAAAADsyUAAAAAAAKDKQAAAAACAfMlAAAAAAAByyUAAAAAAAJnJQAAAAAAAQclAAAAAAIBRyUA=\",\"dtype\":\"float64\",\"order\":\"little\",\"shape\":[100]}]},\"selected\":{\"id\":\"2148\"},\"selection_policy\":{\"id\":\"2149\"}},\"id\":\"2138\",\"type\":\"ColumnDataSource\"}],\"root_ids\":[\"2135\",\"2170\"]},\"title\":\"Bokeh Application\",\"version\":\"2.2.3\"}};\n",
       "    var render_items = [{\"docid\":\"358825f8-1d11-4bbc-bbcd-d0fdb1c60572\",\"root_ids\":[\"2135\"],\"roots\":{\"2135\":\"e8561617-7c35-4485-bbff-b05d3099674a\"}}];\n",
       "    root.Bokeh.embed.embed_items_notebook(docs_json, render_items);\n",
       "  }\n",
       "  if (root.Bokeh !== undefined && root.Bokeh.Panel !== undefined && root['Plotly'] !== undefined ) {\n",
       "    embed_document(root);\n",
       "  } else {\n",
       "    var attempts = 0;\n",
       "    var timer = setInterval(function(root) {\n",
       "      if (root.Bokeh !== undefined && root.Bokeh.Panel !== undefined && root['Plotly'] !== undefined) {\n",
       "        clearInterval(timer);\n",
       "        embed_document(root);\n",
       "      } else if (document.readyState == \"complete\") {\n",
       "        attempts++;\n",
       "        if (attempts > 100) {\n",
       "          clearInterval(timer);\n",
       "          console.log(\"Bokeh: ERROR: Unable to run BokehJS code because BokehJS library is missing\");\n",
       "        }\n",
       "      }\n",
       "    }, 10, root)\n",
       "  }\n",
       "})(window);</script>"
      ],
      "text/plain": [
       "Tabs\n",
       "    [0] Column\n",
       "        [0] Plotly(Figure)\n",
       "    [1] Column\n",
       "        [0] Plotly(Figure)"
      ]
     },
     "execution_count": 38,
     "metadata": {
      "application/vnd.holoviews_exec.v0+json": {
       "id": "2135"
      }
     },
     "output_type": "execute_result"
    }
   ],
   "source": [
    "#mvrv_ratio_plots = pn.Column(mvrv_price_plot())\n",
    "#netflow_ratio_plots = pn.Column(netflow_price_plot())\n",
    "\n",
    "\n",
    "panel = pn.Tabs(\n",
    "    ('MVRV Ratio',pn.Column(mvrv_price_plot())),\n",
    "    ('Netflow Ratio',pn.Column(netflow_price_plot()))\n",
    ")\n",
    "\n",
    "panel.servable()\n"
   ]
  },
  {
   "cell_type": "code",
   "execution_count": null,
   "metadata": {},
   "outputs": [],
   "source": []
  },
  {
   "cell_type": "code",
   "execution_count": null,
   "metadata": {},
   "outputs": [],
   "source": []
  },
  {
   "cell_type": "code",
   "execution_count": null,
   "metadata": {},
   "outputs": [],
   "source": []
  },
  {
   "cell_type": "code",
   "execution_count": null,
   "metadata": {},
   "outputs": [],
   "source": []
  }
 ],
 "metadata": {
  "kernelspec": {
   "display_name": "Python [conda env:pyvizenv] *",
   "language": "python",
   "name": "conda-env-pyvizenv-py"
  },
  "language_info": {
   "codemirror_mode": {
    "name": "ipython",
    "version": 3
   },
   "file_extension": ".py",
   "mimetype": "text/x-python",
   "name": "python",
   "nbconvert_exporter": "python",
   "pygments_lexer": "ipython3",
   "version": "3.7.9"
  }
 },
 "nbformat": 4,
 "nbformat_minor": 4
}
