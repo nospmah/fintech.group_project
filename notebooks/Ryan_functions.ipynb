{
 "cells": [
  {
   "cell_type": "code",
   "execution_count": 7,
   "metadata": {},
   "outputs": [],
   "source": [
    "import os\n",
    "import pandas as pd\n",
    "import numpy as np\n",
    "import matplotlib.pyplot as plt\n",
    "import plotly.express as px\n",
    "import hvplot.pandas\n",
    "from pathlib import Path\n",
    "from numpy import mean\n",
    "from numpy import std\n",
    "from numpy import cov\n",
    "from scipy.stats import pearsonr\n",
    "import requests\n",
    "import urllib.request\n",
    "import json\n",
    "import pprint\n",
    "from dotenv import load_dotenv\n",
    "\n",
    "%matplotlib inline\n",
    "\n",
    "load_dotenv()\n",
    "access_token = os.getenv(\"CQ_API_KEY\")\n",
    "headers = { 'Authorization': 'Bearer ' + access_token }"
   ]
  },
  {
   "cell_type": "code",
   "execution_count": 41,
   "metadata": {},
   "outputs": [],
   "source": [
    "def get_netflow_data(ticker,fromdate,limit):\n",
    "    '''\n",
    "    Returns on-chain data (Netflow)n in new df\n",
    "        Parameters:\n",
    "            ticker (string) = Ticker for Desired Coin\n",
    "            fromdate (string) = Starting date of period desired\n",
    "            limit (int) = number of data points     \n",
    "    '''\n",
    "    #Initialize dotenv function, pull API key, build URL\n",
    "    headers = {'Authorization': 'Bearer ' + access_token}\n",
    "    URL = f'https://api.cryptoquant.com/v1/{ticker}/exchange-flows/netflow?exchange=all_exchange&window=day&from={fromdate}&limit={limit}'\n",
    "\n",
    "    # Initialize Dictionary\n",
    "    response = requests.get(URL, headers=headers)\n",
    "    \n",
    "    netflow_data = response.json()\n",
    "\n",
    "    #Transform to Dataframe and adjust data type\n",
    "    netflow_df = pd.DataFrame(data=netflow_data['result']['data'])\n",
    "    netflow_df['date'] = pd.to_datetime(netflow_df['date'])\n",
    "    netflow_df['netflow_total'] = netflow_df['netflow_total'].astype(str).astype('float64')\n",
    "   \n",
    "    return netflow_df\n"
   ]
  },
  {
   "cell_type": "code",
   "execution_count": 42,
   "metadata": {},
   "outputs": [],
   "source": [
    "#test1_df = get_onchain_data(\"btc\",\"20190101\",\"100\")\n",
    "#print(test1_df)"
   ]
  },
  {
   "cell_type": "code",
   "execution_count": 43,
   "metadata": {},
   "outputs": [],
   "source": [
    "def get_price_data(ticker,fromdate,limit):\n",
    "    '''\n",
    "    Returns market data (ticker) in new df\n",
    "        Parameters:\n",
    "            ticker (string) = Ticker for Desired Coin\n",
    "            fromdate (string) = Starting date of period desired\n",
    "            limit (int) = number of data points     \n",
    "    '''\n",
    "    #Get Data & Initialize Dictionary\n",
    "    URL2 = f'https://api.cryptoquant.com/v1/{ticker}/market-data/price-usd?window=day&from={fromdate}&limit={limit}'\n",
    "    response2 = requests.get(URL2, headers=headers)\n",
    "    price_data = response2.json()\n",
    "    \n",
    "    #Transform to Dataframe and adjust data type\n",
    "    price_df = pd.DataFrame(data=price_data['result']['data'])\n",
    "    price_df = price_df.drop(['price_usd_high','price_usd_low','price_usd_open'], axis = 1)\n",
    "    price_df['date'] = pd.to_datetime(price_df['date'])\n",
    "    price_df['price_usd_close'] = price_df['price_usd_close'].astype(str).astype('float64')\n",
    "    price_df = price_df.dropna()\n",
    "\n",
    "    return price_df"
   ]
  },
  {
   "cell_type": "code",
   "execution_count": 44,
   "metadata": {},
   "outputs": [],
   "source": [
    "#Ryan Test, Confirmed Working\n",
    "#test2_df = get_price_data(\"btc\",\"20190101\",\"100\")\n",
    "#print(test2_df)"
   ]
  },
  {
   "cell_type": "code",
   "execution_count": 45,
   "metadata": {},
   "outputs": [],
   "source": [
    "def pearsons_coefficient(series1,series2):\n",
    "    ''' \n",
    "    Returns pearsons coefficient (int) between 2 dataframes columns.\n",
    "    Parameters: \n",
    "        series1 (object): First series to compare\n",
    "        series2 (object): Second series to compare\n",
    "    '''\n",
    "    #formula to calculate covariance\n",
    "    covariance = cov(series1,series2)\n",
    "    corr, _ = pearsonr(series1,series2)\n",
    "    print('Pearsons correlation: %.3f' % corr)\n",
    "    \n",
    "    return corr"
   ]
  },
  {
   "cell_type": "code",
   "execution_count": 46,
   "metadata": {},
   "outputs": [],
   "source": [
    "def get_mvrv_data(ticker,fromdate,limit):\n",
    "    '''\n",
    "    Returns marketcap data in new df\n",
    "        Parameters:\n",
    "            ticker (string) = Ticker for Desired Coin\n",
    "            fromdate (string) = Starting date of period desired\n",
    "            limit (int) = number of data points     \n",
    "    '''\n",
    "    #Get Data & Initialize Dictionary\n",
    "    URL3 = f'https://api.cryptoquant.com/v1/{ticker}/market-data/capitalization?window=day&from={fromdate}&limit={limit}'\n",
    "    response3 = requests.get(URL3, headers=headers)\n",
    "    mvrv_data = response3.json()\n",
    "\n",
    "    #Transform to Dataframe and adjust data type\n",
    "    mvrv_data = pd.DataFrame(data=mvrv_data['result']['data'])\n",
    "    mvrv_data['mvrv_score'] = (mvrv_data['market_cap']/mvrv_data['realized_cap'])\n",
    "    mvrv_data['date'] = pd.to_datetime(mvrv_data['date'])\n",
    "    mvrv_data = mvrv_data.sort_values(by=['date'],ascending=False)\n",
    "    mvrv_data = mvrv_data.drop(['average_cap', 'delta_cap', 'market_cap','realized_cap','thermo_cap'], axis = 1)\n",
    "\n",
    "    return mvrv_data"
   ]
  },
  {
   "cell_type": "code",
   "execution_count": null,
   "metadata": {},
   "outputs": [],
   "source": []
  },
  {
   "cell_type": "code",
   "execution_count": 47,
   "metadata": {},
   "outputs": [],
   "source": [
    "def get_plots(input_df):\n",
    "    '''\n",
    "    Returns plot of inputed data frame\n",
    "        Parameters:\n",
    "        input_df: consumes the output of df builder functions above\n",
    "    '''\n",
    "    \n",
    "    data_plot= input_df.hvplot(x='date',figsize=(100,100), rot=90)\n",
    "    return data_plot"
   ]
  },
  {
   "cell_type": "code",
   "execution_count": 48,
   "metadata": {},
   "outputs": [
    {
     "data": {},
     "metadata": {},
     "output_type": "display_data"
    },
    {
     "data": {
      "application/vnd.holoviews_exec.v0+json": "",
      "text/html": [
       "<div id='1568'>\n",
       "\n",
       "\n",
       "\n",
       "\n",
       "\n",
       "  <div class=\"bk-root\" id=\"bbde445d-d1d8-4475-9c41-21b8f86d26da\" data-root-id=\"1568\"></div>\n",
       "</div>\n",
       "<script type=\"application/javascript\">(function(root) {\n",
       "  function embed_document(root) {\n",
       "    var docs_json = {\"6876f179-e01d-4b06-82e1-c38ccd3b60b6\":{\"roots\":{\"references\":[{\"attributes\":{\"overlay\":{\"id\":\"1595\"}},\"id\":\"1593\",\"type\":\"BoxZoomTool\"},{\"attributes\":{\"data_source\":{\"id\":\"1603\"},\"glyph\":{\"id\":\"1606\"},\"hover_glyph\":null,\"muted_glyph\":{\"id\":\"1608\"},\"nonselection_glyph\":{\"id\":\"1607\"},\"selection_glyph\":null,\"view\":{\"id\":\"1610\"}},\"id\":\"1609\",\"type\":\"GlyphRenderer\"},{\"attributes\":{},\"id\":\"1590\",\"type\":\"SaveTool\"},{\"attributes\":{\"callback\":null,\"formatters\":{\"@{date}\":\"datetime\"},\"renderers\":[{\"id\":\"1609\"}],\"tags\":[\"hv_created\"],\"tooltips\":[[\"date\",\"@{date}{%F %T}\"],[\"mvrv_score\",\"@{mvrv_score}\"]]},\"id\":\"1572\",\"type\":\"HoverTool\"},{\"attributes\":{\"base\":60,\"mantissas\":[1,2,5,10,15,20,30],\"max_interval\":1800000.0,\"min_interval\":1000.0,\"num_minor_ticks\":0},\"id\":\"1624\",\"type\":\"AdaptiveTicker\"},{\"attributes\":{\"num_minor_ticks\":5,\"tickers\":[{\"id\":\"1623\"},{\"id\":\"1624\"},{\"id\":\"1625\"},{\"id\":\"1626\"},{\"id\":\"1627\"},{\"id\":\"1628\"},{\"id\":\"1629\"},{\"id\":\"1630\"},{\"id\":\"1631\"},{\"id\":\"1632\"},{\"id\":\"1633\"},{\"id\":\"1634\"}]},\"id\":\"1583\",\"type\":\"DatetimeTicker\"},{\"attributes\":{\"text\":\"\",\"text_color\":{\"value\":\"black\"},\"text_font_size\":{\"value\":\"12pt\"}},\"id\":\"1574\",\"type\":\"Title\"},{\"attributes\":{\"line_alpha\":0.2,\"line_color\":\"#1f77b3\",\"line_width\":2,\"x\":{\"field\":\"date\"},\"y\":{\"field\":\"mvrv_score\"}},\"id\":\"1608\",\"type\":\"Line\"},{\"attributes\":{\"margin\":[5,5,5,5],\"name\":\"HSpacer02075\",\"sizing_mode\":\"stretch_width\"},\"id\":\"1569\",\"type\":\"Spacer\"},{\"attributes\":{\"mantissas\":[1,2,5],\"max_interval\":500.0,\"num_minor_ticks\":0},\"id\":\"1623\",\"type\":\"AdaptiveTicker\"},{\"attributes\":{},\"id\":\"1578\",\"type\":\"LinearScale\"},{\"attributes\":{},\"id\":\"1591\",\"type\":\"PanTool\"},{\"attributes\":{\"base\":24,\"mantissas\":[1,2,4,6,8,12],\"max_interval\":43200000.0,\"min_interval\":3600000.0,\"num_minor_ticks\":0},\"id\":\"1625\",\"type\":\"AdaptiveTicker\"},{\"attributes\":{\"months\":[0,6]},\"id\":\"1633\",\"type\":\"MonthsTicker\"},{\"attributes\":{\"active_drag\":\"auto\",\"active_inspect\":\"auto\",\"active_multi\":null,\"active_scroll\":\"auto\",\"active_tap\":\"auto\",\"tools\":[{\"id\":\"1572\"},{\"id\":\"1590\"},{\"id\":\"1591\"},{\"id\":\"1592\"},{\"id\":\"1593\"},{\"id\":\"1594\"}]},\"id\":\"1596\",\"type\":\"Toolbar\"},{\"attributes\":{\"axis\":{\"id\":\"1582\"},\"grid_line_color\":null,\"ticker\":null},\"id\":\"1585\",\"type\":\"Grid\"},{\"attributes\":{\"days\":[1,4,7,10,13,16,19,22,25,28]},\"id\":\"1627\",\"type\":\"DaysTicker\"},{\"attributes\":{\"axis_label\":\"mvrv_score\",\"bounds\":\"auto\",\"formatter\":{\"id\":\"1613\"},\"major_label_orientation\":\"horizontal\",\"ticker\":{\"id\":\"1587\"}},\"id\":\"1586\",\"type\":\"LinearAxis\"},{\"attributes\":{\"data\":{\"date\":{\"__ndarray__\":\"AACA5phSd0IAAEBM61J3QgAAALI9U3dCAADAF5BTd0IAAIB94lN3QgAAQOM0VHdCAAAASYdUd0IAAMCu2VR3QgAAgBQsVXdCAABAen5Vd0IAAADg0FV3QgAAwEUjVndCAACAq3VWd0IAAEARyFZ3QgAAAHcaV3dCAADA3GxXd0IAAIBCv1d3QgAAQKgRWHdCAAAADmRYd0IAAMBztlh3QgAAgNkIWXdCAABAP1tZd0IAAAClrVl3QgAAwAoAWndCAACAcFJad0IAAEDWpFp3QgAAADz3WndCAADAoUlbd0IAAIAHnFt3QgAAQG3uW3dCAAAA00Bcd0IAAMA4k1x3QgAAgJ7lXHdCAABABDhdd0IAAABqil13QgAAwM/cXXdCAACANS9ed0IAAECbgV53QgAAAAHUXndCAADAZiZfd0IAAIDMeF93QgAAQDLLX3dCAAAAmB1gd0IAAMD9b2B3QgAAgGPCYHdCAABAyRRhd0IAAAAvZ2F3QgAAwJS5YXdCAACA+gtid0IAAEBgXmJ3QgAAAMawYndCAADAKwNjd0IAAICRVWN3QgAAQPenY3dCAAAAXfpjd0IAAMDCTGR3QgAAgCifZHdCAABAjvFkd0IAAAD0Q2V3QgAAwFmWZXdCAACAv+hld0IAAEAlO2Z3QgAAAIuNZndCAADA8N9md0IAAIBWMmd3QgAAQLyEZ3dCAAAAItdnd0IAAMCHKWh3QgAAgO17aHdCAABAU85od0IAAAC5IGl3QgAAwB5zaXdCAACAhMVpd0IAAEDqF2p3QgAAAFBqandCAADAtbxqd0IAAIAbD2t3QgAAQIFha3dCAAAA57Nrd0IAAMBMBmx3QgAAgLJYbHdCAABAGKtsd0IAAAB+/Wx3QgAAwONPbXdCAACASaJtd0IAAECv9G13QgAAABVHbndCAADAeplud0IAAIDg6253QgAAQEY+b3dCAAAArJBvd0IAAMAR4293QgAAgHc1cHdCAABA3Ydwd0IAAABD2nB3QgAAwKgscXdCAACADn9xd0IAAEB00XF3QgAAANojcndCAADAP3Zyd0I=\",\"dtype\":\"float64\",\"order\":\"little\",\"shape\":[100]},\"mvrv_score\":{\"__ndarray__\":\"4BsY0dq9+D/ypn3vK1X4P4KBpbVHb/g//B5JASS8+D84DxY3ITP5P8VkhlkTgfk/59Tn3oVJ+z8AAUdEGon7P4EhauDiWPs/ajvbk+Sr+z+hvBrw6nr7P5TGl+xrf/s/IJr4R1Cm/D9jOYSAEdb7P4Q/V4fwKPw/Ze/lEh5Z/D/VRmAS7az8PzIA9V/4q/w/ousDODYp/D/0C6OXks38P0x0tDbW+/w/YSV6b8i7/z9+Pwu5cYv/P3QAFnc/9f0/PGaGQas3/z8ToARJcdT+P5N/fUK/uf4/29wShPZW/z/SIC78PDgAQF0VtNZ8MgBAYcNV/h3a/z+ZrVYFQIz/Pw8VGirAfgBAfJjsJuBPAUCumUZ4P0YBQN8B8h76TQFACB0ORm/uAUD+lKyExO0BQDCYLoUXrAFABR6OFEGJAUDT8hX/zCgCQKipAfwxuQFA8igxVFhGAECDd13BFyIAQGLvLTzSmgBA7kDR+3EQAUBfT94hr14CQLB4op0nbgFAsG+iJ9fDAUCm7m2hPuYBQN0jYZOGIwFAOeAY4FuTAUDeq8/efcMBQOblrtdpigFA/TUvOYa0AEChQ4wc4eMAQJcf/u85kgBAO9BOy0VaAEDGfEG2ngMBQEDuKENQNwFAASAg3lNGAUCpK+4w51wBQPT/LUX17wJAC+ofQrbxA0DMBS6mHe0DQOjin0PccgRAYuVEP0oHBEAkT9etjlEDQNJDbjBbDgRA9PNzRs1iA0D96Q+XbacDQI6hDusQaQRAbM0TIRHCBUDcXqz93lsFQHie+CUyjwVAM+lU+A2HBUBI4jqJW34GQGjD7Y+AYAZAdLYb0n16BkDeNTuI8EYIQJVY+JzPhAhAdMkQAIJyB0C/JWkVOpIIQBGbuSpEMwpABWbktvBaC0CocR7mw34LQO1Q3ZjXwgpAaezbkE8/CUCPCzAzHlMHQLJ1ghy4RAZAb3TAkfpVCEBXIKa9zTwJQFcFknYikgdAmjVk4f3/BkDvWscXX9gGQDCr1/3BPQdAszJCYi6qBkD87QEnbF4GQIIKzO/2bwNASwUROFLCBEA=\",\"dtype\":\"float64\",\"order\":\"little\",\"shape\":[100]}},\"selected\":{\"id\":\"1604\"},\"selection_policy\":{\"id\":\"1621\"}},\"id\":\"1603\",\"type\":\"ColumnDataSource\"},{\"attributes\":{\"children\":[{\"id\":\"1569\"},{\"id\":\"1573\"},{\"id\":\"1655\"}],\"margin\":[0,0,0,0],\"name\":\"Row02071\",\"tags\":[\"embedded\"]},\"id\":\"1568\",\"type\":\"Row\"},{\"attributes\":{\"axis\":{\"id\":\"1586\"},\"dimension\":1,\"grid_line_color\":null,\"ticker\":null},\"id\":\"1589\",\"type\":\"Grid\"},{\"attributes\":{\"end\":1611273600000.0,\"reset_end\":1611273600000.0,\"reset_start\":1602720000000.0,\"start\":1602720000000.0,\"tags\":[[[\"date\",\"date\",null]]]},\"id\":\"1570\",\"type\":\"Range1d\"},{\"attributes\":{\"days\":[1,2,3,4,5,6,7,8,9,10,11,12,13,14,15,16,17,18,19,20,21,22,23,24,25,26,27,28,29,30,31]},\"id\":\"1626\",\"type\":\"DaysTicker\"},{\"attributes\":{\"months\":[0,1,2,3,4,5,6,7,8,9,10,11]},\"id\":\"1630\",\"type\":\"MonthsTicker\"},{\"attributes\":{\"days\":[1,8,15,22]},\"id\":\"1628\",\"type\":\"DaysTicker\"},{\"attributes\":{},\"id\":\"1634\",\"type\":\"YearsTicker\"},{\"attributes\":{\"below\":[{\"id\":\"1582\"}],\"center\":[{\"id\":\"1585\"},{\"id\":\"1589\"}],\"left\":[{\"id\":\"1586\"}],\"margin\":[5,5,5,5],\"min_border_bottom\":10,\"min_border_left\":10,\"min_border_right\":10,\"min_border_top\":10,\"plot_height\":300,\"plot_width\":700,\"renderers\":[{\"id\":\"1609\"}],\"sizing_mode\":\"fixed\",\"title\":{\"id\":\"1574\"},\"toolbar\":{\"id\":\"1596\"},\"x_range\":{\"id\":\"1570\"},\"x_scale\":{\"id\":\"1578\"},\"y_range\":{\"id\":\"1571\"},\"y_scale\":{\"id\":\"1580\"}},\"id\":\"1573\",\"subtype\":\"Figure\",\"type\":\"Plot\"},{\"attributes\":{\"months\":[0,2,4,6,8,10]},\"id\":\"1631\",\"type\":\"MonthsTicker\"},{\"attributes\":{\"months\":[0,4,8]},\"id\":\"1632\",\"type\":\"MonthsTicker\"},{\"attributes\":{},\"id\":\"1621\",\"type\":\"UnionRenderers\"},{\"attributes\":{},\"id\":\"1580\",\"type\":\"LinearScale\"},{\"attributes\":{},\"id\":\"1594\",\"type\":\"ResetTool\"},{\"attributes\":{},\"id\":\"1592\",\"type\":\"WheelZoomTool\"},{\"attributes\":{\"end\":3.6285074081739226,\"reset_end\":3.6285074081739226,\"reset_start\":1.3291835301225152,\"start\":1.3291835301225152,\"tags\":[[[\"mvrv_score\",\"mvrv_score\",null]]]},\"id\":\"1571\",\"type\":\"Range1d\"},{\"attributes\":{\"axis_label\":\"date\",\"bounds\":\"auto\",\"formatter\":{\"id\":\"1611\"},\"major_label_orientation\":1.5707963267948966,\"ticker\":{\"id\":\"1583\"}},\"id\":\"1582\",\"type\":\"DatetimeAxis\"},{\"attributes\":{\"margin\":[5,5,5,5],\"name\":\"HSpacer02076\",\"sizing_mode\":\"stretch_width\"},\"id\":\"1655\",\"type\":\"Spacer\"},{\"attributes\":{},\"id\":\"1587\",\"type\":\"BasicTicker\"},{\"attributes\":{\"line_alpha\":0.1,\"line_color\":\"#1f77b3\",\"line_width\":2,\"x\":{\"field\":\"date\"},\"y\":{\"field\":\"mvrv_score\"}},\"id\":\"1607\",\"type\":\"Line\"},{\"attributes\":{},\"id\":\"1604\",\"type\":\"Selection\"},{\"attributes\":{\"days\":[1,15]},\"id\":\"1629\",\"type\":\"DaysTicker\"},{\"attributes\":{\"bottom_units\":\"screen\",\"fill_alpha\":0.5,\"fill_color\":\"lightgrey\",\"left_units\":\"screen\",\"level\":\"overlay\",\"line_alpha\":1.0,\"line_color\":\"black\",\"line_dash\":[4,4],\"line_width\":2,\"right_units\":\"screen\",\"top_units\":\"screen\"},\"id\":\"1595\",\"type\":\"BoxAnnotation\"},{\"attributes\":{},\"id\":\"1611\",\"type\":\"DatetimeTickFormatter\"},{\"attributes\":{\"line_color\":\"#1f77b3\",\"line_width\":2,\"x\":{\"field\":\"date\"},\"y\":{\"field\":\"mvrv_score\"}},\"id\":\"1606\",\"type\":\"Line\"},{\"attributes\":{\"source\":{\"id\":\"1603\"}},\"id\":\"1610\",\"type\":\"CDSView\"},{\"attributes\":{},\"id\":\"1613\",\"type\":\"BasicTickFormatter\"}],\"root_ids\":[\"1568\"]},\"title\":\"Bokeh Application\",\"version\":\"2.2.3\"}};\n",
       "    var render_items = [{\"docid\":\"6876f179-e01d-4b06-82e1-c38ccd3b60b6\",\"root_ids\":[\"1568\"],\"roots\":{\"1568\":\"bbde445d-d1d8-4475-9c41-21b8f86d26da\"}}];\n",
       "    root.Bokeh.embed.embed_items_notebook(docs_json, render_items);\n",
       "  }\n",
       "  if (root.Bokeh !== undefined && root.Bokeh.Panel !== undefined) {\n",
       "    embed_document(root);\n",
       "  } else {\n",
       "    var attempts = 0;\n",
       "    var timer = setInterval(function(root) {\n",
       "      if (root.Bokeh !== undefined && root.Bokeh.Panel !== undefined) {\n",
       "        clearInterval(timer);\n",
       "        embed_document(root);\n",
       "      } else if (document.readyState == \"complete\") {\n",
       "        attempts++;\n",
       "        if (attempts > 100) {\n",
       "          clearInterval(timer);\n",
       "          console.log(\"Bokeh: ERROR: Unable to run BokehJS code because BokehJS library is missing\");\n",
       "        }\n",
       "      }\n",
       "    }, 10, root)\n",
       "  }\n",
       "})(window);</script>"
      ],
      "text/plain": [
       ":Curve   [date]   (mvrv_score)"
      ]
     },
     "execution_count": 48,
     "metadata": {
      "application/vnd.holoviews_exec.v0+json": {
       "id": "1568"
      }
     },
     "output_type": "execute_result"
    }
   ],
   "source": [
    "mvrv_data = get_mvrv_data(\"btc\",\"20190101\",\"100\")\n",
    "mvrv_plot = get_plots(mvrv_data)\n",
    "mvrv_plot"
   ]
  },
  {
   "cell_type": "code",
   "execution_count": 49,
   "metadata": {},
   "outputs": [
    {
     "data": {},
     "metadata": {},
     "output_type": "display_data"
    },
    {
     "data": {
      "application/vnd.holoviews_exec.v0+json": "",
      "text/html": [
       "<div id='1757'>\n",
       "\n",
       "\n",
       "\n",
       "\n",
       "\n",
       "  <div class=\"bk-root\" id=\"f800a789-6dd0-4a49-ba52-dc2b2bbed631\" data-root-id=\"1757\"></div>\n",
       "</div>\n",
       "<script type=\"application/javascript\">(function(root) {\n",
       "  function embed_document(root) {\n",
       "    var docs_json = {\"58c598ce-ad35-49b5-9272-de5d7e04e8c8\":{\"roots\":{\"references\":[{\"attributes\":{\"end\":1611273600000.0,\"reset_end\":1611273600000.0,\"reset_start\":1602720000000.0,\"start\":1602720000000.0,\"tags\":[[[\"date\",\"date\",null]]]},\"id\":\"1759\",\"type\":\"Range1d\"},{\"attributes\":{\"line_alpha\":0.1,\"line_color\":\"#1f77b3\",\"line_width\":2,\"x\":{\"field\":\"date\"},\"y\":{\"field\":\"netflow_total\"}},\"id\":\"1796\",\"type\":\"Line\"},{\"attributes\":{},\"id\":\"1769\",\"type\":\"LinearScale\"},{\"attributes\":{},\"id\":\"1810\",\"type\":\"UnionRenderers\"},{\"attributes\":{\"children\":[{\"id\":\"1758\"},{\"id\":\"1762\"},{\"id\":\"1844\"}],\"margin\":[0,0,0,0],\"name\":\"Row02250\",\"tags\":[\"embedded\"]},\"id\":\"1757\",\"type\":\"Row\"},{\"attributes\":{\"mantissas\":[1,2,5],\"max_interval\":500.0,\"num_minor_ticks\":0},\"id\":\"1812\",\"type\":\"AdaptiveTicker\"},{\"attributes\":{\"text\":\"\",\"text_color\":{\"value\":\"black\"},\"text_font_size\":{\"value\":\"12pt\"}},\"id\":\"1763\",\"type\":\"Title\"},{\"attributes\":{\"margin\":[5,5,5,5],\"name\":\"HSpacer02254\",\"sizing_mode\":\"stretch_width\"},\"id\":\"1758\",\"type\":\"Spacer\"},{\"attributes\":{\"num_minor_ticks\":5,\"tickers\":[{\"id\":\"1812\"},{\"id\":\"1813\"},{\"id\":\"1814\"},{\"id\":\"1815\"},{\"id\":\"1816\"},{\"id\":\"1817\"},{\"id\":\"1818\"},{\"id\":\"1819\"},{\"id\":\"1820\"},{\"id\":\"1821\"},{\"id\":\"1822\"},{\"id\":\"1823\"}]},\"id\":\"1772\",\"type\":\"DatetimeTicker\"},{\"attributes\":{},\"id\":\"1793\",\"type\":\"Selection\"},{\"attributes\":{\"base\":24,\"mantissas\":[1,2,4,6,8,12],\"max_interval\":43200000.0,\"min_interval\":3600000.0,\"num_minor_ticks\":0},\"id\":\"1814\",\"type\":\"AdaptiveTicker\"},{\"attributes\":{\"axis\":{\"id\":\"1775\"},\"dimension\":1,\"grid_line_color\":null,\"ticker\":null},\"id\":\"1778\",\"type\":\"Grid\"},{\"attributes\":{\"base\":60,\"mantissas\":[1,2,5,10,15,20,30],\"max_interval\":1800000.0,\"min_interval\":1000.0,\"num_minor_ticks\":0},\"id\":\"1813\",\"type\":\"AdaptiveTicker\"},{\"attributes\":{\"bottom_units\":\"screen\",\"fill_alpha\":0.5,\"fill_color\":\"lightgrey\",\"left_units\":\"screen\",\"level\":\"overlay\",\"line_alpha\":1.0,\"line_color\":\"black\",\"line_dash\":[4,4],\"line_width\":2,\"right_units\":\"screen\",\"top_units\":\"screen\"},\"id\":\"1784\",\"type\":\"BoxAnnotation\"},{\"attributes\":{\"data_source\":{\"id\":\"1792\"},\"glyph\":{\"id\":\"1795\"},\"hover_glyph\":null,\"muted_glyph\":{\"id\":\"1797\"},\"nonselection_glyph\":{\"id\":\"1796\"},\"selection_glyph\":null,\"view\":{\"id\":\"1799\"}},\"id\":\"1798\",\"type\":\"GlyphRenderer\"},{\"attributes\":{\"line_alpha\":0.2,\"line_color\":\"#1f77b3\",\"line_width\":2,\"x\":{\"field\":\"date\"},\"y\":{\"field\":\"netflow_total\"}},\"id\":\"1797\",\"type\":\"Line\"},{\"attributes\":{\"months\":[0,6]},\"id\":\"1822\",\"type\":\"MonthsTicker\"},{\"attributes\":{\"axis_label\":\"netflow_total\",\"bounds\":\"auto\",\"formatter\":{\"id\":\"1802\"},\"major_label_orientation\":\"horizontal\",\"ticker\":{\"id\":\"1776\"}},\"id\":\"1775\",\"type\":\"LinearAxis\"},{\"attributes\":{\"days\":[1,2,3,4,5,6,7,8,9,10,11,12,13,14,15,16,17,18,19,20,21,22,23,24,25,26,27,28,29,30,31]},\"id\":\"1815\",\"type\":\"DaysTicker\"},{\"attributes\":{},\"id\":\"1776\",\"type\":\"BasicTicker\"},{\"attributes\":{},\"id\":\"1779\",\"type\":\"SaveTool\"},{\"attributes\":{\"end\":43568.936310376004,\"reset_end\":43568.936310376004,\"reset_start\":-43613.969408576006,\"start\":-43613.969408576006,\"tags\":[[[\"netflow_total\",\"netflow_total\",null]]]},\"id\":\"1760\",\"type\":\"Range1d\"},{\"attributes\":{\"days\":[1,4,7,10,13,16,19,22,25,28]},\"id\":\"1816\",\"type\":\"DaysTicker\"},{\"attributes\":{},\"id\":\"1780\",\"type\":\"PanTool\"},{\"attributes\":{},\"id\":\"1800\",\"type\":\"DatetimeTickFormatter\"},{\"attributes\":{\"days\":[1,8,15,22]},\"id\":\"1817\",\"type\":\"DaysTicker\"},{\"attributes\":{},\"id\":\"1823\",\"type\":\"YearsTicker\"},{\"attributes\":{\"callback\":null,\"formatters\":{\"@{date}\":\"datetime\"},\"renderers\":[{\"id\":\"1798\"}],\"tags\":[\"hv_created\"],\"tooltips\":[[\"date\",\"@{date}{%F %T}\"],[\"netflow_total\",\"@{netflow_total}\"]]},\"id\":\"1761\",\"type\":\"HoverTool\"},{\"attributes\":{},\"id\":\"1781\",\"type\":\"WheelZoomTool\"},{\"attributes\":{\"active_drag\":\"auto\",\"active_inspect\":\"auto\",\"active_multi\":null,\"active_scroll\":\"auto\",\"active_tap\":\"auto\",\"tools\":[{\"id\":\"1761\"},{\"id\":\"1779\"},{\"id\":\"1780\"},{\"id\":\"1781\"},{\"id\":\"1782\"},{\"id\":\"1783\"}]},\"id\":\"1785\",\"type\":\"Toolbar\"},{\"attributes\":{\"days\":[1,15]},\"id\":\"1818\",\"type\":\"DaysTicker\"},{\"attributes\":{\"below\":[{\"id\":\"1771\"}],\"center\":[{\"id\":\"1774\"},{\"id\":\"1778\"}],\"left\":[{\"id\":\"1775\"}],\"margin\":[5,5,5,5],\"min_border_bottom\":10,\"min_border_left\":10,\"min_border_right\":10,\"min_border_top\":10,\"plot_height\":300,\"plot_width\":700,\"renderers\":[{\"id\":\"1798\"}],\"sizing_mode\":\"fixed\",\"title\":{\"id\":\"1763\"},\"toolbar\":{\"id\":\"1785\"},\"x_range\":{\"id\":\"1759\"},\"x_scale\":{\"id\":\"1767\"},\"y_range\":{\"id\":\"1760\"},\"y_scale\":{\"id\":\"1769\"}},\"id\":\"1762\",\"subtype\":\"Figure\",\"type\":\"Plot\"},{\"attributes\":{\"overlay\":{\"id\":\"1784\"}},\"id\":\"1782\",\"type\":\"BoxZoomTool\"},{\"attributes\":{\"data\":{\"date\":{\"__ndarray__\":\"AACA5phSd0IAAEBM61J3QgAAALI9U3dCAADAF5BTd0IAAIB94lN3QgAAQOM0VHdCAAAASYdUd0IAAMCu2VR3QgAAgBQsVXdCAABAen5Vd0IAAADg0FV3QgAAwEUjVndCAACAq3VWd0IAAEARyFZ3QgAAAHcaV3dCAADA3GxXd0IAAIBCv1d3QgAAQKgRWHdCAAAADmRYd0IAAMBztlh3QgAAgNkIWXdCAABAP1tZd0IAAAClrVl3QgAAwAoAWndCAACAcFJad0IAAEDWpFp3QgAAADz3WndCAADAoUlbd0IAAIAHnFt3QgAAQG3uW3dCAAAA00Bcd0IAAMA4k1x3QgAAgJ7lXHdCAABABDhdd0IAAABqil13QgAAwM/cXXdCAACANS9ed0IAAECbgV53QgAAAAHUXndCAADAZiZfd0IAAIDMeF93QgAAQDLLX3dCAAAAmB1gd0IAAMD9b2B3QgAAgGPCYHdCAABAyRRhd0IAAAAvZ2F3QgAAwJS5YXdCAACA+gtid0IAAEBgXmJ3QgAAAMawYndCAADAKwNjd0IAAICRVWN3QgAAQPenY3dCAAAAXfpjd0IAAMDCTGR3QgAAgCifZHdCAABAjvFkd0IAAAD0Q2V3QgAAwFmWZXdCAACAv+hld0IAAEAlO2Z3QgAAAIuNZndCAADA8N9md0IAAIBWMmd3QgAAQLyEZ3dCAAAAItdnd0IAAMCHKWh3QgAAgO17aHdCAABAU85od0IAAAC5IGl3QgAAwB5zaXdCAACAhMVpd0IAAEDqF2p3QgAAAFBqandCAADAtbxqd0IAAIAbD2t3QgAAQIFha3dCAAAA57Nrd0IAAMBMBmx3QgAAgLJYbHdCAABAGKtsd0IAAAB+/Wx3QgAAwONPbXdCAACASaJtd0IAAECv9G13QgAAABVHbndCAADAeplud0IAAIDg6253QgAAQEY+b3dCAAAArJBvd0IAAMAR4293QgAAgHc1cHdCAABA3Ydwd0IAAABD2nB3QgAAwKgscXdCAACADn9xd0IAAEB00XF3QgAAANojcndCAADAP3Zyd0I=\",\"dtype\":\"float64\",\"order\":\"little\",\"shape\":[100]},\"netflow_total\":{\"__ndarray__\":\"14KDYuYuwcB8honpWF7QwIV/S9/cH8HAod6lN8bipcAxGmRYiFS0wPKWzC3EC3nA48c1kd9mkEDf6/cGi0mUwKqkJcF5rKvAst9upNdUtMACoVCqBCicwJA+WloCUMDAIROdI8PSwMDC0FWAcJWGQMdyvwEFCaLAuP5lENfNvsCGY22+RVO2QMQYolTs0mzAhjEzveye3MCBi9uJnqvNwP0e7WZ8DMjAeEjvI3XxuEAQYKr8XUa0QLFcBAC4x6BAuSpY/JNbocBNrACdAQR2QIsyn5yFE8jAzi8QJb7ykcApRo5b3uy6wPO68hfiMoDAUcpa+fJZwEBERcXN6QazwFXOKKdS8L7AK0mFTqVqv0DUddEldjplwLr4eHSlqn5APc7Zp2AYmkCmXfF59hvBQL92WeEsv5jAQe6Fdkzuh8CrYDNEDc6zwCQ5DQ9LCL9ABYJjA48U0UD+aDD0oe6tQH81YsFEZqHATZgX/aAhs8AE0vaWMf2rQNdGRErlPsdA03MD7MxtvcCZQzluZLSJwON+VWgqU83Am1V+nT5iq0BMNRbB4T2bwAcvNLaLSHVALS+vEhPUssA4iFJSKdC3wK/8Q0RWB97AwI7FV+QysEAq/J029rnhQEJNgKNrYr1APosQ5BsBt0BRUVDlL563wP130G7WttLAegi6KPlYxUD1aMs13KlTwJc2oM4ERLdAugjfPTsitcC+uLfPeGGGwAdwoxY72tLAXcYs/9J6nMCPbPC2WYSCQGL4RnwVD8RAHbYlWTxLq0BCGj43EvzKQJ6llnNaVXfA82LVXofoysC+VvjpRdazQCqGs3TfxsLAaC4m7PH7zcD88MFFl7/hwIUU0enQ5sNAiIs3jXRLnUDjCRBHQ0mqQF61OlIPeLjAwnmjHLH4rMD83qY/K4eUwPM2/I+7WLzAacNh6cUIwUA6M00aCla9QBsYcegUJaPAWQJjXHV6kcDfqqk088KxwB/jQP4ehatAJfJ25z1LesDPj1QZlVWxwDhhJZOiZcFAMeZTbMWTrMCNXSazeEG8QHoIeAysg6PADBIuJrlmtkA=\",\"dtype\":\"float64\",\"order\":\"little\",\"shape\":[100]}},\"selected\":{\"id\":\"1793\"},\"selection_policy\":{\"id\":\"1810\"}},\"id\":\"1792\",\"type\":\"ColumnDataSource\"},{\"attributes\":{\"months\":[0,1,2,3,4,5,6,7,8,9,10,11]},\"id\":\"1819\",\"type\":\"MonthsTicker\"},{\"attributes\":{\"margin\":[5,5,5,5],\"name\":\"HSpacer02255\",\"sizing_mode\":\"stretch_width\"},\"id\":\"1844\",\"type\":\"Spacer\"},{\"attributes\":{\"source\":{\"id\":\"1792\"}},\"id\":\"1799\",\"type\":\"CDSView\"},{\"attributes\":{},\"id\":\"1802\",\"type\":\"BasicTickFormatter\"},{\"attributes\":{\"months\":[0,2,4,6,8,10]},\"id\":\"1820\",\"type\":\"MonthsTicker\"},{\"attributes\":{\"line_color\":\"#1f77b3\",\"line_width\":2,\"x\":{\"field\":\"date\"},\"y\":{\"field\":\"netflow_total\"}},\"id\":\"1795\",\"type\":\"Line\"},{\"attributes\":{},\"id\":\"1783\",\"type\":\"ResetTool\"},{\"attributes\":{\"months\":[0,4,8]},\"id\":\"1821\",\"type\":\"MonthsTicker\"},{\"attributes\":{\"axis\":{\"id\":\"1771\"},\"grid_line_color\":null,\"ticker\":null},\"id\":\"1774\",\"type\":\"Grid\"},{\"attributes\":{},\"id\":\"1767\",\"type\":\"LinearScale\"},{\"attributes\":{\"axis_label\":\"date\",\"bounds\":\"auto\",\"formatter\":{\"id\":\"1800\"},\"major_label_orientation\":1.5707963267948966,\"ticker\":{\"id\":\"1772\"}},\"id\":\"1771\",\"type\":\"DatetimeAxis\"}],\"root_ids\":[\"1757\"]},\"title\":\"Bokeh Application\",\"version\":\"2.2.3\"}};\n",
       "    var render_items = [{\"docid\":\"58c598ce-ad35-49b5-9272-de5d7e04e8c8\",\"root_ids\":[\"1757\"],\"roots\":{\"1757\":\"f800a789-6dd0-4a49-ba52-dc2b2bbed631\"}}];\n",
       "    root.Bokeh.embed.embed_items_notebook(docs_json, render_items);\n",
       "  }\n",
       "  if (root.Bokeh !== undefined && root.Bokeh.Panel !== undefined) {\n",
       "    embed_document(root);\n",
       "  } else {\n",
       "    var attempts = 0;\n",
       "    var timer = setInterval(function(root) {\n",
       "      if (root.Bokeh !== undefined && root.Bokeh.Panel !== undefined) {\n",
       "        clearInterval(timer);\n",
       "        embed_document(root);\n",
       "      } else if (document.readyState == \"complete\") {\n",
       "        attempts++;\n",
       "        if (attempts > 100) {\n",
       "          clearInterval(timer);\n",
       "          console.log(\"Bokeh: ERROR: Unable to run BokehJS code because BokehJS library is missing\");\n",
       "        }\n",
       "      }\n",
       "    }, 10, root)\n",
       "  }\n",
       "})(window);</script>"
      ],
      "text/plain": [
       ":Curve   [date]   (netflow_total)"
      ]
     },
     "execution_count": 49,
     "metadata": {
      "application/vnd.holoviews_exec.v0+json": {
       "id": "1757"
      }
     },
     "output_type": "execute_result"
    }
   ],
   "source": [
    "netflow_df = get_netflow_data (\"btc\",\"20190101\",\"100\")\n",
    "netflow_plot = get_plots(netflow_df)\n",
    "netflow_plot"
   ]
  },
  {
   "cell_type": "code",
   "execution_count": 50,
   "metadata": {},
   "outputs": [
    {
     "data": {},
     "metadata": {},
     "output_type": "display_data"
    },
    {
     "data": {
      "application/vnd.holoviews_exec.v0+json": "",
      "text/html": [
       "<div id='1946'>\n",
       "\n",
       "\n",
       "\n",
       "\n",
       "\n",
       "  <div class=\"bk-root\" id=\"15706683-7ee9-41d5-8a28-9a40a2fa6096\" data-root-id=\"1946\"></div>\n",
       "</div>\n",
       "<script type=\"application/javascript\">(function(root) {\n",
       "  function embed_document(root) {\n",
       "    var docs_json = {\"2bc37282-bd8e-46ec-8920-cd96c8eebe80\":{\"roots\":{\"references\":[{\"attributes\":{\"data\":{\"date\":{\"__ndarray__\":\"AACA5phSd0IAAEBM61J3QgAAALI9U3dCAADAF5BTd0IAAIB94lN3QgAAQOM0VHdCAAAASYdUd0IAAMCu2VR3QgAAgBQsVXdCAABAen5Vd0IAAADg0FV3QgAAwEUjVndCAACAq3VWd0IAAEARyFZ3QgAAAHcaV3dCAADA3GxXd0IAAIBCv1d3QgAAQKgRWHdCAAAADmRYd0IAAMBztlh3QgAAgNkIWXdCAABAP1tZd0IAAAClrVl3QgAAwAoAWndCAACAcFJad0IAAEDWpFp3QgAAADz3WndCAADAoUlbd0IAAIAHnFt3QgAAQG3uW3dCAAAA00Bcd0IAAMA4k1x3QgAAgJ7lXHdCAABABDhdd0IAAABqil13QgAAwM/cXXdCAACANS9ed0IAAECbgV53QgAAAAHUXndCAADAZiZfd0IAAIDMeF93QgAAQDLLX3dCAAAAmB1gd0IAAMD9b2B3QgAAgGPCYHdCAABAyRRhd0IAAAAvZ2F3QgAAwJS5YXdCAACA+gtid0IAAEBgXmJ3QgAAAMawYndCAADAKwNjd0IAAICRVWN3QgAAQPenY3dCAAAAXfpjd0IAAMDCTGR3QgAAgCifZHdCAABAjvFkd0IAAAD0Q2V3QgAAwFmWZXdCAACAv+hld0IAAEAlO2Z3QgAAAIuNZndCAADA8N9md0IAAIBWMmd3QgAAQLyEZ3dCAAAAItdnd0IAAMCHKWh3QgAAgO17aHdCAABAU85od0IAAAC5IGl3QgAAwB5zaXdCAACAhMVpd0IAAEDqF2p3QgAAAFBqandCAADAtbxqd0IAAIAbD2t3QgAAQIFha3dCAAAA57Nrd0IAAMBMBmx3QgAAgLJYbHdCAABAGKtsd0IAAAB+/Wx3QgAAwONPbXdCAACASaJtd0IAAECv9G13QgAAABVHbndCAADAeplud0IAAIDg6253QgAAQEY+b3dCAAAArJBvd0IAAMAR4293QgAAgHc1cHdCAABA3Ydwd0IAAABD2nB3QgAAwKgscXdCAACADn9xd0IAAEB00XF3QgAAANojcndCAADAP3Zyd0I=\",\"dtype\":\"float64\",\"order\":\"little\",\"shape\":[100]},\"price_usd_close\":{\"__ndarray__\":\"AAAAAIB1xkAAAAAAgBjGQAAAAACAMcZAAAAAAAB5xkAAAAAAAPPGQAAAAACAQ8dAAAAAAAD3yEAAAAAAgFHJQAAAAAAAQclAAAAAAACZyUAAAAAAAHLJQAAAAACAfMlAAAAAAACgykAAAAAAAOzJQAAAAAAARspAAAAAAAB7ykAAAAAAgNPKQAAAAACA3spAAAAAAIBzykAAAAAAAGPLQAAAAAAAoctAAAAAAAByzkAAAAAAgGfOQAAAAACA6cxAAAAAAAA7zkAAAAAAAO3NQAAAAAAA481AAAAAAACkzkAAAAAAgNLPQAAAAAAA389AAAAAAIBiz0AAAAAAgB3PQAAAAACAT9BAJ7i7u/s10UA/NV66OVPRQAIrhxZpZ9FA1RoxUO4w0kAFPat35kPSQARWDi06CdJA46WbxCDz0UCZ+5qbv7TSQCuHFtlOUNJAPQrXo7jb0EAFdk7Wxr7QQPLSTWLAQNFA2UdERATC0UD0hIiImD7TQI6qaCQgVtJA1xcqO6zE0kDWi+M4TvrSQODWQKe9ONJAUIgEfLO00kCMwxUnoO3SQLpOn/Tpu9JARj2nDcTh0UAUIgHfLBzSQOAGhO9D09FAjVEqI1Sd0UDZR0RE5F7SQP9bLPl1t9JAj8L1KJzS0kAyj18syfnSQIRHfrGU2dRAw/UoXHdG1kBlwpJfTJXWQNejcD2CR9dAsOu0gTbr1kDVeOkmATPWQLpJDAL7Q9dAAAAAACCw1kD8qfHSvS7XQO58PzVOIdhAhetRuF7c2UCmm8QgUKfZQMUgsHJ4bdpA2c73U8O92kC+nxovnTTcQMP1KFxfQtxA4NZAp92q3ECF61G49nDfQGZmZmZaIeBAb5k20FlE30CvGUt+TZngQBTc3d3p+eFAKVyPwtlF40AB0mkDHdXjQHEPdNqkmuNAXWEs+emj4kBR5rSBok3hQKOe0waWnuBA4aiqqupA4kAes4FO/x3jQDJhyS868+FArkfheuyS4UAfV1VV2X7hQDJhyS8m5OFAcQ902hyG4UB7FK5HPVPhQO31iyUfIN5APtxApwkZ4EA=\",\"dtype\":\"float64\",\"order\":\"little\",\"shape\":[100]}},\"selected\":{\"id\":\"1982\"},\"selection_policy\":{\"id\":\"1999\"}},\"id\":\"1981\",\"type\":\"ColumnDataSource\"},{\"attributes\":{},\"id\":\"1999\",\"type\":\"UnionRenderers\"},{\"attributes\":{},\"id\":\"1965\",\"type\":\"BasicTicker\"},{\"attributes\":{\"bottom_units\":\"screen\",\"fill_alpha\":0.5,\"fill_color\":\"lightgrey\",\"left_units\":\"screen\",\"level\":\"overlay\",\"line_alpha\":1.0,\"line_color\":\"black\",\"line_dash\":[4,4],\"line_width\":2,\"right_units\":\"screen\",\"top_units\":\"screen\"},\"id\":\"1973\",\"type\":\"BoxAnnotation\"},{\"attributes\":{\"mantissas\":[1,2,5],\"max_interval\":500.0,\"num_minor_ticks\":0},\"id\":\"2001\",\"type\":\"AdaptiveTicker\"},{\"attributes\":{\"line_color\":\"#1f77b3\",\"line_width\":2,\"x\":{\"field\":\"date\"},\"y\":{\"field\":\"price_usd_close\"}},\"id\":\"1984\",\"type\":\"Line\"},{\"attributes\":{\"axis\":{\"id\":\"1960\"},\"grid_line_color\":null,\"ticker\":null},\"id\":\"1963\",\"type\":\"Grid\"},{\"attributes\":{},\"id\":\"1982\",\"type\":\"Selection\"},{\"attributes\":{\"line_alpha\":0.2,\"line_color\":\"#1f77b3\",\"line_width\":2,\"x\":{\"field\":\"date\"},\"y\":{\"field\":\"price_usd_close\"}},\"id\":\"1986\",\"type\":\"Line\"},{\"attributes\":{\"base\":24,\"mantissas\":[1,2,4,6,8,12],\"max_interval\":43200000.0,\"min_interval\":3600000.0,\"num_minor_ticks\":0},\"id\":\"2003\",\"type\":\"AdaptiveTicker\"},{\"attributes\":{},\"id\":\"1972\",\"type\":\"ResetTool\"},{\"attributes\":{\"num_minor_ticks\":5,\"tickers\":[{\"id\":\"2001\"},{\"id\":\"2002\"},{\"id\":\"2003\"},{\"id\":\"2004\"},{\"id\":\"2005\"},{\"id\":\"2006\"},{\"id\":\"2007\"},{\"id\":\"2008\"},{\"id\":\"2009\"},{\"id\":\"2010\"},{\"id\":\"2011\"},{\"id\":\"2012\"}]},\"id\":\"1961\",\"type\":\"DatetimeTicker\"},{\"attributes\":{\"end\":43547.297333337,\"reset_end\":43547.297333337,\"reset_start\":8382.609333332999,\"start\":8382.609333332999,\"tags\":[[[\"price_usd_close\",\"price_usd_close\",null]]]},\"id\":\"1949\",\"type\":\"Range1d\"},{\"attributes\":{\"base\":60,\"mantissas\":[1,2,5,10,15,20,30],\"max_interval\":1800000.0,\"min_interval\":1000.0,\"num_minor_ticks\":0},\"id\":\"2002\",\"type\":\"AdaptiveTicker\"},{\"attributes\":{\"source\":{\"id\":\"1981\"}},\"id\":\"1988\",\"type\":\"CDSView\"},{\"attributes\":{\"margin\":[5,5,5,5],\"name\":\"HSpacer02433\",\"sizing_mode\":\"stretch_width\"},\"id\":\"1947\",\"type\":\"Spacer\"},{\"attributes\":{\"overlay\":{\"id\":\"1973\"}},\"id\":\"1971\",\"type\":\"BoxZoomTool\"},{\"attributes\":{\"below\":[{\"id\":\"1960\"}],\"center\":[{\"id\":\"1963\"},{\"id\":\"1967\"}],\"left\":[{\"id\":\"1964\"}],\"margin\":[5,5,5,5],\"min_border_bottom\":10,\"min_border_left\":10,\"min_border_right\":10,\"min_border_top\":10,\"plot_height\":300,\"plot_width\":700,\"renderers\":[{\"id\":\"1987\"}],\"sizing_mode\":\"fixed\",\"title\":{\"id\":\"1952\"},\"toolbar\":{\"id\":\"1974\"},\"x_range\":{\"id\":\"1948\"},\"x_scale\":{\"id\":\"1956\"},\"y_range\":{\"id\":\"1949\"},\"y_scale\":{\"id\":\"1958\"}},\"id\":\"1951\",\"subtype\":\"Figure\",\"type\":\"Plot\"},{\"attributes\":{},\"id\":\"1970\",\"type\":\"WheelZoomTool\"},{\"attributes\":{\"days\":[1,2,3,4,5,6,7,8,9,10,11,12,13,14,15,16,17,18,19,20,21,22,23,24,25,26,27,28,29,30,31]},\"id\":\"2004\",\"type\":\"DaysTicker\"},{\"attributes\":{},\"id\":\"1991\",\"type\":\"BasicTickFormatter\"},{\"attributes\":{},\"id\":\"1969\",\"type\":\"PanTool\"},{\"attributes\":{\"days\":[1,4,7,10,13,16,19,22,25,28]},\"id\":\"2005\",\"type\":\"DaysTicker\"},{\"attributes\":{},\"id\":\"1956\",\"type\":\"LinearScale\"},{\"attributes\":{\"children\":[{\"id\":\"1947\"},{\"id\":\"1951\"},{\"id\":\"2033\"}],\"margin\":[0,0,0,0],\"name\":\"Row02429\",\"tags\":[\"embedded\"]},\"id\":\"1946\",\"type\":\"Row\"},{\"attributes\":{\"days\":[1,8,15,22]},\"id\":\"2006\",\"type\":\"DaysTicker\"},{\"attributes\":{\"axis_label\":\"date\",\"bounds\":\"auto\",\"formatter\":{\"id\":\"1989\"},\"major_label_orientation\":1.5707963267948966,\"ticker\":{\"id\":\"1961\"}},\"id\":\"1960\",\"type\":\"DatetimeAxis\"},{\"attributes\":{},\"id\":\"1968\",\"type\":\"SaveTool\"},{\"attributes\":{\"margin\":[5,5,5,5],\"name\":\"HSpacer02434\",\"sizing_mode\":\"stretch_width\"},\"id\":\"2033\",\"type\":\"Spacer\"},{\"attributes\":{},\"id\":\"1989\",\"type\":\"DatetimeTickFormatter\"},{\"attributes\":{\"days\":[1,15]},\"id\":\"2007\",\"type\":\"DaysTicker\"},{\"attributes\":{\"callback\":null,\"formatters\":{\"@{date}\":\"datetime\"},\"renderers\":[{\"id\":\"1987\"}],\"tags\":[\"hv_created\"],\"tooltips\":[[\"date\",\"@{date}{%F %T}\"],[\"price_usd_close\",\"@{price_usd_close}\"]]},\"id\":\"1950\",\"type\":\"HoverTool\"},{\"attributes\":{\"text\":\"\",\"text_color\":{\"value\":\"black\"},\"text_font_size\":{\"value\":\"12pt\"}},\"id\":\"1952\",\"type\":\"Title\"},{\"attributes\":{\"months\":[0,1,2,3,4,5,6,7,8,9,10,11]},\"id\":\"2008\",\"type\":\"MonthsTicker\"},{\"attributes\":{\"line_alpha\":0.1,\"line_color\":\"#1f77b3\",\"line_width\":2,\"x\":{\"field\":\"date\"},\"y\":{\"field\":\"price_usd_close\"}},\"id\":\"1985\",\"type\":\"Line\"},{\"attributes\":{\"data_source\":{\"id\":\"1981\"},\"glyph\":{\"id\":\"1984\"},\"hover_glyph\":null,\"muted_glyph\":{\"id\":\"1986\"},\"nonselection_glyph\":{\"id\":\"1985\"},\"selection_glyph\":null,\"view\":{\"id\":\"1988\"}},\"id\":\"1987\",\"type\":\"GlyphRenderer\"},{\"attributes\":{\"active_drag\":\"auto\",\"active_inspect\":\"auto\",\"active_multi\":null,\"active_scroll\":\"auto\",\"active_tap\":\"auto\",\"tools\":[{\"id\":\"1950\"},{\"id\":\"1968\"},{\"id\":\"1969\"},{\"id\":\"1970\"},{\"id\":\"1971\"},{\"id\":\"1972\"}]},\"id\":\"1974\",\"type\":\"Toolbar\"},{\"attributes\":{\"months\":[0,2,4,6,8,10]},\"id\":\"2009\",\"type\":\"MonthsTicker\"},{\"attributes\":{\"axis_label\":\"price_usd_close\",\"bounds\":\"auto\",\"formatter\":{\"id\":\"1991\"},\"major_label_orientation\":\"horizontal\",\"ticker\":{\"id\":\"1965\"}},\"id\":\"1964\",\"type\":\"LinearAxis\"},{\"attributes\":{\"months\":[0,4,8]},\"id\":\"2010\",\"type\":\"MonthsTicker\"},{\"attributes\":{},\"id\":\"1958\",\"type\":\"LinearScale\"},{\"attributes\":{\"axis\":{\"id\":\"1964\"},\"dimension\":1,\"grid_line_color\":null,\"ticker\":null},\"id\":\"1967\",\"type\":\"Grid\"},{\"attributes\":{\"months\":[0,6]},\"id\":\"2011\",\"type\":\"MonthsTicker\"},{\"attributes\":{},\"id\":\"2012\",\"type\":\"YearsTicker\"},{\"attributes\":{\"end\":1611273600000.0,\"reset_end\":1611273600000.0,\"reset_start\":1602720000000.0,\"start\":1602720000000.0,\"tags\":[[[\"date\",\"date\",null]]]},\"id\":\"1948\",\"type\":\"Range1d\"}],\"root_ids\":[\"1946\"]},\"title\":\"Bokeh Application\",\"version\":\"2.2.3\"}};\n",
       "    var render_items = [{\"docid\":\"2bc37282-bd8e-46ec-8920-cd96c8eebe80\",\"root_ids\":[\"1946\"],\"roots\":{\"1946\":\"15706683-7ee9-41d5-8a28-9a40a2fa6096\"}}];\n",
       "    root.Bokeh.embed.embed_items_notebook(docs_json, render_items);\n",
       "  }\n",
       "  if (root.Bokeh !== undefined && root.Bokeh.Panel !== undefined) {\n",
       "    embed_document(root);\n",
       "  } else {\n",
       "    var attempts = 0;\n",
       "    var timer = setInterval(function(root) {\n",
       "      if (root.Bokeh !== undefined && root.Bokeh.Panel !== undefined) {\n",
       "        clearInterval(timer);\n",
       "        embed_document(root);\n",
       "      } else if (document.readyState == \"complete\") {\n",
       "        attempts++;\n",
       "        if (attempts > 100) {\n",
       "          clearInterval(timer);\n",
       "          console.log(\"Bokeh: ERROR: Unable to run BokehJS code because BokehJS library is missing\");\n",
       "        }\n",
       "      }\n",
       "    }, 10, root)\n",
       "  }\n",
       "})(window);</script>"
      ],
      "text/plain": [
       ":Curve   [date]   (price_usd_close)"
      ]
     },
     "execution_count": 50,
     "metadata": {
      "application/vnd.holoviews_exec.v0+json": {
       "id": "1946"
      }
     },
     "output_type": "execute_result"
    }
   ],
   "source": [
    "price_df = get_price_data(\"btc\",\"20190101\",\"100\")\n",
    "price_df_plot = get_plots(price_df)\n",
    "price_df_plot"
   ]
  },
  {
   "cell_type": "code",
   "execution_count": null,
   "metadata": {},
   "outputs": [],
   "source": []
  },
  {
   "cell_type": "code",
   "execution_count": null,
   "metadata": {},
   "outputs": [],
   "source": []
  }
 ],
 "metadata": {
  "kernelspec": {
   "display_name": "Python [conda env:pyvizenv] *",
   "language": "python",
   "name": "conda-env-pyvizenv-py"
  },
  "language_info": {
   "codemirror_mode": {
    "name": "ipython",
    "version": 3
   },
   "file_extension": ".py",
   "mimetype": "text/x-python",
   "name": "python",
   "nbconvert_exporter": "python",
   "pygments_lexer": "ipython3",
   "version": "3.7.9"
  }
 },
 "nbformat": 4,
 "nbformat_minor": 4
}
