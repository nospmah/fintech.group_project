{
 "metadata": {
  "language_info": {
   "codemirror_mode": {
    "name": "ipython",
    "version": 3
   },
   "file_extension": ".py",
   "mimetype": "text/x-python",
   "name": "python",
   "nbconvert_exporter": "python",
   "pygments_lexer": "ipython3",
   "version": "3.7.9-final"
  },
  "orig_nbformat": 2,
  "kernelspec": {
   "name": "python3",
   "display_name": "Python 3",
   "language": "python"
  }
 },
 "nbformat": 4,
 "nbformat_minor": 2,
 "cells": [
  {
   "cell_type": "code",
   "execution_count": 66,
   "metadata": {},
   "outputs": [],
   "source": [
    "# Initial imports\n",
    "import os\n",
    "import requests\n",
    "import pandas as pd\n",
    "import numpy as np\n",
    "from dotenv import load_dotenv\n",
    "import json\n",
    "from pathlib import Path\n",
    "from datetime import date\n",
    "from datetime import timedelta\n",
    "import plotly.express as px\n",
    "\n",
    "%matplotlib inline"
   ]
  },
  {
   "cell_type": "code",
   "execution_count": 35,
   "metadata": {},
   "outputs": [
    {
     "output_type": "execute_result",
     "data": {
      "text/plain": [
       "True"
      ]
     },
     "metadata": {},
     "execution_count": 35
    }
   ],
   "source": [
    "# Load .env enviroment variables\n",
    "load_dotenv()"
   ]
  },
  {
   "cell_type": "code",
   "execution_count": 36,
   "metadata": {},
   "outputs": [
    {
     "output_type": "execute_result",
     "data": {
      "text/plain": [
       "str"
      ]
     },
     "metadata": {},
     "execution_count": 36
    }
   ],
   "source": [
    "quandl_api_key = os.getenv('QUANDL_API_KEY')\n",
    "coin_api_key = os.getenv('COIN_API_KEY') \n",
    "\n",
    "# Confirm .env loaded successfully\n",
    "type(coin_api_key)"
   ]
  },
  {
   "cell_type": "code",
   "execution_count": 37,
   "metadata": {},
   "outputs": [],
   "source": [
    "# API params\n",
    "base_url = 'https://rest.coinapi.io/v1/ohlcv/'\n",
    "\n",
    "# https://docs.coinapi.io/#list-all-periods\n",
    "# 1HRS, 1DAY, 1MTH, 1YRS\n",
    "period = '1DAY'\n",
    "\n",
    "# Ticker param\n",
    "ticker = 'BTC'"
   ]
  },
  {
   "cell_type": "code",
   "execution_count": 38,
   "metadata": {},
   "outputs": [
    {
     "output_type": "execute_result",
     "data": {
      "text/plain": [
       "'https://rest.coinapi.io/v1/ohlcv/BTC/USD/latest?apikey=05EDDE46-F455-4378-BE18-AFF75C11772D&period_id=1DAY'"
      ]
     },
     "metadata": {},
     "execution_count": 38
    }
   ],
   "source": [
    "# Get latest transactions for BTC\n",
    "coin_api_latest_btc_url = f'{base_url}{ticker}/USD/latest?apikey={coin_api_key}&period_id={period}'\n",
    "coin_api_latest_btc_url"
   ]
  },
  {
   "cell_type": "code",
   "execution_count": 39,
   "metadata": {},
   "outputs": [],
   "source": [
    "# Execute get request\n",
    "btc_latest_results = requests.get(coin_api_latest_btc_url).json()"
   ]
  },
  {
   "cell_type": "code",
   "execution_count": 40,
   "metadata": {},
   "outputs": [],
   "source": [
    "# What is type? \n",
    "# Answer: list of dictionaries\n",
    "# type(btc_latest_results)"
   ]
  },
  {
   "cell_type": "code",
   "execution_count": 52,
   "metadata": {},
   "outputs": [
    {
     "output_type": "execute_result",
     "data": {
      "text/plain": [
       "{'time_period_start': '2021-01-19T00:00:00.0000000Z',\n",
       " 'time_period_end': '2021-01-20T00:00:00.0000000Z',\n",
       " 'time_open': '2021-01-19T00:00:00.2586800Z',\n",
       " 'time_close': '2021-01-19T03:36:24.6555550Z',\n",
       " 'price_open': 36624.23,\n",
       " 'price_high': 37335.37,\n",
       " 'price_low': 36400.6,\n",
       " 'price_close': 36575.11,\n",
       " 'volume_traded': 6192.523506668,\n",
       " 'trades_count': 58642}"
      ]
     },
     "metadata": {},
     "execution_count": 52
    }
   ],
   "source": [
    "# Examine single record\n",
    "btc_latest_results[0]"
   ]
  },
  {
   "cell_type": "code",
   "execution_count": 59,
   "metadata": {},
   "outputs": [
    {
     "output_type": "execute_result",
     "data": {
      "text/plain": [
       "   price_close  price_high  price_low  price_open  \\\n",
       "0     36575.11    37335.37   36400.60    36624.23   \n",
       "1     36624.23    37469.21   34736.46    35820.01   \n",
       "2     35820.00    36873.90   33833.55    36004.80   \n",
       "3     36018.64    37949.71   35342.20    36754.60   \n",
       "4     36754.67    39700.00   34298.93    39123.05   \n",
       "\n",
       "                     time_close                     time_open  \\\n",
       "0  2021-01-19T03:36:24.6555550Z  2021-01-19T00:00:00.2586800Z   \n",
       "1  2021-01-18T23:59:59.1852530Z  2021-01-18T00:00:00.1947600Z   \n",
       "2  2021-01-17T23:59:59.9883830Z  2021-01-17T00:00:00.1647760Z   \n",
       "3  2021-01-16T23:59:59.4280000Z  2021-01-16T00:00:00.0412320Z   \n",
       "4  2021-01-15T23:59:59.9895020Z  2021-01-15T00:00:00.2151200Z   \n",
       "\n",
       "                time_period_end             time_period_start  trades_count  \\\n",
       "0  2021-01-20T00:00:00.0000000Z  2021-01-19T00:00:00.0000000Z         58642   \n",
       "1  2021-01-19T00:00:00.0000000Z  2021-01-18T00:00:00.0000000Z        284027   \n",
       "2  2021-01-18T00:00:00.0000000Z  2021-01-17T00:00:00.0000000Z        320862   \n",
       "3  2021-01-17T00:00:00.0000000Z  2021-01-16T00:00:00.0000000Z        347368   \n",
       "4  2021-01-16T00:00:00.0000000Z  2021-01-15T00:00:00.0000000Z        585652   \n",
       "\n",
       "   volume_traded  \n",
       "0    6192.523507  \n",
       "1   32241.847027  \n",
       "2   36821.003278  \n",
       "3   39468.975920  \n",
       "4   67706.892056  "
      ],
      "text/html": "<div>\n<style scoped>\n    .dataframe tbody tr th:only-of-type {\n        vertical-align: middle;\n    }\n\n    .dataframe tbody tr th {\n        vertical-align: top;\n    }\n\n    .dataframe thead th {\n        text-align: right;\n    }\n</style>\n<table border=\"1\" class=\"dataframe\">\n  <thead>\n    <tr style=\"text-align: right;\">\n      <th></th>\n      <th>price_close</th>\n      <th>price_high</th>\n      <th>price_low</th>\n      <th>price_open</th>\n      <th>time_close</th>\n      <th>time_open</th>\n      <th>time_period_end</th>\n      <th>time_period_start</th>\n      <th>trades_count</th>\n      <th>volume_traded</th>\n    </tr>\n  </thead>\n  <tbody>\n    <tr>\n      <th>0</th>\n      <td>36575.11</td>\n      <td>37335.37</td>\n      <td>36400.60</td>\n      <td>36624.23</td>\n      <td>2021-01-19T03:36:24.6555550Z</td>\n      <td>2021-01-19T00:00:00.2586800Z</td>\n      <td>2021-01-20T00:00:00.0000000Z</td>\n      <td>2021-01-19T00:00:00.0000000Z</td>\n      <td>58642</td>\n      <td>6192.523507</td>\n    </tr>\n    <tr>\n      <th>1</th>\n      <td>36624.23</td>\n      <td>37469.21</td>\n      <td>34736.46</td>\n      <td>35820.01</td>\n      <td>2021-01-18T23:59:59.1852530Z</td>\n      <td>2021-01-18T00:00:00.1947600Z</td>\n      <td>2021-01-19T00:00:00.0000000Z</td>\n      <td>2021-01-18T00:00:00.0000000Z</td>\n      <td>284027</td>\n      <td>32241.847027</td>\n    </tr>\n    <tr>\n      <th>2</th>\n      <td>35820.00</td>\n      <td>36873.90</td>\n      <td>33833.55</td>\n      <td>36004.80</td>\n      <td>2021-01-17T23:59:59.9883830Z</td>\n      <td>2021-01-17T00:00:00.1647760Z</td>\n      <td>2021-01-18T00:00:00.0000000Z</td>\n      <td>2021-01-17T00:00:00.0000000Z</td>\n      <td>320862</td>\n      <td>36821.003278</td>\n    </tr>\n    <tr>\n      <th>3</th>\n      <td>36018.64</td>\n      <td>37949.71</td>\n      <td>35342.20</td>\n      <td>36754.60</td>\n      <td>2021-01-16T23:59:59.4280000Z</td>\n      <td>2021-01-16T00:00:00.0412320Z</td>\n      <td>2021-01-17T00:00:00.0000000Z</td>\n      <td>2021-01-16T00:00:00.0000000Z</td>\n      <td>347368</td>\n      <td>39468.975920</td>\n    </tr>\n    <tr>\n      <th>4</th>\n      <td>36754.67</td>\n      <td>39700.00</td>\n      <td>34298.93</td>\n      <td>39123.05</td>\n      <td>2021-01-15T23:59:59.9895020Z</td>\n      <td>2021-01-15T00:00:00.2151200Z</td>\n      <td>2021-01-16T00:00:00.0000000Z</td>\n      <td>2021-01-15T00:00:00.0000000Z</td>\n      <td>585652</td>\n      <td>67706.892056</td>\n    </tr>\n  </tbody>\n</table>\n</div>"
     },
     "metadata": {},
     "execution_count": 59
    }
   ],
   "source": [
    "# Init dataframe\n",
    "btc_latest_daily_all_df = pd.DataFrame(btc_latest_results)\n",
    "btc_latest_daily_all_df.head()"
   ]
  },
  {
   "cell_type": "code",
   "execution_count": 60,
   "metadata": {},
   "outputs": [
    {
     "output_type": "execute_result",
     "data": {
      "text/plain": [
       "pandas.core.frame.DataFrame"
      ]
     },
     "metadata": {},
     "execution_count": 60
    }
   ],
   "source": [
    "type(btc_latest_daily_all_df)"
   ]
  },
  {
   "cell_type": "code",
   "execution_count": 68,
   "metadata": {},
   "outputs": [
    {
     "output_type": "execute_result",
     "data": {
      "text/plain": [
       "                time_period_end  price_close  trades_count  volume_traded\n",
       "0  2021-01-20T00:00:00.0000000Z     36575.11         58642    6192.523507\n",
       "1  2021-01-19T00:00:00.0000000Z     36624.23        284027   32241.847027\n",
       "2  2021-01-18T00:00:00.0000000Z     35820.00        320862   36821.003278\n",
       "3  2021-01-17T00:00:00.0000000Z     36018.64        347368   39468.975920\n",
       "4  2021-01-16T00:00:00.0000000Z     36754.67        585652   67706.892056"
      ],
      "text/html": "<div>\n<style scoped>\n    .dataframe tbody tr th:only-of-type {\n        vertical-align: middle;\n    }\n\n    .dataframe tbody tr th {\n        vertical-align: top;\n    }\n\n    .dataframe thead th {\n        text-align: right;\n    }\n</style>\n<table border=\"1\" class=\"dataframe\">\n  <thead>\n    <tr style=\"text-align: right;\">\n      <th></th>\n      <th>time_period_end</th>\n      <th>price_close</th>\n      <th>trades_count</th>\n      <th>volume_traded</th>\n    </tr>\n  </thead>\n  <tbody>\n    <tr>\n      <th>0</th>\n      <td>2021-01-20T00:00:00.0000000Z</td>\n      <td>36575.11</td>\n      <td>58642</td>\n      <td>6192.523507</td>\n    </tr>\n    <tr>\n      <th>1</th>\n      <td>2021-01-19T00:00:00.0000000Z</td>\n      <td>36624.23</td>\n      <td>284027</td>\n      <td>32241.847027</td>\n    </tr>\n    <tr>\n      <th>2</th>\n      <td>2021-01-18T00:00:00.0000000Z</td>\n      <td>35820.00</td>\n      <td>320862</td>\n      <td>36821.003278</td>\n    </tr>\n    <tr>\n      <th>3</th>\n      <td>2021-01-17T00:00:00.0000000Z</td>\n      <td>36018.64</td>\n      <td>347368</td>\n      <td>39468.975920</td>\n    </tr>\n    <tr>\n      <th>4</th>\n      <td>2021-01-16T00:00:00.0000000Z</td>\n      <td>36754.67</td>\n      <td>585652</td>\n      <td>67706.892056</td>\n    </tr>\n  </tbody>\n</table>\n</div>"
     },
     "metadata": {},
     "execution_count": 68
    }
   ],
   "source": [
    "# Keep only relevant data\n",
    "btc_latest_daily_df = btc_latest_daily_all_df[['time_period_end','price_close','trades_count','volume_traded']]\n",
    "btc_latest_daily_df.head()"
   ]
  },
  {
   "cell_type": "code",
   "execution_count": 70,
   "metadata": {},
   "outputs": [],
   "source": [
    "# Calculate daily returns\n",
    "# btc_latest_daily_returns_df = btc_latest_daily_df.pct_change()\n",
    "# btc_latest_daily_returns_df.head()"
   ]
  },
  {
   "cell_type": "code",
   "execution_count": 71,
   "metadata": {},
   "outputs": [
    {
     "output_type": "display_data",
     "data": {
      "application/vnd.plotly.v1+json": {
       "config": {
        "plotlyServerURL": "https://plot.ly"
       },
       "data": [
        {
         "hovertemplate": "Daily=%{x}<br>Closing Price=%{y}<extra></extra>",
         "legendgroup": "",
         "line": {
          "color": "#636efa",
          "dash": "solid"
         },
         "mode": "lines",
         "name": "",
         "orientation": "v",
         "showlegend": false,
         "type": "scatter",
         "x": [
          "2021-01-20T00:00:00.0000000Z",
          "2021-01-19T00:00:00.0000000Z",
          "2021-01-18T00:00:00.0000000Z",
          "2021-01-17T00:00:00.0000000Z",
          "2021-01-16T00:00:00.0000000Z",
          "2021-01-15T00:00:00.0000000Z",
          "2021-01-14T00:00:00.0000000Z",
          "2021-01-13T00:00:00.0000000Z",
          "2021-01-12T00:00:00.0000000Z",
          "2021-01-11T00:00:00.0000000Z",
          "2021-01-10T00:00:00.0000000Z",
          "2021-01-09T00:00:00.0000000Z",
          "2021-01-08T00:00:00.0000000Z",
          "2021-01-07T00:00:00.0000000Z",
          "2021-01-06T00:00:00.0000000Z",
          "2021-01-05T00:00:00.0000000Z",
          "2021-01-04T00:00:00.0000000Z",
          "2021-01-03T00:00:00.0000000Z",
          "2021-01-02T00:00:00.0000000Z",
          "2021-01-01T00:00:00.0000000Z",
          "2020-12-31T00:00:00.0000000Z",
          "2020-12-30T00:00:00.0000000Z",
          "2020-12-29T00:00:00.0000000Z",
          "2020-12-28T00:00:00.0000000Z",
          "2020-12-27T00:00:00.0000000Z",
          "2020-12-26T00:00:00.0000000Z",
          "2020-12-25T00:00:00.0000000Z",
          "2020-12-24T00:00:00.0000000Z",
          "2020-12-23T00:00:00.0000000Z",
          "2020-12-22T00:00:00.0000000Z",
          "2020-12-21T00:00:00.0000000Z",
          "2020-12-20T00:00:00.0000000Z",
          "2020-12-19T00:00:00.0000000Z",
          "2020-12-18T00:00:00.0000000Z",
          "2020-12-17T00:00:00.0000000Z",
          "2020-12-16T00:00:00.0000000Z",
          "2020-12-15T00:00:00.0000000Z",
          "2020-12-14T00:00:00.0000000Z",
          "2020-12-13T00:00:00.0000000Z",
          "2020-12-12T00:00:00.0000000Z",
          "2020-12-11T00:00:00.0000000Z",
          "2020-12-10T00:00:00.0000000Z",
          "2020-12-09T00:00:00.0000000Z",
          "2020-12-08T00:00:00.0000000Z",
          "2020-12-07T00:00:00.0000000Z",
          "2020-12-06T00:00:00.0000000Z",
          "2020-12-05T00:00:00.0000000Z",
          "2020-12-04T00:00:00.0000000Z",
          "2020-12-03T00:00:00.0000000Z",
          "2020-12-02T00:00:00.0000000Z",
          "2020-12-01T00:00:00.0000000Z",
          "2020-11-30T00:00:00.0000000Z",
          "2020-11-29T00:00:00.0000000Z",
          "2020-11-28T00:00:00.0000000Z",
          "2020-11-27T00:00:00.0000000Z",
          "2020-11-26T00:00:00.0000000Z",
          "2020-11-25T00:00:00.0000000Z",
          "2020-11-24T00:00:00.0000000Z",
          "2020-11-23T00:00:00.0000000Z",
          "2020-11-22T00:00:00.0000000Z",
          "2020-11-21T00:00:00.0000000Z",
          "2020-11-20T00:00:00.0000000Z",
          "2020-11-19T00:00:00.0000000Z",
          "2020-11-18T00:00:00.0000000Z",
          "2020-11-17T00:00:00.0000000Z",
          "2020-11-16T00:00:00.0000000Z",
          "2020-11-15T00:00:00.0000000Z",
          "2020-11-14T00:00:00.0000000Z",
          "2020-11-13T00:00:00.0000000Z",
          "2020-11-12T00:00:00.0000000Z",
          "2020-11-11T00:00:00.0000000Z",
          "2020-11-10T00:00:00.0000000Z",
          "2020-11-09T00:00:00.0000000Z",
          "2020-11-08T00:00:00.0000000Z",
          "2020-11-07T00:00:00.0000000Z",
          "2020-11-06T00:00:00.0000000Z",
          "2020-11-05T00:00:00.0000000Z",
          "2020-11-04T00:00:00.0000000Z",
          "2020-11-03T00:00:00.0000000Z",
          "2020-11-02T00:00:00.0000000Z",
          "2020-11-01T00:00:00.0000000Z",
          "2020-10-31T00:00:00.0000000Z",
          "2020-10-30T00:00:00.0000000Z",
          "2020-10-29T00:00:00.0000000Z",
          "2020-10-28T00:00:00.0000000Z",
          "2020-10-27T00:00:00.0000000Z",
          "2020-10-26T00:00:00.0000000Z",
          "2020-10-25T00:00:00.0000000Z",
          "2020-10-24T00:00:00.0000000Z",
          "2020-10-23T00:00:00.0000000Z",
          "2020-10-22T00:00:00.0000000Z",
          "2020-10-21T00:00:00.0000000Z",
          "2020-10-20T00:00:00.0000000Z",
          "2020-10-19T00:00:00.0000000Z",
          "2020-10-18T00:00:00.0000000Z",
          "2020-10-17T00:00:00.0000000Z",
          "2020-10-16T00:00:00.0000000Z",
          "2020-10-15T00:00:00.0000000Z",
          "2020-10-14T00:00:00.0000000Z",
          "2020-10-13T00:00:00.0000000Z"
         ],
         "xaxis": "x",
         "y": [
          36575.11,
          36624.23,
          35820,
          36018.64,
          36754.67,
          39125.14,
          37390.1,
          34038.98,
          35487.44,
          38177.58,
          40257.43,
          40667.07,
          39505.56,
          36859.26,
          34039.05,
          32005.88,
          33080.66,
          32225.91,
          29412.84,
          28990.08,
          28897.42,
          27366.35,
          27044.13,
          26258.65,
          26475.35,
          24704.71,
          23717.96,
          23228.35,
          23823.27,
          22729.4,
          23476.51,
          23849.99,
          23137.76,
          22826.48,
          21359.65,
          19444.6,
          19272.37,
          19166.65,
          18821.28,
          18031.5,
          18253.44,
          18546.55,
          18316.22,
          19177.71,
          19375.6,
          19153,
          18658.1,
          19448.4,
          19225.63,
          18782.97,
          19713.94,
          18202.04,
          17739.85,
          17144.2,
          17170,
          18721.93,
          19172.84,
          18384.82,
          18435.2,
          18721.21,
          18675.25,
          17821.58,
          17800,
          17679.36,
          16721.1,
          15975.49,
          16086.34,
          16339.56,
          16300,
          15710.87,
          15315.03,
          15342.25,
          15482.9,
          14834.09,
          15599.95,
          15608.21,
          14165.54,
          14041.58,
          13563.22,
          13762,
          13804.81,
          13571.51,
          13460,
          13281.05,
          13660,
          13071.75,
          13045,
          13126.24,
          12939,
          12987.02,
          12808,
          11923.83,
          11760.45,
          11514.2,
          11367.89,
          11328.95,
          11509.34,
          11427.7,
          11428.22,
          11535.57
         ],
         "yaxis": "y"
        }
       ],
       "layout": {
        "legend": {
         "tracegroupgap": 0
        },
        "template": {
         "data": {
          "bar": [
           {
            "error_x": {
             "color": "#2a3f5f"
            },
            "error_y": {
             "color": "#2a3f5f"
            },
            "marker": {
             "line": {
              "color": "#E5ECF6",
              "width": 0.5
             }
            },
            "type": "bar"
           }
          ],
          "barpolar": [
           {
            "marker": {
             "line": {
              "color": "#E5ECF6",
              "width": 0.5
             }
            },
            "type": "barpolar"
           }
          ],
          "carpet": [
           {
            "aaxis": {
             "endlinecolor": "#2a3f5f",
             "gridcolor": "white",
             "linecolor": "white",
             "minorgridcolor": "white",
             "startlinecolor": "#2a3f5f"
            },
            "baxis": {
             "endlinecolor": "#2a3f5f",
             "gridcolor": "white",
             "linecolor": "white",
             "minorgridcolor": "white",
             "startlinecolor": "#2a3f5f"
            },
            "type": "carpet"
           }
          ],
          "choropleth": [
           {
            "colorbar": {
             "outlinewidth": 0,
             "ticks": ""
            },
            "type": "choropleth"
           }
          ],
          "contour": [
           {
            "colorbar": {
             "outlinewidth": 0,
             "ticks": ""
            },
            "colorscale": [
             [
              0,
              "#0d0887"
             ],
             [
              0.1111111111111111,
              "#46039f"
             ],
             [
              0.2222222222222222,
              "#7201a8"
             ],
             [
              0.3333333333333333,
              "#9c179e"
             ],
             [
              0.4444444444444444,
              "#bd3786"
             ],
             [
              0.5555555555555556,
              "#d8576b"
             ],
             [
              0.6666666666666666,
              "#ed7953"
             ],
             [
              0.7777777777777778,
              "#fb9f3a"
             ],
             [
              0.8888888888888888,
              "#fdca26"
             ],
             [
              1,
              "#f0f921"
             ]
            ],
            "type": "contour"
           }
          ],
          "contourcarpet": [
           {
            "colorbar": {
             "outlinewidth": 0,
             "ticks": ""
            },
            "type": "contourcarpet"
           }
          ],
          "heatmap": [
           {
            "colorbar": {
             "outlinewidth": 0,
             "ticks": ""
            },
            "colorscale": [
             [
              0,
              "#0d0887"
             ],
             [
              0.1111111111111111,
              "#46039f"
             ],
             [
              0.2222222222222222,
              "#7201a8"
             ],
             [
              0.3333333333333333,
              "#9c179e"
             ],
             [
              0.4444444444444444,
              "#bd3786"
             ],
             [
              0.5555555555555556,
              "#d8576b"
             ],
             [
              0.6666666666666666,
              "#ed7953"
             ],
             [
              0.7777777777777778,
              "#fb9f3a"
             ],
             [
              0.8888888888888888,
              "#fdca26"
             ],
             [
              1,
              "#f0f921"
             ]
            ],
            "type": "heatmap"
           }
          ],
          "heatmapgl": [
           {
            "colorbar": {
             "outlinewidth": 0,
             "ticks": ""
            },
            "colorscale": [
             [
              0,
              "#0d0887"
             ],
             [
              0.1111111111111111,
              "#46039f"
             ],
             [
              0.2222222222222222,
              "#7201a8"
             ],
             [
              0.3333333333333333,
              "#9c179e"
             ],
             [
              0.4444444444444444,
              "#bd3786"
             ],
             [
              0.5555555555555556,
              "#d8576b"
             ],
             [
              0.6666666666666666,
              "#ed7953"
             ],
             [
              0.7777777777777778,
              "#fb9f3a"
             ],
             [
              0.8888888888888888,
              "#fdca26"
             ],
             [
              1,
              "#f0f921"
             ]
            ],
            "type": "heatmapgl"
           }
          ],
          "histogram": [
           {
            "marker": {
             "colorbar": {
              "outlinewidth": 0,
              "ticks": ""
             }
            },
            "type": "histogram"
           }
          ],
          "histogram2d": [
           {
            "colorbar": {
             "outlinewidth": 0,
             "ticks": ""
            },
            "colorscale": [
             [
              0,
              "#0d0887"
             ],
             [
              0.1111111111111111,
              "#46039f"
             ],
             [
              0.2222222222222222,
              "#7201a8"
             ],
             [
              0.3333333333333333,
              "#9c179e"
             ],
             [
              0.4444444444444444,
              "#bd3786"
             ],
             [
              0.5555555555555556,
              "#d8576b"
             ],
             [
              0.6666666666666666,
              "#ed7953"
             ],
             [
              0.7777777777777778,
              "#fb9f3a"
             ],
             [
              0.8888888888888888,
              "#fdca26"
             ],
             [
              1,
              "#f0f921"
             ]
            ],
            "type": "histogram2d"
           }
          ],
          "histogram2dcontour": [
           {
            "colorbar": {
             "outlinewidth": 0,
             "ticks": ""
            },
            "colorscale": [
             [
              0,
              "#0d0887"
             ],
             [
              0.1111111111111111,
              "#46039f"
             ],
             [
              0.2222222222222222,
              "#7201a8"
             ],
             [
              0.3333333333333333,
              "#9c179e"
             ],
             [
              0.4444444444444444,
              "#bd3786"
             ],
             [
              0.5555555555555556,
              "#d8576b"
             ],
             [
              0.6666666666666666,
              "#ed7953"
             ],
             [
              0.7777777777777778,
              "#fb9f3a"
             ],
             [
              0.8888888888888888,
              "#fdca26"
             ],
             [
              1,
              "#f0f921"
             ]
            ],
            "type": "histogram2dcontour"
           }
          ],
          "mesh3d": [
           {
            "colorbar": {
             "outlinewidth": 0,
             "ticks": ""
            },
            "type": "mesh3d"
           }
          ],
          "parcoords": [
           {
            "line": {
             "colorbar": {
              "outlinewidth": 0,
              "ticks": ""
             }
            },
            "type": "parcoords"
           }
          ],
          "pie": [
           {
            "automargin": true,
            "type": "pie"
           }
          ],
          "scatter": [
           {
            "marker": {
             "colorbar": {
              "outlinewidth": 0,
              "ticks": ""
             }
            },
            "type": "scatter"
           }
          ],
          "scatter3d": [
           {
            "line": {
             "colorbar": {
              "outlinewidth": 0,
              "ticks": ""
             }
            },
            "marker": {
             "colorbar": {
              "outlinewidth": 0,
              "ticks": ""
             }
            },
            "type": "scatter3d"
           }
          ],
          "scattercarpet": [
           {
            "marker": {
             "colorbar": {
              "outlinewidth": 0,
              "ticks": ""
             }
            },
            "type": "scattercarpet"
           }
          ],
          "scattergeo": [
           {
            "marker": {
             "colorbar": {
              "outlinewidth": 0,
              "ticks": ""
             }
            },
            "type": "scattergeo"
           }
          ],
          "scattergl": [
           {
            "marker": {
             "colorbar": {
              "outlinewidth": 0,
              "ticks": ""
             }
            },
            "type": "scattergl"
           }
          ],
          "scattermapbox": [
           {
            "marker": {
             "colorbar": {
              "outlinewidth": 0,
              "ticks": ""
             }
            },
            "type": "scattermapbox"
           }
          ],
          "scatterpolar": [
           {
            "marker": {
             "colorbar": {
              "outlinewidth": 0,
              "ticks": ""
             }
            },
            "type": "scatterpolar"
           }
          ],
          "scatterpolargl": [
           {
            "marker": {
             "colorbar": {
              "outlinewidth": 0,
              "ticks": ""
             }
            },
            "type": "scatterpolargl"
           }
          ],
          "scatterternary": [
           {
            "marker": {
             "colorbar": {
              "outlinewidth": 0,
              "ticks": ""
             }
            },
            "type": "scatterternary"
           }
          ],
          "surface": [
           {
            "colorbar": {
             "outlinewidth": 0,
             "ticks": ""
            },
            "colorscale": [
             [
              0,
              "#0d0887"
             ],
             [
              0.1111111111111111,
              "#46039f"
             ],
             [
              0.2222222222222222,
              "#7201a8"
             ],
             [
              0.3333333333333333,
              "#9c179e"
             ],
             [
              0.4444444444444444,
              "#bd3786"
             ],
             [
              0.5555555555555556,
              "#d8576b"
             ],
             [
              0.6666666666666666,
              "#ed7953"
             ],
             [
              0.7777777777777778,
              "#fb9f3a"
             ],
             [
              0.8888888888888888,
              "#fdca26"
             ],
             [
              1,
              "#f0f921"
             ]
            ],
            "type": "surface"
           }
          ],
          "table": [
           {
            "cells": {
             "fill": {
              "color": "#EBF0F8"
             },
             "line": {
              "color": "white"
             }
            },
            "header": {
             "fill": {
              "color": "#C8D4E3"
             },
             "line": {
              "color": "white"
             }
            },
            "type": "table"
           }
          ]
         },
         "layout": {
          "annotationdefaults": {
           "arrowcolor": "#2a3f5f",
           "arrowhead": 0,
           "arrowwidth": 1
          },
          "autotypenumbers": "strict",
          "coloraxis": {
           "colorbar": {
            "outlinewidth": 0,
            "ticks": ""
           }
          },
          "colorscale": {
           "diverging": [
            [
             0,
             "#8e0152"
            ],
            [
             0.1,
             "#c51b7d"
            ],
            [
             0.2,
             "#de77ae"
            ],
            [
             0.3,
             "#f1b6da"
            ],
            [
             0.4,
             "#fde0ef"
            ],
            [
             0.5,
             "#f7f7f7"
            ],
            [
             0.6,
             "#e6f5d0"
            ],
            [
             0.7,
             "#b8e186"
            ],
            [
             0.8,
             "#7fbc41"
            ],
            [
             0.9,
             "#4d9221"
            ],
            [
             1,
             "#276419"
            ]
           ],
           "sequential": [
            [
             0,
             "#0d0887"
            ],
            [
             0.1111111111111111,
             "#46039f"
            ],
            [
             0.2222222222222222,
             "#7201a8"
            ],
            [
             0.3333333333333333,
             "#9c179e"
            ],
            [
             0.4444444444444444,
             "#bd3786"
            ],
            [
             0.5555555555555556,
             "#d8576b"
            ],
            [
             0.6666666666666666,
             "#ed7953"
            ],
            [
             0.7777777777777778,
             "#fb9f3a"
            ],
            [
             0.8888888888888888,
             "#fdca26"
            ],
            [
             1,
             "#f0f921"
            ]
           ],
           "sequentialminus": [
            [
             0,
             "#0d0887"
            ],
            [
             0.1111111111111111,
             "#46039f"
            ],
            [
             0.2222222222222222,
             "#7201a8"
            ],
            [
             0.3333333333333333,
             "#9c179e"
            ],
            [
             0.4444444444444444,
             "#bd3786"
            ],
            [
             0.5555555555555556,
             "#d8576b"
            ],
            [
             0.6666666666666666,
             "#ed7953"
            ],
            [
             0.7777777777777778,
             "#fb9f3a"
            ],
            [
             0.8888888888888888,
             "#fdca26"
            ],
            [
             1,
             "#f0f921"
            ]
           ]
          },
          "colorway": [
           "#636efa",
           "#EF553B",
           "#00cc96",
           "#ab63fa",
           "#FFA15A",
           "#19d3f3",
           "#FF6692",
           "#B6E880",
           "#FF97FF",
           "#FECB52"
          ],
          "font": {
           "color": "#2a3f5f"
          },
          "geo": {
           "bgcolor": "white",
           "lakecolor": "white",
           "landcolor": "#E5ECF6",
           "showlakes": true,
           "showland": true,
           "subunitcolor": "white"
          },
          "hoverlabel": {
           "align": "left"
          },
          "hovermode": "closest",
          "mapbox": {
           "style": "light"
          },
          "paper_bgcolor": "white",
          "plot_bgcolor": "#E5ECF6",
          "polar": {
           "angularaxis": {
            "gridcolor": "white",
            "linecolor": "white",
            "ticks": ""
           },
           "bgcolor": "#E5ECF6",
           "radialaxis": {
            "gridcolor": "white",
            "linecolor": "white",
            "ticks": ""
           }
          },
          "scene": {
           "xaxis": {
            "backgroundcolor": "#E5ECF6",
            "gridcolor": "white",
            "gridwidth": 2,
            "linecolor": "white",
            "showbackground": true,
            "ticks": "",
            "zerolinecolor": "white"
           },
           "yaxis": {
            "backgroundcolor": "#E5ECF6",
            "gridcolor": "white",
            "gridwidth": 2,
            "linecolor": "white",
            "showbackground": true,
            "ticks": "",
            "zerolinecolor": "white"
           },
           "zaxis": {
            "backgroundcolor": "#E5ECF6",
            "gridcolor": "white",
            "gridwidth": 2,
            "linecolor": "white",
            "showbackground": true,
            "ticks": "",
            "zerolinecolor": "white"
           }
          },
          "shapedefaults": {
           "line": {
            "color": "#2a3f5f"
           }
          },
          "ternary": {
           "aaxis": {
            "gridcolor": "white",
            "linecolor": "white",
            "ticks": ""
           },
           "baxis": {
            "gridcolor": "white",
            "linecolor": "white",
            "ticks": ""
           },
           "bgcolor": "#E5ECF6",
           "caxis": {
            "gridcolor": "white",
            "linecolor": "white",
            "ticks": ""
           }
          },
          "title": {
           "x": 0.05
          },
          "xaxis": {
           "automargin": true,
           "gridcolor": "white",
           "linecolor": "white",
           "ticks": "",
           "title": {
            "standoff": 15
           },
           "zerolinecolor": "white",
           "zerolinewidth": 2
          },
          "yaxis": {
           "automargin": true,
           "gridcolor": "white",
           "linecolor": "white",
           "ticks": "",
           "title": {
            "standoff": 15
           },
           "zerolinecolor": "white",
           "zerolinewidth": 2
          }
         }
        },
        "title": {
         "text": "BTC Daily Closing Prices"
        },
        "xaxis": {
         "anchor": "y",
         "domain": [
          0,
          1
         ],
         "title": {
          "text": "Daily"
         }
        },
        "yaxis": {
         "anchor": "x",
         "domain": [
          0,
          1
         ],
         "title": {
          "text": "Closing Price"
         }
        }
       }
      }
     },
     "metadata": {}
    }
   ],
   "source": [
    "# Plot daily closing\n",
    "fig = px.line(\n",
    "    btc_latest_daily_df, \n",
    "    x=\"time_period_end\", \n",
    "    y=\"price_close\", \n",
    "    title='BTC Daily Closing Prices',\n",
    "    labels={'time_period_end':'Daily', 'price_close':'Closing Price'})\n",
    "\n",
    "fig.show()"
   ]
  },
  {
   "cell_type": "code",
   "execution_count": null,
   "metadata": {},
   "outputs": [],
   "source": []
  }
 ]
}