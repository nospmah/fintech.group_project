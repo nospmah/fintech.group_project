{
 "cells": [
  {
   "cell_type": "code",
   "execution_count": 3,
   "metadata": {},
   "outputs": [],
   "source": [
    "import os\n",
    "import pandas as pd\n",
    "import matplotlib.pyplot as plt\n",
    "import plotly.express as px\n",
    "import hvplot.pandas\n",
    "from pathlib import Path\n",
    "import requests\n",
    "import urllib.request\n",
    "import json\n",
    "import pprint\n",
    "from dotenv import load_dotenv\n",
    "\n",
    "%matplotlib inline"
   ]
  },
  {
   "cell_type": "code",
   "execution_count": 16,
   "metadata": {},
   "outputs": [
    {
     "name": "stdout",
     "output_type": "stream",
     "text": [
      "<class 'dict'>\n"
     ]
    },
    {
     "data": {
      "text/html": [
       "<div>\n",
       "<style scoped>\n",
       "    .dataframe tbody tr th:only-of-type {\n",
       "        vertical-align: middle;\n",
       "    }\n",
       "\n",
       "    .dataframe tbody tr th {\n",
       "        vertical-align: top;\n",
       "    }\n",
       "\n",
       "    .dataframe thead th {\n",
       "        text-align: right;\n",
       "    }\n",
       "</style>\n",
       "<table border=\"1\" class=\"dataframe\">\n",
       "  <thead>\n",
       "    <tr style=\"text-align: right;\">\n",
       "      <th></th>\n",
       "      <th>date</th>\n",
       "      <th>reserve</th>\n",
       "      <th>reserve_usd</th>\n",
       "    </tr>\n",
       "  </thead>\n",
       "  <tbody>\n",
       "    <tr>\n",
       "      <th>0</th>\n",
       "      <td>2021-01-01</td>\n",
       "      <td>288178.322394</td>\n",
       "      <td>8.459608e+09</td>\n",
       "    </tr>\n",
       "    <tr>\n",
       "      <th>1</th>\n",
       "      <td>2020-12-31</td>\n",
       "      <td>285775.985433</td>\n",
       "      <td>8.269640e+09</td>\n",
       "    </tr>\n",
       "    <tr>\n",
       "      <th>2</th>\n",
       "      <td>2020-12-30</td>\n",
       "      <td>286856.740110</td>\n",
       "      <td>8.285127e+09</td>\n",
       "    </tr>\n",
       "    <tr>\n",
       "      <th>3</th>\n",
       "      <td>2020-12-29</td>\n",
       "      <td>285467.390927</td>\n",
       "      <td>7.816968e+09</td>\n",
       "    </tr>\n",
       "    <tr>\n",
       "      <th>4</th>\n",
       "      <td>2020-12-28</td>\n",
       "      <td>287093.528710</td>\n",
       "      <td>7.769291e+09</td>\n",
       "    </tr>\n",
       "  </tbody>\n",
       "</table>\n",
       "</div>"
      ],
      "text/plain": [
       "        date        reserve   reserve_usd\n",
       "0 2021-01-01  288178.322394  8.459608e+09\n",
       "1 2020-12-31  285775.985433  8.269640e+09\n",
       "2 2020-12-30  286856.740110  8.285127e+09\n",
       "3 2020-12-29  285467.390927  7.816968e+09\n",
       "4 2020-12-28  287093.528710  7.769291e+09"
      ]
     },
     "execution_count": 16,
     "metadata": {},
     "output_type": "execute_result"
    }
   ],
   "source": [
    "load_dotenv()\n",
    "access_token = os.getenv(\"CQ_API_KEY\")\n",
    "headers = { 'Authorization': 'Bearer ' + access_token }\n",
    "import urllib.request\n",
    "url_a = \"https://api.cryptoquant.com/v1/btc/exchange-flows/reserve?exchange=binance&window=day&from=20150101&to=20210101\"\n",
    "response_a = requests.get(url_a, headers=headers)\n",
    "all_exchange_reserve=response_a.json()\n",
    "print(type(all_exchange_reserve))\n",
    "#pprint.pprint(all_exchange_reserve)\n",
    "\n",
    "all_exchange_df = pd.DataFrame(data=all_exchange_reserve['result']['data'])\n",
    "all_exchange_df['date'] = pd.to_datetime(all_exchange_df['date'])\n",
    "#all_exchange_df = all_exchange_df.set_index('date')\n",
    "all_exchange_df.head(5)\n"
   ]
  },
  {
   "cell_type": "code",
   "execution_count": null,
   "metadata": {},
   "outputs": [],
   "source": []
  }
 ],
 "metadata": {
  "kernelspec": {
   "display_name": "Python 3",
   "language": "python",
   "name": "python3"
  },
  "language_info": {
   "codemirror_mode": {
    "name": "ipython",
    "version": 3
   },
   "file_extension": ".py",
   "mimetype": "text/x-python",
   "name": "python",
   "nbconvert_exporter": "python",
   "pygments_lexer": "ipython3",
   "version": "3.7.9"
  }
 },
 "nbformat": 4,
 "nbformat_minor": 4
}
