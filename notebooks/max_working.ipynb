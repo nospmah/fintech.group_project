{
 "cells": [
  {
   "cell_type": "code",
   "execution_count": 48,
   "metadata": {},
   "outputs": [],
   "source": [
    " # Initial imports\n",
    "import os\n",
    "import requests\n",
    "import pandas as pd\n",
    "from dotenv import load_dotenv\n",
    "import alpaca_trade_api as tradeapi \n",
    "\n",
    "\n",
    "%matplotlib inline"
   ]
  },
  {
   "cell_type": "code",
   "execution_count": 49,
   "metadata": {},
   "outputs": [
    {
     "data": {
      "text/plain": [
       "True"
      ]
     },
     "execution_count": 49,
     "metadata": {},
     "output_type": "execute_result"
    }
   ],
   "source": [
    " # Load .env enviroment variables\n",
    "load_dotenv()"
   ]
  },
  {
   "cell_type": "code",
   "execution_count": 50,
   "metadata": {},
   "outputs": [
    {
     "name": "stdout",
     "output_type": "stream",
     "text": [
      "ALP Key type:<class 'str'>\n"
     ]
    }
   ],
   "source": [
    "# Set Alpaca API key and secret\n",
    "alpaca_api_key = os.getenv(\"ALPACA_API_KEY\")\n",
    "alpaca_secret_key = os.getenv(\"ALPACA_SECRET_KEY\")\n",
    "print(f\"ALP Key type:{type(alpaca_secret_key)}\")"
   ]
  },
  {
   "cell_type": "code",
   "execution_count": 51,
   "metadata": {},
   "outputs": [],
   "source": [
    "# Create the Alpaca API object\n",
    "alpaca = tradeapi.REST(\n",
    "    alpaca_api_key,\n",
    "    alpaca_secret_key,\n",
    "    api_version=\"v2\")"
   ]
  },
  {
   "cell_type": "code",
   "execution_count": 52,
   "metadata": {},
   "outputs": [],
   "source": [
    "# Set start and end dates of five years back from today.\n",
    "# Sample results may vary from the solution based on the time frame chosen\n",
    "start_date = pd.Timestamp('2009-08-07', tz='America/New_York').isoformat()\n",
    "end_date = pd.Timestamp('2021-01-05', tz='America/New_York').isoformat()\n",
    "timeframe='1D'"
   ]
  },
  {
   "cell_type": "code",
   "execution_count": 53,
   "metadata": {},
   "outputs": [
    {
     "data": {
      "text/html": [
       "<div>\n",
       "<style scoped>\n",
       "    .dataframe tbody tr th:only-of-type {\n",
       "        vertical-align: middle;\n",
       "    }\n",
       "\n",
       "    .dataframe tbody tr th {\n",
       "        vertical-align: top;\n",
       "    }\n",
       "\n",
       "    .dataframe thead tr th {\n",
       "        text-align: left;\n",
       "    }\n",
       "\n",
       "    .dataframe thead tr:last-of-type th {\n",
       "        text-align: right;\n",
       "    }\n",
       "</style>\n",
       "<table border=\"1\" class=\"dataframe\">\n",
       "  <thead>\n",
       "    <tr>\n",
       "      <th></th>\n",
       "      <th colspan=\"5\" halign=\"left\">SPY</th>\n",
       "    </tr>\n",
       "    <tr>\n",
       "      <th></th>\n",
       "      <th>open</th>\n",
       "      <th>high</th>\n",
       "      <th>low</th>\n",
       "      <th>close</th>\n",
       "      <th>volume</th>\n",
       "    </tr>\n",
       "    <tr>\n",
       "      <th>time</th>\n",
       "      <th></th>\n",
       "      <th></th>\n",
       "      <th></th>\n",
       "      <th></th>\n",
       "      <th></th>\n",
       "    </tr>\n",
       "  </thead>\n",
       "  <tbody>\n",
       "    <tr>\n",
       "      <th>2009-08-07 00:00:00-04:00</th>\n",
       "      <td>100.92</td>\n",
       "      <td>102.03</td>\n",
       "      <td>100.39</td>\n",
       "      <td>101.19</td>\n",
       "      <td>177299779</td>\n",
       "    </tr>\n",
       "    <tr>\n",
       "      <th>2009-08-10 00:00:00-04:00</th>\n",
       "      <td>100.77</td>\n",
       "      <td>101.22</td>\n",
       "      <td>100.27</td>\n",
       "      <td>100.96</td>\n",
       "      <td>112363486</td>\n",
       "    </tr>\n",
       "    <tr>\n",
       "      <th>2009-08-11 00:00:00-04:00</th>\n",
       "      <td>100.54</td>\n",
       "      <td>100.61</td>\n",
       "      <td>99.46</td>\n",
       "      <td>99.66</td>\n",
       "      <td>135460278</td>\n",
       "    </tr>\n",
       "    <tr>\n",
       "      <th>2009-08-12 00:00:00-04:00</th>\n",
       "      <td>99.54</td>\n",
       "      <td>101.56</td>\n",
       "      <td>99.53</td>\n",
       "      <td>100.78</td>\n",
       "      <td>189280222</td>\n",
       "    </tr>\n",
       "    <tr>\n",
       "      <th>2009-08-13 00:00:00-04:00</th>\n",
       "      <td>101.26</td>\n",
       "      <td>101.61</td>\n",
       "      <td>100.26</td>\n",
       "      <td>101.58</td>\n",
       "      <td>149874941</td>\n",
       "    </tr>\n",
       "  </tbody>\n",
       "</table>\n",
       "</div>"
      ],
      "text/plain": [
       "                              SPY                                   \n",
       "                             open    high     low   close     volume\n",
       "time                                                                \n",
       "2009-08-07 00:00:00-04:00  100.92  102.03  100.39  101.19  177299779\n",
       "2009-08-10 00:00:00-04:00  100.77  101.22  100.27  100.96  112363486\n",
       "2009-08-11 00:00:00-04:00  100.54  100.61   99.46   99.66  135460278\n",
       "2009-08-12 00:00:00-04:00   99.54  101.56   99.53  100.78  189280222\n",
       "2009-08-13 00:00:00-04:00  101.26  101.61  100.26  101.58  149874941"
      ]
     },
     "execution_count": 53,
     "metadata": {},
     "output_type": "execute_result"
    }
   ],
   "source": [
    " # Get 5 years' worth of historical data for SPY and AGG\n",
    "tickers = ['SPY']\n",
    "df_stock_data = alpaca.get_barset(tickers, timeframe, start = start_date, end = end_date).df\n",
    "# Display sample data\n",
    "df_stock_data.head()"
   ]
  },
  {
   "cell_type": "code",
   "execution_count": null,
   "metadata": {},
   "outputs": [],
   "source": []
  }
 ],
 "metadata": {
  "kernelspec": {
   "display_name": "Python 3",
   "language": "python",
   "name": "python3"
  },
  "language_info": {
   "codemirror_mode": {
    "name": "ipython",
    "version": 3
   },
   "file_extension": ".py",
   "mimetype": "text/x-python",
   "name": "python",
   "nbconvert_exporter": "python",
   "pygments_lexer": "ipython3",
   "version": "3.7.9"
  }
 },
 "nbformat": 4,
 "nbformat_minor": 4
}
