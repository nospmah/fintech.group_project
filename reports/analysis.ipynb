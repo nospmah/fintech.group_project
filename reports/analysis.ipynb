{
 "cells": [
  {
   "cell_type": "code",
   "execution_count": 82,
   "metadata": {},
   "outputs": [],
   "source": [
    "import panel as pn\n",
    "pn.extension('plotly')\n",
    "from panel.interact import interact, interactive, fixed, interact_manual\n",
    "from panel import widgets\n",
    "import plotly.express as px\n",
    "import plotly.graph_objects as go\n",
    "from plotly.subplots import make_subplots\n",
    "import pandas as pd\n",
    "import hvplot.pandas\n",
    "import matplotlib.pyplot as plt\n",
    "import os\n",
    "from pathlib import Path\n",
    "from dotenv import load_dotenv\n",
    "import numpy as np\n",
    "from datetime import date\n",
    "import datetime\n",
    "from datetime import timedelta\n",
    "import requests\n",
    "import alpaca_trade_api as tradeapi \n",
    "\n",
    "\n",
    "%matplotlib inline"
   ]
  },
  {
   "cell_type": "code",
   "execution_count": 83,
   "metadata": {},
   "outputs": [
    {
     "output_type": "execute_result",
     "data": {
      "text/plain": [
       "True"
      ]
     },
     "metadata": {},
     "execution_count": 83
    }
   ],
   "source": [
    "# Load env vars\n",
    "load_dotenv()"
   ]
  },
  {
   "cell_type": "code",
   "execution_count": 84,
   "metadata": {},
   "outputs": [],
   "source": [
    "# Get API keys\n",
    "coin_api_key = os.getenv('COIN_API_KEY') \n",
    "alpaca_api_key = os.getenv(\"ALPACA_API_KEY\")\n",
    "alpaca_secret_key = os.getenv(\"ALPACA_SECRET_KEY\")\n",
    "access_token = os.getenv(\"CQ_API_KEY\")"
   ]
  },
  {
   "cell_type": "code",
   "execution_count": 85,
   "metadata": {},
   "outputs": [],
   "source": [
    "# Load Headers\n",
    "headers = { 'Authorization': 'Bearer ' + access_token }"
   ]
  },
  {
   "cell_type": "code",
   "execution_count": 86,
   "metadata": {},
   "outputs": [],
   "source": [
    "# Common date params\n",
    "start_date = '2020-10-01'\n",
    "end_date = '2021-01-01'"
   ]
  },
  {
   "cell_type": "code",
   "execution_count": 87,
   "metadata": {},
   "outputs": [],
   "source": [
    "# Dashboard constants\n",
    "PANEL_WIDTH = 500\n",
    "PANEL_HEIGHT = 400"
   ]
  },
  {
   "cell_type": "code",
   "execution_count": 88,
   "metadata": {},
   "outputs": [],
   "source": [
    "def get_stock_OHLCV(api_key, secret_key, ticker, date_start, date_end, period) :\n",
    "    '''\n",
    "    Historical OHLCV for stocks using Alpaca API.\n",
    "\n",
    "            Parameters:\n",
    "                    api_key (string): Alpaca api key\n",
    "                    secret_key (string): Alpaca secret key\n",
    "                    ticker (string): Ticker - ex) 'SPY'\n",
    "                    date_start (string): example) '2015-01-01'\n",
    "                    date_end (string): example) '2015-01-01'\n",
    "                    period (string): example) '1D'\n",
    "\n",
    "            Returns:\n",
    "                    DateFrame with columns: ['date','open','high','low','close','volume']\n",
    "    '''\n",
    "\n",
    "    # Init Alpaca SDK\n",
    "    api = tradeapi.REST(\n",
    "        api_key,\n",
    "        secret_key,\n",
    "        api_version=\"v2\")\n",
    "\n",
    "    # Init start/end dates\n",
    "    start_date = pd.Timestamp(date_start, tz=\"America/New_York\").isoformat()\n",
    "    end_date = pd.Timestamp(date_end, tz=\"America/New_York\").isoformat()\n",
    "\n",
    "    # Make API call\n",
    "    raw_df = api.get_barset(\n",
    "        [ticker],\n",
    "        period,\n",
    "        start=start_date,\n",
    "        end=end_date).df\n",
    "\n",
    "    # Init new DataFrame\n",
    "    df = pd.DataFrame()\n",
    "    df['open'] = raw_df[ticker]['open']\n",
    "    df['high'] = raw_df[ticker]['high']\n",
    "    df['low'] = raw_df[ticker]['low']\n",
    "    df['close'] = raw_df[ticker]['close']\n",
    "    df['volume'] = raw_df[ticker]['volume']\n",
    "\n",
    "    # Parse date\n",
    "    df['date'] = raw_df.index.date\n",
    "\n",
    "    # Reset index\n",
    "    df.reset_index(inplace=True)\n",
    "\n",
    "    # Reorder columns\n",
    "    df = df[['date','open','high','low','close','volume']]\n",
    "\n",
    "    return df"
   ]
  },
  {
   "cell_type": "code",
   "execution_count": 89,
   "metadata": {},
   "outputs": [],
   "source": [
    "def get_crypto_OHLCV(api_key, ticker, date_start, date_end, period) :\n",
    "    '''\n",
    "    Historical OHLCV for crypto using OpenAPI.io.\n",
    "\n",
    "            Parameters:\n",
    "                    api_key (string): OpenAPI.io api key\n",
    "                    ticker (string): Ticker - ex) 'BTC'\n",
    "                    date_start (string): example) '2015-01-01'\n",
    "                    date_end (string): example) '2015-01-01'\n",
    "                    period (string): example) '1DAY'\n",
    "\n",
    "            Returns:\n",
    "                    DateFrame with columns: ['date','open','high','low','close','volume']\n",
    "    '''\n",
    "    # CoinAPI.io REST url for historical OHLCV\n",
    "    url = f'https://rest.coinapi.io/v1/ohlcv/{ticker}/USD/history?apikey={api_key}&period_id={period}&time_start={date_start}&time_end={date_end}&limit=100000'\n",
    "    # url = f'https://rest.coinapi.io/v1/ohlcv/{ticker}/USD/history?apikey={api_key}&period_id={period}&time_start={date_start}&time_end={date_end}&limit=100'\n",
    "    \n",
    "    # List of dictionary objects\n",
    "    results = requests.get(url).json()\n",
    "\n",
    "    # Init dataframe from raw results\n",
    "    df = pd.DataFrame(\n",
    "        results, \n",
    "        columns=['time_period_end','price_open','price_high','price_low','price_close','volume_traded'])\n",
    "\n",
    "    # Parse date from string\n",
    "    df['time_period_end'] = pd.to_datetime(df['time_period_end']).dt.date\n",
    "\n",
    "    # Rename columns\n",
    "    df.rename(\n",
    "        columns = {'time_period_end':'date',\n",
    "            'price_open':'open',\n",
    "            'price_high':'high',\n",
    "            'price_low':'low',\n",
    "            'price_close':'close',\n",
    "            'volume_traded':'volume'}, \n",
    "        inplace = True)\n",
    "\n",
    "    # Save to file\n",
    "    #df.to_csv(f'../data/OHLCV/{ticker}_ohlcv_{date_start}-{date_end}_v2.csv', header=None, index=None, sep=',', mode='a')\n",
    "\n",
    "    return df"
   ]
  },
  {
   "cell_type": "code",
   "execution_count": 90,
   "metadata": {},
   "outputs": [],
   "source": [
    "def get_pct_chg_for_OHLCV(ohlcv_data) :\n",
    "    '''\n",
    "    Helper method to convert OHLCV data to pct_chg.\n",
    "\n",
    "            Parameters:\n",
    "                    ohlcv_data (DataFrame): OHLCV data (from methods above)\n",
    "\n",
    "            Returns:\n",
    "                    DateFrame with column: ['close']\n",
    "    '''\n",
    "    returns_df = ohlcv_data[['close']]    \n",
    "    returns_df.index = ohlcv_data['date']\n",
    "    returns_df = returns_df.pct_change()\n",
    "    return returns_df"
   ]
  },
  {
   "cell_type": "code",
   "execution_count": 91,
   "metadata": {},
   "outputs": [],
   "source": [
    "def get_daily_returns(start_date, end_date, coin_api_key, alpaca_api_key, alpaca_secret_key) :\n",
    "    '''\n",
    "    Get daily returns for pre-selected assets\n",
    "\n",
    "            Parameters:\n",
    "                    start_date (string): start date\n",
    "                    end_date (string): start date\n",
    "\n",
    "            Returns:\n",
    "                    Panel.pane object for use in dashboard\n",
    "    '''\n",
    "    # Get closing data\n",
    "    btc_df = get_crypto_OHLCV(coin_api_key, 'BTC', start_date, end_date, '1DAY')\n",
    "    eth_df = get_crypto_OHLCV(coin_api_key, 'ETH', start_date, end_date, '1DAY')\n",
    "    xrp_df = get_crypto_OHLCV(coin_api_key, 'XRP', start_date, end_date, '1DAY')\n",
    "    link_df = get_crypto_OHLCV(coin_api_key, 'LINK', start_date, end_date, '1DAY')\n",
    "    ltc_df = get_crypto_OHLCV(coin_api_key, 'LTC', start_date, end_date, '1DAY')\n",
    "    xlm_df = get_crypto_OHLCV(coin_api_key, 'XLM', start_date, end_date, '1DAY')\n",
    "    spy_df = get_stock_OHLCV(alpaca_api_key, alpaca_secret_key, 'SPY', start_date, end_date, '1D')\n",
    "    gld_df = get_stock_OHLCV(alpaca_api_key, alpaca_secret_key, 'GLD', start_date, end_date, '1D')\n",
    "\n",
    "    # Calculate daily returns\n",
    "    btc_returns_df = get_pct_chg_for_OHLCV(btc_df)\n",
    "    eth_returns_df = get_pct_chg_for_OHLCV(eth_df)\n",
    "    xrp_returns_df = get_pct_chg_for_OHLCV(xrp_df)\n",
    "    link_returns_df = get_pct_chg_for_OHLCV(link_df)\n",
    "    ltc_returns_df = get_pct_chg_for_OHLCV(ltc_df)\n",
    "    xlm_returns_df = get_pct_chg_for_OHLCV(xlm_df)\n",
    "    spy_returns_df = get_pct_chg_for_OHLCV(spy_df)\n",
    "    gld_returns_df = get_pct_chg_for_OHLCV(gld_df)\n",
    "\n",
    "    # Combine daily returns\n",
    "    combined_daily_returns = pd.concat(\n",
    "        [btc_returns_df, eth_returns_df, xrp_returns_df, ltc_returns_df, spy_returns_df, gld_returns_df], \n",
    "        axis=\"columns\", \n",
    "        join=\"inner\")\n",
    "\n",
    "    combined_daily_returns = combined_daily_returns.dropna()\n",
    "\n",
    "    # Rename columns\n",
    "    combined_daily_returns.columns = ['BTC','ETH','XRP','LTC','SPY','GLD']\n",
    "\n",
    "    # Ensure we are sorted by date (index)\n",
    "    combined_daily_returns.sort_index()\n",
    "\n",
    "    return combined_daily_returns"
   ]
  },
  {
   "cell_type": "code",
   "execution_count": 92,
   "metadata": {},
   "outputs": [],
   "source": [
    "def get_cumulative_returns_plot(daily_returns) :\n",
    "    \n",
    "    # Calculate cumulative returns     \n",
    "    combined_cumulative_returns = (1 + daily_returns).cumprod()\n",
    "\n",
    "    # Plot with Plotly Express     \n",
    "    cum_returns_plot = px.line(\n",
    "        combined_cumulative_returns,\n",
    "        title ='Cumulative Returns',\n",
    "        labels={'date':'Date'},\n",
    "        width=PANEL_WIDTH*2,\n",
    "        height=PANEL_HEIGHT)\n",
    "  \n",
    "    return pn.panel(cum_returns_plot)"
   ]
  },
  {
   "cell_type": "code",
   "execution_count": 93,
   "metadata": {},
   "outputs": [],
   "source": [
    "def get_std_dev_plot(daily_returns) :\n",
    "    \n",
    "    rolling_stddev_all = daily_returns.rolling(window=21).std().dropna()\n",
    "\n",
    "    # Plot with Plotly Express     \n",
    "    rolling_stddev_plot = px.line(\n",
    "        rolling_stddev_all,\n",
    "        title ='Rolling Standard Deviation',\n",
    "        labels={'date':'Date'},\n",
    "        width=PANEL_WIDTH*2,\n",
    "        height=PANEL_HEIGHT)\n",
    "  \n",
    "    return pn.panel(rolling_stddev_plot)"
   ]
  },
  {
   "cell_type": "code",
   "execution_count": 94,
   "metadata": {},
   "outputs": [],
   "source": [
    "def get_netflow_data(ticker,fromdate,limit):\n",
    "    '''\n",
    "    Returns on-chain data (Netflow)n in new df\n",
    "        Parameters:\n",
    "            ticker (string) = Ticker for Desired Coin\n",
    "            fromdate (string) = Starting date of period desired\n",
    "            limit (int) = number of data points     \n",
    "    '''\n",
    "    #Initialize dotenv function, pull API key, build URL\n",
    "    headers = {'Authorization': 'Bearer ' + access_token}\n",
    "    URL = f'https://api.cryptoquant.com/v1/{ticker}/exchange-flows/netflow?exchange=all_exchange&window=day&from={fromdate}&limit={limit}'\n",
    "\n",
    "    # Initialize Dictionary\n",
    "    response = requests.get(URL, headers=headers)\n",
    "    \n",
    "    netflow_data = response.json()\n",
    "\n",
    "    #Transform to Dataframe and adjust data type\n",
    "    netflow_df = pd.DataFrame(data=netflow_data['result']['data'])\n",
    "    netflow_df['date'] = pd.to_datetime(netflow_df['date'])\n",
    "    netflow_df['netflow_total'] = netflow_df['netflow_total'].astype(str).astype('float64')\n",
    "   \n",
    "    return netflow_df"
   ]
  },
  {
   "cell_type": "code",
   "execution_count": 95,
   "metadata": {},
   "outputs": [
    {
     "output_type": "execute_result",
     "data": {
      "text/plain": [
       "        date  netflow_total\n",
       "0 2021-01-30    5216.551173\n",
       "1 2021-01-29   17413.018375\n",
       "2 2021-01-28   -6092.090538\n",
       "3 2021-01-27  -10347.658278\n",
       "4 2021-01-26   -2644.317802"
      ],
      "text/html": "<div>\n<style scoped>\n    .dataframe tbody tr th:only-of-type {\n        vertical-align: middle;\n    }\n\n    .dataframe tbody tr th {\n        vertical-align: top;\n    }\n\n    .dataframe thead th {\n        text-align: right;\n    }\n</style>\n<table border=\"1\" class=\"dataframe\">\n  <thead>\n    <tr style=\"text-align: right;\">\n      <th></th>\n      <th>date</th>\n      <th>netflow_total</th>\n    </tr>\n  </thead>\n  <tbody>\n    <tr>\n      <th>0</th>\n      <td>2021-01-30</td>\n      <td>5216.551173</td>\n    </tr>\n    <tr>\n      <th>1</th>\n      <td>2021-01-29</td>\n      <td>17413.018375</td>\n    </tr>\n    <tr>\n      <th>2</th>\n      <td>2021-01-28</td>\n      <td>-6092.090538</td>\n    </tr>\n    <tr>\n      <th>3</th>\n      <td>2021-01-27</td>\n      <td>-10347.658278</td>\n    </tr>\n    <tr>\n      <th>4</th>\n      <td>2021-01-26</td>\n      <td>-2644.317802</td>\n    </tr>\n  </tbody>\n</table>\n</div>"
     },
     "metadata": {},
     "execution_count": 95
    }
   ],
   "source": [
    "netflow_btc_df = get_netflow_data(\"btc\",\"20190101\",\"100\")\n",
    "netflow_btc_df.head(5)"
   ]
  },
  {
   "cell_type": "code",
   "execution_count": 96,
   "metadata": {},
   "outputs": [],
   "source": [
    "def get_price_data(ticker,fromdate,limit):\n",
    "    '''\n",
    "    Returns market data (ticker) in new df\n",
    "        Parameters:\n",
    "            ticker (string) = Ticker for Desired Coin\n",
    "            fromdate (string) = Starting date of period desired\n",
    "            limit (int) = number of data points     \n",
    "    '''\n",
    "    #Get Data & Initialize Dictionary\n",
    "    URL2 = f'https://api.cryptoquant.com/v1/{ticker}/market-data/price-usd?window=day&from={fromdate}&limit={limit}'\n",
    "    response2 = requests.get(URL2, headers=headers)\n",
    "    price_data = response2.json()\n",
    "    \n",
    "    #Transform to Dataframe and adjust data type\n",
    "    price_df = pd.DataFrame(data=price_data['result']['data'])\n",
    "    price_df = price_df.drop(['price_usd_high','price_usd_low','price_usd_open'], axis = 1)\n",
    "    price_df['date'] = pd.to_datetime(price_df['date'])\n",
    "    price_df['price_usd_close'] = price_df['price_usd_close'].astype(str).astype('float64')\n",
    "    price_df = price_df.dropna()\n",
    "\n",
    "    return price_df"
   ]
  },
  {
   "cell_type": "code",
   "execution_count": 97,
   "metadata": {},
   "outputs": [
    {
     "output_type": "execute_result",
     "data": {
      "text/plain": [
       "        date  price_usd_close\n",
       "0 2021-01-30     34286.360000\n",
       "1 2021-01-29     34244.506667\n",
       "2 2021-01-28     33383.746667\n",
       "3 2021-01-27     30385.111667\n",
       "4 2021-01-26     32489.385000"
      ],
      "text/html": "<div>\n<style scoped>\n    .dataframe tbody tr th:only-of-type {\n        vertical-align: middle;\n    }\n\n    .dataframe tbody tr th {\n        vertical-align: top;\n    }\n\n    .dataframe thead th {\n        text-align: right;\n    }\n</style>\n<table border=\"1\" class=\"dataframe\">\n  <thead>\n    <tr style=\"text-align: right;\">\n      <th></th>\n      <th>date</th>\n      <th>price_usd_close</th>\n    </tr>\n  </thead>\n  <tbody>\n    <tr>\n      <th>0</th>\n      <td>2021-01-30</td>\n      <td>34286.360000</td>\n    </tr>\n    <tr>\n      <th>1</th>\n      <td>2021-01-29</td>\n      <td>34244.506667</td>\n    </tr>\n    <tr>\n      <th>2</th>\n      <td>2021-01-28</td>\n      <td>33383.746667</td>\n    </tr>\n    <tr>\n      <th>3</th>\n      <td>2021-01-27</td>\n      <td>30385.111667</td>\n    </tr>\n    <tr>\n      <th>4</th>\n      <td>2021-01-26</td>\n      <td>32489.385000</td>\n    </tr>\n  </tbody>\n</table>\n</div>"
     },
     "metadata": {},
     "execution_count": 97
    }
   ],
   "source": [
    "price_btc_df = get_price_data(\"btc\",\"20190101\",\"100\")\n",
    "price_btc_df.head(5)"
   ]
  },
  {
   "cell_type": "code",
   "execution_count": 98,
   "metadata": {},
   "outputs": [],
   "source": [
    "def get_mvrv_data(ticker,fromdate,limit):\n",
    "    '''\n",
    "    Returns marketcap data in new df\n",
    "        Parameters:\n",
    "            ticker (string) = Ticker for Desired Coin\n",
    "            fromdate (string) = Starting date of period desired\n",
    "            limit (int) = number of data points     \n",
    "    '''\n",
    "    #Get Data & Initialize Dictionary\n",
    "    URL3 = f'https://api.cryptoquant.com/v1/{ticker}/market-data/capitalization?window=day&from={fromdate}&limit={limit}'\n",
    "    response3 = requests.get(URL3, headers=headers)\n",
    "    mvrv_data = response3.json()\n",
    "\n",
    "    #Transform to Dataframe and adjust data type\n",
    "    mvrv_data = pd.DataFrame(data=mvrv_data['result']['data'])\n",
    "    mvrv_data['mvrv_score'] = (mvrv_data['market_cap']/mvrv_data['realized_cap'])\n",
    "    mvrv_data['date'] = pd.to_datetime(mvrv_data['date'])\n",
    "    mvrv_data = mvrv_data.sort_values(by=['date'],ascending=False)\n",
    "    mvrv_data = mvrv_data.drop(['average_cap', 'delta_cap', 'market_cap','realized_cap','thermo_cap'], axis = 1)\n",
    "\n",
    "    return mvrv_data"
   ]
  },
  {
   "cell_type": "code",
   "execution_count": 99,
   "metadata": {},
   "outputs": [
    {
     "output_type": "execute_result",
     "data": {
      "text/plain": [
       "        date  mvrv_score\n",
       "0 2021-01-30    2.632662\n",
       "1 2021-01-29    2.635438\n",
       "2 2021-01-28    2.591286\n",
       "3 2021-01-27    2.367614\n",
       "4 2021-01-26    2.544537"
      ],
      "text/html": "<div>\n<style scoped>\n    .dataframe tbody tr th:only-of-type {\n        vertical-align: middle;\n    }\n\n    .dataframe tbody tr th {\n        vertical-align: top;\n    }\n\n    .dataframe thead th {\n        text-align: right;\n    }\n</style>\n<table border=\"1\" class=\"dataframe\">\n  <thead>\n    <tr style=\"text-align: right;\">\n      <th></th>\n      <th>date</th>\n      <th>mvrv_score</th>\n    </tr>\n  </thead>\n  <tbody>\n    <tr>\n      <th>0</th>\n      <td>2021-01-30</td>\n      <td>2.632662</td>\n    </tr>\n    <tr>\n      <th>1</th>\n      <td>2021-01-29</td>\n      <td>2.635438</td>\n    </tr>\n    <tr>\n      <th>2</th>\n      <td>2021-01-28</td>\n      <td>2.591286</td>\n    </tr>\n    <tr>\n      <th>3</th>\n      <td>2021-01-27</td>\n      <td>2.367614</td>\n    </tr>\n    <tr>\n      <th>4</th>\n      <td>2021-01-26</td>\n      <td>2.544537</td>\n    </tr>\n  </tbody>\n</table>\n</div>"
     },
     "metadata": {},
     "execution_count": 99
    }
   ],
   "source": [
    "mvrv_btc_df = get_mvrv_data(\"btc\",\"20190101\",\"100\")\n",
    "mvrv_btc_df.head(5)"
   ]
  },
  {
   "cell_type": "code",
   "execution_count": 100,
   "metadata": {},
   "outputs": [],
   "source": [
    "def get_pearsons_coefficient(series1,series2):\n",
    "    ''' \n",
    "    Returns pearsons coefficient (int) between 2 dataframes columns.\n",
    "    Parameters: \n",
    "        series1 (object): First series to compare\n",
    "        series2 (object): Second series to compare\n",
    "    '''\n",
    "    #formula to calculate covariance\n",
    "    covariance = cov(series1,series2)\n",
    "    corr, _ = pearsonr(series1,series2)\n",
    "    \n",
    "    return corr"
   ]
  },
  {
   "cell_type": "code",
   "execution_count": 101,
   "metadata": {},
   "outputs": [],
   "source": [
    "def netflow_price_plot():\n",
    "    fig3 = make_subplots(specs=[[{'secondary_y':True}]])\n",
    "\n",
    "    fig3.add_trace(\n",
    "        go.Scatter(mode = 'lines',x=netflow_btc_df['date'],y=netflow_btc_df['netflow_total'], name = 'All Exchange Netflow'),\n",
    "        secondary_y=False \n",
    "    )\n",
    "\n",
    "    fig3.add_trace(\n",
    "        go.Scatter(mode = 'lines',x=price_btc_df['date'], y =price_btc_df['price_usd_close'], name = 'BTC Price'),\n",
    "        secondary_y=True \n",
    "    )\n",
    "\n",
    "    fig3.update_layout(\n",
    "        height = 600,width = 1500,\n",
    "        title_text = 'BTC Price & Netflow Data'\n",
    "    )\n",
    "\n",
    "    fig3.update_xaxes(title_text = 'Date')\n",
    "\n",
    "    fig3.update_yaxes(title_text='Exchange Netflow', secondary_y= False)\n",
    "    fig3.update_yaxes(title_text='BTC Market Price', secondary_y= True)\n",
    "\n",
    "\n",
    "\n",
    "    #return fig3.show()\n",
    "    return pn.panel(fig3)"
   ]
  },
  {
   "cell_type": "code",
   "execution_count": 102,
   "metadata": {},
   "outputs": [],
   "source": [
    "def mvrv_price_plot():\n",
    "    fig3 = make_subplots(specs=[[{'secondary_y':True}]])\n",
    "\n",
    "#fig3=go.Figure()\n",
    "\n",
    "    fig3.add_trace(\n",
    "        go.Scatter(mode = 'lines',x=mvrv_btc_df['date'],y=mvrv_btc_df['mvrv_score'], name = 'MVRV Ratio'),\n",
    "        secondary_y=False \n",
    "    )\n",
    "\n",
    "    fig3.add_trace(\n",
    "        go.Scatter(mode = 'lines',x=price_btc_df['date'], y =price_btc_df['price_usd_close'], name = 'BTC Price'),\n",
    "        secondary_y=True \n",
    "    )\n",
    "\n",
    "    fig3.update_layout(\n",
    "        height = 600,width = 1500,\n",
    "        title_text = 'BTC Price & MVRV Ratio'\n",
    "    )\n",
    "\n",
    "    fig3.update_xaxes(title_text = 'Date')\n",
    "\n",
    "    fig3.update_yaxes(title_text='MVRV Ratio', secondary_y= False)\n",
    "    fig3.update_yaxes(title_text='BTC Market Price', secondary_y= True)\n",
    "\n",
    "\n",
    "\n",
    "    #return fig3\n",
    "    return pn.panel(fig3)"
   ]
  },
  {
   "cell_type": "code",
   "execution_count": 103,
   "metadata": {},
   "outputs": [],
   "source": [
    "# Get Daily returns (shared for multiple plots)\n",
    "daily_returns = get_daily_returns(start_date, end_date, coin_api_key, alpaca_api_key, alpaca_secret_key) "
   ]
  },
  {
   "cell_type": "code",
   "execution_count": 104,
   "metadata": {},
   "outputs": [],
   "source": [
    "# Define tab layout\n",
    "dashboard = pn.Tabs(\n",
    "    ('Cumulative Returns', pn.Column(get_cumulative_returns_plot(daily_returns))),\n",
    "    ('Standard Deviation', pn.Column(get_std_dev_plot(daily_returns))),\n",
    "    ('MVRV Ratio',pn.Column(mvrv_price_plot())),\n",
    "    ('Netflow Ratio',pn.Column(netflow_price_plot())))"
   ]
  },
  {
   "cell_type": "code",
   "execution_count": 107,
   "metadata": {},
   "outputs": [
    {
     "output_type": "stream",
     "name": "stdout",
     "text": [
      "Current date range: 2020-10-01 - 2021-01-01\n"
     ]
    }
   ],
   "source": [
    "print(f'Current date range: {start_date} - {end_date}')"
   ]
  },
  {
   "cell_type": "code",
   "execution_count": 105,
   "metadata": {},
   "outputs": [
    {
     "output_type": "display_data",
     "data": {},
     "metadata": {}
    },
    {
     "output_type": "execute_result",
     "data": {
      "text/html": "<div id='1320'>\n\n\n\n\n\n  <div class=\"bk-root\" id=\"ffb1497e-50d0-4a66-a937-3d113b17d096\" data-root-id=\"1320\"></div>\n</div>\n<script type=\"application/javascript\">(function(root) {\n  function embed_document(root) {\n    var docs_json = {\"10b05cc9-7846-4ee5-979b-fff892078b41\":{\"roots\":{\"references\":[{\"attributes\":{},\"id\":\"1358\",\"type\":\"Selection\"},{\"attributes\":{\"children\":[{\"id\":\"1337\"}],\"margin\":[0,0,0,0],\"name\":\"Column01500\"},\"id\":\"1330\",\"type\":\"Column\"},{\"attributes\":{},\"id\":\"1373\",\"type\":\"UnionRenderers\"},{\"attributes\":{},\"id\":\"1359\",\"type\":\"UnionRenderers\"},{\"attributes\":{},\"id\":\"1374\",\"type\":\"Selection\"},{\"attributes\":{\"data\":{\"x\":[[\"2020-10-05\",\"2020-10-06\",\"2020-10-07\",\"2020-10-08\",\"2020-10-09\",\"2020-10-12\",\"2020-10-13\",\"2020-10-14\",\"2020-10-15\",\"2020-10-16\",\"2020-10-19\",\"2020-10-20\",\"2020-10-21\",\"2020-10-22\",\"2020-10-23\",\"2020-10-26\",\"2020-10-27\",\"2020-10-28\",\"2020-10-29\",\"2020-10-30\",\"2020-11-02\",\"2020-11-03\",\"2020-11-04\",\"2020-11-05\",\"2020-11-06\",\"2020-11-09\",\"2020-11-10\",\"2020-11-11\",\"2020-11-12\",\"2020-11-13\",\"2020-11-16\",\"2020-11-17\",\"2020-11-18\",\"2020-11-19\",\"2020-11-20\",\"2020-11-23\",\"2020-11-24\",\"2020-11-25\",\"2020-11-27\",\"2020-11-30\",\"2020-12-01\",\"2020-12-02\",\"2020-12-03\",\"2020-12-04\",\"2020-12-07\",\"2020-12-08\",\"2020-12-09\",\"2020-12-10\",\"2020-12-11\",\"2020-12-14\",\"2020-12-15\",\"2020-12-16\",\"2020-12-17\",\"2020-12-18\",\"2020-12-21\",\"2020-12-22\",\"2020-12-23\",\"2020-12-24\",\"2020-12-28\",\"2020-12-29\",\"2020-12-30\",\"2020-12-31\"]],\"y\":[{\"__ndarray__\":\"RUWwOQ5r8D/HEiKSkUvwP5bBpZwuK/A/eJeq9nVe8D9aoPxbvJrwP9fEOaMUJPE/U05nkmEv8T+RRfZdAvbwP8Zu439y7PA/zluIodjV8D8N/oUUihHxP3FDUT8cOPE/zluIodjV8D/ZyXElOg/zPy1UoNjGhPM/d6TiOOdj8z9swRr2KbzyPxxzGWmrFPM/njIXutBi8j9h3lKzbBTyP2QCSJKABfI/geB6bWx08T+AyCwuX37xP3O2Ee3juvE/K9zpVYoe8z82QEstx8jzP4jXqGDGOvM/ZWkyKP3N8j+21hXqwT/zP57Dr3AEtPM/erwUtRk/8z+9IPKmasj2PylaLTM7lPc/G4UzcMSs9j+HUjDwYzH5P1NqSbyv//c/Z5o0zSHJ+T/kHIGs+dT5P46p7f9GePY/Oq+60gZj+D8r+6TXLRD7PzsmhWydSvo/T1/5MH54+z+oZ8CNL4H7PwPgmu8fqPs/1aOtvqeU+z9MevJip1z5P2czAy8knPk/dA1STDO0+D9UE0cOWXz6P0sDgq6Lifo/f/gNGzw2+j8ht9ih2Pj9Pz1rybGNTABA3ok0xrkj/z9F4ruB0F38P1A3c8wVDP8/cAwfqH7M+z/nzLEQeG37P4cen6qi0/s/IOKKDbWc+z8OlFCLtOr7Pw==\",\"dtype\":\"float64\",\"order\":\"little\",\"shape\":[62]}]},\"selected\":{\"id\":\"1356\"},\"selection_policy\":{\"id\":\"1355\"}},\"id\":\"1325\",\"type\":\"ColumnDataSource\"},{\"attributes\":{},\"id\":\"1375\",\"type\":\"UnionRenderers\"},{\"attributes\":{\"_render_count\":0,\"config\":null,\"data\":[{\"mode\":\"lines\",\"name\":\"MVRV Ratio\",\"type\":\"scatter\",\"xaxis\":\"x\",\"yaxis\":\"y\"},{\"mode\":\"lines\",\"name\":\"BTC Price\",\"type\":\"scatter\",\"xaxis\":\"x\",\"yaxis\":\"y2\"}],\"data_sources\":[{\"id\":\"1340\"},{\"id\":\"1341\"}],\"layout\":{\"height\":600,\"template\":{\"data\":{\"bar\":[{\"error_x\":{\"color\":\"#2a3f5f\"},\"error_y\":{\"color\":\"#2a3f5f\"},\"marker\":{\"line\":{\"color\":\"#E5ECF6\",\"width\":0.5}},\"type\":\"bar\"}],\"barpolar\":[{\"marker\":{\"line\":{\"color\":\"#E5ECF6\",\"width\":0.5}},\"type\":\"barpolar\"}],\"carpet\":[{\"aaxis\":{\"endlinecolor\":\"#2a3f5f\",\"gridcolor\":\"white\",\"linecolor\":\"white\",\"minorgridcolor\":\"white\",\"startlinecolor\":\"#2a3f5f\"},\"baxis\":{\"endlinecolor\":\"#2a3f5f\",\"gridcolor\":\"white\",\"linecolor\":\"white\",\"minorgridcolor\":\"white\",\"startlinecolor\":\"#2a3f5f\"},\"type\":\"carpet\"}],\"choropleth\":[{\"colorbar\":{\"outlinewidth\":0,\"ticks\":\"\"},\"type\":\"choropleth\"}],\"contour\":[{\"colorbar\":{\"outlinewidth\":0,\"ticks\":\"\"},\"colorscale\":[[0.0,\"#0d0887\"],[0.1111111111111111,\"#46039f\"],[0.2222222222222222,\"#7201a8\"],[0.3333333333333333,\"#9c179e\"],[0.4444444444444444,\"#bd3786\"],[0.5555555555555556,\"#d8576b\"],[0.6666666666666666,\"#ed7953\"],[0.7777777777777778,\"#fb9f3a\"],[0.8888888888888888,\"#fdca26\"],[1.0,\"#f0f921\"]],\"type\":\"contour\"}],\"contourcarpet\":[{\"colorbar\":{\"outlinewidth\":0,\"ticks\":\"\"},\"type\":\"contourcarpet\"}],\"heatmap\":[{\"colorbar\":{\"outlinewidth\":0,\"ticks\":\"\"},\"colorscale\":[[0.0,\"#0d0887\"],[0.1111111111111111,\"#46039f\"],[0.2222222222222222,\"#7201a8\"],[0.3333333333333333,\"#9c179e\"],[0.4444444444444444,\"#bd3786\"],[0.5555555555555556,\"#d8576b\"],[0.6666666666666666,\"#ed7953\"],[0.7777777777777778,\"#fb9f3a\"],[0.8888888888888888,\"#fdca26\"],[1.0,\"#f0f921\"]],\"type\":\"heatmap\"}],\"heatmapgl\":[{\"colorbar\":{\"outlinewidth\":0,\"ticks\":\"\"},\"colorscale\":[[0.0,\"#0d0887\"],[0.1111111111111111,\"#46039f\"],[0.2222222222222222,\"#7201a8\"],[0.3333333333333333,\"#9c179e\"],[0.4444444444444444,\"#bd3786\"],[0.5555555555555556,\"#d8576b\"],[0.6666666666666666,\"#ed7953\"],[0.7777777777777778,\"#fb9f3a\"],[0.8888888888888888,\"#fdca26\"],[1.0,\"#f0f921\"]],\"type\":\"heatmapgl\"}],\"histogram\":[{\"marker\":{\"colorbar\":{\"outlinewidth\":0,\"ticks\":\"\"}},\"type\":\"histogram\"}],\"histogram2d\":[{\"colorbar\":{\"outlinewidth\":0,\"ticks\":\"\"},\"colorscale\":[[0.0,\"#0d0887\"],[0.1111111111111111,\"#46039f\"],[0.2222222222222222,\"#7201a8\"],[0.3333333333333333,\"#9c179e\"],[0.4444444444444444,\"#bd3786\"],[0.5555555555555556,\"#d8576b\"],[0.6666666666666666,\"#ed7953\"],[0.7777777777777778,\"#fb9f3a\"],[0.8888888888888888,\"#fdca26\"],[1.0,\"#f0f921\"]],\"type\":\"histogram2d\"}],\"histogram2dcontour\":[{\"colorbar\":{\"outlinewidth\":0,\"ticks\":\"\"},\"colorscale\":[[0.0,\"#0d0887\"],[0.1111111111111111,\"#46039f\"],[0.2222222222222222,\"#7201a8\"],[0.3333333333333333,\"#9c179e\"],[0.4444444444444444,\"#bd3786\"],[0.5555555555555556,\"#d8576b\"],[0.6666666666666666,\"#ed7953\"],[0.7777777777777778,\"#fb9f3a\"],[0.8888888888888888,\"#fdca26\"],[1.0,\"#f0f921\"]],\"type\":\"histogram2dcontour\"}],\"mesh3d\":[{\"colorbar\":{\"outlinewidth\":0,\"ticks\":\"\"},\"type\":\"mesh3d\"}],\"parcoords\":[{\"line\":{\"colorbar\":{\"outlinewidth\":0,\"ticks\":\"\"}},\"type\":\"parcoords\"}],\"pie\":[{\"automargin\":true,\"type\":\"pie\"}],\"scatter\":[{\"marker\":{\"colorbar\":{\"outlinewidth\":0,\"ticks\":\"\"}},\"type\":\"scatter\"}],\"scatter3d\":[{\"line\":{\"colorbar\":{\"outlinewidth\":0,\"ticks\":\"\"}},\"marker\":{\"colorbar\":{\"outlinewidth\":0,\"ticks\":\"\"}},\"type\":\"scatter3d\"}],\"scattercarpet\":[{\"marker\":{\"colorbar\":{\"outlinewidth\":0,\"ticks\":\"\"}},\"type\":\"scattercarpet\"}],\"scattergeo\":[{\"marker\":{\"colorbar\":{\"outlinewidth\":0,\"ticks\":\"\"}},\"type\":\"scattergeo\"}],\"scattergl\":[{\"marker\":{\"colorbar\":{\"outlinewidth\":0,\"ticks\":\"\"}},\"type\":\"scattergl\"}],\"scattermapbox\":[{\"marker\":{\"colorbar\":{\"outlinewidth\":0,\"ticks\":\"\"}},\"type\":\"scattermapbox\"}],\"scatterpolar\":[{\"marker\":{\"colorbar\":{\"outlinewidth\":0,\"ticks\":\"\"}},\"type\":\"scatterpolar\"}],\"scatterpolargl\":[{\"marker\":{\"colorbar\":{\"outlinewidth\":0,\"ticks\":\"\"}},\"type\":\"scatterpolargl\"}],\"scatterternary\":[{\"marker\":{\"colorbar\":{\"outlinewidth\":0,\"ticks\":\"\"}},\"type\":\"scatterternary\"}],\"surface\":[{\"colorbar\":{\"outlinewidth\":0,\"ticks\":\"\"},\"colorscale\":[[0.0,\"#0d0887\"],[0.1111111111111111,\"#46039f\"],[0.2222222222222222,\"#7201a8\"],[0.3333333333333333,\"#9c179e\"],[0.4444444444444444,\"#bd3786\"],[0.5555555555555556,\"#d8576b\"],[0.6666666666666666,\"#ed7953\"],[0.7777777777777778,\"#fb9f3a\"],[0.8888888888888888,\"#fdca26\"],[1.0,\"#f0f921\"]],\"type\":\"surface\"}],\"table\":[{\"cells\":{\"fill\":{\"color\":\"#EBF0F8\"},\"line\":{\"color\":\"white\"}},\"header\":{\"fill\":{\"color\":\"#C8D4E3\"},\"line\":{\"color\":\"white\"}},\"type\":\"table\"}]},\"layout\":{\"annotationdefaults\":{\"arrowcolor\":\"#2a3f5f\",\"arrowhead\":0,\"arrowwidth\":1},\"autotypenumbers\":\"strict\",\"coloraxis\":{\"colorbar\":{\"outlinewidth\":0,\"ticks\":\"\"}},\"colorscale\":{\"diverging\":[[0,\"#8e0152\"],[0.1,\"#c51b7d\"],[0.2,\"#de77ae\"],[0.3,\"#f1b6da\"],[0.4,\"#fde0ef\"],[0.5,\"#f7f7f7\"],[0.6,\"#e6f5d0\"],[0.7,\"#b8e186\"],[0.8,\"#7fbc41\"],[0.9,\"#4d9221\"],[1,\"#276419\"]],\"sequential\":[[0.0,\"#0d0887\"],[0.1111111111111111,\"#46039f\"],[0.2222222222222222,\"#7201a8\"],[0.3333333333333333,\"#9c179e\"],[0.4444444444444444,\"#bd3786\"],[0.5555555555555556,\"#d8576b\"],[0.6666666666666666,\"#ed7953\"],[0.7777777777777778,\"#fb9f3a\"],[0.8888888888888888,\"#fdca26\"],[1.0,\"#f0f921\"]],\"sequentialminus\":[[0.0,\"#0d0887\"],[0.1111111111111111,\"#46039f\"],[0.2222222222222222,\"#7201a8\"],[0.3333333333333333,\"#9c179e\"],[0.4444444444444444,\"#bd3786\"],[0.5555555555555556,\"#d8576b\"],[0.6666666666666666,\"#ed7953\"],[0.7777777777777778,\"#fb9f3a\"],[0.8888888888888888,\"#fdca26\"],[1.0,\"#f0f921\"]]},\"colorway\":[\"#636efa\",\"#EF553B\",\"#00cc96\",\"#ab63fa\",\"#FFA15A\",\"#19d3f3\",\"#FF6692\",\"#B6E880\",\"#FF97FF\",\"#FECB52\"],\"font\":{\"color\":\"#2a3f5f\"},\"geo\":{\"bgcolor\":\"white\",\"lakecolor\":\"white\",\"landcolor\":\"#E5ECF6\",\"showlakes\":true,\"showland\":true,\"subunitcolor\":\"white\"},\"hoverlabel\":{\"align\":\"left\"},\"hovermode\":\"closest\",\"mapbox\":{\"style\":\"light\"},\"paper_bgcolor\":\"white\",\"plot_bgcolor\":\"#E5ECF6\",\"polar\":{\"angularaxis\":{\"gridcolor\":\"white\",\"linecolor\":\"white\",\"ticks\":\"\"},\"bgcolor\":\"#E5ECF6\",\"radialaxis\":{\"gridcolor\":\"white\",\"linecolor\":\"white\",\"ticks\":\"\"}},\"scene\":{\"xaxis\":{\"backgroundcolor\":\"#E5ECF6\",\"gridcolor\":\"white\",\"gridwidth\":2,\"linecolor\":\"white\",\"showbackground\":true,\"ticks\":\"\",\"zerolinecolor\":\"white\"},\"yaxis\":{\"backgroundcolor\":\"#E5ECF6\",\"gridcolor\":\"white\",\"gridwidth\":2,\"linecolor\":\"white\",\"showbackground\":true,\"ticks\":\"\",\"zerolinecolor\":\"white\"},\"zaxis\":{\"backgroundcolor\":\"#E5ECF6\",\"gridcolor\":\"white\",\"gridwidth\":2,\"linecolor\":\"white\",\"showbackground\":true,\"ticks\":\"\",\"zerolinecolor\":\"white\"}},\"shapedefaults\":{\"line\":{\"color\":\"#2a3f5f\"}},\"ternary\":{\"aaxis\":{\"gridcolor\":\"white\",\"linecolor\":\"white\",\"ticks\":\"\"},\"baxis\":{\"gridcolor\":\"white\",\"linecolor\":\"white\",\"ticks\":\"\"},\"bgcolor\":\"#E5ECF6\",\"caxis\":{\"gridcolor\":\"white\",\"linecolor\":\"white\",\"ticks\":\"\"}},\"title\":{\"x\":0.05},\"xaxis\":{\"automargin\":true,\"gridcolor\":\"white\",\"linecolor\":\"white\",\"ticks\":\"\",\"title\":{\"standoff\":15},\"zerolinecolor\":\"white\",\"zerolinewidth\":2},\"yaxis\":{\"automargin\":true,\"gridcolor\":\"white\",\"linecolor\":\"white\",\"ticks\":\"\",\"title\":{\"standoff\":15},\"zerolinecolor\":\"white\",\"zerolinewidth\":2}}},\"title\":{\"text\":\"BTC Price & MVRV Ratio\"},\"width\":1500,\"xaxis\":{\"anchor\":\"y\",\"domain\":[0.0,0.94],\"title\":{\"text\":\"Date\"}},\"yaxis\":{\"anchor\":\"x\",\"domain\":[0.0,1.0],\"title\":{\"text\":\"MVRV Ratio\"}},\"yaxis2\":{\"anchor\":\"x\",\"overlaying\":\"y\",\"side\":\"right\",\"title\":{\"text\":\"BTC Market Price\"}}},\"margin\":[5,5,5,5],\"name\":\"Plotly01501\",\"viewport_update_throttle\":200},\"id\":\"1342\",\"type\":\"panel.models.plotly.PlotlyPlot\"},{\"attributes\":{},\"id\":\"1360\",\"type\":\"Selection\"},{\"attributes\":{\"child\":{\"id\":\"1321\"},\"name\":\"Column01497\",\"title\":\"Cumulative Returns\"},\"id\":\"1329\",\"type\":\"Panel\"},{\"attributes\":{},\"id\":\"1376\",\"type\":\"Selection\"},{\"attributes\":{},\"id\":\"1361\",\"type\":\"UnionRenderers\"},{\"attributes\":{\"data\":{\"x\":[[\"2020-11-02\",\"2020-11-03\",\"2020-11-04\",\"2020-11-05\",\"2020-11-06\",\"2020-11-09\",\"2020-11-10\",\"2020-11-11\",\"2020-11-12\",\"2020-11-13\",\"2020-11-16\",\"2020-11-17\",\"2020-11-18\",\"2020-11-19\",\"2020-11-20\",\"2020-11-23\",\"2020-11-24\",\"2020-11-25\",\"2020-11-27\",\"2020-11-30\",\"2020-12-01\",\"2020-12-02\",\"2020-12-03\",\"2020-12-04\",\"2020-12-07\",\"2020-12-08\",\"2020-12-09\",\"2020-12-10\",\"2020-12-11\",\"2020-12-14\",\"2020-12-15\",\"2020-12-16\",\"2020-12-17\",\"2020-12-18\",\"2020-12-21\",\"2020-12-22\",\"2020-12-23\",\"2020-12-24\",\"2020-12-28\",\"2020-12-29\",\"2020-12-30\",\"2020-12-31\"]],\"y\":[{\"__ndarray__\":\"3O4tbIjoij+scLeup+SKP7Df06sT74s/78zCje44jD/cePzIBAOMPz2Z++JUQYw/ABXMz6hgiz9Ax8CIh1mLP3zzCRbRjos/BxRDPr3wiz9tjlRWRX+MPz1XvIhej4s/hNnObTpRjD83r+roJEeMP1mYRmqBf4w/fY4zRfGOjD92GYjqw52LP6zvaOO1h4s/fgVrLF4lhT9+s1Zex2+FPwapoO3naoQ/S0DAz05IhD96rViSWouDPyFixN5BvoE/4sEpHs82gD9mD6UFISuAP7m5axxvRYA/KdPhiBg+gD+YBtd9RxSAP157+7wOF38/8fW060m3fz8zQrpnE2t9P51IaeiUIX0/l8f5IOrQez8ZWBnwEA98P1DLjOBiNHs/7+GX1oDkej/m5QP5UU13P3ay7WRrMXg/MYRP12hLeD9GrvOc0rl3Pw56R+/vQ3Y/\",\"dtype\":\"float64\",\"order\":\"little\",\"shape\":[42]}]},\"selected\":{\"id\":\"1370\"},\"selection_policy\":{\"id\":\"1369\"}},\"id\":\"1335\",\"type\":\"ColumnDataSource\"},{\"attributes\":{\"data\":{\"x\":[[\"2021-01-30 00:00:00\",\"2021-01-29 00:00:00\",\"2021-01-28 00:00:00\",\"2021-01-27 00:00:00\",\"2021-01-26 00:00:00\",\"2021-01-25 00:00:00\",\"2021-01-24 00:00:00\",\"2021-01-23 00:00:00\",\"2021-01-22 00:00:00\",\"2021-01-21 00:00:00\",\"2021-01-20 00:00:00\",\"2021-01-19 00:00:00\",\"2021-01-18 00:00:00\",\"2021-01-17 00:00:00\",\"2021-01-16 00:00:00\",\"2021-01-15 00:00:00\",\"2021-01-14 00:00:00\",\"2021-01-13 00:00:00\",\"2021-01-12 00:00:00\",\"2021-01-11 00:00:00\",\"2021-01-10 00:00:00\",\"2021-01-09 00:00:00\",\"2021-01-08 00:00:00\",\"2021-01-07 00:00:00\",\"2021-01-06 00:00:00\",\"2021-01-05 00:00:00\",\"2021-01-04 00:00:00\",\"2021-01-03 00:00:00\",\"2021-01-02 00:00:00\",\"2021-01-01 00:00:00\",\"2020-12-31 00:00:00\",\"2020-12-30 00:00:00\",\"2020-12-29 00:00:00\",\"2020-12-28 00:00:00\",\"2020-12-27 00:00:00\",\"2020-12-26 00:00:00\",\"2020-12-25 00:00:00\",\"2020-12-24 00:00:00\",\"2020-12-23 00:00:00\",\"2020-12-22 00:00:00\",\"2020-12-21 00:00:00\",\"2020-12-20 00:00:00\",\"2020-12-19 00:00:00\",\"2020-12-18 00:00:00\",\"2020-12-17 00:00:00\",\"2020-12-16 00:00:00\",\"2020-12-15 00:00:00\",\"2020-12-14 00:00:00\",\"2020-12-13 00:00:00\",\"2020-12-12 00:00:00\",\"2020-12-11 00:00:00\",\"2020-12-10 00:00:00\",\"2020-12-09 00:00:00\",\"2020-12-08 00:00:00\",\"2020-12-07 00:00:00\",\"2020-12-06 00:00:00\",\"2020-12-05 00:00:00\",\"2020-12-04 00:00:00\",\"2020-12-03 00:00:00\",\"2020-12-02 00:00:00\",\"2020-12-01 00:00:00\",\"2020-11-30 00:00:00\",\"2020-11-29 00:00:00\",\"2020-11-28 00:00:00\",\"2020-11-27 00:00:00\",\"2020-11-26 00:00:00\",\"2020-11-25 00:00:00\",\"2020-11-24 00:00:00\",\"2020-11-23 00:00:00\",\"2020-11-22 00:00:00\",\"2020-11-21 00:00:00\",\"2020-11-20 00:00:00\",\"2020-11-19 00:00:00\",\"2020-11-18 00:00:00\",\"2020-11-17 00:00:00\",\"2020-11-16 00:00:00\",\"2020-11-15 00:00:00\",\"2020-11-14 00:00:00\",\"2020-11-13 00:00:00\",\"2020-11-12 00:00:00\",\"2020-11-11 00:00:00\",\"2020-11-10 00:00:00\",\"2020-11-09 00:00:00\",\"2020-11-08 00:00:00\",\"2020-11-07 00:00:00\",\"2020-11-06 00:00:00\",\"2020-11-05 00:00:00\",\"2020-11-04 00:00:00\",\"2020-11-03 00:00:00\",\"2020-11-02 00:00:00\",\"2020-11-01 00:00:00\",\"2020-10-31 00:00:00\",\"2020-10-30 00:00:00\",\"2020-10-29 00:00:00\",\"2020-10-28 00:00:00\",\"2020-10-27 00:00:00\",\"2020-10-26 00:00:00\",\"2020-10-25 00:00:00\",\"2020-10-24 00:00:00\",\"2020-10-23 00:00:00\"]],\"y\":[{\"__ndarray__\":\"cVexVLEPBUCB48mMYBUFQAtkwOfzugRAbG6HvN/wAkDxcjBcNlsEQG8+ccILOQRA5WO7W21HBEAnvDRIJy0EQEsFEThSwgRAggrM7/ZvA0D87QEnbF4GQLMyQmIuqgZAMKvX/cE9B0DvWscXX9gGQJo1ZOH9/wZAVwWSdiKSB0BXIKa9zTwJQG90wJH6VQhAsnWCHLhEBkCPCzAzHlMHQGns25BPPwlA7VDdmNfCCkCocR7mw34LQAVm5LbwWgtAEZu5KkQzCkC/JWkVOpIIQHTJEACCcgdAlVj4nM+ECEDeNTuI8EYIQHS2G9J9egZAaMPtj4BgBkBI4jqJW34GQDPpVPgNhwVAeJ74JTKPBUDcXqz93lsFQGzNEyERwgVAjqEO6xBpBED96Q+XbacDQPTzc0bNYgNA0kNuMFsOBEAkT9etjlEDQGLlRD9KBwRA6OKfQ9xyBEDMBS6mHe0DQAvqH0K28QNA9P8tRfXvAkCpK+4w51wBQAEgIN5TRgFAQO4oQ1A3AUDGfEG2ngMBQDvQTstFWgBAlx/+7zmSAEChQ4wc4eMAQP01LzmGtABA5uWu12mKAUDeq8/efcMBQDngGOBbkwFA3SNhk4YjAUCm7m2hPuYBQLBvoifXwwFAsHiinSduAUBfT94hr14CQO5A0ftxEAFAYu8tPNKaAECDd13BFyIAQPIoMVRYRgBAqKkB/DG5AUDT8hX/zCgCQAUejhRBiQFAMJguhResAUD+lKyExO0BQAgdDkZv7gFA3wHyHvpNAUCumUZ4P0YBQHyY7CbgTwFADxUaKsB+AECZrVYFQIz/P2HDVf4d2v8/XRW01nwyAEDSIC78PDgAQNvcEoT2Vv8/k399Qr+5/j8ToARJcdT+PzxmhkGrN/8/dAAWdz/1/T9+Pwu5cYv/P2Elem/Iu/8/THS0Ntb7/D/0C6OXks38P6LrAzg2Kfw/MgD1X/ir/D/VRmAS7az8P2Xv5RIeWfw/hD9Xh/Ao/D9jOYSAEdb7PyCa+EdQpvw/lMaX7Gt/+z+hvBrw6nr7P2o725Pkq/s/gSFq4OJY+z8=\",\"dtype\":\"float64\",\"order\":\"little\",\"shape\":[100]}]},\"selected\":{\"id\":\"1374\"},\"selection_policy\":{\"id\":\"1373\"}},\"id\":\"1340\",\"type\":\"ColumnDataSource\"},{\"attributes\":{},\"id\":\"1377\",\"type\":\"UnionRenderers\"},{\"attributes\":{\"data\":{\"x\":[[\"2020-10-05\",\"2020-10-06\",\"2020-10-07\",\"2020-10-08\",\"2020-10-09\",\"2020-10-12\",\"2020-10-13\",\"2020-10-14\",\"2020-10-15\",\"2020-10-16\",\"2020-10-19\",\"2020-10-20\",\"2020-10-21\",\"2020-10-22\",\"2020-10-23\",\"2020-10-26\",\"2020-10-27\",\"2020-10-28\",\"2020-10-29\",\"2020-10-30\",\"2020-11-02\",\"2020-11-03\",\"2020-11-04\",\"2020-11-05\",\"2020-11-06\",\"2020-11-09\",\"2020-11-10\",\"2020-11-11\",\"2020-11-12\",\"2020-11-13\",\"2020-11-16\",\"2020-11-17\",\"2020-11-18\",\"2020-11-19\",\"2020-11-20\",\"2020-11-23\",\"2020-11-24\",\"2020-11-25\",\"2020-11-27\",\"2020-11-30\",\"2020-12-01\",\"2020-12-02\",\"2020-12-03\",\"2020-12-04\",\"2020-12-07\",\"2020-12-08\",\"2020-12-09\",\"2020-12-10\",\"2020-12-11\",\"2020-12-14\",\"2020-12-15\",\"2020-12-16\",\"2020-12-17\",\"2020-12-18\",\"2020-12-21\",\"2020-12-22\",\"2020-12-23\",\"2020-12-24\",\"2020-12-28\",\"2020-12-29\",\"2020-12-30\",\"2020-12-31\"]],\"y\":[{\"__ndarray__\":\"RiXJVeRH8D/bEL6EIA3wPybOsQEpVPA/xMhrBfd48D+jHXWCHp/wP44fB92y4/A/4i3gIbrH8D/nGep3+6zwP723b8JWp/A/9BBXLyak8D+Ckw55/GPwP5TOxigudPA/nS0JuTRs8D/ykyOgAYTwPzaQmJXekfA/W9EIBgdE8D8ZISkkvDXwPwhNg1RWT+8/qmaWY8yg7z8arS3x5kvvP7DP00gypu8/bi8CacMZ8D9kWZ/2FHbwP0kZl5J2yPA/JiBawjfI8D+Lyyeulf3wP9DsjpDR9/A/1wHtRhoX8T/ieyZvIO7wPziOYSfQH/E/RbgdlGFe8T94nszGa0jxPxPz/toNE/E/rXqApBYl8T8Lua43ZgfxPy9eDNmHIfE/frMqfbRn8T/HbLyGFGHxP6YVpTJZbfE/z8v+FhtZ8T+Y+UWOz4nxPxO2R1+Ak/E/g6DOZWWS8T8ezT2MKrnxP71Ayat0sPE/cSfFpza98T/qvTr5GJXxP0B4NA8Dk/E/OQ/3KZ2N8T8/zBM+IHnxP1QmJfn5tfE/v+LuJ/i88T94nJVYXdbxP0295xOUsPE/DlmdRduh8T+tzChlJZnxP07i2QDznPE/5TjWEdyu8T99NMB/gdXxP/QW5KdozfE/i/w/9e3S8T+9aR0MfOrxPw==\",\"dtype\":\"float64\",\"order\":\"little\",\"shape\":[62]}]},\"selected\":{\"id\":\"1358\"},\"selection_policy\":{\"id\":\"1357\"}},\"id\":\"1326\",\"type\":\"ColumnDataSource\"},{\"attributes\":{},\"id\":\"1362\",\"type\":\"Selection\"},{\"attributes\":{\"data\":{\"x\":[[\"2020-11-02\",\"2020-11-03\",\"2020-11-04\",\"2020-11-05\",\"2020-11-06\",\"2020-11-09\",\"2020-11-10\",\"2020-11-11\",\"2020-11-12\",\"2020-11-13\",\"2020-11-16\",\"2020-11-17\",\"2020-11-18\",\"2020-11-19\",\"2020-11-20\",\"2020-11-23\",\"2020-11-24\",\"2020-11-25\",\"2020-11-27\",\"2020-11-30\",\"2020-12-01\",\"2020-12-02\",\"2020-12-03\",\"2020-12-04\",\"2020-12-07\",\"2020-12-08\",\"2020-12-09\",\"2020-12-10\",\"2020-12-11\",\"2020-12-14\",\"2020-12-15\",\"2020-12-16\",\"2020-12-17\",\"2020-12-18\",\"2020-12-21\",\"2020-12-22\",\"2020-12-23\",\"2020-12-24\",\"2020-12-28\",\"2020-12-29\",\"2020-12-30\",\"2020-12-31\"]],\"y\":[{\"__ndarray__\":\"2t7yuIYZgT+DaEhtICiBPwqrqmB+PYA/qIMLMjgZgz8/jTwN7hGDP4x1co4blIo/cbUetQapij9L6OPhF9OJP7M3Oi3q8ok/Wwj90rgQij/wR83XJAaKP8fWfEn8EIo/YA9vS6MJij8ZQBIGybaJPxlvTc8md4k/ULEToe7bij9bm3IOPomLP4ISqsUNcYs/z28vFk3tij8eakQRiPuKPyCiORxM0ow/BSfnoNKqjD/jem1qWsiMP3vz5rrQyIw/h046m8+Eiz9FFOBkhpeLP11WfDZOrIQ/qV6f19+VhD+NqZh6koyEPwZO24a/a4Q/gxaNoS5ShT8iX3hpoH6FP+SEspyo/4U/nj+hCazbhT8GKZz7++GFPyvAMmFiG4Y/GbBvx40/hD8eKaERjMOCP8i2BZCK4II/TwojzbQEgj8/p1QQ4qmBP8xH0kZdDn8/\",\"dtype\":\"float64\",\"order\":\"little\",\"shape\":[42]}]},\"selected\":{\"id\":\"1372\"},\"selection_policy\":{\"id\":\"1371\"}},\"id\":\"1336\",\"type\":\"ColumnDataSource\"},{\"attributes\":{},\"id\":\"1378\",\"type\":\"Selection\"},{\"attributes\":{\"_render_count\":0,\"config\":null,\"data\":[{\"mode\":\"lines\",\"name\":\"All Exchange Netflow\",\"type\":\"scatter\",\"xaxis\":\"x\",\"yaxis\":\"y\"},{\"mode\":\"lines\",\"name\":\"BTC Price\",\"type\":\"scatter\",\"xaxis\":\"x\",\"yaxis\":\"y2\"}],\"data_sources\":[{\"id\":\"1345\"},{\"id\":\"1346\"}],\"layout\":{\"height\":600,\"template\":{\"data\":{\"bar\":[{\"error_x\":{\"color\":\"#2a3f5f\"},\"error_y\":{\"color\":\"#2a3f5f\"},\"marker\":{\"line\":{\"color\":\"#E5ECF6\",\"width\":0.5}},\"type\":\"bar\"}],\"barpolar\":[{\"marker\":{\"line\":{\"color\":\"#E5ECF6\",\"width\":0.5}},\"type\":\"barpolar\"}],\"carpet\":[{\"aaxis\":{\"endlinecolor\":\"#2a3f5f\",\"gridcolor\":\"white\",\"linecolor\":\"white\",\"minorgridcolor\":\"white\",\"startlinecolor\":\"#2a3f5f\"},\"baxis\":{\"endlinecolor\":\"#2a3f5f\",\"gridcolor\":\"white\",\"linecolor\":\"white\",\"minorgridcolor\":\"white\",\"startlinecolor\":\"#2a3f5f\"},\"type\":\"carpet\"}],\"choropleth\":[{\"colorbar\":{\"outlinewidth\":0,\"ticks\":\"\"},\"type\":\"choropleth\"}],\"contour\":[{\"colorbar\":{\"outlinewidth\":0,\"ticks\":\"\"},\"colorscale\":[[0.0,\"#0d0887\"],[0.1111111111111111,\"#46039f\"],[0.2222222222222222,\"#7201a8\"],[0.3333333333333333,\"#9c179e\"],[0.4444444444444444,\"#bd3786\"],[0.5555555555555556,\"#d8576b\"],[0.6666666666666666,\"#ed7953\"],[0.7777777777777778,\"#fb9f3a\"],[0.8888888888888888,\"#fdca26\"],[1.0,\"#f0f921\"]],\"type\":\"contour\"}],\"contourcarpet\":[{\"colorbar\":{\"outlinewidth\":0,\"ticks\":\"\"},\"type\":\"contourcarpet\"}],\"heatmap\":[{\"colorbar\":{\"outlinewidth\":0,\"ticks\":\"\"},\"colorscale\":[[0.0,\"#0d0887\"],[0.1111111111111111,\"#46039f\"],[0.2222222222222222,\"#7201a8\"],[0.3333333333333333,\"#9c179e\"],[0.4444444444444444,\"#bd3786\"],[0.5555555555555556,\"#d8576b\"],[0.6666666666666666,\"#ed7953\"],[0.7777777777777778,\"#fb9f3a\"],[0.8888888888888888,\"#fdca26\"],[1.0,\"#f0f921\"]],\"type\":\"heatmap\"}],\"heatmapgl\":[{\"colorbar\":{\"outlinewidth\":0,\"ticks\":\"\"},\"colorscale\":[[0.0,\"#0d0887\"],[0.1111111111111111,\"#46039f\"],[0.2222222222222222,\"#7201a8\"],[0.3333333333333333,\"#9c179e\"],[0.4444444444444444,\"#bd3786\"],[0.5555555555555556,\"#d8576b\"],[0.6666666666666666,\"#ed7953\"],[0.7777777777777778,\"#fb9f3a\"],[0.8888888888888888,\"#fdca26\"],[1.0,\"#f0f921\"]],\"type\":\"heatmapgl\"}],\"histogram\":[{\"marker\":{\"colorbar\":{\"outlinewidth\":0,\"ticks\":\"\"}},\"type\":\"histogram\"}],\"histogram2d\":[{\"colorbar\":{\"outlinewidth\":0,\"ticks\":\"\"},\"colorscale\":[[0.0,\"#0d0887\"],[0.1111111111111111,\"#46039f\"],[0.2222222222222222,\"#7201a8\"],[0.3333333333333333,\"#9c179e\"],[0.4444444444444444,\"#bd3786\"],[0.5555555555555556,\"#d8576b\"],[0.6666666666666666,\"#ed7953\"],[0.7777777777777778,\"#fb9f3a\"],[0.8888888888888888,\"#fdca26\"],[1.0,\"#f0f921\"]],\"type\":\"histogram2d\"}],\"histogram2dcontour\":[{\"colorbar\":{\"outlinewidth\":0,\"ticks\":\"\"},\"colorscale\":[[0.0,\"#0d0887\"],[0.1111111111111111,\"#46039f\"],[0.2222222222222222,\"#7201a8\"],[0.3333333333333333,\"#9c179e\"],[0.4444444444444444,\"#bd3786\"],[0.5555555555555556,\"#d8576b\"],[0.6666666666666666,\"#ed7953\"],[0.7777777777777778,\"#fb9f3a\"],[0.8888888888888888,\"#fdca26\"],[1.0,\"#f0f921\"]],\"type\":\"histogram2dcontour\"}],\"mesh3d\":[{\"colorbar\":{\"outlinewidth\":0,\"ticks\":\"\"},\"type\":\"mesh3d\"}],\"parcoords\":[{\"line\":{\"colorbar\":{\"outlinewidth\":0,\"ticks\":\"\"}},\"type\":\"parcoords\"}],\"pie\":[{\"automargin\":true,\"type\":\"pie\"}],\"scatter\":[{\"marker\":{\"colorbar\":{\"outlinewidth\":0,\"ticks\":\"\"}},\"type\":\"scatter\"}],\"scatter3d\":[{\"line\":{\"colorbar\":{\"outlinewidth\":0,\"ticks\":\"\"}},\"marker\":{\"colorbar\":{\"outlinewidth\":0,\"ticks\":\"\"}},\"type\":\"scatter3d\"}],\"scattercarpet\":[{\"marker\":{\"colorbar\":{\"outlinewidth\":0,\"ticks\":\"\"}},\"type\":\"scattercarpet\"}],\"scattergeo\":[{\"marker\":{\"colorbar\":{\"outlinewidth\":0,\"ticks\":\"\"}},\"type\":\"scattergeo\"}],\"scattergl\":[{\"marker\":{\"colorbar\":{\"outlinewidth\":0,\"ticks\":\"\"}},\"type\":\"scattergl\"}],\"scattermapbox\":[{\"marker\":{\"colorbar\":{\"outlinewidth\":0,\"ticks\":\"\"}},\"type\":\"scattermapbox\"}],\"scatterpolar\":[{\"marker\":{\"colorbar\":{\"outlinewidth\":0,\"ticks\":\"\"}},\"type\":\"scatterpolar\"}],\"scatterpolargl\":[{\"marker\":{\"colorbar\":{\"outlinewidth\":0,\"ticks\":\"\"}},\"type\":\"scatterpolargl\"}],\"scatterternary\":[{\"marker\":{\"colorbar\":{\"outlinewidth\":0,\"ticks\":\"\"}},\"type\":\"scatterternary\"}],\"surface\":[{\"colorbar\":{\"outlinewidth\":0,\"ticks\":\"\"},\"colorscale\":[[0.0,\"#0d0887\"],[0.1111111111111111,\"#46039f\"],[0.2222222222222222,\"#7201a8\"],[0.3333333333333333,\"#9c179e\"],[0.4444444444444444,\"#bd3786\"],[0.5555555555555556,\"#d8576b\"],[0.6666666666666666,\"#ed7953\"],[0.7777777777777778,\"#fb9f3a\"],[0.8888888888888888,\"#fdca26\"],[1.0,\"#f0f921\"]],\"type\":\"surface\"}],\"table\":[{\"cells\":{\"fill\":{\"color\":\"#EBF0F8\"},\"line\":{\"color\":\"white\"}},\"header\":{\"fill\":{\"color\":\"#C8D4E3\"},\"line\":{\"color\":\"white\"}},\"type\":\"table\"}]},\"layout\":{\"annotationdefaults\":{\"arrowcolor\":\"#2a3f5f\",\"arrowhead\":0,\"arrowwidth\":1},\"autotypenumbers\":\"strict\",\"coloraxis\":{\"colorbar\":{\"outlinewidth\":0,\"ticks\":\"\"}},\"colorscale\":{\"diverging\":[[0,\"#8e0152\"],[0.1,\"#c51b7d\"],[0.2,\"#de77ae\"],[0.3,\"#f1b6da\"],[0.4,\"#fde0ef\"],[0.5,\"#f7f7f7\"],[0.6,\"#e6f5d0\"],[0.7,\"#b8e186\"],[0.8,\"#7fbc41\"],[0.9,\"#4d9221\"],[1,\"#276419\"]],\"sequential\":[[0.0,\"#0d0887\"],[0.1111111111111111,\"#46039f\"],[0.2222222222222222,\"#7201a8\"],[0.3333333333333333,\"#9c179e\"],[0.4444444444444444,\"#bd3786\"],[0.5555555555555556,\"#d8576b\"],[0.6666666666666666,\"#ed7953\"],[0.7777777777777778,\"#fb9f3a\"],[0.8888888888888888,\"#fdca26\"],[1.0,\"#f0f921\"]],\"sequentialminus\":[[0.0,\"#0d0887\"],[0.1111111111111111,\"#46039f\"],[0.2222222222222222,\"#7201a8\"],[0.3333333333333333,\"#9c179e\"],[0.4444444444444444,\"#bd3786\"],[0.5555555555555556,\"#d8576b\"],[0.6666666666666666,\"#ed7953\"],[0.7777777777777778,\"#fb9f3a\"],[0.8888888888888888,\"#fdca26\"],[1.0,\"#f0f921\"]]},\"colorway\":[\"#636efa\",\"#EF553B\",\"#00cc96\",\"#ab63fa\",\"#FFA15A\",\"#19d3f3\",\"#FF6692\",\"#B6E880\",\"#FF97FF\",\"#FECB52\"],\"font\":{\"color\":\"#2a3f5f\"},\"geo\":{\"bgcolor\":\"white\",\"lakecolor\":\"white\",\"landcolor\":\"#E5ECF6\",\"showlakes\":true,\"showland\":true,\"subunitcolor\":\"white\"},\"hoverlabel\":{\"align\":\"left\"},\"hovermode\":\"closest\",\"mapbox\":{\"style\":\"light\"},\"paper_bgcolor\":\"white\",\"plot_bgcolor\":\"#E5ECF6\",\"polar\":{\"angularaxis\":{\"gridcolor\":\"white\",\"linecolor\":\"white\",\"ticks\":\"\"},\"bgcolor\":\"#E5ECF6\",\"radialaxis\":{\"gridcolor\":\"white\",\"linecolor\":\"white\",\"ticks\":\"\"}},\"scene\":{\"xaxis\":{\"backgroundcolor\":\"#E5ECF6\",\"gridcolor\":\"white\",\"gridwidth\":2,\"linecolor\":\"white\",\"showbackground\":true,\"ticks\":\"\",\"zerolinecolor\":\"white\"},\"yaxis\":{\"backgroundcolor\":\"#E5ECF6\",\"gridcolor\":\"white\",\"gridwidth\":2,\"linecolor\":\"white\",\"showbackground\":true,\"ticks\":\"\",\"zerolinecolor\":\"white\"},\"zaxis\":{\"backgroundcolor\":\"#E5ECF6\",\"gridcolor\":\"white\",\"gridwidth\":2,\"linecolor\":\"white\",\"showbackground\":true,\"ticks\":\"\",\"zerolinecolor\":\"white\"}},\"shapedefaults\":{\"line\":{\"color\":\"#2a3f5f\"}},\"ternary\":{\"aaxis\":{\"gridcolor\":\"white\",\"linecolor\":\"white\",\"ticks\":\"\"},\"baxis\":{\"gridcolor\":\"white\",\"linecolor\":\"white\",\"ticks\":\"\"},\"bgcolor\":\"#E5ECF6\",\"caxis\":{\"gridcolor\":\"white\",\"linecolor\":\"white\",\"ticks\":\"\"}},\"title\":{\"x\":0.05},\"xaxis\":{\"automargin\":true,\"gridcolor\":\"white\",\"linecolor\":\"white\",\"ticks\":\"\",\"title\":{\"standoff\":15},\"zerolinecolor\":\"white\",\"zerolinewidth\":2},\"yaxis\":{\"automargin\":true,\"gridcolor\":\"white\",\"linecolor\":\"white\",\"ticks\":\"\",\"title\":{\"standoff\":15},\"zerolinecolor\":\"white\",\"zerolinewidth\":2}}},\"title\":{\"text\":\"BTC Price & Netflow Data\"},\"width\":1500,\"xaxis\":{\"anchor\":\"y\",\"domain\":[0.0,0.94],\"title\":{\"text\":\"Date\"}},\"yaxis\":{\"anchor\":\"x\",\"domain\":[0.0,1.0],\"title\":{\"text\":\"Exchange Netflow\"}},\"yaxis2\":{\"anchor\":\"x\",\"overlaying\":\"y\",\"side\":\"right\",\"title\":{\"text\":\"BTC Market Price\"}}},\"margin\":[5,5,5,5],\"name\":\"Plotly01504\",\"viewport_update_throttle\":200},\"id\":\"1347\",\"type\":\"panel.models.plotly.PlotlyPlot\"},{\"attributes\":{\"data\":{\"x\":[[\"2020-10-05\",\"2020-10-06\",\"2020-10-07\",\"2020-10-08\",\"2020-10-09\",\"2020-10-12\",\"2020-10-13\",\"2020-10-14\",\"2020-10-15\",\"2020-10-16\",\"2020-10-19\",\"2020-10-20\",\"2020-10-21\",\"2020-10-22\",\"2020-10-23\",\"2020-10-26\",\"2020-10-27\",\"2020-10-28\",\"2020-10-29\",\"2020-10-30\",\"2020-11-02\",\"2020-11-03\",\"2020-11-04\",\"2020-11-05\",\"2020-11-06\",\"2020-11-09\",\"2020-11-10\",\"2020-11-11\",\"2020-11-12\",\"2020-11-13\",\"2020-11-16\",\"2020-11-17\",\"2020-11-18\",\"2020-11-19\",\"2020-11-20\",\"2020-11-23\",\"2020-11-24\",\"2020-11-25\",\"2020-11-27\",\"2020-11-30\",\"2020-12-01\",\"2020-12-02\",\"2020-12-03\",\"2020-12-04\",\"2020-12-07\",\"2020-12-08\",\"2020-12-09\",\"2020-12-10\",\"2020-12-11\",\"2020-12-14\",\"2020-12-15\",\"2020-12-16\",\"2020-12-17\",\"2020-12-18\",\"2020-12-21\",\"2020-12-22\",\"2020-12-23\",\"2020-12-24\",\"2020-12-28\",\"2020-12-29\",\"2020-12-30\",\"2020-12-31\"]],\"y\":[{\"__ndarray__\":\"DjVNIvYT8D/TpRvCuMXvP9Fn8mJtw+8/6NnnKizi7z8sAFO3vDrwPyMkFmLOLvA/49OOGl/a7z/4yTEkh/TvPweeE/aiCfA/+bt9kOf17z/66/Jbk/nvPwyrRtC/EPA/JA+IBN8w8D8Fs6FTkgfwPwKKBlI2A/A/AKZueXUA8D8JgqvOYwzwP60Fs6FTku8/lVWUeklx7z+vj7nziZXvP+rLM5eM4+8/BvikfC0J8D8FZ8RgpwbwP0uoFlv0ZPA/UQ/bu5tr8D+Klb9MmmLvP559rsIifu8/hEOJSeJZ7z+ppcgK/IrvP9BFMSthvu8/0N3rEDfA7z+5t9M7Y6LvP5greL9qde8/jB/GntBl7z+gb/oug3/vPychIqNc3+4/zfAGaTdm7j/KwJGdi2LuP4/sXBSzEu4/eLfjMNzg7T/ifmRYNYLuPw8lJolnve4/PRfFrIT57j8sUZduCOPuP4WrzmMMWO8/mit4v2p17z8yuFvPr+nuPyiJZ72G3e4/M0k86zXs7j8RcQN8Ur7uP2dP6LK/Lu8/hp0a0GxZ7z/IkxCRUa7vP715qtwXoO8/q2efq7CI7z9+KSOVqEvvP6Ix0c83fe8/uFfppAub7z+lYUab44DvP7r9Vx6Bm+8/6S0goenZ7z8CRoTiHfnvPw==\",\"dtype\":\"float64\",\"order\":\"little\",\"shape\":[62]}]},\"selected\":{\"id\":\"1360\"},\"selection_policy\":{\"id\":\"1359\"}},\"id\":\"1327\",\"type\":\"ColumnDataSource\"},{\"attributes\":{},\"id\":\"1363\",\"type\":\"UnionRenderers\"},{\"attributes\":{\"client_comm_id\":\"b80faf36db86430894e0d67875cbeb9f\",\"comm_id\":\"b09e127b2ecd4a19b64a184837e198f2\",\"plot_id\":\"1320\"},\"id\":\"1445\",\"type\":\"panel.models.comm_manager.CommManager\"},{\"attributes\":{\"child\":{\"id\":\"1330\"},\"name\":\"Column01500\",\"title\":\"Standard Deviation\"},\"id\":\"1338\",\"type\":\"Panel\"},{\"attributes\":{\"children\":[{\"id\":\"1347\"}],\"margin\":[0,0,0,0],\"name\":\"Column01506\"},\"id\":\"1344\",\"type\":\"Column\"},{\"attributes\":{\"data\":{\"x\":[[\"2020-11-02\",\"2020-11-03\",\"2020-11-04\",\"2020-11-05\",\"2020-11-06\",\"2020-11-09\",\"2020-11-10\",\"2020-11-11\",\"2020-11-12\",\"2020-11-13\",\"2020-11-16\",\"2020-11-17\",\"2020-11-18\",\"2020-11-19\",\"2020-11-20\",\"2020-11-23\",\"2020-11-24\",\"2020-11-25\",\"2020-11-27\",\"2020-11-30\",\"2020-12-01\",\"2020-12-02\",\"2020-12-03\",\"2020-12-04\",\"2020-12-07\",\"2020-12-08\",\"2020-12-09\",\"2020-12-10\",\"2020-12-11\",\"2020-12-14\",\"2020-12-15\",\"2020-12-16\",\"2020-12-17\",\"2020-12-18\",\"2020-12-21\",\"2020-12-22\",\"2020-12-23\",\"2020-12-24\",\"2020-12-28\",\"2020-12-29\",\"2020-12-30\",\"2020-12-31\"]],\"y\":[{\"__ndarray__\":\"eR7wrEdolj9IcFkBcMKRPzJDYEQDJ5I/unFe1D2zkT9V6lkdjw2TP6u4wFN5VZM/L9oyr+uDkz+7zTnTqbmTP0Ooz7BryZM/2Da4rpCQkj+iCmwx8zCSP3xjy2G4cJc/uQTV9fFsmT/nuM70PJOaPwRaROAjp5o/KmxW9JPVmz8WbuMMRju2P+70pseexLY/2ll4137VuD9LoA/GDOC4P+iDahCBIbk/lbDq7EvMuT8X5taWmq25P0NHoqNQtrk/kBmYHym3uT9lvISU3du5P9JnfGvWiro/qL0gcx+Buj/chxXc/Jm6P780FjMwmLo/6z6jUzm5uj90txtfSBO7PzeeDJs1Lr0/lttt1IwlvT94ZXRozDC9P32VRJIzrL0/4nRVNae/vj+IPPnazpm/P9rlkPIQXr4/fZcMWkwlvj+Kp6lMtGy+PxST7Qfuab0/\",\"dtype\":\"float64\",\"order\":\"little\",\"shape\":[42]}]},\"selected\":{\"id\":\"1366\"},\"selection_policy\":{\"id\":\"1365\"}},\"id\":\"1333\",\"type\":\"ColumnDataSource\"},{\"attributes\":{},\"id\":\"1379\",\"type\":\"UnionRenderers\"},{\"attributes\":{\"margin\":[0,0,0,0],\"tabs\":[{\"id\":\"1329\"},{\"id\":\"1338\"},{\"id\":\"1343\"},{\"id\":\"1348\"}]},\"id\":\"1320\",\"type\":\"Tabs\"},{\"attributes\":{\"child\":{\"id\":\"1339\"},\"name\":\"Column01503\",\"title\":\"MVRV Ratio\"},\"id\":\"1343\",\"type\":\"Panel\"},{\"attributes\":{\"data\":{\"x\":[[\"2021-01-30 00:00:00\",\"2021-01-29 00:00:00\",\"2021-01-28 00:00:00\",\"2021-01-27 00:00:00\",\"2021-01-26 00:00:00\",\"2021-01-25 00:00:00\",\"2021-01-24 00:00:00\",\"2021-01-23 00:00:00\",\"2021-01-22 00:00:00\",\"2021-01-21 00:00:00\",\"2021-01-20 00:00:00\",\"2021-01-19 00:00:00\",\"2021-01-18 00:00:00\",\"2021-01-17 00:00:00\",\"2021-01-16 00:00:00\",\"2021-01-15 00:00:00\",\"2021-01-14 00:00:00\",\"2021-01-13 00:00:00\",\"2021-01-12 00:00:00\",\"2021-01-11 00:00:00\",\"2021-01-10 00:00:00\",\"2021-01-09 00:00:00\",\"2021-01-08 00:00:00\",\"2021-01-07 00:00:00\",\"2021-01-06 00:00:00\",\"2021-01-05 00:00:00\",\"2021-01-04 00:00:00\",\"2021-01-03 00:00:00\",\"2021-01-02 00:00:00\",\"2021-01-01 00:00:00\",\"2020-12-31 00:00:00\",\"2020-12-30 00:00:00\",\"2020-12-29 00:00:00\",\"2020-12-28 00:00:00\",\"2020-12-27 00:00:00\",\"2020-12-26 00:00:00\",\"2020-12-25 00:00:00\",\"2020-12-24 00:00:00\",\"2020-12-23 00:00:00\",\"2020-12-22 00:00:00\",\"2020-12-21 00:00:00\",\"2020-12-20 00:00:00\",\"2020-12-19 00:00:00\",\"2020-12-18 00:00:00\",\"2020-12-17 00:00:00\",\"2020-12-16 00:00:00\",\"2020-12-15 00:00:00\",\"2020-12-14 00:00:00\",\"2020-12-13 00:00:00\",\"2020-12-12 00:00:00\",\"2020-12-11 00:00:00\",\"2020-12-10 00:00:00\",\"2020-12-09 00:00:00\",\"2020-12-08 00:00:00\",\"2020-12-07 00:00:00\",\"2020-12-06 00:00:00\",\"2020-12-05 00:00:00\",\"2020-12-04 00:00:00\",\"2020-12-03 00:00:00\",\"2020-12-02 00:00:00\",\"2020-12-01 00:00:00\",\"2020-11-30 00:00:00\",\"2020-11-29 00:00:00\",\"2020-11-28 00:00:00\",\"2020-11-27 00:00:00\",\"2020-11-26 00:00:00\",\"2020-11-25 00:00:00\",\"2020-11-24 00:00:00\",\"2020-11-23 00:00:00\",\"2020-11-22 00:00:00\",\"2020-11-21 00:00:00\",\"2020-11-20 00:00:00\",\"2020-11-19 00:00:00\",\"2020-11-18 00:00:00\",\"2020-11-17 00:00:00\",\"2020-11-16 00:00:00\",\"2020-11-15 00:00:00\",\"2020-11-14 00:00:00\",\"2020-11-13 00:00:00\",\"2020-11-12 00:00:00\",\"2020-11-11 00:00:00\",\"2020-11-10 00:00:00\",\"2020-11-09 00:00:00\",\"2020-11-08 00:00:00\",\"2020-11-07 00:00:00\",\"2020-11-06 00:00:00\",\"2020-11-05 00:00:00\",\"2020-11-04 00:00:00\",\"2020-11-03 00:00:00\",\"2020-11-02 00:00:00\",\"2020-11-01 00:00:00\",\"2020-10-31 00:00:00\",\"2020-10-30 00:00:00\",\"2020-10-29 00:00:00\",\"2020-10-28 00:00:00\",\"2020-10-27 00:00:00\",\"2020-10-26 00:00:00\",\"2020-10-25 00:00:00\",\"2020-10-24 00:00:00\",\"2020-10-23 00:00:00\"]],\"y\":[{\"__ndarray__\":\"Urgehcu94EA0BZ02kLjgQBWAseT3TOBA7fWLJUes3UA9CtejWLrfQHsUrkeJf99AfLiBTqOE30B8uIFOU1XfQD7cQKcJGeBA7fWLJR8g3kB7FK5HPVPhQHEPdNochuFAMmHJLybk4UAfV1VV2X7hQK5H4XrskuFAMmHJLzrz4UAes4FO/x3jQOGoqqrqQOJAo57TBpae4EBR5rSBok3hQF1hLPnpo+JAcQ902qSa40AB0mkDHdXjQClcj8LZReNAFNzd3en54UCvGUt+TZngQG+ZNtBZRN9AZmZmZloh4ECF61G49nDfQODWQKfdqtxAw/UoXF9C3EC+nxovnTTcQNnO91PDvdpAxSCwcnht2kCmm8QgUKfZQIXrUbhe3NlA7nw/NU4h2ED8qfHSvS7XQAAAAAAgsNZAukkMAvtD10DVeOkmATPWQLDrtIE269ZA16NwPYJH10BlwpJfTJXWQMP1KFx3RtZAhEd+sZTZ1EAyj18syfnSQI/C9Sic0tJA/1ss+XW30kDZR0RE5F7SQI1RKiNUndFA4AaE70PT0UAUIgHfLBzSQEY9pw3E4dFAuk6f9Om70kCMwxUnoO3SQFCIBHyztNJA4NZAp7040kDWi+M4TvrSQNcXKjusxNJAjqpoJCBW0kD0hIiImD7TQNlHREQEwtFA8tJNYsBA0UAFdk7Wxr7QQD0K16O429BAK4cW2U5Q0kCZ+5qbv7TSQOOlm8Qg89FABFYOLToJ0kAFPat35kPSQNUaMVDuMNJAAiuHFmln0UA/NV66OVPRQCe4u7v7NdFAAAAAAIBP0EAAAAAAgB3PQAAAAACAYs9AAAAAAADfz0AAAAAAgNLPQAAAAAAApM5AAAAAAADjzUAAAAAAAO3NQAAAAAAAO85AAAAAAIDpzEAAAAAAgGfOQAAAAAAAcs5AAAAAAAChy0AAAAAAAGPLQAAAAACAc8pAAAAAAIDeykAAAAAAgNPKQAAAAAAAe8pAAAAAAABGykAAAAAAAOzJQAAAAAAAoMpAAAAAAIB8yUAAAAAAAHLJQAAAAAAAmclAAAAAAABByUA=\",\"dtype\":\"float64\",\"order\":\"little\",\"shape\":[100]}]},\"selected\":{\"id\":\"1376\"},\"selection_policy\":{\"id\":\"1375\"}},\"id\":\"1341\",\"type\":\"ColumnDataSource\"},{\"attributes\":{},\"id\":\"1364\",\"type\":\"Selection\"},{\"attributes\":{\"data\":{\"x\":[[\"2021-01-30 00:00:00\",\"2021-01-29 00:00:00\",\"2021-01-28 00:00:00\",\"2021-01-27 00:00:00\",\"2021-01-26 00:00:00\",\"2021-01-25 00:00:00\",\"2021-01-24 00:00:00\",\"2021-01-23 00:00:00\",\"2021-01-22 00:00:00\",\"2021-01-21 00:00:00\",\"2021-01-20 00:00:00\",\"2021-01-19 00:00:00\",\"2021-01-18 00:00:00\",\"2021-01-17 00:00:00\",\"2021-01-16 00:00:00\",\"2021-01-15 00:00:00\",\"2021-01-14 00:00:00\",\"2021-01-13 00:00:00\",\"2021-01-12 00:00:00\",\"2021-01-11 00:00:00\",\"2021-01-10 00:00:00\",\"2021-01-09 00:00:00\",\"2021-01-08 00:00:00\",\"2021-01-07 00:00:00\",\"2021-01-06 00:00:00\",\"2021-01-05 00:00:00\",\"2021-01-04 00:00:00\",\"2021-01-03 00:00:00\",\"2021-01-02 00:00:00\",\"2021-01-01 00:00:00\",\"2020-12-31 00:00:00\",\"2020-12-30 00:00:00\",\"2020-12-29 00:00:00\",\"2020-12-28 00:00:00\",\"2020-12-27 00:00:00\",\"2020-12-26 00:00:00\",\"2020-12-25 00:00:00\",\"2020-12-24 00:00:00\",\"2020-12-23 00:00:00\",\"2020-12-22 00:00:00\",\"2020-12-21 00:00:00\",\"2020-12-20 00:00:00\",\"2020-12-19 00:00:00\",\"2020-12-18 00:00:00\",\"2020-12-17 00:00:00\",\"2020-12-16 00:00:00\",\"2020-12-15 00:00:00\",\"2020-12-14 00:00:00\",\"2020-12-13 00:00:00\",\"2020-12-12 00:00:00\",\"2020-12-11 00:00:00\",\"2020-12-10 00:00:00\",\"2020-12-09 00:00:00\",\"2020-12-08 00:00:00\",\"2020-12-07 00:00:00\",\"2020-12-06 00:00:00\",\"2020-12-05 00:00:00\",\"2020-12-04 00:00:00\",\"2020-12-03 00:00:00\",\"2020-12-02 00:00:00\",\"2020-12-01 00:00:00\",\"2020-11-30 00:00:00\",\"2020-11-29 00:00:00\",\"2020-11-28 00:00:00\",\"2020-11-27 00:00:00\",\"2020-11-26 00:00:00\",\"2020-11-25 00:00:00\",\"2020-11-24 00:00:00\",\"2020-11-23 00:00:00\",\"2020-11-22 00:00:00\",\"2020-11-21 00:00:00\",\"2020-11-20 00:00:00\",\"2020-11-19 00:00:00\",\"2020-11-18 00:00:00\",\"2020-11-17 00:00:00\",\"2020-11-16 00:00:00\",\"2020-11-15 00:00:00\",\"2020-11-14 00:00:00\",\"2020-11-13 00:00:00\",\"2020-11-12 00:00:00\",\"2020-11-11 00:00:00\",\"2020-11-10 00:00:00\",\"2020-11-09 00:00:00\",\"2020-11-08 00:00:00\",\"2020-11-07 00:00:00\",\"2020-11-06 00:00:00\",\"2020-11-05 00:00:00\",\"2020-11-04 00:00:00\",\"2020-11-03 00:00:00\",\"2020-11-02 00:00:00\",\"2020-11-01 00:00:00\",\"2020-10-31 00:00:00\",\"2020-10-30 00:00:00\",\"2020-10-29 00:00:00\",\"2020-10-28 00:00:00\",\"2020-10-27 00:00:00\",\"2020-10-26 00:00:00\",\"2020-10-25 00:00:00\",\"2020-10-24 00:00:00\",\"2020-10-23 00:00:00\"]],\"y\":[{\"__ndarray__\":\"zPGnGY1gtEDInQwtQQHRQCSagi0XzLfAgt12QtQ1xMBKVPu2oqikwAndZ42sd7FAlOu3wKurmEAghJkZ2h59QAwSLia5ZrZAegh4DKyDo8CNXSazeEG8QDHmU2zFk6zAOGElk6JlwUDPj1QZlVWxwCXyduc9S3rAH+NA/h6Fq0Dfqqk088KxwFkCY1x1epHAGxhx6BQlo8A6M00aCla9QGnDYenFCMFA8zb8j7tYvMD83qY/K4eUwMJ5oxyx+KzAXrU6Ug94uMDjCRBHQ0mqQIiLN410S51AhRTR6dDmw0D88MFFl7/hwGguJuzx+83AKoazdN/GwsC+VvjpRdazQPNi1V6H6MrAnqWWc1pVd8BCGj43EvzKQB22JVk8S6tAYvhGfBUPxECPbPC2WYSCQF3GLP/SepzAB3CjFjva0sC+uLfPeGGGwLoI3z07IrXAlzagzgREt0D1aMs13KlTwHoIuij5WMVA/XfQbta20sBRUVDlL563wD6LEOQbAbdAQk2Ao2tivUAq/J029rnhQMCOxVfkMrBAr/xDRFYH3sA4iFJSKdC3wC0vrxIT1LLABy80totIdUBMNRbB4T2bwJtVfp0+YqtA435VaCpTzcCZQzluZLSJwNNzA+zMbb3A10ZESuU+x0AE0vaWMf2rQE2YF/2gIbPAfzViwURmocD+aDD0oe6tQAWCYwOPFNFAJDkND0sIv0CrYDNEDc6zwEHuhXZM7ofAv3ZZ4Sy/mMCmXfF59hvBQD3O2adgGJpAuvh4dKWqfkDUddEldjplwCtJhU6lar9AVc4op1LwvsBERcXN6QazwFHKWvnyWcBA87ryF+IygMApRo5b3uy6wM4vECW+8pHAizKfnIUTyMBNrACdAQR2QLkqWPyTW6HAsVwEALjHoEAQYKr8XUa0QHhI7yN18bhA/R7tZnwMyMCBi9uJnqvNwIYxM73sntzAxBiiVOzSbMCGY22+RVO2QLj+ZRDXzb7Ax3K/AQUJosDC0FWAcJWGQCETnSPD0sDAkD5aWgJQwMACoVCqBCicwLLfbqTXVLTAqqQlwXmsq8A=\",\"dtype\":\"float64\",\"order\":\"little\",\"shape\":[100]}]},\"selected\":{\"id\":\"1378\"},\"selection_policy\":{\"id\":\"1377\"}},\"id\":\"1345\",\"type\":\"ColumnDataSource\"},{\"attributes\":{},\"id\":\"1380\",\"type\":\"Selection\"},{\"attributes\":{},\"id\":\"1365\",\"type\":\"UnionRenderers\"},{\"attributes\":{\"_render_count\":0,\"config\":null,\"data\":[{\"hovertemplate\":\"variable=BTC<br>Date=%{x}<br>value=%{y}<extra></extra>\",\"legendgroup\":\"BTC\",\"line\":{\"color\":\"#636efa\",\"dash\":\"solid\"},\"mode\":\"lines\",\"name\":\"BTC\",\"orientation\":\"v\",\"showlegend\":true,\"type\":\"scatter\",\"xaxis\":\"x\",\"yaxis\":\"y\"},{\"hovertemplate\":\"variable=ETH<br>Date=%{x}<br>value=%{y}<extra></extra>\",\"legendgroup\":\"ETH\",\"line\":{\"color\":\"#EF553B\",\"dash\":\"solid\"},\"mode\":\"lines\",\"name\":\"ETH\",\"orientation\":\"v\",\"showlegend\":true,\"type\":\"scatter\",\"xaxis\":\"x\",\"yaxis\":\"y\"},{\"hovertemplate\":\"variable=XRP<br>Date=%{x}<br>value=%{y}<extra></extra>\",\"legendgroup\":\"XRP\",\"line\":{\"color\":\"#00cc96\",\"dash\":\"solid\"},\"mode\":\"lines\",\"name\":\"XRP\",\"orientation\":\"v\",\"showlegend\":true,\"type\":\"scatter\",\"xaxis\":\"x\",\"yaxis\":\"y\"},{\"hovertemplate\":\"variable=LTC<br>Date=%{x}<br>value=%{y}<extra></extra>\",\"legendgroup\":\"LTC\",\"line\":{\"color\":\"#ab63fa\",\"dash\":\"solid\"},\"mode\":\"lines\",\"name\":\"LTC\",\"orientation\":\"v\",\"showlegend\":true,\"type\":\"scatter\",\"xaxis\":\"x\",\"yaxis\":\"y\"},{\"hovertemplate\":\"variable=SPY<br>Date=%{x}<br>value=%{y}<extra></extra>\",\"legendgroup\":\"SPY\",\"line\":{\"color\":\"#FFA15A\",\"dash\":\"solid\"},\"mode\":\"lines\",\"name\":\"SPY\",\"orientation\":\"v\",\"showlegend\":true,\"type\":\"scatter\",\"xaxis\":\"x\",\"yaxis\":\"y\"},{\"hovertemplate\":\"variable=GLD<br>Date=%{x}<br>value=%{y}<extra></extra>\",\"legendgroup\":\"GLD\",\"line\":{\"color\":\"#19d3f3\",\"dash\":\"solid\"},\"mode\":\"lines\",\"name\":\"GLD\",\"orientation\":\"v\",\"showlegend\":true,\"type\":\"scatter\",\"xaxis\":\"x\",\"yaxis\":\"y\"}],\"data_sources\":[{\"id\":\"1322\"},{\"id\":\"1323\"},{\"id\":\"1324\"},{\"id\":\"1325\"},{\"id\":\"1326\"},{\"id\":\"1327\"}],\"layout\":{\"height\":400,\"legend\":{\"title\":{\"text\":\"variable\"},\"tracegroupgap\":0},\"template\":{\"data\":{\"bar\":[{\"error_x\":{\"color\":\"#2a3f5f\"},\"error_y\":{\"color\":\"#2a3f5f\"},\"marker\":{\"line\":{\"color\":\"#E5ECF6\",\"width\":0.5}},\"type\":\"bar\"}],\"barpolar\":[{\"marker\":{\"line\":{\"color\":\"#E5ECF6\",\"width\":0.5}},\"type\":\"barpolar\"}],\"carpet\":[{\"aaxis\":{\"endlinecolor\":\"#2a3f5f\",\"gridcolor\":\"white\",\"linecolor\":\"white\",\"minorgridcolor\":\"white\",\"startlinecolor\":\"#2a3f5f\"},\"baxis\":{\"endlinecolor\":\"#2a3f5f\",\"gridcolor\":\"white\",\"linecolor\":\"white\",\"minorgridcolor\":\"white\",\"startlinecolor\":\"#2a3f5f\"},\"type\":\"carpet\"}],\"choropleth\":[{\"colorbar\":{\"outlinewidth\":0,\"ticks\":\"\"},\"type\":\"choropleth\"}],\"contour\":[{\"colorbar\":{\"outlinewidth\":0,\"ticks\":\"\"},\"colorscale\":[[0.0,\"#0d0887\"],[0.1111111111111111,\"#46039f\"],[0.2222222222222222,\"#7201a8\"],[0.3333333333333333,\"#9c179e\"],[0.4444444444444444,\"#bd3786\"],[0.5555555555555556,\"#d8576b\"],[0.6666666666666666,\"#ed7953\"],[0.7777777777777778,\"#fb9f3a\"],[0.8888888888888888,\"#fdca26\"],[1.0,\"#f0f921\"]],\"type\":\"contour\"}],\"contourcarpet\":[{\"colorbar\":{\"outlinewidth\":0,\"ticks\":\"\"},\"type\":\"contourcarpet\"}],\"heatmap\":[{\"colorbar\":{\"outlinewidth\":0,\"ticks\":\"\"},\"colorscale\":[[0.0,\"#0d0887\"],[0.1111111111111111,\"#46039f\"],[0.2222222222222222,\"#7201a8\"],[0.3333333333333333,\"#9c179e\"],[0.4444444444444444,\"#bd3786\"],[0.5555555555555556,\"#d8576b\"],[0.6666666666666666,\"#ed7953\"],[0.7777777777777778,\"#fb9f3a\"],[0.8888888888888888,\"#fdca26\"],[1.0,\"#f0f921\"]],\"type\":\"heatmap\"}],\"heatmapgl\":[{\"colorbar\":{\"outlinewidth\":0,\"ticks\":\"\"},\"colorscale\":[[0.0,\"#0d0887\"],[0.1111111111111111,\"#46039f\"],[0.2222222222222222,\"#7201a8\"],[0.3333333333333333,\"#9c179e\"],[0.4444444444444444,\"#bd3786\"],[0.5555555555555556,\"#d8576b\"],[0.6666666666666666,\"#ed7953\"],[0.7777777777777778,\"#fb9f3a\"],[0.8888888888888888,\"#fdca26\"],[1.0,\"#f0f921\"]],\"type\":\"heatmapgl\"}],\"histogram\":[{\"marker\":{\"colorbar\":{\"outlinewidth\":0,\"ticks\":\"\"}},\"type\":\"histogram\"}],\"histogram2d\":[{\"colorbar\":{\"outlinewidth\":0,\"ticks\":\"\"},\"colorscale\":[[0.0,\"#0d0887\"],[0.1111111111111111,\"#46039f\"],[0.2222222222222222,\"#7201a8\"],[0.3333333333333333,\"#9c179e\"],[0.4444444444444444,\"#bd3786\"],[0.5555555555555556,\"#d8576b\"],[0.6666666666666666,\"#ed7953\"],[0.7777777777777778,\"#fb9f3a\"],[0.8888888888888888,\"#fdca26\"],[1.0,\"#f0f921\"]],\"type\":\"histogram2d\"}],\"histogram2dcontour\":[{\"colorbar\":{\"outlinewidth\":0,\"ticks\":\"\"},\"colorscale\":[[0.0,\"#0d0887\"],[0.1111111111111111,\"#46039f\"],[0.2222222222222222,\"#7201a8\"],[0.3333333333333333,\"#9c179e\"],[0.4444444444444444,\"#bd3786\"],[0.5555555555555556,\"#d8576b\"],[0.6666666666666666,\"#ed7953\"],[0.7777777777777778,\"#fb9f3a\"],[0.8888888888888888,\"#fdca26\"],[1.0,\"#f0f921\"]],\"type\":\"histogram2dcontour\"}],\"mesh3d\":[{\"colorbar\":{\"outlinewidth\":0,\"ticks\":\"\"},\"type\":\"mesh3d\"}],\"parcoords\":[{\"line\":{\"colorbar\":{\"outlinewidth\":0,\"ticks\":\"\"}},\"type\":\"parcoords\"}],\"pie\":[{\"automargin\":true,\"type\":\"pie\"}],\"scatter\":[{\"marker\":{\"colorbar\":{\"outlinewidth\":0,\"ticks\":\"\"}},\"type\":\"scatter\"}],\"scatter3d\":[{\"line\":{\"colorbar\":{\"outlinewidth\":0,\"ticks\":\"\"}},\"marker\":{\"colorbar\":{\"outlinewidth\":0,\"ticks\":\"\"}},\"type\":\"scatter3d\"}],\"scattercarpet\":[{\"marker\":{\"colorbar\":{\"outlinewidth\":0,\"ticks\":\"\"}},\"type\":\"scattercarpet\"}],\"scattergeo\":[{\"marker\":{\"colorbar\":{\"outlinewidth\":0,\"ticks\":\"\"}},\"type\":\"scattergeo\"}],\"scattergl\":[{\"marker\":{\"colorbar\":{\"outlinewidth\":0,\"ticks\":\"\"}},\"type\":\"scattergl\"}],\"scattermapbox\":[{\"marker\":{\"colorbar\":{\"outlinewidth\":0,\"ticks\":\"\"}},\"type\":\"scattermapbox\"}],\"scatterpolar\":[{\"marker\":{\"colorbar\":{\"outlinewidth\":0,\"ticks\":\"\"}},\"type\":\"scatterpolar\"}],\"scatterpolargl\":[{\"marker\":{\"colorbar\":{\"outlinewidth\":0,\"ticks\":\"\"}},\"type\":\"scatterpolargl\"}],\"scatterternary\":[{\"marker\":{\"colorbar\":{\"outlinewidth\":0,\"ticks\":\"\"}},\"type\":\"scatterternary\"}],\"surface\":[{\"colorbar\":{\"outlinewidth\":0,\"ticks\":\"\"},\"colorscale\":[[0.0,\"#0d0887\"],[0.1111111111111111,\"#46039f\"],[0.2222222222222222,\"#7201a8\"],[0.3333333333333333,\"#9c179e\"],[0.4444444444444444,\"#bd3786\"],[0.5555555555555556,\"#d8576b\"],[0.6666666666666666,\"#ed7953\"],[0.7777777777777778,\"#fb9f3a\"],[0.8888888888888888,\"#fdca26\"],[1.0,\"#f0f921\"]],\"type\":\"surface\"}],\"table\":[{\"cells\":{\"fill\":{\"color\":\"#EBF0F8\"},\"line\":{\"color\":\"white\"}},\"header\":{\"fill\":{\"color\":\"#C8D4E3\"},\"line\":{\"color\":\"white\"}},\"type\":\"table\"}]},\"layout\":{\"annotationdefaults\":{\"arrowcolor\":\"#2a3f5f\",\"arrowhead\":0,\"arrowwidth\":1},\"autotypenumbers\":\"strict\",\"coloraxis\":{\"colorbar\":{\"outlinewidth\":0,\"ticks\":\"\"}},\"colorscale\":{\"diverging\":[[0,\"#8e0152\"],[0.1,\"#c51b7d\"],[0.2,\"#de77ae\"],[0.3,\"#f1b6da\"],[0.4,\"#fde0ef\"],[0.5,\"#f7f7f7\"],[0.6,\"#e6f5d0\"],[0.7,\"#b8e186\"],[0.8,\"#7fbc41\"],[0.9,\"#4d9221\"],[1,\"#276419\"]],\"sequential\":[[0.0,\"#0d0887\"],[0.1111111111111111,\"#46039f\"],[0.2222222222222222,\"#7201a8\"],[0.3333333333333333,\"#9c179e\"],[0.4444444444444444,\"#bd3786\"],[0.5555555555555556,\"#d8576b\"],[0.6666666666666666,\"#ed7953\"],[0.7777777777777778,\"#fb9f3a\"],[0.8888888888888888,\"#fdca26\"],[1.0,\"#f0f921\"]],\"sequentialminus\":[[0.0,\"#0d0887\"],[0.1111111111111111,\"#46039f\"],[0.2222222222222222,\"#7201a8\"],[0.3333333333333333,\"#9c179e\"],[0.4444444444444444,\"#bd3786\"],[0.5555555555555556,\"#d8576b\"],[0.6666666666666666,\"#ed7953\"],[0.7777777777777778,\"#fb9f3a\"],[0.8888888888888888,\"#fdca26\"],[1.0,\"#f0f921\"]]},\"colorway\":[\"#636efa\",\"#EF553B\",\"#00cc96\",\"#ab63fa\",\"#FFA15A\",\"#19d3f3\",\"#FF6692\",\"#B6E880\",\"#FF97FF\",\"#FECB52\"],\"font\":{\"color\":\"#2a3f5f\"},\"geo\":{\"bgcolor\":\"white\",\"lakecolor\":\"white\",\"landcolor\":\"#E5ECF6\",\"showlakes\":true,\"showland\":true,\"subunitcolor\":\"white\"},\"hoverlabel\":{\"align\":\"left\"},\"hovermode\":\"closest\",\"mapbox\":{\"style\":\"light\"},\"paper_bgcolor\":\"white\",\"plot_bgcolor\":\"#E5ECF6\",\"polar\":{\"angularaxis\":{\"gridcolor\":\"white\",\"linecolor\":\"white\",\"ticks\":\"\"},\"bgcolor\":\"#E5ECF6\",\"radialaxis\":{\"gridcolor\":\"white\",\"linecolor\":\"white\",\"ticks\":\"\"}},\"scene\":{\"xaxis\":{\"backgroundcolor\":\"#E5ECF6\",\"gridcolor\":\"white\",\"gridwidth\":2,\"linecolor\":\"white\",\"showbackground\":true,\"ticks\":\"\",\"zerolinecolor\":\"white\"},\"yaxis\":{\"backgroundcolor\":\"#E5ECF6\",\"gridcolor\":\"white\",\"gridwidth\":2,\"linecolor\":\"white\",\"showbackground\":true,\"ticks\":\"\",\"zerolinecolor\":\"white\"},\"zaxis\":{\"backgroundcolor\":\"#E5ECF6\",\"gridcolor\":\"white\",\"gridwidth\":2,\"linecolor\":\"white\",\"showbackground\":true,\"ticks\":\"\",\"zerolinecolor\":\"white\"}},\"shapedefaults\":{\"line\":{\"color\":\"#2a3f5f\"}},\"ternary\":{\"aaxis\":{\"gridcolor\":\"white\",\"linecolor\":\"white\",\"ticks\":\"\"},\"baxis\":{\"gridcolor\":\"white\",\"linecolor\":\"white\",\"ticks\":\"\"},\"bgcolor\":\"#E5ECF6\",\"caxis\":{\"gridcolor\":\"white\",\"linecolor\":\"white\",\"ticks\":\"\"}},\"title\":{\"x\":0.05},\"xaxis\":{\"automargin\":true,\"gridcolor\":\"white\",\"linecolor\":\"white\",\"ticks\":\"\",\"title\":{\"standoff\":15},\"zerolinecolor\":\"white\",\"zerolinewidth\":2},\"yaxis\":{\"automargin\":true,\"gridcolor\":\"white\",\"linecolor\":\"white\",\"ticks\":\"\",\"title\":{\"standoff\":15},\"zerolinecolor\":\"white\",\"zerolinewidth\":2}}},\"title\":{\"text\":\"2020 Cumulative Returns\"},\"width\":1000,\"xaxis\":{\"anchor\":\"y\",\"domain\":[0.0,1.0],\"title\":{\"text\":\"Date\"}},\"yaxis\":{\"anchor\":\"x\",\"domain\":[0.0,1.0],\"title\":{\"text\":\"value\"}}},\"margin\":[5,5,5,5],\"name\":\"Plotly01495\",\"viewport_update_throttle\":200},\"id\":\"1328\",\"type\":\"panel.models.plotly.PlotlyPlot\"},{\"attributes\":{\"child\":{\"id\":\"1344\"},\"name\":\"Column01506\",\"title\":\"Netflow Ratio\"},\"id\":\"1348\",\"type\":\"Panel\"},{\"attributes\":{\"children\":[{\"id\":\"1342\"}],\"margin\":[0,0,0,0],\"name\":\"Column01503\"},\"id\":\"1339\",\"type\":\"Column\"},{\"attributes\":{},\"id\":\"1366\",\"type\":\"Selection\"},{\"attributes\":{\"data\":{\"x\":[[\"2020-10-05\",\"2020-10-06\",\"2020-10-07\",\"2020-10-08\",\"2020-10-09\",\"2020-10-12\",\"2020-10-13\",\"2020-10-14\",\"2020-10-15\",\"2020-10-16\",\"2020-10-19\",\"2020-10-20\",\"2020-10-21\",\"2020-10-22\",\"2020-10-23\",\"2020-10-26\",\"2020-10-27\",\"2020-10-28\",\"2020-10-29\",\"2020-10-30\",\"2020-11-02\",\"2020-11-03\",\"2020-11-04\",\"2020-11-05\",\"2020-11-06\",\"2020-11-09\",\"2020-11-10\",\"2020-11-11\",\"2020-11-12\",\"2020-11-13\",\"2020-11-16\",\"2020-11-17\",\"2020-11-18\",\"2020-11-19\",\"2020-11-20\",\"2020-11-23\",\"2020-11-24\",\"2020-11-25\",\"2020-11-27\",\"2020-11-30\",\"2020-12-01\",\"2020-12-02\",\"2020-12-03\",\"2020-12-04\",\"2020-12-07\",\"2020-12-08\",\"2020-12-09\",\"2020-12-10\",\"2020-12-11\",\"2020-12-14\",\"2020-12-15\",\"2020-12-16\",\"2020-12-17\",\"2020-12-18\",\"2020-12-21\",\"2020-12-22\",\"2020-12-23\",\"2020-12-24\",\"2020-12-28\",\"2020-12-29\",\"2020-12-30\",\"2020-12-31\"]],\"y\":[{\"__ndarray__\":\"Ld8nZ18u8D8epLGKBGDwP3kGjiXNE/A/q1UUopst8D/wCBrPEZTwP3jX7iwOsPA/EQ0Vq7zs8D9ojmaiasTwP4FrgKI4xPA/udOjkuLi8D8+tcDHhRrxP10xJhkqePE/PULaD0u28T/YkAqVhAbzPw78nxeYSvM/4NGKTAcs8z+7SGDHFzbzPza6bkFqE/Q/w+ht7daE8z8OLObaKsjzP4m/yYN2uPM/NUWM1opv8z8TVEo4Bh/0P/tcHHV/TPQ/8lWjY7pd9j+JlpOdKFj3P773erTeIfc/D4u1Cl0X9z9IYabKJrD3P8uTpuqLk/g/3cUbHzFo+D8EPE/pzov5Pyr1RSqYAvs/L262Lccx+z8vcjndNzr7P16dBGC7z/o/ZHbCgPm8+j/Ny0oaXuL7P/pQ8lOkkvk/G/X45DQ9+j9W2GvrJmv8P10CTzWXE/s/duGVtvK2+z/cqdKBKAn8P4gM9JWSXPw/B+qz8WoS/D8bN0r5l8/6P2Xx6pfnJfs/U1OmeBG4+j9RoZpUlTX7P2Z27BkBXPs/o+wPs5ia+z/1iRlhkVL+PxdNp7jSMwBA1N99fr3l/z+zqpc94OH+P87hzBktLwBAZXGVeGyP/z/pekA6S03/P4kYHp9/HgBA7dObAqpPAEA/zg3dRzkBQA==\",\"dtype\":\"float64\",\"order\":\"little\",\"shape\":[62]}]},\"selected\":{\"id\":\"1350\"},\"selection_policy\":{\"id\":\"1349\"}},\"id\":\"1322\",\"type\":\"ColumnDataSource\"},{\"attributes\":{\"data\":{\"x\":[[\"2021-01-30 00:00:00\",\"2021-01-29 00:00:00\",\"2021-01-28 00:00:00\",\"2021-01-27 00:00:00\",\"2021-01-26 00:00:00\",\"2021-01-25 00:00:00\",\"2021-01-24 00:00:00\",\"2021-01-23 00:00:00\",\"2021-01-22 00:00:00\",\"2021-01-21 00:00:00\",\"2021-01-20 00:00:00\",\"2021-01-19 00:00:00\",\"2021-01-18 00:00:00\",\"2021-01-17 00:00:00\",\"2021-01-16 00:00:00\",\"2021-01-15 00:00:00\",\"2021-01-14 00:00:00\",\"2021-01-13 00:00:00\",\"2021-01-12 00:00:00\",\"2021-01-11 00:00:00\",\"2021-01-10 00:00:00\",\"2021-01-09 00:00:00\",\"2021-01-08 00:00:00\",\"2021-01-07 00:00:00\",\"2021-01-06 00:00:00\",\"2021-01-05 00:00:00\",\"2021-01-04 00:00:00\",\"2021-01-03 00:00:00\",\"2021-01-02 00:00:00\",\"2021-01-01 00:00:00\",\"2020-12-31 00:00:00\",\"2020-12-30 00:00:00\",\"2020-12-29 00:00:00\",\"2020-12-28 00:00:00\",\"2020-12-27 00:00:00\",\"2020-12-26 00:00:00\",\"2020-12-25 00:00:00\",\"2020-12-24 00:00:00\",\"2020-12-23 00:00:00\",\"2020-12-22 00:00:00\",\"2020-12-21 00:00:00\",\"2020-12-20 00:00:00\",\"2020-12-19 00:00:00\",\"2020-12-18 00:00:00\",\"2020-12-17 00:00:00\",\"2020-12-16 00:00:00\",\"2020-12-15 00:00:00\",\"2020-12-14 00:00:00\",\"2020-12-13 00:00:00\",\"2020-12-12 00:00:00\",\"2020-12-11 00:00:00\",\"2020-12-10 00:00:00\",\"2020-12-09 00:00:00\",\"2020-12-08 00:00:00\",\"2020-12-07 00:00:00\",\"2020-12-06 00:00:00\",\"2020-12-05 00:00:00\",\"2020-12-04 00:00:00\",\"2020-12-03 00:00:00\",\"2020-12-02 00:00:00\",\"2020-12-01 00:00:00\",\"2020-11-30 00:00:00\",\"2020-11-29 00:00:00\",\"2020-11-28 00:00:00\",\"2020-11-27 00:00:00\",\"2020-11-26 00:00:00\",\"2020-11-25 00:00:00\",\"2020-11-24 00:00:00\",\"2020-11-23 00:00:00\",\"2020-11-22 00:00:00\",\"2020-11-21 00:00:00\",\"2020-11-20 00:00:00\",\"2020-11-19 00:00:00\",\"2020-11-18 00:00:00\",\"2020-11-17 00:00:00\",\"2020-11-16 00:00:00\",\"2020-11-15 00:00:00\",\"2020-11-14 00:00:00\",\"2020-11-13 00:00:00\",\"2020-11-12 00:00:00\",\"2020-11-11 00:00:00\",\"2020-11-10 00:00:00\",\"2020-11-09 00:00:00\",\"2020-11-08 00:00:00\",\"2020-11-07 00:00:00\",\"2020-11-06 00:00:00\",\"2020-11-05 00:00:00\",\"2020-11-04 00:00:00\",\"2020-11-03 00:00:00\",\"2020-11-02 00:00:00\",\"2020-11-01 00:00:00\",\"2020-10-31 00:00:00\",\"2020-10-30 00:00:00\",\"2020-10-29 00:00:00\",\"2020-10-28 00:00:00\",\"2020-10-27 00:00:00\",\"2020-10-26 00:00:00\",\"2020-10-25 00:00:00\",\"2020-10-24 00:00:00\",\"2020-10-23 00:00:00\"]],\"y\":[{\"__ndarray__\":\"Urgehcu94EA0BZ02kLjgQBWAseT3TOBA7fWLJUes3UA9CtejWLrfQHsUrkeJf99AfLiBTqOE30B8uIFOU1XfQD7cQKcJGeBA7fWLJR8g3kB7FK5HPVPhQHEPdNochuFAMmHJLybk4UAfV1VV2X7hQK5H4XrskuFAMmHJLzrz4UAes4FO/x3jQOGoqqrqQOJAo57TBpae4EBR5rSBok3hQF1hLPnpo+JAcQ902qSa40AB0mkDHdXjQClcj8LZReNAFNzd3en54UCvGUt+TZngQG+ZNtBZRN9AZmZmZloh4ECF61G49nDfQODWQKfdqtxAw/UoXF9C3EC+nxovnTTcQNnO91PDvdpAxSCwcnht2kCmm8QgUKfZQIXrUbhe3NlA7nw/NU4h2ED8qfHSvS7XQAAAAAAgsNZAukkMAvtD10DVeOkmATPWQLDrtIE269ZA16NwPYJH10BlwpJfTJXWQMP1KFx3RtZAhEd+sZTZ1EAyj18syfnSQI/C9Sic0tJA/1ss+XW30kDZR0RE5F7SQI1RKiNUndFA4AaE70PT0UAUIgHfLBzSQEY9pw3E4dFAuk6f9Om70kCMwxUnoO3SQFCIBHyztNJA4NZAp7040kDWi+M4TvrSQNcXKjusxNJAjqpoJCBW0kD0hIiImD7TQNlHREQEwtFA8tJNYsBA0UAFdk7Wxr7QQD0K16O429BAK4cW2U5Q0kCZ+5qbv7TSQOOlm8Qg89FABFYOLToJ0kAFPat35kPSQNUaMVDuMNJAAiuHFmln0UA/NV66OVPRQCe4u7v7NdFAAAAAAIBP0EAAAAAAgB3PQAAAAACAYs9AAAAAAADfz0AAAAAAgNLPQAAAAAAApM5AAAAAAADjzUAAAAAAAO3NQAAAAAAAO85AAAAAAIDpzEAAAAAAgGfOQAAAAAAAcs5AAAAAAAChy0AAAAAAAGPLQAAAAACAc8pAAAAAAIDeykAAAAAAgNPKQAAAAAAAe8pAAAAAAABGykAAAAAAAOzJQAAAAAAAoMpAAAAAAIB8yUAAAAAAAHLJQAAAAAAAmclAAAAAAABByUA=\",\"dtype\":\"float64\",\"order\":\"little\",\"shape\":[100]}]},\"selected\":{\"id\":\"1380\"},\"selection_policy\":{\"id\":\"1379\"}},\"id\":\"1346\",\"type\":\"ColumnDataSource\"},{\"attributes\":{},\"id\":\"1367\",\"type\":\"UnionRenderers\"},{\"attributes\":{},\"id\":\"1372\",\"type\":\"Selection\"},{\"attributes\":{},\"id\":\"1350\",\"type\":\"Selection\"},{\"attributes\":{},\"id\":\"1351\",\"type\":\"UnionRenderers\"},{\"attributes\":{},\"id\":\"1368\",\"type\":\"Selection\"},{\"attributes\":{\"_render_count\":0,\"config\":null,\"data\":[{\"hovertemplate\":\"variable=BTC<br>Date=%{x}<br>value=%{y}<extra></extra>\",\"legendgroup\":\"BTC\",\"line\":{\"color\":\"#636efa\",\"dash\":\"solid\"},\"mode\":\"lines\",\"name\":\"BTC\",\"orientation\":\"v\",\"showlegend\":true,\"type\":\"scatter\",\"xaxis\":\"x\",\"yaxis\":\"y\"},{\"hovertemplate\":\"variable=ETH<br>Date=%{x}<br>value=%{y}<extra></extra>\",\"legendgroup\":\"ETH\",\"line\":{\"color\":\"#EF553B\",\"dash\":\"solid\"},\"mode\":\"lines\",\"name\":\"ETH\",\"orientation\":\"v\",\"showlegend\":true,\"type\":\"scatter\",\"xaxis\":\"x\",\"yaxis\":\"y\"},{\"hovertemplate\":\"variable=XRP<br>Date=%{x}<br>value=%{y}<extra></extra>\",\"legendgroup\":\"XRP\",\"line\":{\"color\":\"#00cc96\",\"dash\":\"solid\"},\"mode\":\"lines\",\"name\":\"XRP\",\"orientation\":\"v\",\"showlegend\":true,\"type\":\"scatter\",\"xaxis\":\"x\",\"yaxis\":\"y\"},{\"hovertemplate\":\"variable=LTC<br>Date=%{x}<br>value=%{y}<extra></extra>\",\"legendgroup\":\"LTC\",\"line\":{\"color\":\"#ab63fa\",\"dash\":\"solid\"},\"mode\":\"lines\",\"name\":\"LTC\",\"orientation\":\"v\",\"showlegend\":true,\"type\":\"scatter\",\"xaxis\":\"x\",\"yaxis\":\"y\"},{\"hovertemplate\":\"variable=SPY<br>Date=%{x}<br>value=%{y}<extra></extra>\",\"legendgroup\":\"SPY\",\"line\":{\"color\":\"#FFA15A\",\"dash\":\"solid\"},\"mode\":\"lines\",\"name\":\"SPY\",\"orientation\":\"v\",\"showlegend\":true,\"type\":\"scatter\",\"xaxis\":\"x\",\"yaxis\":\"y\"},{\"hovertemplate\":\"variable=GLD<br>Date=%{x}<br>value=%{y}<extra></extra>\",\"legendgroup\":\"GLD\",\"line\":{\"color\":\"#19d3f3\",\"dash\":\"solid\"},\"mode\":\"lines\",\"name\":\"GLD\",\"orientation\":\"v\",\"showlegend\":true,\"type\":\"scatter\",\"xaxis\":\"x\",\"yaxis\":\"y\"}],\"data_sources\":[{\"id\":\"1331\"},{\"id\":\"1332\"},{\"id\":\"1333\"},{\"id\":\"1334\"},{\"id\":\"1335\"},{\"id\":\"1336\"}],\"layout\":{\"height\":400,\"legend\":{\"title\":{\"text\":\"variable\"},\"tracegroupgap\":0},\"template\":{\"data\":{\"bar\":[{\"error_x\":{\"color\":\"#2a3f5f\"},\"error_y\":{\"color\":\"#2a3f5f\"},\"marker\":{\"line\":{\"color\":\"#E5ECF6\",\"width\":0.5}},\"type\":\"bar\"}],\"barpolar\":[{\"marker\":{\"line\":{\"color\":\"#E5ECF6\",\"width\":0.5}},\"type\":\"barpolar\"}],\"carpet\":[{\"aaxis\":{\"endlinecolor\":\"#2a3f5f\",\"gridcolor\":\"white\",\"linecolor\":\"white\",\"minorgridcolor\":\"white\",\"startlinecolor\":\"#2a3f5f\"},\"baxis\":{\"endlinecolor\":\"#2a3f5f\",\"gridcolor\":\"white\",\"linecolor\":\"white\",\"minorgridcolor\":\"white\",\"startlinecolor\":\"#2a3f5f\"},\"type\":\"carpet\"}],\"choropleth\":[{\"colorbar\":{\"outlinewidth\":0,\"ticks\":\"\"},\"type\":\"choropleth\"}],\"contour\":[{\"colorbar\":{\"outlinewidth\":0,\"ticks\":\"\"},\"colorscale\":[[0.0,\"#0d0887\"],[0.1111111111111111,\"#46039f\"],[0.2222222222222222,\"#7201a8\"],[0.3333333333333333,\"#9c179e\"],[0.4444444444444444,\"#bd3786\"],[0.5555555555555556,\"#d8576b\"],[0.6666666666666666,\"#ed7953\"],[0.7777777777777778,\"#fb9f3a\"],[0.8888888888888888,\"#fdca26\"],[1.0,\"#f0f921\"]],\"type\":\"contour\"}],\"contourcarpet\":[{\"colorbar\":{\"outlinewidth\":0,\"ticks\":\"\"},\"type\":\"contourcarpet\"}],\"heatmap\":[{\"colorbar\":{\"outlinewidth\":0,\"ticks\":\"\"},\"colorscale\":[[0.0,\"#0d0887\"],[0.1111111111111111,\"#46039f\"],[0.2222222222222222,\"#7201a8\"],[0.3333333333333333,\"#9c179e\"],[0.4444444444444444,\"#bd3786\"],[0.5555555555555556,\"#d8576b\"],[0.6666666666666666,\"#ed7953\"],[0.7777777777777778,\"#fb9f3a\"],[0.8888888888888888,\"#fdca26\"],[1.0,\"#f0f921\"]],\"type\":\"heatmap\"}],\"heatmapgl\":[{\"colorbar\":{\"outlinewidth\":0,\"ticks\":\"\"},\"colorscale\":[[0.0,\"#0d0887\"],[0.1111111111111111,\"#46039f\"],[0.2222222222222222,\"#7201a8\"],[0.3333333333333333,\"#9c179e\"],[0.4444444444444444,\"#bd3786\"],[0.5555555555555556,\"#d8576b\"],[0.6666666666666666,\"#ed7953\"],[0.7777777777777778,\"#fb9f3a\"],[0.8888888888888888,\"#fdca26\"],[1.0,\"#f0f921\"]],\"type\":\"heatmapgl\"}],\"histogram\":[{\"marker\":{\"colorbar\":{\"outlinewidth\":0,\"ticks\":\"\"}},\"type\":\"histogram\"}],\"histogram2d\":[{\"colorbar\":{\"outlinewidth\":0,\"ticks\":\"\"},\"colorscale\":[[0.0,\"#0d0887\"],[0.1111111111111111,\"#46039f\"],[0.2222222222222222,\"#7201a8\"],[0.3333333333333333,\"#9c179e\"],[0.4444444444444444,\"#bd3786\"],[0.5555555555555556,\"#d8576b\"],[0.6666666666666666,\"#ed7953\"],[0.7777777777777778,\"#fb9f3a\"],[0.8888888888888888,\"#fdca26\"],[1.0,\"#f0f921\"]],\"type\":\"histogram2d\"}],\"histogram2dcontour\":[{\"colorbar\":{\"outlinewidth\":0,\"ticks\":\"\"},\"colorscale\":[[0.0,\"#0d0887\"],[0.1111111111111111,\"#46039f\"],[0.2222222222222222,\"#7201a8\"],[0.3333333333333333,\"#9c179e\"],[0.4444444444444444,\"#bd3786\"],[0.5555555555555556,\"#d8576b\"],[0.6666666666666666,\"#ed7953\"],[0.7777777777777778,\"#fb9f3a\"],[0.8888888888888888,\"#fdca26\"],[1.0,\"#f0f921\"]],\"type\":\"histogram2dcontour\"}],\"mesh3d\":[{\"colorbar\":{\"outlinewidth\":0,\"ticks\":\"\"},\"type\":\"mesh3d\"}],\"parcoords\":[{\"line\":{\"colorbar\":{\"outlinewidth\":0,\"ticks\":\"\"}},\"type\":\"parcoords\"}],\"pie\":[{\"automargin\":true,\"type\":\"pie\"}],\"scatter\":[{\"marker\":{\"colorbar\":{\"outlinewidth\":0,\"ticks\":\"\"}},\"type\":\"scatter\"}],\"scatter3d\":[{\"line\":{\"colorbar\":{\"outlinewidth\":0,\"ticks\":\"\"}},\"marker\":{\"colorbar\":{\"outlinewidth\":0,\"ticks\":\"\"}},\"type\":\"scatter3d\"}],\"scattercarpet\":[{\"marker\":{\"colorbar\":{\"outlinewidth\":0,\"ticks\":\"\"}},\"type\":\"scattercarpet\"}],\"scattergeo\":[{\"marker\":{\"colorbar\":{\"outlinewidth\":0,\"ticks\":\"\"}},\"type\":\"scattergeo\"}],\"scattergl\":[{\"marker\":{\"colorbar\":{\"outlinewidth\":0,\"ticks\":\"\"}},\"type\":\"scattergl\"}],\"scattermapbox\":[{\"marker\":{\"colorbar\":{\"outlinewidth\":0,\"ticks\":\"\"}},\"type\":\"scattermapbox\"}],\"scatterpolar\":[{\"marker\":{\"colorbar\":{\"outlinewidth\":0,\"ticks\":\"\"}},\"type\":\"scatterpolar\"}],\"scatterpolargl\":[{\"marker\":{\"colorbar\":{\"outlinewidth\":0,\"ticks\":\"\"}},\"type\":\"scatterpolargl\"}],\"scatterternary\":[{\"marker\":{\"colorbar\":{\"outlinewidth\":0,\"ticks\":\"\"}},\"type\":\"scatterternary\"}],\"surface\":[{\"colorbar\":{\"outlinewidth\":0,\"ticks\":\"\"},\"colorscale\":[[0.0,\"#0d0887\"],[0.1111111111111111,\"#46039f\"],[0.2222222222222222,\"#7201a8\"],[0.3333333333333333,\"#9c179e\"],[0.4444444444444444,\"#bd3786\"],[0.5555555555555556,\"#d8576b\"],[0.6666666666666666,\"#ed7953\"],[0.7777777777777778,\"#fb9f3a\"],[0.8888888888888888,\"#fdca26\"],[1.0,\"#f0f921\"]],\"type\":\"surface\"}],\"table\":[{\"cells\":{\"fill\":{\"color\":\"#EBF0F8\"},\"line\":{\"color\":\"white\"}},\"header\":{\"fill\":{\"color\":\"#C8D4E3\"},\"line\":{\"color\":\"white\"}},\"type\":\"table\"}]},\"layout\":{\"annotationdefaults\":{\"arrowcolor\":\"#2a3f5f\",\"arrowhead\":0,\"arrowwidth\":1},\"autotypenumbers\":\"strict\",\"coloraxis\":{\"colorbar\":{\"outlinewidth\":0,\"ticks\":\"\"}},\"colorscale\":{\"diverging\":[[0,\"#8e0152\"],[0.1,\"#c51b7d\"],[0.2,\"#de77ae\"],[0.3,\"#f1b6da\"],[0.4,\"#fde0ef\"],[0.5,\"#f7f7f7\"],[0.6,\"#e6f5d0\"],[0.7,\"#b8e186\"],[0.8,\"#7fbc41\"],[0.9,\"#4d9221\"],[1,\"#276419\"]],\"sequential\":[[0.0,\"#0d0887\"],[0.1111111111111111,\"#46039f\"],[0.2222222222222222,\"#7201a8\"],[0.3333333333333333,\"#9c179e\"],[0.4444444444444444,\"#bd3786\"],[0.5555555555555556,\"#d8576b\"],[0.6666666666666666,\"#ed7953\"],[0.7777777777777778,\"#fb9f3a\"],[0.8888888888888888,\"#fdca26\"],[1.0,\"#f0f921\"]],\"sequentialminus\":[[0.0,\"#0d0887\"],[0.1111111111111111,\"#46039f\"],[0.2222222222222222,\"#7201a8\"],[0.3333333333333333,\"#9c179e\"],[0.4444444444444444,\"#bd3786\"],[0.5555555555555556,\"#d8576b\"],[0.6666666666666666,\"#ed7953\"],[0.7777777777777778,\"#fb9f3a\"],[0.8888888888888888,\"#fdca26\"],[1.0,\"#f0f921\"]]},\"colorway\":[\"#636efa\",\"#EF553B\",\"#00cc96\",\"#ab63fa\",\"#FFA15A\",\"#19d3f3\",\"#FF6692\",\"#B6E880\",\"#FF97FF\",\"#FECB52\"],\"font\":{\"color\":\"#2a3f5f\"},\"geo\":{\"bgcolor\":\"white\",\"lakecolor\":\"white\",\"landcolor\":\"#E5ECF6\",\"showlakes\":true,\"showland\":true,\"subunitcolor\":\"white\"},\"hoverlabel\":{\"align\":\"left\"},\"hovermode\":\"closest\",\"mapbox\":{\"style\":\"light\"},\"paper_bgcolor\":\"white\",\"plot_bgcolor\":\"#E5ECF6\",\"polar\":{\"angularaxis\":{\"gridcolor\":\"white\",\"linecolor\":\"white\",\"ticks\":\"\"},\"bgcolor\":\"#E5ECF6\",\"radialaxis\":{\"gridcolor\":\"white\",\"linecolor\":\"white\",\"ticks\":\"\"}},\"scene\":{\"xaxis\":{\"backgroundcolor\":\"#E5ECF6\",\"gridcolor\":\"white\",\"gridwidth\":2,\"linecolor\":\"white\",\"showbackground\":true,\"ticks\":\"\",\"zerolinecolor\":\"white\"},\"yaxis\":{\"backgroundcolor\":\"#E5ECF6\",\"gridcolor\":\"white\",\"gridwidth\":2,\"linecolor\":\"white\",\"showbackground\":true,\"ticks\":\"\",\"zerolinecolor\":\"white\"},\"zaxis\":{\"backgroundcolor\":\"#E5ECF6\",\"gridcolor\":\"white\",\"gridwidth\":2,\"linecolor\":\"white\",\"showbackground\":true,\"ticks\":\"\",\"zerolinecolor\":\"white\"}},\"shapedefaults\":{\"line\":{\"color\":\"#2a3f5f\"}},\"ternary\":{\"aaxis\":{\"gridcolor\":\"white\",\"linecolor\":\"white\",\"ticks\":\"\"},\"baxis\":{\"gridcolor\":\"white\",\"linecolor\":\"white\",\"ticks\":\"\"},\"bgcolor\":\"#E5ECF6\",\"caxis\":{\"gridcolor\":\"white\",\"linecolor\":\"white\",\"ticks\":\"\"}},\"title\":{\"x\":0.05},\"xaxis\":{\"automargin\":true,\"gridcolor\":\"white\",\"linecolor\":\"white\",\"ticks\":\"\",\"title\":{\"standoff\":15},\"zerolinecolor\":\"white\",\"zerolinewidth\":2},\"yaxis\":{\"automargin\":true,\"gridcolor\":\"white\",\"linecolor\":\"white\",\"ticks\":\"\",\"title\":{\"standoff\":15},\"zerolinecolor\":\"white\",\"zerolinewidth\":2}}},\"title\":{\"text\":\"Rolling Standard Deviation\"},\"width\":1000,\"xaxis\":{\"anchor\":\"y\",\"domain\":[0.0,1.0],\"title\":{\"text\":\"Date\"}},\"yaxis\":{\"anchor\":\"x\",\"domain\":[0.0,1.0],\"title\":{\"text\":\"value\"}}},\"margin\":[5,5,5,5],\"name\":\"Plotly01498\",\"viewport_update_throttle\":200},\"id\":\"1337\",\"type\":\"panel.models.plotly.PlotlyPlot\"},{\"attributes\":{\"data\":{\"x\":[[\"2020-11-02\",\"2020-11-03\",\"2020-11-04\",\"2020-11-05\",\"2020-11-06\",\"2020-11-09\",\"2020-11-10\",\"2020-11-11\",\"2020-11-12\",\"2020-11-13\",\"2020-11-16\",\"2020-11-17\",\"2020-11-18\",\"2020-11-19\",\"2020-11-20\",\"2020-11-23\",\"2020-11-24\",\"2020-11-25\",\"2020-11-27\",\"2020-11-30\",\"2020-12-01\",\"2020-12-02\",\"2020-12-03\",\"2020-12-04\",\"2020-12-07\",\"2020-12-08\",\"2020-12-09\",\"2020-12-10\",\"2020-12-11\",\"2020-12-14\",\"2020-12-15\",\"2020-12-16\",\"2020-12-17\",\"2020-12-18\",\"2020-12-21\",\"2020-12-22\",\"2020-12-23\",\"2020-12-24\",\"2020-12-28\",\"2020-12-29\",\"2020-12-30\",\"2020-12-31\"]],\"y\":[{\"__ndarray__\":\"8icpn+2QoT8+gAt1pOKhPzy0Yk4U16E/HTu6AtDQoT+VcYKBaZyjP3X6pOL506M/y3fp07ALpD+inOZ7vUqkP0xfvggtR6Q/GTfkrVhVpD863n+HcJWkP3DCboeCh6w/PYKF2w2arD8UwXe07fCsPwGLPA9w6Ks//Gl0K0G5rD/PsSdc1nqtP0oCvpEa+Kw/LBk3yuGlsD/Y2Lh+j+2wP9+ORrFcmbE/yXFuaZLFsT8HoELcbI2xPwW8Kn96jrE/metukemTsT86g1i/91SxP0nDuQm1LbI/SwGYwCoDsj8fKD6SlB6yP3aJ4X9fZLI/EigecL5osj/7jI0neFeyP+MWsDGeP7E/qRpatsawsT+wdoZtscKxP8BCnKv40rE/6PwxyNIjsj/IEqm6tfKyP9cxptF8+rI/ohWDxTE7sT+21FKDcbewP5m67ZNxPa8/\",\"dtype\":\"float64\",\"order\":\"little\",\"shape\":[42]}]},\"selected\":{\"id\":\"1368\"},\"selection_policy\":{\"id\":\"1367\"}},\"id\":\"1334\",\"type\":\"ColumnDataSource\"},{\"attributes\":{},\"id\":\"1352\",\"type\":\"Selection\"},{\"attributes\":{},\"id\":\"1353\",\"type\":\"UnionRenderers\"},{\"attributes\":{},\"id\":\"1369\",\"type\":\"UnionRenderers\"},{\"attributes\":{\"data\":{\"x\":[[\"2020-10-05\",\"2020-10-06\",\"2020-10-07\",\"2020-10-08\",\"2020-10-09\",\"2020-10-12\",\"2020-10-13\",\"2020-10-14\",\"2020-10-15\",\"2020-10-16\",\"2020-10-19\",\"2020-10-20\",\"2020-10-21\",\"2020-10-22\",\"2020-10-23\",\"2020-10-26\",\"2020-10-27\",\"2020-10-28\",\"2020-10-29\",\"2020-10-30\",\"2020-11-02\",\"2020-11-03\",\"2020-11-04\",\"2020-11-05\",\"2020-11-06\",\"2020-11-09\",\"2020-11-10\",\"2020-11-11\",\"2020-11-12\",\"2020-11-13\",\"2020-11-16\",\"2020-11-17\",\"2020-11-18\",\"2020-11-19\",\"2020-11-20\",\"2020-11-23\",\"2020-11-24\",\"2020-11-25\",\"2020-11-27\",\"2020-11-30\",\"2020-12-01\",\"2020-12-02\",\"2020-12-03\",\"2020-12-04\",\"2020-12-07\",\"2020-12-08\",\"2020-12-09\",\"2020-12-10\",\"2020-12-11\",\"2020-12-14\",\"2020-12-15\",\"2020-12-16\",\"2020-12-17\",\"2020-12-18\",\"2020-12-21\",\"2020-12-22\",\"2020-12-23\",\"2020-12-24\",\"2020-12-28\",\"2020-12-29\",\"2020-12-30\",\"2020-12-31\"]],\"y\":[{\"__ndarray__\":\"hNEypIpK8D/aVMM9cFfwP7BPhOY2gO8/aEJuFYOV7z+5fJv7/DvwP7AeQvBBZ/A/1rGQPiXy8D+2sZX1CLPwP2S+xGVdmfA/UjwM95WM8D9aJFDPtQDxP5Jwop+tCfE/Q3BWRWGQ8D/2b1ZfLZbxP/2elaX/n/I/s3eDx0VZ8j9BVMq4G7/xP8sI4nbMOPI/r/gyKziL8T/Q2WO8T3zxP924OhsG8vE/2r43r9dU8T8zTVyvwY/xP6KwB4aYOvI/2olWzYXc8j97FE+BWqzzP7z95wDJP/M/FfqcUSSD8z9/0W2kDRL0P+HPn2wUCfQ/MO/A1il98z+o3LnFoQX0P51xj41t+PQ/8grIug3P9D/8ThkLiID0P+5ylNUTyvQ/WwgZP56W9j/g/L6dm3H2P+2uyHl0gfQ/8tuuVdD09T9iRB+Rm4L3P7r867mBVPY/7vVGxbvG9j9lPtQ2XYD3Pwz04J9Nr/c/5uBgv41H9z+BMid9RdT1P28V5zKGj/Y/X32ksu/49T/MCkA0QNP2PygNs4qEqPY/nuHngSDD9j8etTxo16b4Pxmoaako3Pg/arzzDW8U+D+pU2NNq/D2P81O76uDDPg/haMh07AW9j+deSzq1rv3Pwv445SlUPk/3xKpFadj+T9u6KmmIxv6Pw==\",\"dtype\":\"float64\",\"order\":\"little\",\"shape\":[62]}]},\"selected\":{\"id\":\"1352\"},\"selection_policy\":{\"id\":\"1351\"}},\"id\":\"1323\",\"type\":\"ColumnDataSource\"},{\"attributes\":{},\"id\":\"1354\",\"type\":\"Selection\"},{\"attributes\":{},\"id\":\"1370\",\"type\":\"Selection\"},{\"attributes\":{\"children\":[{\"id\":\"1328\"}],\"margin\":[0,0,0,0],\"name\":\"Column01497\"},\"id\":\"1321\",\"type\":\"Column\"},{\"attributes\":{},\"id\":\"1349\",\"type\":\"UnionRenderers\"},{\"attributes\":{},\"id\":\"1355\",\"type\":\"UnionRenderers\"},{\"attributes\":{},\"id\":\"1371\",\"type\":\"UnionRenderers\"},{\"attributes\":{\"data\":{\"x\":[[\"2020-11-02\",\"2020-11-03\",\"2020-11-04\",\"2020-11-05\",\"2020-11-06\",\"2020-11-09\",\"2020-11-10\",\"2020-11-11\",\"2020-11-12\",\"2020-11-13\",\"2020-11-16\",\"2020-11-17\",\"2020-11-18\",\"2020-11-19\",\"2020-11-20\",\"2020-11-23\",\"2020-11-24\",\"2020-11-25\",\"2020-11-27\",\"2020-11-30\",\"2020-12-01\",\"2020-12-02\",\"2020-12-03\",\"2020-12-04\",\"2020-12-07\",\"2020-12-08\",\"2020-12-09\",\"2020-12-10\",\"2020-12-11\",\"2020-12-14\",\"2020-12-15\",\"2020-12-16\",\"2020-12-17\",\"2020-12-18\",\"2020-12-21\",\"2020-12-22\",\"2020-12-23\",\"2020-12-24\",\"2020-12-28\",\"2020-12-29\",\"2020-12-30\",\"2020-12-31\"]],\"y\":[{\"__ndarray__\":\"YEuCIfSzlT/eLuCnDWOWPypii5FqJJc/TfLSX80tlj9IJCgVM/KdPzd73S+9iJ4/PzL7rtkBnz83G8g7QkOfP5mOH8Asy54/nTdEd7bYnj9HZJu04EefPy1FTCCe458/U311Izx9oD9zDCjw6IygP1Ag0aLA6Z4/VYvPIRTGnz8hF7YuraefP7XbwqEY/58/rBotS2dBoz9YNFmWq7iiP8xtS8EANqQ/+jhoFbtipT/4Va5LaRilP0VT8FUzAaU/09/d40X+pD8Fl5lCLaaiP2tGPBkEQ6M/z4txIhgsoz+xZD88HlWjP0meqiQOQqM/vI/Umejtoj+R0sfzf9+iP87cEv2uE6U/rq7rOwZ0pT8lsDv5AqOlPyRQjfKKF6Y/Yjx7Z0Zkpj+yR5oJMbGmPzdTI45+Z6Y/T1rEFLnqoz9XGa/WwtijPxV2v8qIwqI/\",\"dtype\":\"float64\",\"order\":\"little\",\"shape\":[42]}]},\"selected\":{\"id\":\"1362\"},\"selection_policy\":{\"id\":\"1361\"}},\"id\":\"1331\",\"type\":\"ColumnDataSource\"},{\"attributes\":{\"data\":{\"x\":[[\"2020-11-02\",\"2020-11-03\",\"2020-11-04\",\"2020-11-05\",\"2020-11-06\",\"2020-11-09\",\"2020-11-10\",\"2020-11-11\",\"2020-11-12\",\"2020-11-13\",\"2020-11-16\",\"2020-11-17\",\"2020-11-18\",\"2020-11-19\",\"2020-11-20\",\"2020-11-23\",\"2020-11-24\",\"2020-11-25\",\"2020-11-27\",\"2020-11-30\",\"2020-12-01\",\"2020-12-02\",\"2020-12-03\",\"2020-12-04\",\"2020-12-07\",\"2020-12-08\",\"2020-12-09\",\"2020-12-10\",\"2020-12-11\",\"2020-12-14\",\"2020-12-15\",\"2020-12-16\",\"2020-12-17\",\"2020-12-18\",\"2020-12-21\",\"2020-12-22\",\"2020-12-23\",\"2020-12-24\",\"2020-12-28\",\"2020-12-29\",\"2020-12-30\",\"2020-12-31\"]],\"y\":[{\"__ndarray__\":\"5Yqb+WsPnT9XmyuV3DqePxMaqvKLT54//hrqYJSznT+8fp73k0qeP3NeTECU954/CajmGx29nz8y+4ZA9TqfP2nPKPctJZ8//jtss+cMnz9wxuNfagKgP2ZN2wYwAqA/ZOX2+Y2RoD8O+xf0LRugP/JH4y7TbZ4/VD7MpHIEnD8gHI7QFXCgP87WFEeWjp8/T+3kNgEUoz+464HIpqejP0YXNxLUpKQ/EYaGHyrUpT8BX5kHRC2lP+rJZjRYRaU/XMF9JCEbpT80dCCwdjalPwPs1QStWqY/0U220bFQpj8HTdm4RqKmP64WReTEyqY/vLNRRyzUpj9S8mYj2HqmPz/LxCZT6ac/RqsZKRGHpz+3RSUcReWnPweAD3H1kag/kZbCpv4AqT/kZMhLfSSpP2hY10JWdao/iCbc/fQZqT93L8+qOR6oP7dvhdE6Hac/\",\"dtype\":\"float64\",\"order\":\"little\",\"shape\":[42]}]},\"selected\":{\"id\":\"1364\"},\"selection_policy\":{\"id\":\"1363\"}},\"id\":\"1332\",\"type\":\"ColumnDataSource\"},{\"attributes\":{},\"id\":\"1356\",\"type\":\"Selection\"},{\"attributes\":{\"data\":{\"x\":[[\"2020-10-05\",\"2020-10-06\",\"2020-10-07\",\"2020-10-08\",\"2020-10-09\",\"2020-10-12\",\"2020-10-13\",\"2020-10-14\",\"2020-10-15\",\"2020-10-16\",\"2020-10-19\",\"2020-10-20\",\"2020-10-21\",\"2020-10-22\",\"2020-10-23\",\"2020-10-26\",\"2020-10-27\",\"2020-10-28\",\"2020-10-29\",\"2020-10-30\",\"2020-11-02\",\"2020-11-03\",\"2020-11-04\",\"2020-11-05\",\"2020-11-06\",\"2020-11-09\",\"2020-11-10\",\"2020-11-11\",\"2020-11-12\",\"2020-11-13\",\"2020-11-16\",\"2020-11-17\",\"2020-11-18\",\"2020-11-19\",\"2020-11-20\",\"2020-11-23\",\"2020-11-24\",\"2020-11-25\",\"2020-11-27\",\"2020-11-30\",\"2020-12-01\",\"2020-12-02\",\"2020-12-03\",\"2020-12-04\",\"2020-12-07\",\"2020-12-08\",\"2020-12-09\",\"2020-12-10\",\"2020-12-11\",\"2020-12-14\",\"2020-12-15\",\"2020-12-16\",\"2020-12-17\",\"2020-12-18\",\"2020-12-21\",\"2020-12-22\",\"2020-12-23\",\"2020-12-24\",\"2020-12-28\",\"2020-12-29\",\"2020-12-30\",\"2020-12-31\"]],\"y\":[{\"__ndarray__\":\"5tFY28EF8T+wmRenpjDxP0c2bQv82fA/xQIBKRsW8T9s2hb4s0HxP3Qfc1JXVfE/ZS1j1jJm8T+m0qdZim7xP5QbNF/D7fA/YNPsSjKz8D8KqLfh083wP+1C5pb3C/E/Q4huclvh8D9CnoJtKnHxPwfuMkp33fE/wh0numik8T89u5RDnUvxP7TmJP+1mfE/Hg8LJOYc8T/ZPv+T1+PwPwJJtsmk5fA/g2sb7feQ8D+IKpEoPeDwP8XHNTSRvPA/Q5Yu9SJO8T/qytoTap3xPzdmNjQLavE/kb7o0Xqm8T8vmELFB8rxP2riPzOztPE/Q78UE0DG8T++/r+bJAHzP4RC7KaF9/M/gA4JMZhb8z+cv7DruAf0P0e/PT1nWPM/9l8si9zC+j8hk1D4LRP+PyPhsBg5o/k/iq+J9lHG+D8X/eux6i37P+vuCNMKA/k/qN+/nd3H+T/3eFy4Mc/5PwG72KGAZvs/dw51CHHQ+j/5AikBsJ/4P0P6mEJftvk/81ECUcY++T9VqG55oZH5PydgXhFnxPg/DsvJq7xS9z919E4JZGT8PzVpW8ZExfw/RvSoQ+Kx+z+uMRLinKT5P22/5B1GNPY/MrsdqEjt6T9SWy2FyO7oPy7qJn06veU/ixPDWWZx4z9tze3cL5niPw==\",\"dtype\":\"float64\",\"order\":\"little\",\"shape\":[62]}]},\"selected\":{\"id\":\"1354\"},\"selection_policy\":{\"id\":\"1353\"}},\"id\":\"1324\",\"type\":\"ColumnDataSource\"},{\"attributes\":{},\"id\":\"1357\",\"type\":\"UnionRenderers\"}],\"root_ids\":[\"1320\",\"1445\"]},\"title\":\"Bokeh Application\",\"version\":\"2.2.3\"}};\n    var render_items = [{\"docid\":\"10b05cc9-7846-4ee5-979b-fff892078b41\",\"root_ids\":[\"1320\"],\"roots\":{\"1320\":\"ffb1497e-50d0-4a66-a937-3d113b17d096\"}}];\n    root.Bokeh.embed.embed_items_notebook(docs_json, render_items);\n  }\n  if (root.Bokeh !== undefined && root.Bokeh.Panel !== undefined && root['Plotly'] !== undefined ) {\n    embed_document(root);\n  } else {\n    var attempts = 0;\n    var timer = setInterval(function(root) {\n      if (root.Bokeh !== undefined && root.Bokeh.Panel !== undefined && root['Plotly'] !== undefined) {\n        clearInterval(timer);\n        embed_document(root);\n      } else if (document.readyState == \"complete\") {\n        attempts++;\n        if (attempts > 100) {\n          clearInterval(timer);\n          console.log(\"Bokeh: ERROR: Unable to run BokehJS code because BokehJS library is missing\");\n        }\n      }\n    }, 10, root)\n  }\n})(window);</script>",
      "application/vnd.holoviews_exec.v0+json": "",
      "text/plain": [
       "Tabs\n",
       "    [0] Column\n",
       "        [0] Plotly(Figure)\n",
       "    [1] Column\n",
       "        [0] Plotly(Figure)\n",
       "    [2] Column\n",
       "        [0] Plotly(Figure)\n",
       "    [3] Column\n",
       "        [0] Plotly(Figure)"
      ]
     },
     "metadata": {
      "application/vnd.holoviews_exec.v0+json": {
       "id": "1320"
      }
     },
     "execution_count": 105
    }
   ],
   "source": [
    "dashboard.servable()"
   ]
  },
  {
   "cell_type": "code",
   "execution_count": null,
   "metadata": {},
   "outputs": [],
   "source": []
  }
 ],
 "metadata": {
  "kernelspec": {
   "name": "python3",
   "display_name": "Python 3.7.9 64-bit ('pyvizenv': conda)",
   "metadata": {
    "interpreter": {
     "hash": "a3d83b3bb7a284bee10f9f12036d8156a359fe396990fa5060485ae25a957122"
    }
   }
  },
  "language_info": {
   "codemirror_mode": {
    "name": "ipython",
    "version": 3
   },
   "file_extension": ".py",
   "mimetype": "text/x-python",
   "name": "python",
   "nbconvert_exporter": "python",
   "pygments_lexer": "ipython3",
   "version": "3.7.9-final"
  }
 },
 "nbformat": 4,
 "nbformat_minor": 4
}