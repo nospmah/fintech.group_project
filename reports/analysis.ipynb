{
 "cells": [
  {
   "cell_type": "code",
   "execution_count": 68,
   "metadata": {},
   "outputs": [],
   "source": [
    "import panel as pn\n",
    "pn.extension('plotly')\n",
    "from panel.interact import interact, interactive, fixed, interact_manual\n",
    "from panel import widgets\n",
    "import plotly.express as px\n",
    "import plotly.graph_objects as go\n",
    "from plotly.subplots import make_subplots\n",
    "import pandas as pd\n",
    "import hvplot.pandas\n",
    "import matplotlib.pyplot as plt\n",
    "import os\n",
    "from pathlib import Path\n",
    "from dotenv import load_dotenv\n",
    "import numpy as np\n",
    "from datetime import date\n",
    "import datetime\n",
    "from datetime import timedelta\n",
    "import requests\n",
    "import alpaca_trade_api as tradeapi \n",
    "\n",
    "\n",
    "%matplotlib inline"
   ]
  },
  {
   "cell_type": "code",
   "execution_count": 69,
   "metadata": {},
   "outputs": [
    {
     "data": {
      "text/plain": [
       "True"
      ]
     },
     "execution_count": 69,
     "metadata": {},
     "output_type": "execute_result"
    }
   ],
   "source": [
    "# Load env vars\n",
    "load_dotenv()"
   ]
  },
  {
   "cell_type": "code",
   "execution_count": 70,
   "metadata": {},
   "outputs": [],
   "source": [
    "# Get API keys\n",
    "coin_api_key = os.getenv('COIN_API_KEY') \n",
    "alpaca_api_key = os.getenv(\"ALPACA_API_KEY\")\n",
    "alpaca_secret_key = os.getenv(\"ALPACA_SECRET_KEY\")\n",
    "access_token = os.getenv(\"CQ_API_KEY\")"
   ]
  },
  {
   "cell_type": "code",
   "execution_count": 71,
   "metadata": {},
   "outputs": [],
   "source": [
    "# Load Headers\n",
    "headers = { 'Authorization': 'Bearer ' + access_token }"
   ]
  },
  {
   "cell_type": "code",
   "execution_count": 72,
   "metadata": {},
   "outputs": [],
   "source": [
    "# Common date params\n",
    "start_date = '2020-10-01'\n",
    "end_date = '2021-01-01'"
   ]
  },
  {
   "cell_type": "code",
   "execution_count": 73,
   "metadata": {},
   "outputs": [],
   "source": [
    "# Dashboard constants\n",
    "PANEL_WIDTH = 500\n",
    "PANEL_HEIGHT = 400"
   ]
  },
  {
   "cell_type": "code",
   "execution_count": 74,
   "metadata": {},
   "outputs": [],
   "source": [
    "def get_stock_OHLCV(api_key, secret_key, ticker, date_start, date_end, period) :\n",
    "    '''\n",
    "    Historical OHLCV for stocks using Alpaca API.\n",
    "\n",
    "            Parameters:\n",
    "                    api_key (string): Alpaca api key\n",
    "                    secret_key (string): Alpaca secret key\n",
    "                    ticker (string): Ticker - ex) 'SPY'\n",
    "                    date_start (string): example) '2015-01-01'\n",
    "                    date_end (string): example) '2015-01-01'\n",
    "                    period (string): example) '1D'\n",
    "\n",
    "            Returns:\n",
    "                    DateFrame with columns: ['date','open','high','low','close','volume']\n",
    "    '''\n",
    "\n",
    "    # Init Alpaca SDK\n",
    "    api = tradeapi.REST(\n",
    "        api_key,\n",
    "        secret_key,\n",
    "        api_version=\"v2\")\n",
    "\n",
    "    # Init start/end dates\n",
    "    start_date = pd.Timestamp(date_start, tz=\"America/New_York\").isoformat()\n",
    "    end_date = pd.Timestamp(date_end, tz=\"America/New_York\").isoformat()\n",
    "\n",
    "    # Make API call\n",
    "    raw_df = api.get_barset(\n",
    "        [ticker],\n",
    "        period,\n",
    "        start=start_date,\n",
    "        end=end_date).df\n",
    "\n",
    "    # Init new DataFrame\n",
    "    df = pd.DataFrame()\n",
    "    df['open'] = raw_df[ticker]['open']\n",
    "    df['high'] = raw_df[ticker]['high']\n",
    "    df['low'] = raw_df[ticker]['low']\n",
    "    df['close'] = raw_df[ticker]['close']\n",
    "    df['volume'] = raw_df[ticker]['volume']\n",
    "\n",
    "    # Parse date\n",
    "    df['date'] = raw_df.index.date\n",
    "\n",
    "    # Reset index\n",
    "    df.reset_index(inplace=True)\n",
    "\n",
    "    # Reorder columns\n",
    "    df = df[['date','open','high','low','close','volume']]\n",
    "\n",
    "    return df"
   ]
  },
  {
   "cell_type": "code",
   "execution_count": 75,
   "metadata": {},
   "outputs": [],
   "source": [
    "def get_crypto_OHLCV(api_key, ticker, date_start, date_end, period) :\n",
    "    '''\n",
    "    Historical OHLCV for crypto using OpenAPI.io.\n",
    "\n",
    "            Parameters:\n",
    "                    api_key (string): OpenAPI.io api key\n",
    "                    ticker (string): Ticker - ex) 'BTC'\n",
    "                    date_start (string): example) '2015-01-01'\n",
    "                    date_end (string): example) '2015-01-01'\n",
    "                    period (string): example) '1DAY'\n",
    "\n",
    "            Returns:\n",
    "                    DateFrame with columns: ['date','open','high','low','close','volume']\n",
    "    '''\n",
    "    # CoinAPI.io REST url for historical OHLCV\n",
    "    url = f'https://rest.coinapi.io/v1/ohlcv/{ticker}/USD/history?apikey={api_key}&period_id={period}&time_start={date_start}&time_end={date_end}&limit=100000'\n",
    "    # url = f'https://rest.coinapi.io/v1/ohlcv/{ticker}/USD/history?apikey={api_key}&period_id={period}&time_start={date_start}&time_end={date_end}&limit=100'\n",
    "    \n",
    "    # List of dictionary objects\n",
    "    results = requests.get(url).json()\n",
    "\n",
    "    # Init dataframe from raw results\n",
    "    df = pd.DataFrame(\n",
    "        results, \n",
    "        columns=['time_period_end','price_open','price_high','price_low','price_close','volume_traded'])\n",
    "\n",
    "    # Parse date from string\n",
    "    df['time_period_end'] = pd.to_datetime(df['time_period_end']).dt.date\n",
    "\n",
    "    # Rename columns\n",
    "    df.rename(\n",
    "        columns = {'time_period_end':'date',\n",
    "            'price_open':'open',\n",
    "            'price_high':'high',\n",
    "            'price_low':'low',\n",
    "            'price_close':'close',\n",
    "            'volume_traded':'volume'}, \n",
    "        inplace = True)\n",
    "\n",
    "    # Save to file\n",
    "    #df.to_csv(f'../data/OHLCV/{ticker}_ohlcv_{date_start}-{date_end}_v2.csv', header=None, index=None, sep=',', mode='a')\n",
    "\n",
    "    return df"
   ]
  },
  {
   "cell_type": "code",
   "execution_count": 76,
   "metadata": {},
   "outputs": [],
   "source": [
    "def get_pct_chg_for_OHLCV(ohlcv_data) :\n",
    "    '''\n",
    "    Helper method to convert OHLCV data to pct_chg.\n",
    "\n",
    "            Parameters:\n",
    "                    ohlcv_data (DataFrame): OHLCV data (from methods above)\n",
    "\n",
    "            Returns:\n",
    "                    DateFrame with column: ['close']\n",
    "    '''\n",
    "    returns_df = ohlcv_data[['close']]    \n",
    "    returns_df.index = ohlcv_data['date']\n",
    "    returns_df = returns_df.pct_change()\n",
    "    return returns_df"
   ]
  },
  {
   "cell_type": "code",
   "execution_count": 77,
   "metadata": {},
   "outputs": [],
   "source": [
    "def get_daily_returns(start_date, end_date, coin_api_key, alpaca_api_key, alpaca_secret_key) :\n",
    "    '''\n",
    "    Get daily returns for pre-selected assets\n",
    "\n",
    "            Parameters:\n",
    "                    start_date (string): start date\n",
    "                    end_date (string): start date\n",
    "\n",
    "            Returns:\n",
    "                    Panel.pane object for use in dashboard\n",
    "    '''\n",
    "    # Get closing data\n",
    "    btc_df = get_crypto_OHLCV(coin_api_key, 'BTC', start_date, end_date, '1DAY')\n",
    "    eth_df = get_crypto_OHLCV(coin_api_key, 'ETH', start_date, end_date, '1DAY')\n",
    "    xrp_df = get_crypto_OHLCV(coin_api_key, 'XRP', start_date, end_date, '1DAY')\n",
    "    link_df = get_crypto_OHLCV(coin_api_key, 'LINK', start_date, end_date, '1DAY')\n",
    "    ltc_df = get_crypto_OHLCV(coin_api_key, 'LTC', start_date, end_date, '1DAY')\n",
    "    xlm_df = get_crypto_OHLCV(coin_api_key, 'XLM', start_date, end_date, '1DAY')\n",
    "    spy_df = get_stock_OHLCV(alpaca_api_key, alpaca_secret_key, 'SPY', start_date, end_date, '1D')\n",
    "    gld_df = get_stock_OHLCV(alpaca_api_key, alpaca_secret_key, 'GLD', start_date, end_date, '1D')\n",
    "\n",
    "    # Calculate daily returns\n",
    "    btc_returns_df = get_pct_chg_for_OHLCV(btc_df)\n",
    "    eth_returns_df = get_pct_chg_for_OHLCV(eth_df)\n",
    "    xrp_returns_df = get_pct_chg_for_OHLCV(xrp_df)\n",
    "    link_returns_df = get_pct_chg_for_OHLCV(link_df)\n",
    "    ltc_returns_df = get_pct_chg_for_OHLCV(ltc_df)\n",
    "    xlm_returns_df = get_pct_chg_for_OHLCV(xlm_df)\n",
    "    spy_returns_df = get_pct_chg_for_OHLCV(spy_df)\n",
    "    gld_returns_df = get_pct_chg_for_OHLCV(gld_df)\n",
    "\n",
    "    # Combine daily returns\n",
    "    combined_daily_returns = pd.concat(\n",
    "        [btc_returns_df, eth_returns_df, xrp_returns_df, ltc_returns_df, spy_returns_df, gld_returns_df], \n",
    "        axis=\"columns\", \n",
    "        join=\"inner\")\n",
    "\n",
    "    combined_daily_returns = combined_daily_returns.dropna()\n",
    "\n",
    "    # Rename columns\n",
    "    combined_daily_returns.columns = ['BTC','ETH','XRP','LTC','SPY','GLD']\n",
    "\n",
    "    # Ensure we are sorted by date (index)\n",
    "    combined_daily_returns.sort_index()\n",
    "\n",
    "    return combined_daily_returns"
   ]
  },
  {
   "cell_type": "code",
   "execution_count": 78,
   "metadata": {},
   "outputs": [],
   "source": [
    "def get_cumulative_returns_plot(daily_returns) :\n",
    "    \n",
    "    # Calculate cumulative returns     \n",
    "    combined_cumulative_returns = (1 + daily_returns).cumprod()\n",
    "\n",
    "    # Plot with Plotly Express     \n",
    "    cum_returns_plot = px.line(\n",
    "        combined_cumulative_returns,\n",
    "        title ='Cumulative Returns',\n",
    "        labels={'date':'Date'},\n",
    "        width=PANEL_WIDTH*2,\n",
    "        height=PANEL_HEIGHT)\n",
    "  \n",
    "    return pn.panel(cum_returns_plot)"
   ]
  },
  {
   "cell_type": "code",
   "execution_count": 79,
   "metadata": {},
   "outputs": [],
   "source": [
    "def get_std_dev_plot(daily_returns) :\n",
    "    \n",
    "    rolling_stddev_all = daily_returns.rolling(window=21).std().dropna()\n",
    "\n",
    "    # Plot with Plotly Express     \n",
    "    rolling_stddev_plot = px.line(\n",
    "        rolling_stddev_all,\n",
    "        title ='Rolling Standard Deviation',\n",
    "        labels={'date':'Date'},\n",
    "        width=PANEL_WIDTH*2,\n",
    "        height=PANEL_HEIGHT)\n",
    "  \n",
    "    return pn.panel(rolling_stddev_plot)"
   ]
  },
  {
   "cell_type": "code",
   "execution_count": 80,
   "metadata": {},
   "outputs": [],
   "source": [
    "def get_netflow_data(ticker,fromdate,limit):\n",
    "    '''\n",
    "    Returns on-chain data (Netflow)n in new df\n",
    "        Parameters:\n",
    "            ticker (string) = Ticker for Desired Coin\n",
    "            fromdate (string) = Starting date of period desired\n",
    "            limit (int) = number of data points     \n",
    "    '''\n",
    "    #Initialize dotenv function, pull API key, build URL\n",
    "    headers = {'Authorization': 'Bearer ' + access_token}\n",
    "    URL = f'https://api.cryptoquant.com/v1/{ticker}/exchange-flows/netflow?exchange=all_exchange&window=day&from={fromdate}&limit={limit}'\n",
    "\n",
    "    # Initialize Dictionary\n",
    "    response = requests.get(URL, headers=headers)\n",
    "    \n",
    "    netflow_data = response.json()\n",
    "\n",
    "    #Transform to Dataframe and adjust data type\n",
    "    netflow_df = pd.DataFrame(data=netflow_data['result']['data'])\n",
    "    netflow_df['date'] = pd.to_datetime(netflow_df['date'])\n",
    "    netflow_df['netflow_total'] = netflow_df['netflow_total'].astype(str).astype('float64')\n",
    "   \n",
    "    return netflow_df"
   ]
  },
  {
   "cell_type": "code",
   "execution_count": 81,
   "metadata": {},
   "outputs": [
    {
     "data": {
      "text/html": [
       "<div>\n",
       "<style scoped>\n",
       "    .dataframe tbody tr th:only-of-type {\n",
       "        vertical-align: middle;\n",
       "    }\n",
       "\n",
       "    .dataframe tbody tr th {\n",
       "        vertical-align: top;\n",
       "    }\n",
       "\n",
       "    .dataframe thead th {\n",
       "        text-align: right;\n",
       "    }\n",
       "</style>\n",
       "<table border=\"1\" class=\"dataframe\">\n",
       "  <thead>\n",
       "    <tr style=\"text-align: right;\">\n",
       "      <th></th>\n",
       "      <th>date</th>\n",
       "      <th>netflow_total</th>\n",
       "    </tr>\n",
       "  </thead>\n",
       "  <tbody>\n",
       "    <tr>\n",
       "      <th>0</th>\n",
       "      <td>2021-02-01</td>\n",
       "      <td>1350.062693</td>\n",
       "    </tr>\n",
       "    <tr>\n",
       "      <th>1</th>\n",
       "      <td>2021-01-31</td>\n",
       "      <td>-20795.425262</td>\n",
       "    </tr>\n",
       "    <tr>\n",
       "      <th>2</th>\n",
       "      <td>2021-01-30</td>\n",
       "      <td>5216.551173</td>\n",
       "    </tr>\n",
       "    <tr>\n",
       "      <th>3</th>\n",
       "      <td>2021-01-29</td>\n",
       "      <td>17413.018375</td>\n",
       "    </tr>\n",
       "    <tr>\n",
       "      <th>4</th>\n",
       "      <td>2021-01-28</td>\n",
       "      <td>-6092.090538</td>\n",
       "    </tr>\n",
       "  </tbody>\n",
       "</table>\n",
       "</div>"
      ],
      "text/plain": [
       "        date  netflow_total\n",
       "0 2021-02-01    1350.062693\n",
       "1 2021-01-31  -20795.425262\n",
       "2 2021-01-30    5216.551173\n",
       "3 2021-01-29   17413.018375\n",
       "4 2021-01-28   -6092.090538"
      ]
     },
     "execution_count": 81,
     "metadata": {},
     "output_type": "execute_result"
    }
   ],
   "source": [
    "netflow_btc_df = get_netflow_data(\"btc\",\"20190101\",\"100\")\n",
    "netflow_btc_df.head(5)"
   ]
  },
  {
   "cell_type": "code",
   "execution_count": 82,
   "metadata": {},
   "outputs": [],
   "source": [
    "def get_price_data(ticker,fromdate,limit):\n",
    "    '''\n",
    "    Returns market data (ticker) in new df\n",
    "        Parameters:\n",
    "            ticker (string) = Ticker for Desired Coin\n",
    "            fromdate (string) = Starting date of period desired\n",
    "            limit (int) = number of data points     \n",
    "    '''\n",
    "    #Get Data & Initialize Dictionary\n",
    "    URL2 = f'https://api.cryptoquant.com/v1/{ticker}/market-data/price-usd?window=day&from={fromdate}&limit={limit}'\n",
    "    response2 = requests.get(URL2, headers=headers)\n",
    "    price_data = response2.json()\n",
    "    \n",
    "    #Transform to Dataframe and adjust data type\n",
    "    price_df = pd.DataFrame(data=price_data['result']['data'])\n",
    "    price_df = price_df.drop(['price_usd_high','price_usd_low','price_usd_open'], axis = 1)\n",
    "    price_df['date'] = pd.to_datetime(price_df['date'])\n",
    "    price_df['price_usd_close'] = price_df['price_usd_close'].astype(str).astype('float64')\n",
    "    price_df = price_df.dropna()\n",
    "\n",
    "    return price_df"
   ]
  },
  {
   "cell_type": "code",
   "execution_count": 83,
   "metadata": {},
   "outputs": [
    {
     "data": {
      "text/html": [
       "<div>\n",
       "<style scoped>\n",
       "    .dataframe tbody tr th:only-of-type {\n",
       "        vertical-align: middle;\n",
       "    }\n",
       "\n",
       "    .dataframe tbody tr th {\n",
       "        vertical-align: top;\n",
       "    }\n",
       "\n",
       "    .dataframe thead th {\n",
       "        text-align: right;\n",
       "    }\n",
       "</style>\n",
       "<table border=\"1\" class=\"dataframe\">\n",
       "  <thead>\n",
       "    <tr style=\"text-align: right;\">\n",
       "      <th></th>\n",
       "      <th>date</th>\n",
       "      <th>price_usd_close</th>\n",
       "    </tr>\n",
       "  </thead>\n",
       "  <tbody>\n",
       "    <tr>\n",
       "      <th>0</th>\n",
       "      <td>2021-02-01</td>\n",
       "      <td>33521.578333</td>\n",
       "    </tr>\n",
       "    <tr>\n",
       "      <th>1</th>\n",
       "      <td>2021-01-31</td>\n",
       "      <td>33109.748333</td>\n",
       "    </tr>\n",
       "    <tr>\n",
       "      <th>2</th>\n",
       "      <td>2021-01-30</td>\n",
       "      <td>34286.360000</td>\n",
       "    </tr>\n",
       "    <tr>\n",
       "      <th>3</th>\n",
       "      <td>2021-01-29</td>\n",
       "      <td>34244.506667</td>\n",
       "    </tr>\n",
       "    <tr>\n",
       "      <th>4</th>\n",
       "      <td>2021-01-28</td>\n",
       "      <td>33383.746667</td>\n",
       "    </tr>\n",
       "  </tbody>\n",
       "</table>\n",
       "</div>"
      ],
      "text/plain": [
       "        date  price_usd_close\n",
       "0 2021-02-01     33521.578333\n",
       "1 2021-01-31     33109.748333\n",
       "2 2021-01-30     34286.360000\n",
       "3 2021-01-29     34244.506667\n",
       "4 2021-01-28     33383.746667"
      ]
     },
     "execution_count": 83,
     "metadata": {},
     "output_type": "execute_result"
    }
   ],
   "source": [
    "price_btc_df = get_price_data(\"btc\",\"20190101\",\"100\")\n",
    "price_btc_df.head(5)"
   ]
  },
  {
   "cell_type": "code",
   "execution_count": 84,
   "metadata": {},
   "outputs": [],
   "source": [
    "def get_mvrv_data(ticker,fromdate,limit):\n",
    "    '''\n",
    "    Returns marketcap data in new df\n",
    "        Parameters:\n",
    "            ticker (string) = Ticker for Desired Coin\n",
    "            fromdate (string) = Starting date of period desired\n",
    "            limit (int) = number of data points     \n",
    "    '''\n",
    "    #Get Data & Initialize Dictionary\n",
    "    URL3 = f'https://api.cryptoquant.com/v1/{ticker}/market-data/capitalization?window=day&from={fromdate}&limit={limit}'\n",
    "    response3 = requests.get(URL3, headers=headers)\n",
    "    mvrv_data = response3.json()\n",
    "\n",
    "    #Transform to Dataframe and adjust data type\n",
    "    mvrv_data = pd.DataFrame(data=mvrv_data['result']['data'])\n",
    "    mvrv_data['mvrv_score'] = (mvrv_data['market_cap']/mvrv_data['realized_cap'])\n",
    "    mvrv_data['date'] = pd.to_datetime(mvrv_data['date'])\n",
    "    mvrv_data = mvrv_data.sort_values(by=['date'],ascending=False)\n",
    "    mvrv_data = mvrv_data.drop(['average_cap', 'delta_cap', 'market_cap','realized_cap','thermo_cap'], axis = 1)\n",
    "\n",
    "    return mvrv_data"
   ]
  },
  {
   "cell_type": "code",
   "execution_count": 85,
   "metadata": {},
   "outputs": [
    {
     "data": {
      "text/html": [
       "<div>\n",
       "<style scoped>\n",
       "    .dataframe tbody tr th:only-of-type {\n",
       "        vertical-align: middle;\n",
       "    }\n",
       "\n",
       "    .dataframe tbody tr th {\n",
       "        vertical-align: top;\n",
       "    }\n",
       "\n",
       "    .dataframe thead th {\n",
       "        text-align: right;\n",
       "    }\n",
       "</style>\n",
       "<table border=\"1\" class=\"dataframe\">\n",
       "  <thead>\n",
       "    <tr style=\"text-align: right;\">\n",
       "      <th></th>\n",
       "      <th>date</th>\n",
       "      <th>mvrv_score</th>\n",
       "    </tr>\n",
       "  </thead>\n",
       "  <tbody>\n",
       "    <tr>\n",
       "      <th>0</th>\n",
       "      <td>2021-02-01</td>\n",
       "      <td>2.562317</td>\n",
       "    </tr>\n",
       "    <tr>\n",
       "      <th>1</th>\n",
       "      <td>2021-01-31</td>\n",
       "      <td>2.535399</td>\n",
       "    </tr>\n",
       "    <tr>\n",
       "      <th>2</th>\n",
       "      <td>2021-01-30</td>\n",
       "      <td>2.632662</td>\n",
       "    </tr>\n",
       "    <tr>\n",
       "      <th>3</th>\n",
       "      <td>2021-01-29</td>\n",
       "      <td>2.635438</td>\n",
       "    </tr>\n",
       "    <tr>\n",
       "      <th>4</th>\n",
       "      <td>2021-01-28</td>\n",
       "      <td>2.591286</td>\n",
       "    </tr>\n",
       "  </tbody>\n",
       "</table>\n",
       "</div>"
      ],
      "text/plain": [
       "        date  mvrv_score\n",
       "0 2021-02-01    2.562317\n",
       "1 2021-01-31    2.535399\n",
       "2 2021-01-30    2.632662\n",
       "3 2021-01-29    2.635438\n",
       "4 2021-01-28    2.591286"
      ]
     },
     "execution_count": 85,
     "metadata": {},
     "output_type": "execute_result"
    }
   ],
   "source": [
    "mvrv_btc_df = get_mvrv_data(\"btc\",\"20190101\",\"100\")\n",
    "mvrv_btc_df.head(5)"
   ]
  },
  {
   "cell_type": "code",
   "execution_count": 86,
   "metadata": {},
   "outputs": [],
   "source": [
    "def get_pearsons_coefficient(series1,series2):\n",
    "    ''' \n",
    "    Returns pearsons coefficient (int) between 2 dataframes columns.\n",
    "    Parameters: \n",
    "        series1 (object): First series to compare\n",
    "        series2 (object): Second series to compare\n",
    "    '''\n",
    "    #formula to calculate covariance\n",
    "    covariance = cov(series1,series2)\n",
    "    corr, _ = pearsonr(series1,series2)\n",
    "    \n",
    "    return corr"
   ]
  },
  {
   "cell_type": "code",
   "execution_count": 87,
   "metadata": {},
   "outputs": [],
   "source": [
    "def netflow_price_plot():\n",
    "    fig3 = make_subplots(specs=[[{'secondary_y':True}]])\n",
    "\n",
    "    fig3.add_trace(\n",
    "        go.Scatter(mode = 'lines',x=netflow_btc_df['date'],y=netflow_btc_df['netflow_total'], name = 'All Exchange Netflow'),\n",
    "        secondary_y=False \n",
    "    )\n",
    "\n",
    "    fig3.add_trace(\n",
    "        go.Scatter(mode = 'lines',x=price_btc_df['date'], y =price_btc_df['price_usd_close'], name = 'BTC Price'),\n",
    "        secondary_y=True \n",
    "    )\n",
    "\n",
    "    fig3.update_layout(\n",
    "        height = 600,width = 1500,\n",
    "        title_text = 'BTC Price & Netflow Data'\n",
    "    )\n",
    "\n",
    "    fig3.update_xaxes(title_text = 'Date')\n",
    "\n",
    "    fig3.update_yaxes(title_text='Exchange Netflow', secondary_y= False)\n",
    "    fig3.update_yaxes(title_text='BTC Market Price', secondary_y= True)\n",
    "\n",
    "\n",
    "\n",
    "    #return fig3.show()\n",
    "    return pn.panel(fig3)"
   ]
  },
  {
   "cell_type": "code",
   "execution_count": 88,
   "metadata": {},
   "outputs": [],
   "source": [
    "def mvrv_price_plot():\n",
    "    fig3 = make_subplots(specs=[[{'secondary_y':True}]])\n",
    "\n",
    "#fig3=go.Figure()\n",
    "\n",
    "    fig3.add_trace(\n",
    "        go.Scatter(mode = 'lines',x=mvrv_btc_df['date'],y=mvrv_btc_df['mvrv_score'], name = 'MVRV Ratio'),\n",
    "        secondary_y=False \n",
    "    )\n",
    "\n",
    "    fig3.add_trace(\n",
    "        go.Scatter(mode = 'lines',x=price_btc_df['date'], y =price_btc_df['price_usd_close'], name = 'BTC Price'),\n",
    "        secondary_y=True \n",
    "    )\n",
    "\n",
    "    fig3.update_layout(\n",
    "        height = 600,width = 1500,\n",
    "        title_text = 'BTC Price & MVRV Ratio'\n",
    "    )\n",
    "\n",
    "    fig3.update_xaxes(title_text = 'Date')\n",
    "\n",
    "    fig3.update_yaxes(title_text='MVRV Ratio', secondary_y= False)\n",
    "    fig3.update_yaxes(title_text='BTC Market Price', secondary_y= True)\n",
    "\n",
    "\n",
    "\n",
    "    #return fig3\n",
    "    return pn.panel(fig3)"
   ]
  },
  {
   "cell_type": "code",
   "execution_count": 89,
   "metadata": {},
   "outputs": [],
   "source": [
    "#create function\n",
    "def get_puell_multiple_data1(ticker, fromdate, limit):\n",
    "    \n",
    "\n",
    "    puell_url= f\"https://api.cryptoquant.com/v1/{ticker}/network-indicator/puell-multiple?window=day&from={fromdate}&limit={limit}\"\n",
    "    response = requests.get(puell_url, headers=headers)\n",
    "    puell_data = response.json()\n",
    "\n",
    "    puell_df = pd.DataFrame(data=puell_data['result']['data'])\n",
    "    puell_df['date']=pd.to_datetime(puell_df['date'])\n",
    "    #puell_plot = puell_df.hvplot(x='date',y='puell_multiple',sort_date = True)\n",
    "    \n",
    "    return puell_df"
   ]
  },
  {
   "cell_type": "code",
   "execution_count": 90,
   "metadata": {},
   "outputs": [],
   "source": [
    "def get_btc_price1(ticker, fromdate, limit):\n",
    "\n",
    "\n",
    "    BTC_price_data = f\"https://api.cryptoquant.com/v1/{ticker}/market-data/price-usd?window=day&from={fromdate}&limit={limit}\"\n",
    "    response_btc = requests.get(BTC_price_data, headers=headers)\n",
    "\n",
    "    price_data_raw = response_btc.json()\n",
    "\n",
    "    BTC_price_df = pd.DataFrame(data=price_data_raw['result']['data'])\n",
    "    BTC_price_df = BTC_price_df.drop(['price_usd_high','price_usd_low','price_usd_open'], axis = 1)\n",
    "    BTC_price_df['date'] = pd.to_datetime(BTC_price_df['date'])\n",
    "    BTC_price_df['price_usd_close'] = BTC_price_df['price_usd_close'].astype(str).astype('float64')\n",
    "    \n",
    "    BTC_price_df = BTC_price_df.dropna()\n",
    "    #btc_plot = BTC_price_df.hvplot(x='date',y='price_usd_close',sort_date = True)\n",
    "    \n",
    "    return BTC_price_df"
   ]
  },
  {
   "cell_type": "code",
   "execution_count": 91,
   "metadata": {},
   "outputs": [
    {
     "data": {
      "text/html": [
       "<div>\n",
       "<style scoped>\n",
       "    .dataframe tbody tr th:only-of-type {\n",
       "        vertical-align: middle;\n",
       "    }\n",
       "\n",
       "    .dataframe tbody tr th {\n",
       "        vertical-align: top;\n",
       "    }\n",
       "\n",
       "    .dataframe thead th {\n",
       "        text-align: right;\n",
       "    }\n",
       "</style>\n",
       "<table border=\"1\" class=\"dataframe\">\n",
       "  <thead>\n",
       "    <tr style=\"text-align: right;\">\n",
       "      <th></th>\n",
       "      <th>date</th>\n",
       "      <th>puell_multiple</th>\n",
       "    </tr>\n",
       "  </thead>\n",
       "  <tbody>\n",
       "    <tr>\n",
       "      <th>0</th>\n",
       "      <td>2021-01-31</td>\n",
       "      <td>2.182103</td>\n",
       "    </tr>\n",
       "    <tr>\n",
       "      <th>1</th>\n",
       "      <td>2021-01-30</td>\n",
       "      <td>2.203392</td>\n",
       "    </tr>\n",
       "    <tr>\n",
       "      <th>2</th>\n",
       "      <td>2021-01-29</td>\n",
       "      <td>2.581966</td>\n",
       "    </tr>\n",
       "    <tr>\n",
       "      <th>3</th>\n",
       "      <td>2021-01-28</td>\n",
       "      <td>2.079902</td>\n",
       "    </tr>\n",
       "    <tr>\n",
       "      <th>4</th>\n",
       "      <td>2021-01-27</td>\n",
       "      <td>1.984534</td>\n",
       "    </tr>\n",
       "  </tbody>\n",
       "</table>\n",
       "</div>"
      ],
      "text/plain": [
       "        date  puell_multiple\n",
       "0 2021-01-31        2.182103\n",
       "1 2021-01-30        2.203392\n",
       "2 2021-01-29        2.581966\n",
       "3 2021-01-28        2.079902\n",
       "4 2021-01-27        1.984534"
      ]
     },
     "execution_count": 91,
     "metadata": {},
     "output_type": "execute_result"
    }
   ],
   "source": [
    "    puell_df =get_puell_multiple_data1('btc','20150101','100000') #pd.DataFrame(data=puell_data['result']['data'])\n",
    "    #puell_df['date']=pd.to_datetime(puell_df['date'])\n",
    "    puell_df.head(5)"
   ]
  },
  {
   "cell_type": "code",
   "execution_count": 92,
   "metadata": {},
   "outputs": [
    {
     "data": {
      "text/html": [
       "<div>\n",
       "<style scoped>\n",
       "    .dataframe tbody tr th:only-of-type {\n",
       "        vertical-align: middle;\n",
       "    }\n",
       "\n",
       "    .dataframe tbody tr th {\n",
       "        vertical-align: top;\n",
       "    }\n",
       "\n",
       "    .dataframe thead th {\n",
       "        text-align: right;\n",
       "    }\n",
       "</style>\n",
       "<table border=\"1\" class=\"dataframe\">\n",
       "  <thead>\n",
       "    <tr style=\"text-align: right;\">\n",
       "      <th></th>\n",
       "      <th>date</th>\n",
       "      <th>price_usd_close</th>\n",
       "    </tr>\n",
       "  </thead>\n",
       "  <tbody>\n",
       "    <tr>\n",
       "      <th>0</th>\n",
       "      <td>2021-02-01</td>\n",
       "      <td>33521.578333</td>\n",
       "    </tr>\n",
       "    <tr>\n",
       "      <th>1</th>\n",
       "      <td>2021-01-31</td>\n",
       "      <td>33109.748333</td>\n",
       "    </tr>\n",
       "    <tr>\n",
       "      <th>2</th>\n",
       "      <td>2021-01-30</td>\n",
       "      <td>34286.360000</td>\n",
       "    </tr>\n",
       "    <tr>\n",
       "      <th>3</th>\n",
       "      <td>2021-01-29</td>\n",
       "      <td>34244.506667</td>\n",
       "    </tr>\n",
       "    <tr>\n",
       "      <th>4</th>\n",
       "      <td>2021-01-28</td>\n",
       "      <td>33383.746667</td>\n",
       "    </tr>\n",
       "  </tbody>\n",
       "</table>\n",
       "</div>"
      ],
      "text/plain": [
       "        date  price_usd_close\n",
       "0 2021-02-01     33521.578333\n",
       "1 2021-01-31     33109.748333\n",
       "2 2021-01-30     34286.360000\n",
       "3 2021-01-29     34244.506667\n",
       "4 2021-01-28     33383.746667"
      ]
     },
     "execution_count": 92,
     "metadata": {},
     "output_type": "execute_result"
    }
   ],
   "source": [
    "    BTC_price_df = get_btc_price1('btc','20150101','100000') #pd.DataFrame(data=puell_data['result']['data'])\n",
    "    #puell_df['date']=pd.to_datetime(puell_df['date'])\n",
    "    BTC_price_df.head(5)"
   ]
  },
  {
   "cell_type": "code",
   "execution_count": 93,
   "metadata": {},
   "outputs": [],
   "source": [
    "def btc_price_puell2():\n",
    "    #load_dotenv()\n",
    "\n",
    "#Create dual Y axis plot to visualize puell multiple along with btc price\n",
    "\n",
    "    fig4 = make_subplots(specs=[[{'secondary_y':True}]])\n",
    "\n",
    "#fig3=go.Figure()\n",
    "\n",
    "    fig4.add_trace(\n",
    "        go.Scatter(mode = 'lines',x=puell_df['date'],y=puell_df['puell_multiple'], name = 'Puell Mulitple'),\n",
    "        secondary_y=False \n",
    ")\n",
    "\n",
    "    fig4.add_trace(\n",
    "        go.Scatter(mode = 'lines',x=BTC_price_df['date'], y =BTC_price_df ['price_usd_close'], name = 'BTC Price'),\n",
    "        secondary_y=True \n",
    ")\n",
    "\n",
    "    fig4.update_layout(\n",
    "        height = 600,width = 1500,\n",
    "        title_text = 'BTC Price & Puell Multiple'\n",
    ")\n",
    "\n",
    "    fig4.update_xaxes(title_text = 'Date')\n",
    "\n",
    "    fig4.update_yaxes(title_text='Puell Multiple', secondary_y= False)\n",
    "    fig4.update_yaxes(title_text='Bitcoin Price', secondary_y= True)\n",
    "\n",
    "\n",
    "\n",
    "#fig3.show()\n",
    "\n",
    "    return pn.panel(fig4)"
   ]
  },
  {
   "cell_type": "code",
   "execution_count": 94,
   "metadata": {},
   "outputs": [],
   "source": [
    "def get_exchange_reserves(start, end):\n",
    "    load_dotenv()\n",
    "    access_token = os.getenv(\"CQ_API_KEY\")\n",
    "    headers = { 'Authorization': 'Bearer ' + access_token }\n",
    "    import urllib.request\n",
    "    url_a = f\"https://api.cryptoquant.com/v1/btc/exchange-flows/reserve?exchange=binance&window=day&from={start}&to={end}&limit=100000\"\n",
    "#only retrieves data as far back as 06/23/2017\n",
    "\n",
    "    response_a = requests.get(url_a, headers=headers)\n",
    "    all_exchange_reserve=response_a.json()\n",
    "    print(type(all_exchange_reserve))\n",
    "#pprint.pprint(all_exchange_reserve) to see it better\n",
    "\n",
    "    all_exchange_df = pd.DataFrame(data=all_exchange_reserve['result']['data'])\n",
    "    all_exchange_df['date'] = pd.to_datetime(all_exchange_df['date'])\n",
    "    all_exchange_df = all_exchange_df.set_index('date')\n",
    "    exchange_reserve_df=all_exchange_df.drop(columns=[\"reserve_usd\"])\n",
    "    \n",
    "    return exchange_reserve_df"
   ]
  },
  {
   "cell_type": "code",
   "execution_count": 95,
   "metadata": {},
   "outputs": [
    {
     "name": "stdout",
     "output_type": "stream",
     "text": [
      "<class 'dict'>\n"
     ]
    },
    {
     "data": {
      "text/html": [
       "<div>\n",
       "<style scoped>\n",
       "    .dataframe tbody tr th:only-of-type {\n",
       "        vertical-align: middle;\n",
       "    }\n",
       "\n",
       "    .dataframe tbody tr th {\n",
       "        vertical-align: top;\n",
       "    }\n",
       "\n",
       "    .dataframe thead th {\n",
       "        text-align: right;\n",
       "    }\n",
       "</style>\n",
       "<table border=\"1\" class=\"dataframe\">\n",
       "  <thead>\n",
       "    <tr style=\"text-align: right;\">\n",
       "      <th></th>\n",
       "      <th>reserve</th>\n",
       "    </tr>\n",
       "    <tr>\n",
       "      <th>date</th>\n",
       "      <th></th>\n",
       "    </tr>\n",
       "  </thead>\n",
       "  <tbody>\n",
       "    <tr>\n",
       "      <th>2020-01-22</th>\n",
       "      <td>248310.537097</td>\n",
       "    </tr>\n",
       "    <tr>\n",
       "      <th>2020-01-21</th>\n",
       "      <td>249435.697632</td>\n",
       "    </tr>\n",
       "    <tr>\n",
       "      <th>2020-01-20</th>\n",
       "      <td>251097.368547</td>\n",
       "    </tr>\n",
       "    <tr>\n",
       "      <th>2020-01-19</th>\n",
       "      <td>252877.237501</td>\n",
       "    </tr>\n",
       "    <tr>\n",
       "      <th>2020-01-18</th>\n",
       "      <td>250395.183134</td>\n",
       "    </tr>\n",
       "  </tbody>\n",
       "</table>\n",
       "</div>"
      ],
      "text/plain": [
       "                  reserve\n",
       "date                     \n",
       "2020-01-22  248310.537097\n",
       "2020-01-21  249435.697632\n",
       "2020-01-20  251097.368547\n",
       "2020-01-19  252877.237501\n",
       "2020-01-18  250395.183134"
      ]
     },
     "execution_count": 95,
     "metadata": {},
     "output_type": "execute_result"
    }
   ],
   "source": [
    "reserves_df=get_exchange_reserves(20170623,20200122 )\n",
    "reserves_df.head()"
   ]
  },
  {
   "cell_type": "code",
   "execution_count": 96,
   "metadata": {},
   "outputs": [],
   "source": [
    "def reserves_plot():\n",
    "    fig_r= reserves_df.hvplot(title= \"Reserve Bitcoin On Exchanges\",xlabel=\"date\", ylabel=\"Reserves In Bitcoin\")\n",
    "    \n",
    "    return pn.panel(fig_r)"
   ]
  },
  {
   "cell_type": "code",
   "execution_count": 97,
   "metadata": {},
   "outputs": [],
   "source": [
    "def get_moving_average():\n",
    "    file_path=Path(\"..//data/clean_data/21wk_MA.csv\")\n",
    "    moving_average=pd.read_csv(file_path, header=0, index_col=\"date\", parse_dates=True, infer_datetime_format=True)\n",
    "    moving_average= moving_average.dropna()\n",
    "    \n",
    "    return moving_average"
   ]
  },
  {
   "cell_type": "code",
   "execution_count": 98,
   "metadata": {},
   "outputs": [
    {
     "data": {
      "text/html": [
       "<div>\n",
       "<style scoped>\n",
       "    .dataframe tbody tr th:only-of-type {\n",
       "        vertical-align: middle;\n",
       "    }\n",
       "\n",
       "    .dataframe tbody tr th {\n",
       "        vertical-align: top;\n",
       "    }\n",
       "\n",
       "    .dataframe thead th {\n",
       "        text-align: right;\n",
       "    }\n",
       "</style>\n",
       "<table border=\"1\" class=\"dataframe\">\n",
       "  <thead>\n",
       "    <tr style=\"text-align: right;\">\n",
       "      <th></th>\n",
       "      <th>price</th>\n",
       "      <th>21_WK_MA</th>\n",
       "    </tr>\n",
       "    <tr>\n",
       "      <th>date</th>\n",
       "      <th></th>\n",
       "      <th></th>\n",
       "    </tr>\n",
       "  </thead>\n",
       "  <tbody>\n",
       "    <tr>\n",
       "      <th>2015-06-12</th>\n",
       "      <td>229.47</td>\n",
       "      <td>240.76</td>\n",
       "    </tr>\n",
       "    <tr>\n",
       "      <th>2015-06-19</th>\n",
       "      <td>246.33</td>\n",
       "      <td>242.19</td>\n",
       "    </tr>\n",
       "    <tr>\n",
       "      <th>2015-06-26</th>\n",
       "      <td>243.00</td>\n",
       "      <td>242.73</td>\n",
       "    </tr>\n",
       "    <tr>\n",
       "      <th>2015-07-03</th>\n",
       "      <td>256.95</td>\n",
       "      <td>243.39</td>\n",
       "    </tr>\n",
       "    <tr>\n",
       "      <th>2015-07-10</th>\n",
       "      <td>286.67</td>\n",
       "      <td>245.00</td>\n",
       "    </tr>\n",
       "  </tbody>\n",
       "</table>\n",
       "</div>"
      ],
      "text/plain": [
       "             price  21_WK_MA\n",
       "date                        \n",
       "2015-06-12  229.47    240.76\n",
       "2015-06-19  246.33    242.19\n",
       "2015-06-26  243.00    242.73\n",
       "2015-07-03  256.95    243.39\n",
       "2015-07-10  286.67    245.00"
      ]
     },
     "execution_count": 98,
     "metadata": {},
     "output_type": "execute_result"
    }
   ],
   "source": [
    "moving_average_df= pd.DataFrame(get_moving_average())\n",
    "moving_average_df.head()"
   ]
  },
  {
   "cell_type": "code",
   "execution_count": 100,
   "metadata": {},
   "outputs": [
    {
     "data": {
      "text/plain": [
       "'There is a high correlation (0.865) between the 21 week moving average and the price of Bitcoin'"
      ]
     },
     "execution_count": 100,
     "metadata": {},
     "output_type": "execute_result"
    }
   ],
   "source": [
    "moving_average_df.corr()\n",
    "'''There is a high correlation (0.865) between the 21 week moving average and the price of Bitcoin'''"
   ]
  },
  {
   "cell_type": "code",
   "execution_count": 101,
   "metadata": {},
   "outputs": [],
   "source": [
    "def get_ma_plot():\n",
    "    fig_ma= moving_average_df.hvplot(title= \"BTC Price vs 21 Week Moving Average\",xlabel=\"Date\", ylabel=\"Price In USD\", legend=True)\n",
    "    \n",
    "    return pn.panel(fig_ma)"
   ]
  },
  {
   "cell_type": "code",
   "execution_count": 102,
   "metadata": {},
   "outputs": [],
   "source": [
    "# Get Daily returns (shared for multiple plots)\n",
    "daily_returns = get_daily_returns(start_date, end_date, coin_api_key, alpaca_api_key, alpaca_secret_key) "
   ]
  },
  {
   "cell_type": "code",
   "execution_count": 103,
   "metadata": {},
   "outputs": [
    {
     "ename": "KeyError",
     "evalue": "'variable'",
     "output_type": "error",
     "traceback": [
      "\u001b[1;31m---------------------------------------------------------------------------\u001b[0m",
      "\u001b[1;31mKeyError\u001b[0m                                  Traceback (most recent call last)",
      "\u001b[1;32m<ipython-input-103-6bbb73e2b2e5>\u001b[0m in \u001b[0;36m<module>\u001b[1;34m\u001b[0m\n\u001b[0;32m      1\u001b[0m \u001b[1;31m# Define tab layout\u001b[0m\u001b[1;33m\u001b[0m\u001b[1;33m\u001b[0m\u001b[1;33m\u001b[0m\u001b[0m\n\u001b[0;32m      2\u001b[0m dashboard = pn.Tabs(\n\u001b[1;32m----> 3\u001b[1;33m     \u001b[1;33m(\u001b[0m\u001b[1;34m'Cumulative Returns'\u001b[0m\u001b[1;33m,\u001b[0m \u001b[0mpn\u001b[0m\u001b[1;33m.\u001b[0m\u001b[0mColumn\u001b[0m\u001b[1;33m(\u001b[0m\u001b[0mget_cumulative_returns_plot\u001b[0m\u001b[1;33m(\u001b[0m\u001b[0mdaily_returns\u001b[0m\u001b[1;33m)\u001b[0m\u001b[1;33m)\u001b[0m\u001b[1;33m)\u001b[0m\u001b[1;33m,\u001b[0m\u001b[1;33m\u001b[0m\u001b[1;33m\u001b[0m\u001b[0m\n\u001b[0m\u001b[0;32m      4\u001b[0m     \u001b[1;33m(\u001b[0m\u001b[1;34m'Standard Deviation'\u001b[0m\u001b[1;33m,\u001b[0m \u001b[0mpn\u001b[0m\u001b[1;33m.\u001b[0m\u001b[0mColumn\u001b[0m\u001b[1;33m(\u001b[0m\u001b[0mget_std_dev_plot\u001b[0m\u001b[1;33m(\u001b[0m\u001b[0mdaily_returns\u001b[0m\u001b[1;33m)\u001b[0m\u001b[1;33m)\u001b[0m\u001b[1;33m)\u001b[0m\u001b[1;33m,\u001b[0m\u001b[1;33m\u001b[0m\u001b[1;33m\u001b[0m\u001b[0m\n\u001b[0;32m      5\u001b[0m     \u001b[1;33m(\u001b[0m\u001b[1;34m'MVRV Ratio'\u001b[0m\u001b[1;33m,\u001b[0m\u001b[0mpn\u001b[0m\u001b[1;33m.\u001b[0m\u001b[0mColumn\u001b[0m\u001b[1;33m(\u001b[0m\u001b[0mmvrv_price_plot\u001b[0m\u001b[1;33m(\u001b[0m\u001b[1;33m)\u001b[0m\u001b[1;33m)\u001b[0m\u001b[1;33m)\u001b[0m\u001b[1;33m,\u001b[0m\u001b[1;33m\u001b[0m\u001b[1;33m\u001b[0m\u001b[0m\n",
      "\u001b[1;32m<ipython-input-78-4b68ba119385>\u001b[0m in \u001b[0;36mget_cumulative_returns_plot\u001b[1;34m(daily_returns)\u001b[0m\n\u001b[0;32m     10\u001b[0m         \u001b[0mlabels\u001b[0m\u001b[1;33m=\u001b[0m\u001b[1;33m{\u001b[0m\u001b[1;34m'date'\u001b[0m\u001b[1;33m:\u001b[0m\u001b[1;34m'Date'\u001b[0m\u001b[1;33m}\u001b[0m\u001b[1;33m,\u001b[0m\u001b[1;33m\u001b[0m\u001b[1;33m\u001b[0m\u001b[0m\n\u001b[0;32m     11\u001b[0m         \u001b[0mwidth\u001b[0m\u001b[1;33m=\u001b[0m\u001b[0mPANEL_WIDTH\u001b[0m\u001b[1;33m*\u001b[0m\u001b[1;36m2\u001b[0m\u001b[1;33m,\u001b[0m\u001b[1;33m\u001b[0m\u001b[1;33m\u001b[0m\u001b[0m\n\u001b[1;32m---> 12\u001b[1;33m         height=PANEL_HEIGHT)\n\u001b[0m\u001b[0;32m     13\u001b[0m \u001b[1;33m\u001b[0m\u001b[0m\n\u001b[0;32m     14\u001b[0m     \u001b[1;32mreturn\u001b[0m \u001b[0mpn\u001b[0m\u001b[1;33m.\u001b[0m\u001b[0mpanel\u001b[0m\u001b[1;33m(\u001b[0m\u001b[0mcum_returns_plot\u001b[0m\u001b[1;33m)\u001b[0m\u001b[1;33m\u001b[0m\u001b[1;33m\u001b[0m\u001b[0m\n",
      "\u001b[1;32m~\\anaconda3\\envs\\pyvizenv\\lib\\site-packages\\plotly\\express\\_chart_types.py\u001b[0m in \u001b[0;36mline\u001b[1;34m(data_frame, x, y, line_group, color, line_dash, hover_name, hover_data, custom_data, text, facet_row, facet_col, facet_col_wrap, facet_row_spacing, facet_col_spacing, error_x, error_x_minus, error_y, error_y_minus, animation_frame, animation_group, category_orders, labels, orientation, color_discrete_sequence, color_discrete_map, line_dash_sequence, line_dash_map, log_x, log_y, range_x, range_y, line_shape, render_mode, title, template, width, height)\u001b[0m\n\u001b[0;32m    250\u001b[0m     \u001b[0ma\u001b[0m \u001b[0mpolyline\u001b[0m \u001b[0mmark\u001b[0m \u001b[1;32min\u001b[0m \u001b[1;36m2\u001b[0m\u001b[0mD\u001b[0m \u001b[0mspace\u001b[0m\u001b[1;33m.\u001b[0m\u001b[1;33m\u001b[0m\u001b[1;33m\u001b[0m\u001b[0m\n\u001b[0;32m    251\u001b[0m     \"\"\"\n\u001b[1;32m--> 252\u001b[1;33m     \u001b[1;32mreturn\u001b[0m \u001b[0mmake_figure\u001b[0m\u001b[1;33m(\u001b[0m\u001b[0margs\u001b[0m\u001b[1;33m=\u001b[0m\u001b[0mlocals\u001b[0m\u001b[1;33m(\u001b[0m\u001b[1;33m)\u001b[0m\u001b[1;33m,\u001b[0m \u001b[0mconstructor\u001b[0m\u001b[1;33m=\u001b[0m\u001b[0mgo\u001b[0m\u001b[1;33m.\u001b[0m\u001b[0mScatter\u001b[0m\u001b[1;33m)\u001b[0m\u001b[1;33m\u001b[0m\u001b[1;33m\u001b[0m\u001b[0m\n\u001b[0m\u001b[0;32m    253\u001b[0m \u001b[1;33m\u001b[0m\u001b[0m\n\u001b[0;32m    254\u001b[0m \u001b[1;33m\u001b[0m\u001b[0m\n",
      "\u001b[1;32m~\\anaconda3\\envs\\pyvizenv\\lib\\site-packages\\plotly\\express\\_core.py\u001b[0m in \u001b[0;36mmake_figure\u001b[1;34m(args, constructor, trace_patch, layout_patch)\u001b[0m\n\u001b[0;32m   1859\u001b[0m                 \u001b[0mprefix\u001b[0m \u001b[1;33m=\u001b[0m \u001b[0mget_label\u001b[0m\u001b[1;33m(\u001b[0m\u001b[0margs\u001b[0m\u001b[1;33m,\u001b[0m \u001b[0margs\u001b[0m\u001b[1;33m[\u001b[0m\u001b[1;34m\"facet_row\"\u001b[0m\u001b[1;33m]\u001b[0m\u001b[1;33m)\u001b[0m \u001b[1;33m+\u001b[0m \u001b[1;34m\"=\"\u001b[0m\u001b[1;33m\u001b[0m\u001b[1;33m\u001b[0m\u001b[0m\n\u001b[0;32m   1860\u001b[0m                 \u001b[0mrow_labels\u001b[0m \u001b[1;33m=\u001b[0m \u001b[1;33m[\u001b[0m\u001b[0mprefix\u001b[0m \u001b[1;33m+\u001b[0m \u001b[0mstr\u001b[0m\u001b[1;33m(\u001b[0m\u001b[0ms\u001b[0m\u001b[1;33m)\u001b[0m \u001b[1;32mfor\u001b[0m \u001b[0ms\u001b[0m \u001b[1;32min\u001b[0m \u001b[0msorted_group_values\u001b[0m\u001b[1;33m[\u001b[0m\u001b[0mm\u001b[0m\u001b[1;33m.\u001b[0m\u001b[0mgrouper\u001b[0m\u001b[1;33m]\u001b[0m\u001b[1;33m]\u001b[0m\u001b[1;33m\u001b[0m\u001b[1;33m\u001b[0m\u001b[0m\n\u001b[1;32m-> 1861\u001b[1;33m             \u001b[1;32mfor\u001b[0m \u001b[0mval\u001b[0m \u001b[1;32min\u001b[0m \u001b[0msorted_group_values\u001b[0m\u001b[1;33m[\u001b[0m\u001b[0mm\u001b[0m\u001b[1;33m.\u001b[0m\u001b[0mgrouper\u001b[0m\u001b[1;33m]\u001b[0m\u001b[1;33m:\u001b[0m\u001b[1;33m\u001b[0m\u001b[1;33m\u001b[0m\u001b[0m\n\u001b[0m\u001b[0;32m   1862\u001b[0m                 \u001b[1;32mif\u001b[0m \u001b[0mval\u001b[0m \u001b[1;32mnot\u001b[0m \u001b[1;32min\u001b[0m \u001b[0mm\u001b[0m\u001b[1;33m.\u001b[0m\u001b[0mval_map\u001b[0m\u001b[1;33m:\u001b[0m\u001b[1;33m\u001b[0m\u001b[1;33m\u001b[0m\u001b[0m\n\u001b[0;32m   1863\u001b[0m                     \u001b[0mm\u001b[0m\u001b[1;33m.\u001b[0m\u001b[0mval_map\u001b[0m\u001b[1;33m[\u001b[0m\u001b[0mval\u001b[0m\u001b[1;33m]\u001b[0m \u001b[1;33m=\u001b[0m \u001b[0mm\u001b[0m\u001b[1;33m.\u001b[0m\u001b[0msequence\u001b[0m\u001b[1;33m[\u001b[0m\u001b[0mlen\u001b[0m\u001b[1;33m(\u001b[0m\u001b[0mm\u001b[0m\u001b[1;33m.\u001b[0m\u001b[0mval_map\u001b[0m\u001b[1;33m)\u001b[0m \u001b[1;33m%\u001b[0m \u001b[0mlen\u001b[0m\u001b[1;33m(\u001b[0m\u001b[0mm\u001b[0m\u001b[1;33m.\u001b[0m\u001b[0msequence\u001b[0m\u001b[1;33m)\u001b[0m\u001b[1;33m]\u001b[0m\u001b[1;33m\u001b[0m\u001b[1;33m\u001b[0m\u001b[0m\n",
      "\u001b[1;31mKeyError\u001b[0m: 'variable'"
     ]
    }
   ],
   "source": [
    "# Define tab layout\n",
    "dashboard = pn.Tabs(\n",
    "    ('Cumulative Returns', pn.Column(get_cumulative_returns_plot(daily_returns))),\n",
    "    ('Standard Deviation', pn.Column(get_std_dev_plot(daily_returns))),\n",
    "    ('MVRV Ratio',pn.Column(mvrv_price_plot())),\n",
    "    ('Netflow Ratio',pn.Column(netflow_price_plot())),\n",
    "    ('Exchange Reserves', pn.Column(reserves_plot())),\n",
    "    ('21 Week Moving Average', pn.Column(get_ma_plot())),\n",
    "    ('Puell Multiple',pn.Column(btc_price_puell2())))"
   ]
  },
  {
   "cell_type": "code",
   "execution_count": 104,
   "metadata": {},
   "outputs": [
    {
     "name": "stdout",
     "output_type": "stream",
     "text": [
      "Current date range: 2020-10-01 - 2021-01-01\n"
     ]
    }
   ],
   "source": [
    "print(f'Current date range: {start_date} - {end_date}')"
   ]
  },
  {
   "cell_type": "code",
   "execution_count": 30,
   "metadata": {},
   "outputs": [
    {
     "ename": "NameError",
     "evalue": "name 'dashboard' is not defined",
     "output_type": "error",
     "traceback": [
      "\u001b[1;31m---------------------------------------------------------------------------\u001b[0m",
      "\u001b[1;31mNameError\u001b[0m                                 Traceback (most recent call last)",
      "\u001b[1;32m<ipython-input-30-fbe9f69dae63>\u001b[0m in \u001b[0;36m<module>\u001b[1;34m\u001b[0m\n\u001b[1;32m----> 1\u001b[1;33m \u001b[0mdashboard\u001b[0m\u001b[1;33m.\u001b[0m\u001b[0mservable\u001b[0m\u001b[1;33m(\u001b[0m\u001b[1;33m)\u001b[0m\u001b[1;33m\u001b[0m\u001b[1;33m\u001b[0m\u001b[0m\n\u001b[0m",
      "\u001b[1;31mNameError\u001b[0m: name 'dashboard' is not defined"
     ]
    }
   ],
   "source": [
    "dashboard.servable()"
   ]
  },
  {
   "cell_type": "code",
   "execution_count": null,
   "metadata": {},
   "outputs": [],
   "source": []
  }
 ],
 "metadata": {
  "kernelspec": {
   "display_name": "Python 3",
   "language": "python",
   "name": "python3"
  },
  "language_info": {
   "codemirror_mode": {
    "name": "ipython",
    "version": 3
   },
   "file_extension": ".py",
   "mimetype": "text/x-python",
   "name": "python",
   "nbconvert_exporter": "python",
   "pygments_lexer": "ipython3",
   "version": "3.7.9"
  }
 },
 "nbformat": 4,
 "nbformat_minor": 4
}
